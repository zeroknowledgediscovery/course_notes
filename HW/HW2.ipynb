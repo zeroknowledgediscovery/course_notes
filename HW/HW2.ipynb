{
 "cells": [
  {
   "cell_type": "markdown",
   "metadata": {},
   "source": [
    "<h1  style='font-size: 50px; color:#aabbcc'> CCTS 40500 </h1>\n",
    "\n",
    "<h1  style='font-size: 30px; color:#aabbcc'> HW2 </h1> \n",
    "\n",
    "---\n",
    "\n",
    "# Objective: \n",
    "\n",
    "> Simple Calculations using Bayes's Theorem\n",
    "\n",
    "\n",
    "---\n",
    "\n",
    "<img src=\"https://static1.squarespace.com/static/591e58f72994cab66b93f891/t/591f89a39c03e001d1e3b17e/1495241602853/bayes-rule-e1350930203949.png\" alt=\"drawing\" width=\"800\"/>"
   ]
  },
  {
   "cell_type": "markdown",
   "metadata": {},
   "source": [
    "\n",
    "\n",
    "\n",
    "\n",
    "\n",
    "# 1-3 Probability Calculations\n",
    "\n",
    "-----"
   ]
  },
  {
   "cell_type": "markdown",
   "metadata": {},
   "source": [
    "1. What is the probability that I have 2 sons, given that I have two children and atleast one of them is a son?"
   ]
  },
  {
   "cell_type": "code",
   "execution_count": null,
   "metadata": {},
   "outputs": [],
   "source": [
    "#show calculations"
   ]
  },
  {
   "cell_type": "markdown",
   "metadata": {},
   "source": [
    "2. What is the probability that I have 2 sons given that atleast one of them is a son born on Tuesday?"
   ]
  },
  {
   "cell_type": "code",
   "execution_count": null,
   "metadata": {},
   "outputs": [],
   "source": [
    "#show calculations"
   ]
  },
  {
   "cell_type": "markdown",
   "metadata": {},
   "source": [
    "3. Give an example of where $Pr(A|B) \\neq Pr(B|A)$ "
   ]
  },
  {
   "cell_type": "code",
   "execution_count": null,
   "metadata": {},
   "outputs": [],
   "source": [
    "#This is not a math question. I expect a practical example"
   ]
  },
  {
   "cell_type": "markdown",
   "metadata": {},
   "source": [
    "# Task 4"
   ]
  },
  {
   "cell_type": "code",
   "execution_count": 1,
   "metadata": {},
   "outputs": [],
   "source": [
    "def getBayesUpdate(Pr_EH,Pr_H):\n",
    "    #A) #your code here\n",
    "    #PR_EH: Pr(E | H)\n",
    "    #PR_H: Pr(H)\n",
    "    \n",
    "    #B) #Is this function writable? \n",
    "    #ie do you need to specify more inputs?\n",
    "    #Discuss if Pr_EH being just a number(a scalar) is sufficient\n",
    "    \n",
    "    return Pr_HE"
   ]
  },
  {
   "cell_type": "markdown",
   "metadata": {},
   "source": [
    "# Problem 5 (Cookies)\n",
    "<img src=\"https://cdn.pixabay.com/photo/2015/11/27/17/21/cookie-1065893_960_720.jpg\" alt=\"drawing\" width=\"200\"/>\n",
    "\n",
    "\n",
    "Suppose there are two full bowls of cookies. Bowl #1 has 10 chocolate chip and 30 plain cookies, while bowl #2 has 20 of each. Our friend Fred picks a bowl at random, and then picks a cookie at random. We may assume there is no reason to believe Fred treats one bowl differently from another, likewise for the cookies. The cookie turns out to be a plain one. How probable is it that Fred picked it out of Bowl #1?"
   ]
  },
  {
   "cell_type": "code",
   "execution_count": null,
   "metadata": {},
   "outputs": [],
   "source": []
  },
  {
   "cell_type": "markdown",
   "metadata": {},
   "source": [
    "\n",
    "# Problem 6 (M&Ms)\n",
    "<img src=\"https://i.pinimg.com/originals/c5/8a/a8/c58aa8d9e505ada8d5d1123af6dd43db.jpg\" alt=\"drawing\" width=\"200\"/>\n",
    "\n",
    "The blue M&M was introduced in 1995.  Before then, the color mix in a bag of plain M&Ms was (30% Brown, 20% Yellow, 20% Red, 10% Green, 10% Orange, 10% Tan).  Afterward it was (24% Blue , 20% Green, 16% Orange, 14% Yellow, 13% Red, 13% Brown). \n",
    "A friend of mine has two bags of M&Ms, and he tells me that one is from 1994 and one from 1996.  He won't tell me which is which, but he gives me one M&M from each bag.  One is yellow and one is green.  What is the probability that the yellow M&M came from the 1994 bag?"
   ]
  },
  {
   "cell_type": "code",
   "execution_count": null,
   "metadata": {},
   "outputs": [],
   "source": []
  },
  {
   "cell_type": "markdown",
   "metadata": {},
   "source": [
    "\n",
    "# Problem 7 (Elvis)\n",
    "<img src=\"https://upload.wikimedia.org/wikipedia/commons/thumb/9/99/Elvis_Presley_promoting_Jailhouse_Rock.jpg/800px-Elvis_Presley_promoting_Jailhouse_Rock.jpg\" alt=\"drawing\" width=\"100\"/>\n",
    "\n",
    "Twins are estimated to be approximately 1.9% of the world population, with monozygotic twins making up 0.2% of the total---and 8% of all twins.\n",
    "\n",
    "Elvis Presley had a twin brother who died at birth.  What is the probability that Elvis was an identical twin?"
   ]
  },
  {
   "cell_type": "code",
   "execution_count": null,
   "metadata": {},
   "outputs": [],
   "source": []
  },
  {
   "cell_type": "markdown",
   "metadata": {},
   "source": [
    "# Problem 8 (Breast Cancer Risk)\n",
    "<img src=\"https://queensanimaldefence.files.wordpress.com/2015/11/unsure-doctor-clipart.png?w=682\" alt=\"drawing\" width=\"100\"/>\n",
    "\n",
    "In a study, physicians were asked what the odds of breast cancer would be in a woman who was initially thought to have a 1% risk of cancer but who ended up with a positive mammogram result (a mammogram accurately classifies about 80% of cancerous tumors and 90% of benign tumors.) 95 out of a hundred physicians estimated the probability of cancer to be about 75%. Do you agree?"
   ]
  },
  {
   "cell_type": "code",
   "execution_count": null,
   "metadata": {},
   "outputs": [],
   "source": []
  }
 ],
 "metadata": {
  "kernelspec": {
   "display_name": "Python 2",
   "language": "python",
   "name": "python2"
  },
  "language_info": {
   "codemirror_mode": {
    "name": "ipython",
    "version": 3
   },
   "file_extension": ".py",
   "mimetype": "text/x-python",
   "name": "python",
   "nbconvert_exporter": "python",
   "pygments_lexer": "ipython3",
   "version": "3.7.1"
  }
 },
 "nbformat": 4,
 "nbformat_minor": 2
}

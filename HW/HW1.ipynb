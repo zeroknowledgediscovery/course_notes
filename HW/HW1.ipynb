{
 "cells": [
  {
   "cell_type": "markdown",
   "metadata": {},
   "source": [
    "<h1  style='font-size: 50px; color:#aabbcc'> CCTS 40500 </h1>\n",
    "\n",
    "<h1  style='font-size: 30px; color:#aabbcc'> HW1 </h1> \n",
    "\n",
    "---\n",
    "\n",
    "# Objective: \n",
    "\n",
    "> Basic Probability Calculations\n",
    "\n",
    "\n",
    "---"
   ]
  },
  {
   "cell_type": "markdown",
   "metadata": {},
   "source": [
    "1. Show that the following data are incompatible:\n",
    "\n",
    "```\n",
    "N=lOOO; N{AnB}=42\n",
    "N{A}=525; N{AnC}=147\n",
    "N{B}=312; N{BnC}=86\n",
    "N{C}=470; N{AnBnC}=25 \n",
    "```"
   ]
  },
  {
   "cell_type": "code",
   "execution_count": null,
   "metadata": {},
   "outputs": [],
   "source": []
  },
  {
   "cell_type": "markdown",
   "metadata": {},
   "source": [
    "2. Puzzle problem (Lewis Carroll, A Tangled Tale, 1881). \n",
    "\n",
    "In a fierce\n",
    "battle, not less than 70% of the soldiers lost one eye, not less than 75%\n",
    "lost one ear, not less than 80% lost one hand and not less than 85% lost\n",
    "one leg. What is the minimal possible number of those who simultaneously lost one eye, one ear, one hand and one leg? "
   ]
  },
  {
   "cell_type": "code",
   "execution_count": null,
   "metadata": {},
   "outputs": [],
   "source": []
  },
  {
   "cell_type": "markdown",
   "metadata": {},
   "source": [
    "3. A coin is tossed until it comes up with the same side twice in succession. To each possible outcome requiring n tosses, we ascribe the\n",
    "probability 2- n• Describe the space of elementary events. Find the\n",
    "probability of the following events:\n",
    "\n",
    "    + a) the experiment ends at the sixth toss;\n",
    "    + b) an even number of tosses are required."
   ]
  },
  {
   "cell_type": "code",
   "execution_count": null,
   "metadata": {},
   "outputs": [],
   "source": []
  },
  {
   "cell_type": "markdown",
   "metadata": {},
   "source": [
    "4. There are n tickets in a lottery, of which m are winners. How large is\n",
    "the probability of a win for a person holding k tickets? "
   ]
  },
  {
   "cell_type": "code",
   "execution_count": null,
   "metadata": {},
   "outputs": [],
   "source": []
  }
 ],
 "metadata": {
  "kernelspec": {
   "display_name": "Python 2",
   "language": "python",
   "name": "python2"
  },
  "language_info": {
   "codemirror_mode": {
    "name": "ipython",
    "version": 3
   },
   "file_extension": ".py",
   "mimetype": "text/x-python",
   "name": "python",
   "nbconvert_exporter": "python",
   "pygments_lexer": "ipython3",
   "version": "3.7.1"
  }
 },
 "nbformat": 4,
 "nbformat_minor": 2
}

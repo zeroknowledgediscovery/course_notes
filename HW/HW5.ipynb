{
 "cells": [
  {
   "cell_type": "markdown",
   "metadata": {},
   "source": [
    "# 1.  Expressiveness of Decision trees\n",
    "---\n",
    "\n",
    "+ a. Make a decision tree for the relation (A and B) or C\n",
    "+ b. A and B but not both\n",
    "+ c. Any 2 of {A,B,C,D}\n",
    "+ d. AB + AC + AD + BC + BD + CD where + is \"or\" and concatenation is \"and\""
   ]
  },
  {
   "cell_type": "markdown",
   "metadata": {},
   "source": [
    "# 2. What is the variance of B iid random variables, each with variance $\\sigma$"
   ]
  },
  {
   "cell_type": "markdown",
   "metadata": {},
   "source": [
    "# 3. What is the variance of B identically distributed but not independent random variables, each with variance $\\sigma$ and mutual correlation $\\rho$\n",
    "\n",
    "Hint:  $\\rho \\sigma^2 + \\frac{1-\\rho}{B} \\sigma^2$"
   ]
  },
  {
   "cell_type": "code",
   "execution_count": null,
   "metadata": {},
   "outputs": [],
   "source": []
  }
 ],
 "metadata": {
  "kernelspec": {
   "display_name": "Python 3 (ipykernel)",
   "language": "python",
   "name": "python3"
  },
  "language_info": {
   "codemirror_mode": {
    "name": "ipython",
    "version": 3
   },
   "file_extension": ".py",
   "mimetype": "text/x-python",
   "name": "python",
   "nbconvert_exporter": "python",
   "pygments_lexer": "ipython3",
   "version": "3.7.5"
  }
 },
 "nbformat": 4,
 "nbformat_minor": 2
}

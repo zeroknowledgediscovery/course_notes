{
 "cells": [
  {
   "cell_type": "code",
   "execution_count": 1,
   "metadata": {},
   "outputs": [],
   "source": [
    "import numpy as np\n",
    "import pandas as pd\n",
    "from glob import glob\n",
    "from subprocess import check_output\n",
    "\n",
    "import statsmodels.api as sm\n",
    "import statsmodels.formula.api as smf\n",
    "\n",
    "from sklearn.metrics import r2_score\n",
    "import pylab as plt\n",
    "%matplotlib inline"
   ]
  },
  {
   "cell_type": "code",
   "execution_count": null,
   "metadata": {},
   "outputs": [],
   "source": []
  },
  {
   "cell_type": "markdown",
   "metadata": {},
   "source": [
    "## Get data"
   ]
  },
  {
   "cell_type": "code",
   "execution_count": null,
   "metadata": {},
   "outputs": [],
   "source": [
    "! cat ../datasets//steps.dat"
   ]
  },
  {
   "cell_type": "code",
   "execution_count": null,
   "metadata": {},
   "outputs": [],
   "source": [
    "with open('../datasets//steps.dat', 'r') as handle:\n",
    "    steps = handle.readline().strip().split()\n",
    "    \n",
    "ns = len(steps)\n",
    "steps_c = [f'case{i}' for i in range(ns)]\n",
    "steps_d = [f'death{i}' for i in range(ns)]\n",
    "steps_ = steps_c + steps_d"
   ]
  },
  {
   "cell_type": "code",
   "execution_count": null,
   "metadata": {},
   "outputs": [],
   "source": [
    "! head -n 1 ../datasets/data_2020-12-06.csv"
   ]
  },
  {
   "cell_type": "code",
   "execution_count": null,
   "metadata": {},
   "outputs": [],
   "source": [
    "glob('../datasets//data_????-??-??.csv')[0]"
   ]
  },
  {
   "cell_type": "code",
   "execution_count": null,
   "metadata": {},
   "outputs": [],
   "source": [
    "data_fname = glob('../datasets//data_????-??-??.csv')[0]\n",
    "\n",
    "# Get the two totals\n",
    "last_date = data_fname.split('/')[-1][:-4].split('_')[-1]\n",
    "print(f'last date = {last_date}')\n",
    "steps_c = steps_c + [f'total_case']\n",
    "steps_d = steps_d + [f'total_death']\n",
    "steps_ = steps_c + steps_d\n",
    "\n",
    "df = pd.read_csv(data_fname, dtype={'fips': str}).set_index('fips')"
   ]
  },
  {
   "cell_type": "code",
   "execution_count": null,
   "metadata": {},
   "outputs": [],
   "source": [
    "df"
   ]
  },
  {
   "cell_type": "code",
   "execution_count": null,
   "metadata": {},
   "outputs": [],
   "source": [
    "df['urban_risk'] = df['perc_urban_pop'] * (df['risk_flu'] - df['risk_flu'].min())\n",
    "covariates = [\n",
    "    'population', \n",
    "    'perc_65yrs', \n",
    "    'perc_minority', \n",
    "    'perc_black', \n",
    "    'perc_hispanic', \n",
    "    'perc_poverty', \n",
    "    'perc_urban_pop',\n",
    "    'income',\n",
    "    'risk_flu',\n",
    "    'urban_risk'\n",
    "]\n",
    "\n",
    "df_z = df[steps_].copy()\n",
    "for c in covariates:\n",
    "    mean, std = df[c].mean(), df[c].std()\n",
    "    df_z[c] = (df[c] - mean) / std\n",
    "df_z.head()"
   ]
  },
  {
   "cell_type": "markdown",
   "metadata": {},
   "source": [
    "## Get GLM predictions"
   ]
  },
  {
   "cell_type": "code",
   "execution_count": null,
   "metadata": {},
   "outputs": [],
   "source": [
    "cov_prefix = 'perc_65yrs+perc_minority+perc_black+perc_hispanic+perc_poverty+income+'\n",
    "cov = cov_prefix + 'perc_urban_pop'\n",
    "\n",
    "df_z['pcy'] = df.case0/df.case0.sum()\n",
    "steps_c[0]"
   ]
  },
  {
   "cell_type": "code",
   "execution_count": null,
   "metadata": {},
   "outputs": [],
   "source": [
    "cur = steps_c[0]\n",
    "\n",
    "Y='pcy'\n",
    "#formula = f'{cur}~{cov}'\n",
    "formula = f'{Y}~{cov}'\n",
    "\n",
    "model = smf.glm(\n",
    "    formula=formula,\n",
    "    data=df_z,\n",
    "    family=sm.families.Poisson(sm.families.links.log())\n",
    ").fit()\n",
    "print(f'{model.summary()}\\n\\n')\n",
    "\n",
    "prd = model.predict()\n",
    "cor = pd.DataFrame(\n",
    "    data={'prd': prd, 'grd': df_z[cur].values}, \n",
    "    index=df.index).corr().loc['prd', 'grd']\n",
    "#cors.append(cor)\n",
    "\n",
    "df_z[cur + '_glm'] = model.predict()\n",
    " "
   ]
  },
  {
   "cell_type": "markdown",
   "metadata": {},
   "source": [
    "### Case "
   ]
  },
  {
   "cell_type": "code",
   "execution_count": null,
   "metadata": {
    "scrolled": false
   },
   "outputs": [],
   "source": [
    "dfs_case = []\n",
    "cors = []\n",
    "for i in range(len(steps_c)):\n",
    "    cur = steps_c[i]\n",
    "    formula = f'{cur}~{cov}'\n",
    "\n",
    "    model = smf.glm(\n",
    "        formula=formula,\n",
    "        data=df_z,\n",
    "        family=sm.families.Poisson(sm.families.links.log())\n",
    "    ).fit()\n",
    "    print(f'{model.summary()}\\n\\n')\n",
    "    \n",
    "    prd = model.predict()\n",
    "    cor = pd.DataFrame(\n",
    "        data={'prd': prd, 'grd': df_z[cur].values}, \n",
    "        index=df.index).corr().loc['prd', 'grd']\n",
    "    cors.append(cor)\n",
    "    \n",
    "    df_z[cur + '_glm'] = model.predict()\n",
    "    \n",
    "    dfs_case.append(pd.read_html(model.summary().tables[1].as_html(), header=0, index_col=0)[0])"
   ]
  },
  {
   "cell_type": "code",
   "execution_count": null,
   "metadata": {},
   "outputs": [],
   "source": [
    "fig, ax = plt.subplots(1, 1, figsize=(8, 6))\n",
    "ax.plot(cors, marker='o')"
   ]
  },
  {
   "cell_type": "markdown",
   "metadata": {},
   "source": [
    "### Death"
   ]
  },
  {
   "cell_type": "code",
   "execution_count": null,
   "metadata": {},
   "outputs": [],
   "source": [
    "dfs_death = []\n",
    "cors = []\n",
    "for i in range(len(steps_d)):\n",
    "    cur = steps_d[i]\n",
    "    formula = f'{cur}~{cov}'\n",
    "\n",
    "    model = smf.glm(\n",
    "        formula=formula,\n",
    "        data=df_z,\n",
    "        family=sm.families.Poisson(sm.families.links.log())\n",
    "    ).fit()\n",
    "    print(f'{model.summary()}\\n\\n')\n",
    "    \n",
    "    prd = model.predict()\n",
    "    cor = pd.DataFrame(\n",
    "        data={'prd': prd, 'grd': df_z[cur].values}, \n",
    "        index=df.index).corr().loc['prd', 'grd']\n",
    "    cors.append(cor)\n",
    "    \n",
    "    df_z[cur + '_glm'] = model.predict()\n",
    "    \n",
    "    dfs_death.append(pd.read_html(model.summary().tables[1].as_html(), header=0, index_col=0)[0])"
   ]
  },
  {
   "cell_type": "code",
   "execution_count": null,
   "metadata": {},
   "outputs": [],
   "source": [
    "fig, ax = plt.subplots(1, 1, figsize=(8, 6))\n",
    "ax.plot(cors, marker='o')"
   ]
  },
  {
   "cell_type": "code",
   "execution_count": null,
   "metadata": {},
   "outputs": [],
   "source": [
    "# cleanup and save\n",
    "existing_csv = glob('../datasets//data_????-??-??_glm.csv')\n",
    "\n",
    "if len(existing_csv) > 0:\n",
    "    for csv in existing_csv:\n",
    "        check_output(f'rm {csv}', shell=True)\n",
    "        \n",
    "df_z.to_csv(data_fname[:-4] + '_glm.csv', float_format='%.2f')"
   ]
  },
  {
   "cell_type": "code",
   "execution_count": null,
   "metadata": {},
   "outputs": [],
   "source": [
    "df_z"
   ]
  },
  {
   "cell_type": "markdown",
   "metadata": {},
   "source": [
    "## Validation"
   ]
  },
  {
   "cell_type": "code",
   "execution_count": null,
   "metadata": {},
   "outputs": [],
   "source": [
    "cols = [col for col in df_z.columns if (col.startswith('case')) or (col.startswith('death'))]\n",
    "(df_z[cols] < 0).sum().sum()"
   ]
  },
  {
   "cell_type": "code",
   "execution_count": null,
   "metadata": {},
   "outputs": [],
   "source": [
    "for i, s in enumerate(steps):\n",
    "    print(f'{i}: {s}')"
   ]
  },
  {
   "cell_type": "code",
   "execution_count": null,
   "metadata": {},
   "outputs": [],
   "source": []
  }
 ],
 "metadata": {
  "kernelspec": {
   "display_name": "Python 3 (ipykernel)",
   "language": "python",
   "name": "python3"
  },
  "language_info": {
   "codemirror_mode": {
    "name": "ipython",
    "version": 3
   },
   "file_extension": ".py",
   "mimetype": "text/x-python",
   "name": "python",
   "nbconvert_exporter": "python",
   "pygments_lexer": "ipython3",
   "version": "3.10.8"
  }
 },
 "nbformat": 4,
 "nbformat_minor": 2
}

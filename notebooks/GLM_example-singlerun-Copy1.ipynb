{
 "cells": [
  {
   "cell_type": "code",
   "execution_count": 1,
   "metadata": {},
   "outputs": [],
   "source": [
    "import numpy as np\n",
    "import pandas as pd\n",
    "from glob import glob\n",
    "from subprocess import check_output\n",
    "\n",
    "import statsmodels.api as sm\n",
    "import statsmodels.formula.api as smf\n",
    "\n",
    "from sklearn.metrics import r2_score\n",
    "import pylab as plt\n",
    "%matplotlib inline"
   ]
  },
  {
   "cell_type": "code",
   "execution_count": null,
   "metadata": {},
   "outputs": [],
   "source": []
  },
  {
   "cell_type": "code",
   "execution_count": 2,
   "metadata": {},
   "outputs": [
    {
     "name": "stdout",
     "output_type": "stream",
     "text": [
      "last date = 2020-12-06\n"
     ]
    }
   ],
   "source": [
    "data_fname = '../datasets/data_2020-12-06.csv'\n",
    "last_date = data_fname.split('/')[-1][:-4].split('_')[-1]\n",
    "print(f'last date = {last_date}')\n",
    "df = pd.read_csv(data_fname, dtype={'fips': str}).set_index('fips')"
   ]
  },
  {
   "cell_type": "code",
   "execution_count": 3,
   "metadata": {},
   "outputs": [],
   "source": [
    "steps_=['case0', 'case1', 'case2', 'case3', 'case4', 'case5',\n",
    "       'case6', 'case7', 'case8', 'case9', 'case10', 'case11', 'case12',\n",
    "       'case13', 'case14', 'case15', 'case16', 'case17', 'case18', 'case19',\n",
    "       'case20', 'case21', 'case22', 'case23', 'case24', 'case25', 'case26',\n",
    "       'case27', 'case28', 'case29', 'case30', 'case31', 'case32', 'case33',\n",
    "       'case34', 'case35', 'death0', 'death1', 'death2', 'death3', 'death4',\n",
    "       'death5', 'death6', 'death7', 'death8', 'death9', 'death10', 'death11',\n",
    "       'death12', 'death13', 'death14', 'death15', 'death16', 'death17',\n",
    "       'death18', 'death19', 'death20', 'death21', 'death22', 'death23',\n",
    "       'death24', 'death25', 'death26', 'death27', 'death28', 'death29',\n",
    "       'death30', 'death31', 'death32', 'death33', 'death34', 'death35',\n",
    "       'total_case', 'total_death']"
   ]
  },
  {
   "cell_type": "code",
   "execution_count": 4,
   "metadata": {},
   "outputs": [
    {
     "data": {
      "text/html": [
       "<div>\n",
       "<style scoped>\n",
       "    .dataframe tbody tr th:only-of-type {\n",
       "        vertical-align: middle;\n",
       "    }\n",
       "\n",
       "    .dataframe tbody tr th {\n",
       "        vertical-align: top;\n",
       "    }\n",
       "\n",
       "    .dataframe thead th {\n",
       "        text-align: right;\n",
       "    }\n",
       "</style>\n",
       "<table border=\"1\" class=\"dataframe\">\n",
       "  <thead>\n",
       "    <tr style=\"text-align: right;\">\n",
       "      <th></th>\n",
       "      <th>case0</th>\n",
       "      <th>case1</th>\n",
       "      <th>case2</th>\n",
       "      <th>case3</th>\n",
       "      <th>case4</th>\n",
       "      <th>case5</th>\n",
       "      <th>case6</th>\n",
       "      <th>case7</th>\n",
       "      <th>case8</th>\n",
       "      <th>case9</th>\n",
       "      <th>...</th>\n",
       "      <th>population</th>\n",
       "      <th>perc_65yrs</th>\n",
       "      <th>perc_minority</th>\n",
       "      <th>perc_black</th>\n",
       "      <th>perc_hispanic</th>\n",
       "      <th>perc_poverty</th>\n",
       "      <th>perc_urban_pop</th>\n",
       "      <th>income</th>\n",
       "      <th>risk_flu</th>\n",
       "      <th>urban_risk</th>\n",
       "    </tr>\n",
       "    <tr>\n",
       "      <th>fips</th>\n",
       "      <th></th>\n",
       "      <th></th>\n",
       "      <th></th>\n",
       "      <th></th>\n",
       "      <th></th>\n",
       "      <th></th>\n",
       "      <th></th>\n",
       "      <th></th>\n",
       "      <th></th>\n",
       "      <th></th>\n",
       "      <th></th>\n",
       "      <th></th>\n",
       "      <th></th>\n",
       "      <th></th>\n",
       "      <th></th>\n",
       "      <th></th>\n",
       "      <th></th>\n",
       "      <th></th>\n",
       "      <th></th>\n",
       "      <th></th>\n",
       "      <th></th>\n",
       "    </tr>\n",
       "  </thead>\n",
       "  <tbody>\n",
       "    <tr>\n",
       "      <th>01001</th>\n",
       "      <td>12.0</td>\n",
       "      <td>7.0</td>\n",
       "      <td>6.0</td>\n",
       "      <td>11.0</td>\n",
       "      <td>11.0</td>\n",
       "      <td>16.0</td>\n",
       "      <td>45.0</td>\n",
       "      <td>48.0</td>\n",
       "      <td>60.0</td>\n",
       "      <td>48.0</td>\n",
       "      <td>...</td>\n",
       "      <td>-0.149053</td>\n",
       "      <td>-0.794106</td>\n",
       "      <td>0.512705</td>\n",
       "      <td>0.741329</td>\n",
       "      <td>-0.489703</td>\n",
       "      <td>-0.225017</td>\n",
       "      <td>0.535824</td>\n",
       "      <td>0.480936</td>\n",
       "      <td>1.006875</td>\n",
       "      <td>0.666999</td>\n",
       "    </tr>\n",
       "    <tr>\n",
       "      <th>01003</th>\n",
       "      <td>34.0</td>\n",
       "      <td>36.0</td>\n",
       "      <td>40.0</td>\n",
       "      <td>45.0</td>\n",
       "      <td>30.0</td>\n",
       "      <td>34.0</td>\n",
       "      <td>42.0</td>\n",
       "      <td>19.0</td>\n",
       "      <td>12.0</td>\n",
       "      <td>29.0</td>\n",
       "      <td>...</td>\n",
       "      <td>0.349320</td>\n",
       "      <td>0.257409</td>\n",
       "      <td>-0.180113</td>\n",
       "      <td>-0.042334</td>\n",
       "      <td>-0.365711</td>\n",
       "      <td>-0.883379</td>\n",
       "      <td>0.526204</td>\n",
       "      <td>0.353735</td>\n",
       "      <td>1.296454</td>\n",
       "      <td>0.817850</td>\n",
       "    </tr>\n",
       "    <tr>\n",
       "      <th>01005</th>\n",
       "      <td>3.0</td>\n",
       "      <td>7.0</td>\n",
       "      <td>8.0</td>\n",
       "      <td>16.0</td>\n",
       "      <td>9.0</td>\n",
       "      <td>14.0</td>\n",
       "      <td>24.0</td>\n",
       "      <td>27.0</td>\n",
       "      <td>47.0</td>\n",
       "      <td>41.0</td>\n",
       "      <td>...</td>\n",
       "      <td>-0.241908</td>\n",
       "      <td>-0.012923</td>\n",
       "      <td>2.192825</td>\n",
       "      <td>2.685016</td>\n",
       "      <td>-0.379632</td>\n",
       "      <td>2.589482</td>\n",
       "      <td>-0.291414</td>\n",
       "      <td>-1.333023</td>\n",
       "      <td>0.420657</td>\n",
       "      <td>-0.240836</td>\n",
       "    </tr>\n",
       "    <tr>\n",
       "      <th>01007</th>\n",
       "      <td>4.0</td>\n",
       "      <td>9.0</td>\n",
       "      <td>13.0</td>\n",
       "      <td>8.0</td>\n",
       "      <td>7.0</td>\n",
       "      <td>4.0</td>\n",
       "      <td>7.0</td>\n",
       "      <td>7.0</td>\n",
       "      <td>15.0</td>\n",
       "      <td>5.0</td>\n",
       "      <td>...</td>\n",
       "      <td>-0.248733</td>\n",
       "      <td>-0.647773</td>\n",
       "      <td>0.481481</td>\n",
       "      <td>0.821243</td>\n",
       "      <td>-0.504693</td>\n",
       "      <td>1.091708</td>\n",
       "      <td>-0.310652</td>\n",
       "      <td>-0.483902</td>\n",
       "      <td>0.436170</td>\n",
       "      <td>-0.249735</td>\n",
       "    </tr>\n",
       "    <tr>\n",
       "      <th>01009</th>\n",
       "      <td>12.0</td>\n",
       "      <td>3.0</td>\n",
       "      <td>9.0</td>\n",
       "      <td>12.0</td>\n",
       "      <td>6.0</td>\n",
       "      <td>5.0</td>\n",
       "      <td>2.0</td>\n",
       "      <td>3.0</td>\n",
       "      <td>13.0</td>\n",
       "      <td>11.0</td>\n",
       "      <td>...</td>\n",
       "      <td>-0.143225</td>\n",
       "      <td>-0.221003</td>\n",
       "      <td>-0.699751</td>\n",
       "      <td>-0.532156</td>\n",
       "      <td>-0.011632</td>\n",
       "      <td>-0.323771</td>\n",
       "      <td>-1.003223</td>\n",
       "      <td>-0.167862</td>\n",
       "      <td>0.617627</td>\n",
       "      <td>-0.724261</td>\n",
       "    </tr>\n",
       "  </tbody>\n",
       "</table>\n",
       "<p>5 rows × 84 columns</p>\n",
       "</div>"
      ],
      "text/plain": [
       "       case0  case1  case2  case3  case4  case5  case6  case7  case8  case9  \\\n",
       "fips                                                                          \n",
       "01001   12.0    7.0    6.0   11.0   11.0   16.0   45.0   48.0   60.0   48.0   \n",
       "01003   34.0   36.0   40.0   45.0   30.0   34.0   42.0   19.0   12.0   29.0   \n",
       "01005    3.0    7.0    8.0   16.0    9.0   14.0   24.0   27.0   47.0   41.0   \n",
       "01007    4.0    9.0   13.0    8.0    7.0    4.0    7.0    7.0   15.0    5.0   \n",
       "01009   12.0    3.0    9.0   12.0    6.0    5.0    2.0    3.0   13.0   11.0   \n",
       "\n",
       "       ...  population  perc_65yrs  perc_minority  perc_black  perc_hispanic  \\\n",
       "fips   ...                                                                     \n",
       "01001  ...   -0.149053   -0.794106       0.512705    0.741329      -0.489703   \n",
       "01003  ...    0.349320    0.257409      -0.180113   -0.042334      -0.365711   \n",
       "01005  ...   -0.241908   -0.012923       2.192825    2.685016      -0.379632   \n",
       "01007  ...   -0.248733   -0.647773       0.481481    0.821243      -0.504693   \n",
       "01009  ...   -0.143225   -0.221003      -0.699751   -0.532156      -0.011632   \n",
       "\n",
       "       perc_poverty  perc_urban_pop    income  risk_flu  urban_risk  \n",
       "fips                                                                 \n",
       "01001     -0.225017        0.535824  0.480936  1.006875    0.666999  \n",
       "01003     -0.883379        0.526204  0.353735  1.296454    0.817850  \n",
       "01005      2.589482       -0.291414 -1.333023  0.420657   -0.240836  \n",
       "01007      1.091708       -0.310652 -0.483902  0.436170   -0.249735  \n",
       "01009     -0.323771       -1.003223 -0.167862  0.617627   -0.724261  \n",
       "\n",
       "[5 rows x 84 columns]"
      ]
     },
     "execution_count": 4,
     "metadata": {},
     "output_type": "execute_result"
    }
   ],
   "source": [
    "df['urban_risk'] = df['perc_urban_pop'] * (df['risk_flu'] - df['risk_flu'].min())\n",
    "covariates = [\n",
    "    'population', \n",
    "    'perc_65yrs', \n",
    "    'perc_minority', \n",
    "    'perc_black', \n",
    "    'perc_hispanic', \n",
    "    'perc_poverty', \n",
    "    'perc_urban_pop',\n",
    "    'income',\n",
    "    'risk_flu',\n",
    "    'urban_risk'\n",
    "]\n",
    "\n",
    "df_z = df[steps_].copy()\n",
    "for c in covariates:\n",
    "    mean, std = df[c].mean(), df[c].std()\n",
    "    df_z[c] = (df[c] - mean) / std\n",
    "df_z.head()"
   ]
  },
  {
   "cell_type": "code",
   "execution_count": 5,
   "metadata": {},
   "outputs": [],
   "source": [
    "cov_prefix = 'perc_65yrs+perc_minority+perc_black+perc_hispanic+perc_poverty+income+'\n",
    "cov = cov_prefix + 'perc_urban_pop'\n",
    "\n",
    "df_z['pcy'] = df.case0/df.case0.sum()"
   ]
  },
  {
   "cell_type": "code",
   "execution_count": 6,
   "metadata": {},
   "outputs": [
    {
     "name": "stdout",
     "output_type": "stream",
     "text": [
      "                 Generalized Linear Model Regression Results                  \n",
      "==============================================================================\n",
      "Dep. Variable:                    pcy   No. Observations:                 3094\n",
      "Model:                            GLM   Df Residuals:                     3086\n",
      "Model Family:                 Poisson   Df Model:                            7\n",
      "Link Function:                    log   Scale:                          1.0000\n",
      "Method:                          IRLS   Log-Likelihood:                -6.4292\n",
      "Date:                Sun, 12 Feb 2023   Deviance:                       1.8988\n",
      "Time:                        16:26:02   Pearson chi2:                     4.34\n",
      "No. Iterations:                     8   Pseudo R-squ. (CS):           0.001322\n",
      "Covariance Type:            nonrobust                                         \n",
      "==================================================================================\n",
      "                     coef    std err          z      P>|z|      [0.025      0.975]\n",
      "----------------------------------------------------------------------------------\n",
      "Intercept        -11.6883      5.431     -2.152      0.031     -22.334      -1.043\n",
      "perc_65yrs         0.3695      1.174      0.315      0.753      -1.931       2.670\n",
      "perc_minority      0.2271      1.854      0.123      0.902      -3.406       3.860\n",
      "perc_black         0.2479      1.828      0.136      0.892      -3.336       3.831\n",
      "perc_hispanic      0.3020      0.995      0.304      0.761      -1.648       2.251\n",
      "perc_poverty       0.3401      1.977      0.172      0.863      -3.534       4.214\n",
      "income             0.4748      1.116      0.425      0.671      -1.713       2.663\n",
      "perc_urban_pop     2.8894      3.620      0.798      0.425      -4.207       9.985\n",
      "==================================================================================\n",
      "\n",
      "\n"
     ]
    }
   ],
   "source": [
    "cur = steps_[0]\n",
    "\n",
    "Y='pcy'\n",
    "formula = f'{Y}~{cov}'\n",
    "\n",
    "model = smf.glm(\n",
    "    formula=formula,\n",
    "    data=df_z,\n",
    "    family=sm.families.Poisson(sm.families.links.log())\n",
    ").fit()\n",
    "\n",
    "#model = smf.glm(\n",
    "#    formula=formula,\n",
    "#    data=df_z,\n",
    "#    family=sm.families.Gaussian(sm.families.links.log())\n",
    "#).fit()\n",
    "\n",
    "\n",
    "\n",
    "print(f'{model.summary()}\\n\\n')\n",
    "\n",
    "prd = model.predict()\n",
    "cor = pd.DataFrame(\n",
    "    data={'prd': prd, 'grd': df_z[cur].values}, \n",
    "    index=df.index).corr().loc['prd', 'grd']\n",
    "\n",
    "df_z[cur + '_glm'] = model.predict()\n",
    " "
   ]
  },
  {
   "cell_type": "code",
   "execution_count": 7,
   "metadata": {},
   "outputs": [
    {
     "data": {
      "text/plain": [
       "28.858338164238294"
      ]
     },
     "execution_count": 7,
     "metadata": {},
     "output_type": "execute_result"
    }
   ],
   "source": [
    "model.aic"
   ]
  },
  {
   "cell_type": "code",
   "execution_count": 8,
   "metadata": {},
   "outputs": [
    {
     "data": {
      "text/plain": [
       "array([3.98898571e-05, 3.14484018e-05, 1.31612894e-05, ...,\n",
       "       1.94631282e-05, 6.18063628e-05, 8.27159610e-06])"
      ]
     },
     "execution_count": 8,
     "metadata": {},
     "output_type": "execute_result"
    }
   ],
   "source": [
    "prd"
   ]
  },
  {
   "cell_type": "code",
   "execution_count": 9,
   "metadata": {},
   "outputs": [
    {
     "data": {
      "text/plain": [
       "0.5011413285846736"
      ]
     },
     "execution_count": 9,
     "metadata": {},
     "output_type": "execute_result"
    }
   ],
   "source": [
    "cor"
   ]
  },
  {
   "cell_type": "code",
   "execution_count": 17,
   "metadata": {},
   "outputs": [
    {
     "data": {
      "text/plain": [
       "fips\n",
       "01001    3.988986e-05\n",
       "01003    3.144840e-05\n",
       "01005    1.316129e-05\n",
       "01007    3.641531e-06\n",
       "01009    2.625604e-07\n",
       "             ...     \n",
       "56037    5.071428e-04\n",
       "56039    4.881481e-05\n",
       "56041    1.946313e-05\n",
       "56043    6.180636e-05\n",
       "56045    8.271596e-06\n",
       "Length: 3094, dtype: float64"
      ]
     },
     "execution_count": 17,
     "metadata": {},
     "output_type": "execute_result"
    }
   ],
   "source": [
    "case_next = df.case1/df.case1.sum()\n",
    "df_z_test= df_z.copy()\n",
    "df_z_test['case0']=case_next \n",
    "\n",
    "model.predict(df_z_test)"
   ]
  }
 ],
 "metadata": {
  "kernelspec": {
   "display_name": "Python 3 (ipykernel)",
   "language": "python",
   "name": "python3"
  },
  "language_info": {
   "codemirror_mode": {
    "name": "ipython",
    "version": 3
   },
   "file_extension": ".py",
   "mimetype": "text/x-python",
   "name": "python",
   "nbconvert_exporter": "python",
   "pygments_lexer": "ipython3",
   "version": "3.10.8"
  }
 },
 "nbformat": 4,
 "nbformat_minor": 2
}

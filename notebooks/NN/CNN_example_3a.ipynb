{
 "cells": [
  {
   "cell_type": "code",
   "execution_count": null,
   "metadata": {},
   "outputs": [],
   "source": [
    "import tensorflow as tf\n",
    "\n",
    "from tensorflow.keras import datasets, layers, models\n",
    "import matplotlib.pyplot as plt\n",
    "import glob\n",
    "import tqdm\n"
   ]
  },
  {
   "cell_type": "code",
   "execution_count": null,
   "metadata": {},
   "outputs": [],
   "source": [
    "import PIL\n",
    "import numpy as np\n",
    "from PIL import Image\n",
    "from numpy import asarray\n",
    "# Open the image form working directory\n",
    "from tqdm import tqdm\n",
    "\n"
   ]
  },
  {
   "cell_type": "code",
   "execution_count": null,
   "metadata": {},
   "outputs": [],
   "source": [
    "def getData(num_samples=500,PATHS=['../../datasets/cells/all/*bmp','../../datasets/cells/hem/*bmp']):\n",
    "    count=0\n",
    "    FILES={}\n",
    "    LEN=np.zeros(2,)\n",
    "    for i in PATHS:\n",
    "        FILES[count]=glob.glob(i)\n",
    "        LEN[count]=len(FILES[count])\n",
    "        count=count+1\n",
    "    print('Number in each class: ',LEN)\n",
    "\n",
    "    INDEX_ARRAY={}\n",
    "    for i in np.arange(len(PATHS)):\n",
    "        INDEX_ARRAY[i]=np.random.permutation(int(LEN[i]))\n",
    "\n",
    "    print(INDEX_ARRAY[0])\n",
    "\n",
    "    NUM_TRAINING=10\n",
    "    TOTAL_NUMBER_OF_EXAMPLES=np.floor(np.array(LEN).astype(int)*.1).astype(int)\n",
    "    TOTAL_NUMBER_OF_VALIDATION_EXAMPLES=np.array(num_samples-TOTAL_NUMBER_OF_EXAMPLES).astype(int)\n",
    "    print(TOTAL_NUMBER_OF_EXAMPLES,TOTAL_NUMBER_OF_VALIDATION_EXAMPLES)\n",
    "\n",
    "    ar_tr = np.zeros([TOTAL_NUMBER_OF_EXAMPLES.sum(),450,450, 3], dtype=np.uint8)\n",
    "    label_tr=np.empty((TOTAL_NUMBER_OF_EXAMPLES.sum(),), dtype='uint8')\n",
    "    ar_ts = np.zeros([TOTAL_NUMBER_OF_VALIDATION_EXAMPLES.sum(),450,450, 3], dtype=np.uint8)\n",
    "    label_ts=np.empty((TOTAL_NUMBER_OF_VALIDATION_EXAMPLES.sum(),), dtype='uint8')\n",
    "\n",
    "    num=0\n",
    "    for i in np.arange(len(PATHS)):\n",
    "        for f in tqdm(np.array(FILES[i])[INDEX_ARRAY[i][:TOTAL_NUMBER_OF_EXAMPLES[i]]]):\n",
    "            image = Image.open(f)\n",
    "            data = asarray(image)\n",
    "            ar_tr[num,:,:,:]=data\n",
    "            label_tr[num]=i\n",
    "            num=num+1\n",
    "    plt.figure()\n",
    "    plt.imshow(ar_tr[2,:,:,0])\n",
    "    plt.figure()\n",
    "    plt.imshow(ar_tr[TOTAL_NUMBER_OF_EXAMPLES[0]+2,:,:,0]);    \n",
    "    \n",
    "    \n",
    "    num=0\n",
    "    for i in np.arange(len(PATHS)):\n",
    "        for f in tqdm(np.array(FILES[i])[INDEX_ARRAY[i][TOTAL_NUMBER_OF_EXAMPLES[i]:num_samples]]):\n",
    "            image = Image.open(f)\n",
    "            data = asarray(image)\n",
    "            ar_ts[num,:,:,:]=data\n",
    "            label_ts[num]=i\n",
    "            num=num+1\n",
    "    plt.figure()\n",
    "    plt.imshow(ar_ts[2,:,:,0])\n",
    "    plt.figure()\n",
    "    plt.imshow(ar_ts[TOTAL_NUMBER_OF_VALIDATION_EXAMPLES[0]+2,:,:,0]);    \n",
    "    \n",
    "    \n",
    "    \n",
    "    x_train=ar_tr\n",
    "    x_test=ar_ts\n",
    "    y_train=label_tr\n",
    "    y_test=label_ts\n",
    "    return (x_train, y_train), (x_test, y_test)"
   ]
  },
  {
   "cell_type": "code",
   "execution_count": null,
   "metadata": {
    "scrolled": false
   },
   "outputs": [],
   "source": [
    "(train_images, train_labels), (test_images, test_labels)=getData(500)"
   ]
  },
  {
   "cell_type": "code",
   "execution_count": null,
   "metadata": {},
   "outputs": [],
   "source": []
  },
  {
   "cell_type": "code",
   "execution_count": null,
   "metadata": {},
   "outputs": [],
   "source": [
    "print(train_images.shape,len(train_labels))\n",
    "print(test_images.shape,len(test_labels))"
   ]
  },
  {
   "cell_type": "code",
   "execution_count": null,
   "metadata": {},
   "outputs": [],
   "source": [
    "# Normalize pixel values to be between 0 and 1\n",
    "train_images, test_images = train_images / 255.0, test_images / 255.0"
   ]
  },
  {
   "cell_type": "code",
   "execution_count": null,
   "metadata": {},
   "outputs": [],
   "source": [
    "class_names = ['abnormal','normal']\n",
    "\n"
   ]
  },
  {
   "cell_type": "code",
   "execution_count": null,
   "metadata": {},
   "outputs": [],
   "source": [
    "model = models.Sequential()\n",
    "model.add(layers.Conv2D(64, (3, 3), activation='relu', input_shape=(450, 450, 3)))\n",
    "model.add(layers.MaxPooling2D((2, 2)))\n",
    "model.add(layers.Conv2D(64, (3, 3), activation='relu'))\n",
    "model.add(layers.MaxPooling2D((2, 2)))\n",
    "model.add(layers.Conv2D(64, (3, 3), activation='relu'))\n",
    "\n",
    "model.add(layers.Flatten())\n",
    "model.add(layers.Dense(128, activation='relu'))\n",
    "model.add(layers.Dense(64, activation='relu'))\n",
    "model.add(layers.Dense(3,activation=tf.nn.softmax))"
   ]
  },
  {
   "cell_type": "code",
   "execution_count": null,
   "metadata": {},
   "outputs": [],
   "source": [
    "model.summary()"
   ]
  },
  {
   "cell_type": "code",
   "execution_count": null,
   "metadata": {},
   "outputs": [],
   "source": [
    "model.compile(optimizer='adam',\n",
    "              loss=tf.keras.losses.SparseCategoricalCrossentropy(from_logits=True),\n",
    "              metrics=['accuracy'])\n",
    "\n",
    "history = model.fit(train_images, train_labels, epochs=3, \n",
    "                    validation_data=(test_images, test_labels))"
   ]
  },
  {
   "cell_type": "code",
   "execution_count": null,
   "metadata": {},
   "outputs": [],
   "source": [
    "plt.plot(history.history['acc'], label='accuracy')\n",
    "plt.plot(history.history['val_acc'], label = 'val_accuracy')\n",
    "plt.xlabel('Epoch')\n",
    "plt.ylabel('Accuracy')\n",
    "plt.ylim([0.5, 1])\n",
    "plt.legend(loc='lower right')\n",
    "\n",
    "test_loss, test_acc = model.evaluate(test_images,  test_labels, verbose=2)"
   ]
  },
  {
   "cell_type": "code",
   "execution_count": null,
   "metadata": {},
   "outputs": [],
   "source": [
    "history.history"
   ]
  },
  {
   "cell_type": "markdown",
   "metadata": {},
   "source": [
    "\n"
   ]
  },
  {
   "cell_type": "code",
   "execution_count": null,
   "metadata": {},
   "outputs": [],
   "source": []
  }
 ],
 "metadata": {
  "kernelspec": {
   "display_name": "Python 3",
   "language": "python",
   "name": "python3"
  },
  "language_info": {
   "codemirror_mode": {
    "name": "ipython",
    "version": 3
   },
   "file_extension": ".py",
   "mimetype": "text/x-python",
   "name": "python",
   "nbconvert_exporter": "python",
   "pygments_lexer": "ipython3",
   "version": "3.7.1"
  }
 },
 "nbformat": 4,
 "nbformat_minor": 2
}

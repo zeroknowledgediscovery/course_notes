{
 "cells": [
  {
   "cell_type": "code",
   "execution_count": 1,
   "metadata": {},
   "outputs": [],
   "source": [
    "import tensorflow as tf\n",
    "\n",
    "from tensorflow.keras import datasets, layers, models\n",
    "import matplotlib.pyplot as plt\n",
    "import glob\n",
    "import tqdm\n"
   ]
  },
  {
   "cell_type": "code",
   "execution_count": 3,
   "metadata": {},
   "outputs": [],
   "source": [
    "import PIL\n",
    "import numpy as np\n",
    "from PIL import Image\n",
    "from numpy import asarray\n",
    "# Open the image form working directory\n",
    "num_train_samples=3000\n",
    "from tqdm import tqdm\n",
    "\n",
    "def getData(num_train_samples=1000,FILEPATHS=['../../datasets/med_MNIST/AbdomenCT/*jpeg',\n",
    "                       '../../datasets/med_MNIST/HeadCT/*jpeg',\n",
    "                       '../../datasets/med_MNIST/ChestCT/*jpeg']):\n",
    "    FILES={}\n",
    "    count=0\n",
    "    for i in FILEPATHS:\n",
    "        FILES[count]=glob.glob(i)\n",
    "        count=count+1\n",
    "        \n",
    "    NUM_CLASSES=len(FILEPATHS)\n",
    "    ar_tr = np.zeros([num_train_samples*NUM_CLASSES,64, 64, 3], dtype=np.uint8)\n",
    "    label_tr=np.empty((num_train_samples*NUM_CLASSES,), dtype='uint8')\n",
    "    ar_ts = np.zeros([num_train_samples*NUM_CLASSES,64, 64, 3], dtype=np.uint8)\n",
    "    label_ts=np.empty((num_train_samples*NUM_CLASSES,), dtype='uint8')\n",
    "    count=0\n",
    "    for f in tqdm(FILES[0]):\n",
    "        #print('XX',count)\n",
    "        image = Image.open(f)\n",
    "        if count <num_train_samples:\n",
    "            data = asarray(image)\n",
    "            ar_tr[count,:,:,1]=data\n",
    "            ar_tr[count,:,:,2]=data\n",
    "            ar_tr[count,:,:,0]=data\n",
    "            label_tr[count]=0\n",
    "        if count>=num_train_samples:\n",
    "            data = asarray(image)\n",
    "            ar_ts[count-num_train_samples,:,:,1]=data\n",
    "            ar_ts[count-num_train_samples,:,:,2]=data\n",
    "            ar_ts[count-num_train_samples,:,:,0]=data\n",
    "            label_ts[count-num_train_samples]=0\n",
    "        count=count+1\n",
    "        if count==num_train_samples*2:\n",
    "            break\n",
    "\n",
    "\n",
    "    count=0\n",
    "    for f in tqdm(FILES[1]):\n",
    "        #print('XXX',count)\n",
    "        image = Image.open(f)\n",
    "        if count <num_train_samples:\n",
    "            data = asarray(image)\n",
    "            ar_tr[count+num_train_samples,:,:,1]=data\n",
    "            ar_tr[count+num_train_samples,:,:,2]=data\n",
    "            ar_tr[count+num_train_samples,:,:,0]=data\n",
    "            label_tr[count+num_train_samples]=1\n",
    "        if count>=num_train_samples:\n",
    "            data = asarray(image)\n",
    "            #print(count)\n",
    "            ar_ts[count,:,:,1]=data\n",
    "            ar_ts[count,:,:,2]=data\n",
    "            ar_ts[count,:,:,0]=data\n",
    "            label_ts[count]=1\n",
    "        count=count+1\n",
    "        if count==num_train_samples*2:\n",
    "            break\n",
    "\n",
    "    count=0\n",
    "    for f in tqdm(FILES[2]):\n",
    "        #print('XXX',count)\n",
    "        image = Image.open(f)\n",
    "        if count <num_train_samples:\n",
    "            data = asarray(image)\n",
    "            ar_tr[count+2*num_train_samples,:,:,1]=data\n",
    "            ar_tr[count+2*num_train_samples,:,:,2]=data\n",
    "            ar_tr[count+2*num_train_samples,:,:,0]=data\n",
    "            label_tr[count+2*num_train_samples]=2\n",
    "        if count>=num_train_samples:\n",
    "            data = asarray(image)\n",
    "            #print(count)\n",
    "            ar_ts[count+num_train_samples,:,:,1]=data\n",
    "            ar_ts[count+num_train_samples,:,:,2]=data\n",
    "            ar_ts[count+num_train_samples,:,:,0]=data\n",
    "            label_ts[count+num_train_samples]=2\n",
    "        count=count+1\n",
    "        if count==num_train_samples*2:\n",
    "            break\n",
    "            \n",
    "            \n",
    "    x_train=ar_tr\n",
    "    x_test=ar_ts\n",
    "    y_train=label_tr\n",
    "    y_test=label_ts\n",
    "    return (x_train, y_train), (x_test, y_test)"
   ]
  },
  {
   "cell_type": "code",
   "execution_count": 4,
   "metadata": {
    "scrolled": false
   },
   "outputs": [
    {
     "name": "stderr",
     "output_type": "stream",
     "text": [
      " 59%|█████▉    | 5945/10000 [00:06<00:03, 1115.31it/s]\n",
      " 60%|█████▉    | 5952/10000 [00:24<00:08, 501.72it/s]\n",
      "  0%|          | 0/10000 [00:00<?, ?it/s]\u001b[A\n",
      "  0%|          | 6/10000 [00:00<02:53, 57.44it/s]\u001b[A\n",
      "  0%|          | 15/10000 [00:00<02:39, 62.75it/s]\u001b[A\n",
      "  0%|          | 20/10000 [00:00<02:56, 56.61it/s]\u001b[A\n",
      "  0%|          | 27/10000 [00:00<02:52, 57.73it/s]\u001b[A\n",
      "  0%|          | 35/10000 [00:00<02:56, 56.35it/s]\u001b[A\n",
      "  0%|          | 42/10000 [00:00<02:46, 59.85it/s]\u001b[A\n",
      "  0%|          | 49/10000 [00:00<02:41, 61.79it/s]\u001b[A\n",
      "  1%|          | 55/10000 [00:00<02:42, 61.19it/s]\u001b[A\n",
      "  1%|          | 62/10000 [00:00<02:37, 63.27it/s]\u001b[A\n",
      "  1%|          | 70/10000 [00:01<02:30, 65.98it/s]\u001b[A\n",
      "  1%|          | 77/10000 [00:01<02:32, 64.99it/s]\u001b[A\n",
      "  1%|          | 86/10000 [00:01<02:20, 70.58it/s]\u001b[A\n",
      "  1%|          | 95/10000 [00:01<02:11, 75.10it/s]\u001b[A\n",
      "  1%|          | 103/10000 [00:01<02:09, 76.30it/s]\u001b[A\n",
      "  1%|          | 111/10000 [00:01<02:10, 75.57it/s]\u001b[A\n",
      "  1%|          | 119/10000 [00:01<02:20, 70.56it/s]\u001b[A\n",
      "  1%|▏         | 127/10000 [00:01<02:16, 72.36it/s]\u001b[A\n",
      "  1%|▏         | 135/10000 [00:01<02:21, 69.95it/s]\u001b[A\n",
      "  1%|▏         | 143/10000 [00:02<02:16, 72.27it/s]\u001b[A\n",
      "  2%|▏         | 153/10000 [00:02<02:06, 78.15it/s]\u001b[A\n",
      "  2%|▏         | 162/10000 [00:02<02:10, 75.18it/s]\u001b[A\n",
      "  2%|▏         | 170/10000 [00:02<02:09, 76.04it/s]\u001b[A\n",
      "  2%|▏         | 178/10000 [00:02<02:09, 76.03it/s]\u001b[A\n",
      "  2%|▏         | 188/10000 [00:02<02:00, 81.60it/s]\u001b[A\n",
      "  2%|▏         | 198/10000 [00:02<02:00, 81.02it/s]\u001b[A\n",
      "  2%|▏         | 207/10000 [00:02<02:01, 80.51it/s]\u001b[A\n",
      "  2%|▏         | 216/10000 [00:02<02:00, 81.24it/s]\u001b[A\n",
      "  2%|▏         | 227/10000 [00:03<01:53, 86.11it/s]\u001b[A\n",
      "  2%|▏         | 236/10000 [00:03<01:52, 87.00it/s]\u001b[A\n",
      "  3%|▎         | 251/10000 [00:03<01:38, 99.38it/s]\u001b[A\n",
      "  3%|▎         | 262/10000 [00:03<01:40, 96.85it/s]\u001b[A\n",
      "  3%|▎         | 273/10000 [00:03<01:41, 95.60it/s]\u001b[A\n",
      "  3%|▎         | 286/10000 [00:03<01:34, 102.33it/s]\u001b[A\n",
      "  3%|▎         | 298/10000 [00:03<01:34, 102.56it/s]\u001b[A\n",
      "  3%|▎         | 309/10000 [00:03<01:50, 87.91it/s] \u001b[A\n",
      "  3%|▎         | 319/10000 [00:04<01:55, 83.56it/s]\u001b[A\n",
      "  3%|▎         | 328/10000 [00:04<01:55, 83.68it/s]\u001b[A\n",
      "  3%|▎         | 340/10000 [00:04<01:45, 91.16it/s]\u001b[A\n",
      "  4%|▎         | 353/10000 [00:04<01:39, 97.03it/s]\u001b[A\n",
      "  4%|▎         | 364/10000 [00:04<01:42, 94.44it/s]\u001b[A\n",
      "  4%|▎         | 374/10000 [00:04<01:49, 87.80it/s]\u001b[A\n",
      "  4%|▍         | 384/10000 [00:04<01:45, 90.95it/s]\u001b[A\n",
      "  4%|▍         | 396/10000 [00:04<01:38, 97.73it/s]\u001b[A\n",
      "  4%|▍         | 407/10000 [00:04<01:38, 97.63it/s]\u001b[A\n",
      "  4%|▍         | 417/10000 [00:05<01:42, 93.59it/s]\u001b[A\n",
      "  4%|▍         | 427/10000 [00:05<01:42, 93.52it/s]\u001b[A\n",
      "  4%|▍         | 440/10000 [00:05<01:37, 98.04it/s]\u001b[A\n",
      "  5%|▍         | 452/10000 [00:05<01:36, 99.18it/s]\u001b[A\n",
      "  5%|▍         | 463/10000 [00:05<02:16, 69.82it/s]\u001b[A\n",
      "  5%|▍         | 476/10000 [00:05<01:58, 80.44it/s]\u001b[A\n",
      "  5%|▍         | 490/10000 [00:05<01:45, 89.75it/s]\u001b[A\n",
      "  5%|▌         | 502/10000 [00:05<01:37, 97.01it/s]\u001b[A\n",
      "  5%|▌         | 514/10000 [00:06<01:34, 100.50it/s]\u001b[A\n",
      "  5%|▌         | 526/10000 [00:06<01:32, 102.73it/s]\u001b[A\n",
      "  5%|▌         | 537/10000 [00:06<01:33, 101.19it/s]\u001b[A\n",
      "  5%|▌         | 548/10000 [00:06<01:39, 95.18it/s] \u001b[A\n",
      "  6%|▌         | 562/10000 [00:06<01:30, 104.84it/s]\u001b[A\n",
      "  6%|▌         | 574/10000 [00:06<01:33, 100.38it/s]\u001b[A\n",
      "  6%|▌         | 586/10000 [00:06<01:31, 102.62it/s]\u001b[A\n",
      "  6%|▌         | 600/10000 [00:06<01:24, 111.51it/s]\u001b[A\n",
      "  6%|▌         | 614/10000 [00:07<01:21, 114.90it/s]\u001b[A\n",
      "  6%|▋         | 626/10000 [00:07<01:26, 108.79it/s]\u001b[A\n",
      "  6%|▋         | 638/10000 [00:07<01:26, 108.75it/s]\u001b[A\n",
      "  7%|▋         | 652/10000 [00:07<01:20, 116.30it/s]\u001b[A\n",
      "  7%|▋         | 664/10000 [00:07<01:24, 110.07it/s]\u001b[A\n",
      "  7%|▋         | 676/10000 [00:07<01:29, 104.04it/s]\u001b[A\n",
      "  7%|▋         | 688/10000 [00:07<01:27, 106.82it/s]\u001b[A\n",
      "  7%|▋         | 700/10000 [00:07<01:24, 110.03it/s]\u001b[A\n",
      "  7%|▋         | 712/10000 [00:07<01:30, 102.63it/s]\u001b[A\n",
      "  7%|▋         | 731/10000 [00:08<01:19, 116.52it/s]\u001b[A\n",
      "  7%|▋         | 744/10000 [00:08<01:17, 120.00it/s]\u001b[A\n",
      "  8%|▊         | 760/10000 [00:08<01:12, 126.70it/s]\u001b[A\n",
      "  8%|▊         | 774/10000 [00:08<01:18, 116.80it/s]\u001b[A\n",
      "  8%|▊         | 787/10000 [00:08<01:20, 114.42it/s]\u001b[A\n",
      "  8%|▊         | 802/10000 [00:08<01:16, 120.40it/s]\u001b[A\n",
      "  8%|▊         | 815/10000 [00:08<01:16, 119.96it/s]\u001b[A\n",
      "  8%|▊         | 828/10000 [00:08<01:26, 106.16it/s]\u001b[A\n",
      "  8%|▊         | 846/10000 [00:09<01:16, 120.27it/s]\u001b[A\n",
      "  9%|▊         | 859/10000 [00:09<01:18, 116.78it/s]\u001b[A\n",
      "  9%|▊         | 872/10000 [00:09<01:18, 117.01it/s]\u001b[A\n",
      "  9%|▉         | 885/10000 [00:09<01:26, 105.36it/s]\u001b[A\n",
      "  9%|▉         | 897/10000 [00:09<01:26, 105.65it/s]\u001b[A\n",
      "  9%|▉         | 910/10000 [00:09<01:25, 106.57it/s]\u001b[A\n",
      "  9%|▉         | 923/10000 [00:09<01:20, 112.26it/s]\u001b[A\n",
      "  9%|▉         | 938/10000 [00:09<01:14, 120.84it/s]\u001b[A\n",
      " 10%|▉         | 951/10000 [00:09<01:16, 118.89it/s]\u001b[A\n",
      " 10%|▉         | 964/10000 [00:10<01:15, 120.08it/s]\u001b[A\n",
      " 10%|▉         | 978/10000 [00:10<01:13, 122.43it/s]\u001b[A\n",
      " 10%|▉         | 993/10000 [00:10<01:09, 129.53it/s]\u001b[A\n",
      " 10%|█         | 1007/10000 [00:10<01:10, 126.85it/s]\u001b[A\n",
      " 10%|█         | 1030/10000 [00:10<01:03, 140.88it/s]\u001b[A\n",
      " 10%|█         | 1045/10000 [00:10<01:02, 143.30it/s]\u001b[A\n",
      " 11%|█         | 1062/10000 [00:10<00:59, 150.02it/s]\u001b[A\n",
      " 11%|█         | 1081/10000 [00:10<00:58, 152.81it/s]\u001b[A\n",
      " 11%|█         | 1097/10000 [00:10<00:57, 154.44it/s]\u001b[A\n",
      " 11%|█         | 1115/10000 [00:11<00:55, 161.09it/s]\u001b[A\n",
      " 11%|█▏        | 1132/10000 [00:11<00:54, 163.54it/s]\u001b[A\n",
      " 11%|█▏        | 1149/10000 [00:11<00:53, 164.31it/s]\u001b[A\n",
      " 12%|█▏        | 1172/10000 [00:11<00:49, 177.07it/s]\u001b[A\n",
      " 12%|█▏        | 1196/10000 [00:11<00:46, 188.01it/s]\u001b[A\n",
      " 12%|█▏        | 1216/10000 [00:11<00:53, 163.00it/s]\u001b[A\n",
      " 12%|█▏        | 1234/10000 [00:11<01:01, 143.68it/s]\u001b[A\n",
      " 13%|█▎        | 1258/10000 [00:11<00:54, 159.16it/s]\u001b[A\n",
      " 13%|█▎        | 1283/10000 [00:11<00:48, 178.04it/s]\u001b[A\n",
      " 13%|█▎        | 1303/10000 [00:12<00:56, 154.90it/s]\u001b[A\n",
      " 13%|█▎        | 1321/10000 [00:12<00:58, 147.67it/s]\u001b[A\n",
      " 13%|█▎        | 1337/10000 [00:12<01:01, 141.05it/s]\u001b[A\n",
      " 14%|█▎        | 1355/10000 [00:12<01:00, 142.64it/s]\u001b[A\n",
      " 14%|█▎        | 1370/10000 [00:12<01:16, 112.90it/s]\u001b[A\n",
      " 14%|█▍        | 1392/10000 [00:12<01:05, 132.21it/s]\u001b[A\n",
      " 14%|█▍        | 1411/10000 [00:12<00:59, 144.59it/s]\u001b[A\n",
      " 14%|█▍        | 1434/10000 [00:13<00:56, 151.02it/s]\u001b[A\n",
      " 15%|█▍        | 1451/10000 [00:13<01:08, 124.50it/s]\u001b[A\n",
      " 15%|█▍        | 1467/10000 [00:13<01:05, 130.03it/s]\u001b[A\n",
      " 15%|█▍        | 1489/10000 [00:13<00:59, 144.24it/s]\u001b[A\n",
      " 15%|█▌        | 1521/10000 [00:13<00:50, 169.30it/s]\u001b[A\n",
      " 15%|█▌        | 1541/10000 [00:13<00:55, 151.62it/s]\u001b[A\n",
      " 16%|█▌        | 1563/10000 [00:13<00:51, 164.41it/s]\u001b[A\n",
      " 16%|█▌        | 1582/10000 [00:13<00:52, 159.63it/s]\u001b[A\n",
      " 16%|█▌        | 1605/10000 [00:14<00:48, 171.69it/s]\u001b[A\n",
      " 16%|█▌        | 1624/10000 [00:14<00:48, 173.69it/s]\u001b[A\n",
      " 17%|█▋        | 1656/10000 [00:14<00:41, 201.04it/s]\u001b[A\n",
      " 17%|█▋        | 1679/10000 [00:14<00:43, 192.72it/s]\u001b[A\n",
      " 17%|█▋        | 1700/10000 [00:14<00:45, 180.71it/s]\u001b[A\n",
      " 17%|█▋        | 1720/10000 [00:14<00:52, 158.72it/s]\u001b[A\n",
      " 17%|█▋        | 1743/10000 [00:14<00:48, 170.67it/s]\u001b[A\n",
      " 60%|█████▉    | 5952/10000 [00:39<00:08, 501.72it/s]\u001b[A\n",
      " 18%|█▊        | 1790/10000 [00:15<00:43, 187.49it/s]\u001b[A\n",
      " 18%|█▊        | 1811/10000 [00:15<00:43, 187.44it/s]\u001b[A\n",
      " 18%|█▊        | 1841/10000 [00:15<00:38, 210.38it/s]\u001b[A\n",
      " 19%|█▊        | 1867/10000 [00:15<00:36, 222.83it/s]\u001b[A\n",
      " 19%|█▉        | 1891/10000 [00:15<00:39, 204.26it/s]\u001b[A\n",
      " 19%|█▉        | 1913/10000 [00:15<00:41, 193.84it/s]\u001b[A\n",
      " 19%|█▉        | 1934/10000 [00:15<00:44, 182.33it/s]\u001b[A\n",
      " 20%|█▉        | 1956/10000 [00:15<00:41, 192.16it/s]\u001b[A\n",
      " 20%|█▉        | 1986/10000 [00:15<00:37, 215.21it/s]\u001b[A\n",
      " 20%|██        | 2016/10000 [00:16<00:34, 231.88it/s]\u001b[A\n",
      " 20%|██        | 2044/10000 [00:16<00:32, 243.97it/s]\u001b[A\n",
      " 21%|██        | 2073/10000 [00:16<00:31, 248.69it/s]\u001b[A\n",
      " 21%|██        | 2117/10000 [00:16<00:28, 279.42it/s]\u001b[A\n",
      " 21%|██▏       | 2147/10000 [00:16<00:29, 264.50it/s]\u001b[A\n",
      " 22%|██▏       | 2180/10000 [00:16<00:27, 280.67it/s]\u001b[A\n",
      " 22%|██▏       | 2217/10000 [00:16<00:26, 290.95it/s]\u001b[A\n"
     ]
    },
    {
     "name": "stderr",
     "output_type": "stream",
     "text": [
      " 22%|██▏       | 2248/10000 [00:16<00:31, 243.36it/s]\u001b[A\n",
      " 23%|██▎       | 2275/10000 [00:17<00:34, 224.84it/s]\u001b[A\n",
      " 23%|██▎       | 2300/10000 [00:17<00:35, 215.51it/s]\u001b[A\n",
      " 23%|██▎       | 2324/10000 [00:17<00:35, 219.25it/s]\u001b[A\n",
      " 24%|██▎       | 2351/10000 [00:17<00:33, 231.67it/s]\u001b[A\n",
      " 24%|██▍       | 2375/10000 [00:17<00:35, 214.72it/s]\u001b[A\n",
      " 24%|██▍       | 2398/10000 [00:17<00:38, 196.89it/s]\u001b[A\n",
      " 24%|██▍       | 2423/10000 [00:17<00:36, 209.41it/s]\u001b[A\n",
      " 24%|██▍       | 2447/10000 [00:17<00:35, 214.30it/s]\u001b[A\n",
      " 25%|██▍       | 2470/10000 [00:17<00:35, 209.57it/s]\u001b[A\n",
      " 25%|██▍       | 2499/10000 [00:18<00:32, 228.08it/s]\u001b[A\n",
      " 25%|██▌       | 2544/10000 [00:18<00:27, 267.17it/s]\u001b[A\n",
      " 26%|██▌       | 2585/10000 [00:18<00:27, 267.77it/s]\u001b[A\n",
      " 26%|██▌       | 2623/10000 [00:18<00:25, 289.16it/s]\u001b[A\n",
      " 27%|██▋       | 2654/10000 [00:18<00:26, 278.64it/s]\u001b[A\n",
      " 27%|██▋       | 2684/10000 [00:18<00:26, 277.34it/s]\u001b[A\n",
      " 27%|██▋       | 2715/10000 [00:18<00:25, 285.90it/s]\u001b[A\n",
      " 28%|██▊       | 2759/10000 [00:18<00:23, 312.39it/s]\u001b[A\n",
      " 28%|██▊       | 2811/10000 [00:19<00:20, 352.93it/s]\u001b[A\n",
      " 28%|██▊       | 2849/10000 [00:19<00:22, 310.99it/s]\u001b[A\n",
      " 29%|██▉       | 2883/10000 [00:19<00:23, 297.52it/s]\u001b[A\n",
      " 29%|██▉       | 2937/10000 [00:19<00:20, 343.61it/s]\u001b[A\n",
      " 30%|██▉       | 2976/10000 [00:19<00:23, 304.97it/s]\u001b[A\n",
      " 30%|███       | 3014/10000 [00:19<00:21, 321.00it/s]\u001b[A\n",
      " 30%|███       | 3049/10000 [00:19<00:21, 319.49it/s]\u001b[A\n",
      " 31%|███       | 3095/10000 [00:19<00:19, 350.90it/s]\u001b[A\n",
      " 31%|███▏      | 3133/10000 [00:19<00:19, 356.65it/s]\u001b[A\n",
      " 32%|███▏      | 3180/10000 [00:20<00:17, 383.31it/s]\u001b[A\n",
      " 32%|███▏      | 3221/10000 [00:20<00:19, 354.91it/s]\u001b[A\n",
      " 33%|███▎      | 3259/10000 [00:20<00:20, 334.13it/s]\u001b[A\n",
      " 33%|███▎      | 3296/10000 [00:20<00:20, 327.59it/s]\u001b[A\n",
      " 33%|███▎      | 3331/10000 [00:20<00:20, 333.37it/s]\u001b[A\n",
      " 34%|███▍      | 3401/10000 [00:20<00:16, 395.35it/s]\u001b[A\n",
      " 34%|███▍      | 3447/10000 [00:20<00:15, 411.76it/s]\u001b[A\n",
      " 35%|███▍      | 3493/10000 [00:20<00:17, 375.40it/s]\u001b[A\n",
      " 36%|███▌      | 3554/10000 [00:20<00:15, 423.63it/s]\u001b[A\n",
      " 36%|███▌      | 3601/10000 [00:21<00:17, 360.04it/s]\u001b[A\n",
      " 37%|███▋      | 3652/10000 [00:21<00:16, 393.95it/s]\u001b[A\n",
      " 37%|███▋      | 3696/10000 [00:21<00:16, 387.83it/s]\u001b[A\n",
      " 37%|███▋      | 3738/10000 [00:21<00:15, 392.93it/s]\u001b[A\n",
      " 38%|███▊      | 3780/10000 [00:21<00:16, 368.87it/s]\u001b[A\n",
      " 38%|███▊      | 3822/10000 [00:21<00:16, 382.61it/s]\u001b[A\n",
      " 39%|███▉      | 3880/10000 [00:21<00:14, 418.62it/s]\u001b[A\n",
      " 39%|███▉      | 3924/10000 [00:21<00:15, 390.18it/s]\u001b[A\n",
      " 40%|███▉      | 3988/10000 [00:22<00:13, 441.76it/s]\u001b[A\n",
      " 40%|████      | 4036/10000 [00:22<00:13, 430.89it/s]\u001b[A\n",
      " 41%|████      | 4082/10000 [00:22<00:18, 316.09it/s]\u001b[A\n",
      " 41%|████      | 4120/10000 [00:22<00:20, 286.73it/s]\u001b[A\n",
      " 42%|████▏     | 4175/10000 [00:22<00:17, 334.17it/s]\u001b[A\n",
      " 42%|████▏     | 4219/10000 [00:22<00:16, 359.45it/s]\u001b[A\n",
      " 43%|████▎     | 4265/10000 [00:22<00:14, 383.51it/s]\u001b[A\n",
      " 43%|████▎     | 4308/10000 [00:23<00:15, 371.67it/s]\u001b[A\n",
      " 43%|████▎     | 4349/10000 [00:23<00:15, 373.38it/s]\u001b[A\n",
      " 44%|████▍     | 4389/10000 [00:23<00:15, 357.15it/s]\u001b[A\n",
      " 44%|████▍     | 4436/10000 [00:23<00:14, 383.64it/s]\u001b[A\n",
      " 45%|████▍     | 4483/10000 [00:23<00:13, 406.02it/s]\u001b[A\n",
      " 45%|████▌     | 4528/10000 [00:23<00:13, 418.19it/s]\u001b[A\n",
      " 46%|████▌     | 4594/10000 [00:23<00:11, 469.44it/s]\u001b[A\n",
      " 46%|████▋     | 4644/10000 [00:23<00:11, 447.26it/s]\u001b[A\n",
      " 47%|████▋     | 4691/10000 [00:23<00:12, 420.29it/s]\u001b[A\n",
      " 47%|████▋     | 4735/10000 [00:24<00:13, 382.89it/s]\u001b[A\n",
      " 48%|████▊     | 4781/10000 [00:24<00:12, 403.08it/s]\u001b[A\n",
      " 48%|████▊     | 4840/10000 [00:24<00:11, 445.30it/s]\u001b[A\n",
      " 49%|████▉     | 4888/10000 [00:24<00:12, 414.63it/s]\u001b[A\n",
      " 49%|████▉     | 4941/10000 [00:24<00:11, 443.10it/s]\u001b[A\n",
      " 50%|████▉     | 4988/10000 [00:24<00:11, 441.79it/s]\u001b[A\n",
      " 50%|█████     | 5038/10000 [00:24<00:10, 457.59it/s]\u001b[A\n",
      " 51%|█████     | 5085/10000 [00:24<00:11, 417.41it/s]\u001b[A\n",
      " 51%|█████▏    | 5129/10000 [00:24<00:11, 420.89it/s]\u001b[A\n",
      " 52%|█████▏    | 5178/10000 [00:25<00:11, 437.98it/s]\u001b[A\n",
      " 52%|█████▏    | 5223/10000 [00:25<00:11, 423.76it/s]\u001b[A\n",
      " 53%|█████▎    | 5277/10000 [00:25<00:10, 451.36it/s]\u001b[A\n",
      " 53%|█████▎    | 5324/10000 [00:25<00:11, 420.29it/s]\u001b[A\n",
      " 54%|█████▎    | 5368/10000 [00:25<00:12, 383.42it/s]\u001b[A\n",
      " 54%|█████▍    | 5408/10000 [00:25<00:12, 355.29it/s]\u001b[A\n",
      " 54%|█████▍    | 5446/10000 [00:25<00:12, 361.94it/s]\u001b[A\n",
      " 55%|█████▍    | 5495/10000 [00:25<00:11, 391.77it/s]\u001b[A\n",
      " 56%|█████▌    | 5559/10000 [00:25<00:10, 443.36it/s]\u001b[A\n",
      " 56%|█████▌    | 5607/10000 [00:26<00:10, 427.11it/s]\u001b[A\n",
      " 57%|█████▋    | 5654/10000 [00:26<00:09, 437.59it/s]\u001b[A\n",
      " 57%|█████▋    | 5701/10000 [00:26<00:09, 446.66it/s]\u001b[A\n",
      " 57%|█████▋    | 5747/10000 [00:26<00:10, 409.65it/s]\u001b[A\n",
      " 58%|█████▊    | 5790/10000 [00:26<00:11, 375.74it/s]\u001b[A\n",
      " 58%|█████▊    | 5833/10000 [00:26<00:10, 389.46it/s]\u001b[A\n",
      " 59%|█████▊    | 5874/10000 [00:26<00:10, 378.02it/s]\u001b[A\n",
      " 59%|█████▉    | 5917/10000 [00:26<00:10, 390.55it/s]\u001b[A\n",
      " 60%|█████▉    | 5968/10000 [00:26<00:10, 403.12it/s]\u001b[A"
     ]
    }
   ],
   "source": [
    "(train_images, train_labels), (test_images, test_labels)=getData(num_train_samples)"
   ]
  },
  {
   "cell_type": "code",
   "execution_count": 5,
   "metadata": {},
   "outputs": [
    {
     "name": "stdout",
     "output_type": "stream",
     "text": [
      "(9000, 64, 64, 3) 9000\n",
      "(9000, 64, 64, 3) 9000\n"
     ]
    }
   ],
   "source": [
    "print(train_images.shape,len(train_labels))\n",
    "print(test_images.shape,len(test_labels))\n"
   ]
  },
  {
   "cell_type": "code",
   "execution_count": 6,
   "metadata": {},
   "outputs": [],
   "source": [
    "# Normalize pixel values to be between 0 and 1\n",
    "train_images, test_images = train_images / 255.0, test_images / 255.0"
   ]
  },
  {
   "cell_type": "code",
   "execution_count": 8,
   "metadata": {},
   "outputs": [
    {
     "data": {
      "image/png": "[encoded data removed]",
      "text/plain": [
       "<Figure size 432x288 with 100 Axes>"
      ]
     },
     "metadata": {},
     "output_type": "display_data"
    }
   ],
   "source": [
    "class_names = ['abd','bst','chst']\n",
    "\n",
    "for i in range(100):\n",
    "    plt.subplot(5,20,i+1)\n",
    "    plt.xticks([])\n",
    "    plt.yticks([])\n",
    "    plt.grid(False)\n",
    "    plt.imshow(train_images[i], cmap=plt.cm.binary)\n",
    "    # The CIFAR labels happen to be arrays, \n",
    "    # which is why you need the extra index\n",
    "    plt.xlabel(class_names[train_labels[i]])"
   ]
  },
  {
   "cell_type": "code",
   "execution_count": 9,
   "metadata": {},
   "outputs": [
    {
     "data": {
      "image/png": "[encoded data removed]",
      "text/plain": [
       "<Figure size 432x288 with 100 Axes>"
      ]
     },
     "metadata": {},
     "output_type": "display_data"
    }
   ],
   "source": [
    "for i in range(100):\n",
    "    plt.subplot(5,20,i+1)\n",
    "    plt.xticks([])\n",
    "    plt.yticks([])\n",
    "    plt.grid(False)\n",
    "    plt.imshow(test_images[i], cmap=plt.cm.binary)\n",
    "    # The CIFAR labels happen to be arrays, \n",
    "    # which is why you need the extra index\n",
    "    plt.xlabel(class_names[test_labels[i]])"
   ]
  },
  {
   "cell_type": "code",
   "execution_count": 10,
   "metadata": {},
   "outputs": [],
   "source": [
    "model = models.Sequential()\n",
    "model.add(layers.Conv2D(64, (3, 3), activation='relu', input_shape=(64, 64, 3)))\n",
    "model.add(layers.MaxPooling2D((2, 2)))\n",
    "model.add(layers.Conv2D(64, (3, 3), activation='relu'))\n",
    "model.add(layers.MaxPooling2D((2, 2)))\n",
    "model.add(layers.Conv2D(64, (3, 3), activation='relu'))\n",
    "\n",
    "model.add(layers.Flatten())\n",
    "model.add(layers.Dense(128, activation='relu'))\n",
    "model.add(layers.Dense(64, activation='relu'))\n",
    "model.add(layers.Dense(3,activation=tf.nn.softmax))"
   ]
  },
  {
   "cell_type": "code",
   "execution_count": 11,
   "metadata": {},
   "outputs": [
    {
     "name": "stdout",
     "output_type": "stream",
     "text": [
      "Model: \"sequential\"\n",
      "_________________________________________________________________\n",
      "Layer (type)                 Output Shape              Param #   \n",
      "=================================================================\n",
      "conv2d (Conv2D)              (None, 62, 62, 64)        1792      \n",
      "_________________________________________________________________\n",
      "max_pooling2d (MaxPooling2D) (None, 31, 31, 64)        0         \n",
      "_________________________________________________________________\n",
      "conv2d_1 (Conv2D)            (None, 29, 29, 64)        36928     \n",
      "_________________________________________________________________\n",
      "max_pooling2d_1 (MaxPooling2 (None, 14, 14, 64)        0         \n",
      "_________________________________________________________________\n",
      "conv2d_2 (Conv2D)            (None, 12, 12, 64)        36928     \n",
      "_________________________________________________________________\n",
      "flatten (Flatten)            (None, 9216)              0         \n",
      "_________________________________________________________________\n",
      "dense (Dense)                (None, 128)               1179776   \n",
      "_________________________________________________________________\n",
      "dense_1 (Dense)              (None, 64)                8256      \n",
      "_________________________________________________________________\n",
      "dense_2 (Dense)              (None, 3)                 195       \n",
      "=================================================================\n",
      "Total params: 1,263,875\n",
      "Trainable params: 1,263,875\n",
      "Non-trainable params: 0\n",
      "_________________________________________________________________\n"
     ]
    }
   ],
   "source": [
    "model.summary()"
   ]
  },
  {
   "cell_type": "code",
   "execution_count": 12,
   "metadata": {},
   "outputs": [
    {
     "name": "stdout",
     "output_type": "stream",
     "text": [
      "Epoch 1/3\n",
      "282/282 [==============================] - 16s 55ms/step - loss: 0.5957 - accuracy: 0.9554 - val_loss: 0.5531 - val_accuracy: 0.9991\n",
      "Epoch 2/3\n",
      "282/282 [==============================] - 13s 47ms/step - loss: 0.5617 - accuracy: 0.9900 - val_loss: 0.5575 - val_accuracy: 0.9934\n",
      "Epoch 3/3\n",
      "282/282 [==============================] - 13s 44ms/step - loss: 0.6928 - accuracy: 0.8586 - val_loss: 0.8848 - val_accuracy: 0.6667\n"
     ]
    }
   ],
   "source": [
    "model.compile(optimizer='adam',\n",
    "              loss=tf.keras.losses.SparseCategoricalCrossentropy(from_logits=True),\n",
    "              metrics=['accuracy'])\n",
    "\n",
    "history = model.fit(train_images, train_labels, epochs=3, \n",
    "                    validation_data=(test_images, test_labels))"
   ]
  },
  {
   "cell_type": "code",
   "execution_count": 13,
   "metadata": {
    "scrolled": true
   },
   "outputs": [
    {
     "name": "stdout",
     "output_type": "stream",
     "text": [
      "282/282 - 2s - loss: 0.5536 - accuracy: 0.9977\n"
     ]
    },
    {
     "data": {
      "image/png": "[encoded data removed]",
      "text/plain": [
       "<Figure size 432x288 with 1 Axes>"
      ]
     },
     "metadata": {
      "needs_background": "light"
     },
     "output_type": "display_data"
    }
   ],
   "source": [
    "plt.plot(history.history['accuracy'], label='accuracy')\n",
    "plt.plot(history.history['val_accuracy'], label = 'val_accuracy')\n",
    "plt.xlabel('Epoch')\n",
    "plt.ylabel('Accuracy')\n",
    "plt.ylim([0.5, 1])\n",
    "plt.legend(loc='lower right')\n",
    "\n",
    "test_loss, test_acc = model.evaluate(test_images,  test_labels, verbose=2)"
   ]
  },
  {
   "cell_type": "code",
   "execution_count": 12,
   "metadata": {},
   "outputs": [
    {
     "data": {
      "text/plain": [
       "{'loss': [0.6016188263893127, 0.561855673789978, 0.5582709312438965],\n",
       " 'accuracy': [0.9508888721466064, 0.9895555377006531, 0.992888867855072],\n",
       " 'val_loss': [0.5522868633270264, 0.5518770813941956, 0.5535513162612915],\n",
       " 'val_accuracy': [0.999666690826416, 0.9997777938842773, 0.9976666569709778]}"
      ]
     },
     "execution_count": 12,
     "metadata": {},
     "output_type": "execute_result"
    }
   ],
   "source": [
    "history.history"
   ]
  },
  {
   "cell_type": "markdown",
   "metadata": {},
   "source": [
    "\n"
   ]
  },
  {
   "cell_type": "code",
   "execution_count": null,
   "metadata": {},
   "outputs": [],
   "source": []
  }
 ],
 "metadata": {
  "kernelspec": {
   "display_name": "Python 3",
   "language": "python",
   "name": "python3"
  },
  "language_info": {
   "codemirror_mode": {
    "name": "ipython",
    "version": 3
   },
   "file_extension": ".py",
   "mimetype": "text/x-python",
   "name": "python",
   "nbconvert_exporter": "python",
   "pygments_lexer": "ipython3",
   "version": "3.7.6"
  }
 },
 "nbformat": 4,
 "nbformat_minor": 2
}

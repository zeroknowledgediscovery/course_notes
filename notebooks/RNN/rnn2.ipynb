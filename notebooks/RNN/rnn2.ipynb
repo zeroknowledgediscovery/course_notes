{
 "cells": [
  {
   "cell_type": "code",
   "execution_count": 58,
   "metadata": {},
   "outputs": [],
   "source": [
    "from __future__ import absolute_import, division, print_function, unicode_literals\n",
    "\n",
    "import collections\n",
    "import matplotlib.pyplot as plt\n",
    "import seaborn as sns\n",
    "\n",
    "import numpy as np\n",
    "import pandas as pd\n",
    "\n",
    "import tensorflow as tf\n",
    "from tensorflow.keras.layers import Dense, LSTM, TimeDistributed\n",
    "\n",
    "from sklearn.metrics import roc_auc_score, roc_curve, auc\n",
    "\n",
    "import matplotlib\n",
    "# matplotlib.use('Agg')\n",
    "import matplotlib.pyplot as plt\n",
    "# import collections\n",
    "\n",
    "import os\n",
    "import subprocess\n",
    "import numpy as np\n",
    "import pandas as pd\n",
    "\n",
    "import tensorflow as tf\n",
    "from tensorflow.keras.layers import Dense, LSTM, TimeDistributed\n",
    "\n",
    "from sklearn.metrics import roc_auc_score, roc_curve, auc\n",
    "\n",
    "\n",
    "def getData(meta, X_raw, tgt, future):\n",
    "\t\"\"\"\n",
    "\tLet us say that target 'tgt' is the index of a tile, \n",
    "\tso we predict for all three variables, CASE\n",
    "\t\"\"\"\n",
    "\t\n",
    "\t#AR = meta.loc[tgt, 'CASE']\n",
    "\tAR = meta.loc[tgt, 'BURGLARY-THEFT-MOTOR_VEHICLE_THEFT']\n",
    "\tPR = meta.loc[tgt, 'HOMICIDE-ASSAULT-BATTERY']\n",
    "\t\n",
    "\t#print('Arrest: {},\\nProperty: {},\\nAssault: {}.'.format(AR, PR, AS))\n",
    "\t\n",
    "\tX = X_raw[[PR]].T\n",
    "\tY = X_raw[[AR]].T\n",
    "\n",
    "\t# get train and test\n",
    "\t# Train is the first two years (2014, 2015), so of length 365 * 2 = 730\n",
    "\t# test is the last year (2016, a leap year), so of length 366\n",
    "\tX_train = X[:30 - future]\n",
    "\tY_train = Y[future: 30]\n",
    "\n",
    "\tX_test = X[30 - future: -future]\n",
    "\tY_test = Y[30:]\n",
    "\t\n",
    "\t# Reshape to fit RNN\n",
    "\t# The dimension of RNN input/output is (num_samples, length_in_time, data_dimension)\n",
    "\tX_train = X_train.reshape(1, *X_train.shape)\n",
    "\tY_train = Y_train.reshape(1, *Y_train.shape)\n",
    "\n",
    "\tX_test = X_test.reshape(1, *X_test.shape)\n",
    "\tY_test = Y_test.reshape(1, *Y_test.shape)\n",
    "\t\n",
    "\tprint('Training data: input dim = {}, output dim = {}'.format(X_train.shape, Y_train.shape))\n",
    "\tprint('Out-sample data: input dim = {}, output dim = {}'.format(X_test.shape, Y_test.shape))\n",
    "\n",
    "\treturn X_train, Y_train, X_test, Y_test\n",
    "\n",
    "\n",
    "def train(X_train, Y_train, epochs=200):\n",
    "\n",
    "\tmodel = tf.keras.Sequential()\n",
    "\n",
    "\n",
    "\t# Two LSTM layers\n",
    "\tmodel.add(LSTM(units=30, input_shape=(None, X_train.shape[-1]), return_sequences=True))\n",
    "\tmodel.add(LSTM(units=10, return_sequences=True))\n",
    "\t\n",
    "\t# One output layers\n",
    "\tmodel.add(TimeDistributed(Dense(units=1, activation='sigmoid')))\n",
    "\t\n",
    "\tmodel.compile(loss='mse', optimizer='adam')\n",
    "\n",
    "\tmodel.summary()\n",
    "\n",
    "\tmodel.fit(X_train, Y_train, epochs=epochs, batch_size=1, verbose=1)\n",
    "\t\n",
    "\treturn model\n",
    "\n",
    "\n",
    "def train_3(X_train, Y_train, epochs=200):\n",
    "\n",
    "\tmodel = tf.keras.Sequential()\n",
    "\n",
    "\t# Three LSTM layers\n",
    "\tmodel.add(LSTM(units=50, input_shape=(None, X_train.shape[-1]), return_sequences=True))\n",
    "\tmodel.add(LSTM(units=10, return_sequences=True))\n",
    "\tmodel.add(LSTM(units=10, return_sequences=True))\n",
    "\t\n",
    "\t# One output layers\n",
    "\tmodel.add(TimeDistributed(Dense(units=1, activation='sigmoid')))\n",
    "\t\n",
    "\tmodel.compile(loss='mse', optimizer='adam')\n",
    "\n",
    "\tmodel.summary()\n",
    "\n",
    "\tmodel.fit(X_train, Y_train, epochs=epochs, batch_size=1, verbose=1)\n",
    "\t\n",
    "\treturn model\n",
    "\n"
   ]
  },
  {
   "cell_type": "code",
   "execution_count": 59,
   "metadata": {
    "scrolled": false
   },
   "outputs": [
    {
     "data": {
      "text/plain": [
       "array([[0., 0., 0., ..., 0., 1., 0.],\n",
       "       [2., 0., 1., ..., 3., 0., 0.],\n",
       "       [0., 0., 0., ..., 0., 0., 0.],\n",
       "       ...,\n",
       "       [0., 0., 0., ..., 0., 0., 0.],\n",
       "       [0., 0., 0., ..., 0., 0., 0.],\n",
       "       [0., 0., 0., ..., 0., 0., 0.]])"
      ]
     },
     "execution_count": 59,
     "metadata": {},
     "output_type": "execute_result"
    }
   ],
   "source": [
    "meta = pd.read_csv('meta.csv', index_col=0)\n",
    "#meta = pd.read_csv('meta2.csv', index_col=0)\n",
    "X_raw = np.genfromtxt('CRIME-_2014-01-01_2016-12-31.csv')\n",
    "#X_raw = np.genfromtxt('../time_series_covid/data.csv')\n",
    "X_raw\n",
    "#meta.columns=['CASE','lat1','lat2','lon1','lon2']"
   ]
  },
  {
   "cell_type": "code",
   "execution_count": 60,
   "metadata": {},
   "outputs": [],
   "source": [
    "cynetTop = meta.index.values"
   ]
  },
  {
   "cell_type": "code",
   "execution_count": 61,
   "metadata": {},
   "outputs": [
    {
     "data": {
      "text/plain": [
       "(6165, 1096)"
      ]
     },
     "execution_count": 61,
     "metadata": {},
     "output_type": "execute_result"
    }
   ],
   "source": [
    "X_raw.shape"
   ]
  },
  {
   "cell_type": "markdown",
   "metadata": {},
   "source": [
    "## An example"
   ]
  },
  {
   "cell_type": "code",
   "execution_count": 62,
   "metadata": {},
   "outputs": [
    {
     "name": "stdout",
     "output_type": "stream",
     "text": [
      "Training data: input dim = (1, 20, 1), output dim = (1, 20, 1)\n",
      "Out-sample data: input dim = (1, 1066, 1), output dim = (1, 1066, 1)\n",
      "Model: \"sequential_6\"\n",
      "_________________________________________________________________\n",
      "Layer (type)                 Output Shape              Param #   \n",
      "=================================================================\n",
      "lstm_12 (LSTM)               (None, None, 50)          10400     \n",
      "_________________________________________________________________\n",
      "lstm_13 (LSTM)               (None, None, 10)          2440      \n",
      "_________________________________________________________________\n",
      "lstm_14 (LSTM)               (None, None, 10)          840       \n",
      "_________________________________________________________________\n",
      "time_distributed_6 (TimeDist (None, None, 1)           11        \n",
      "=================================================================\n",
      "Total params: 13,691\n",
      "Trainable params: 13,691\n",
      "Non-trainable params: 0\n",
      "_________________________________________________________________\n",
      "Train on 1 samples\n",
      "Epoch 1/100\n",
      "1/1 [==============================] - 3s 3s/sample - loss: 0.2500\n",
      "Epoch 2/100\n",
      "1/1 [==============================] - 0s 30ms/sample - loss: 0.2481\n",
      "Epoch 3/100\n",
      "1/1 [==============================] - 0s 30ms/sample - loss: 0.2461\n",
      "Epoch 4/100\n",
      "1/1 [==============================] - 0s 32ms/sample - loss: 0.2439\n",
      "Epoch 5/100\n",
      "1/1 [==============================] - 0s 30ms/sample - loss: 0.2417\n",
      "Epoch 6/100\n",
      "1/1 [==============================] - 0s 32ms/sample - loss: 0.2393\n",
      "Epoch 7/100\n",
      "1/1 [==============================] - 0s 32ms/sample - loss: 0.2367\n",
      "Epoch 8/100\n",
      "1/1 [==============================] - 0s 31ms/sample - loss: 0.2339\n",
      "Epoch 9/100\n",
      "1/1 [==============================] - 0s 30ms/sample - loss: 0.2310\n",
      "Epoch 10/100\n",
      "1/1 [==============================] - 0s 32ms/sample - loss: 0.2278\n",
      "Epoch 11/100\n",
      "1/1 [==============================] - 0s 30ms/sample - loss: 0.2244\n",
      "Epoch 12/100\n",
      "1/1 [==============================] - 0s 31ms/sample - loss: 0.2206\n",
      "Epoch 13/100\n",
      "1/1 [==============================] - 0s 29ms/sample - loss: 0.2166\n",
      "Epoch 14/100\n",
      "1/1 [==============================] - 0s 30ms/sample - loss: 0.2123\n",
      "Epoch 15/100\n",
      "1/1 [==============================] - 0s 34ms/sample - loss: 0.2076\n",
      "Epoch 16/100\n",
      "1/1 [==============================] - 0s 30ms/sample - loss: 0.2025\n",
      "Epoch 17/100\n",
      "1/1 [==============================] - 0s 33ms/sample - loss: 0.1971\n",
      "Epoch 18/100\n",
      "1/1 [==============================] - 0s 29ms/sample - loss: 0.1914\n",
      "Epoch 19/100\n",
      "1/1 [==============================] - 0s 30ms/sample - loss: 0.1854\n",
      "Epoch 20/100\n",
      "1/1 [==============================] - 0s 30ms/sample - loss: 0.1791\n",
      "Epoch 21/100\n",
      "1/1 [==============================] - 0s 31ms/sample - loss: 0.1728\n",
      "Epoch 22/100\n",
      "1/1 [==============================] - 0s 30ms/sample - loss: 0.1664\n",
      "Epoch 23/100\n",
      "1/1 [==============================] - 0s 30ms/sample - loss: 0.1602\n",
      "Epoch 24/100\n",
      "1/1 [==============================] - 0s 32ms/sample - loss: 0.1543\n",
      "Epoch 25/100\n",
      "1/1 [==============================] - 0s 30ms/sample - loss: 0.1487\n",
      "Epoch 26/100\n",
      "1/1 [==============================] - 0s 30ms/sample - loss: 0.1434\n",
      "Epoch 27/100\n",
      "1/1 [==============================] - 0s 32ms/sample - loss: 0.1386\n",
      "Epoch 28/100\n",
      "1/1 [==============================] - 0s 32ms/sample - loss: 0.1341\n",
      "Epoch 29/100\n",
      "1/1 [==============================] - 0s 31ms/sample - loss: 0.1300\n",
      "Epoch 30/100\n",
      "1/1 [==============================] - 0s 34ms/sample - loss: 0.1264\n",
      "Epoch 31/100\n",
      "1/1 [==============================] - 0s 33ms/sample - loss: 0.1230\n",
      "Epoch 32/100\n",
      "1/1 [==============================] - 0s 30ms/sample - loss: 0.1201\n",
      "Epoch 33/100\n",
      "1/1 [==============================] - 0s 31ms/sample - loss: 0.1174\n",
      "Epoch 34/100\n",
      "1/1 [==============================] - 0s 30ms/sample - loss: 0.1150\n",
      "Epoch 35/100\n",
      "1/1 [==============================] - 0s 31ms/sample - loss: 0.1128\n",
      "Epoch 36/100\n",
      "1/1 [==============================] - 0s 30ms/sample - loss: 0.1109\n",
      "Epoch 37/100\n",
      "1/1 [==============================] - 0s 32ms/sample - loss: 0.1091\n",
      "Epoch 38/100\n",
      "1/1 [==============================] - 0s 33ms/sample - loss: 0.1075\n",
      "Epoch 39/100\n",
      "1/1 [==============================] - 0s 29ms/sample - loss: 0.1061\n",
      "Epoch 40/100\n",
      "1/1 [==============================] - 0s 31ms/sample - loss: 0.1048\n",
      "Epoch 41/100\n",
      "1/1 [==============================] - 0s 32ms/sample - loss: 0.1037\n",
      "Epoch 42/100\n",
      "1/1 [==============================] - 0s 32ms/sample - loss: 0.1026\n",
      "Epoch 43/100\n",
      "1/1 [==============================] - 0s 35ms/sample - loss: 0.1017\n",
      "Epoch 44/100\n",
      "1/1 [==============================] - 0s 30ms/sample - loss: 0.1009\n",
      "Epoch 45/100\n",
      "1/1 [==============================] - 0s 33ms/sample - loss: 0.1001\n",
      "Epoch 46/100\n",
      "1/1 [==============================] - 0s 31ms/sample - loss: 0.0994\n",
      "Epoch 47/100\n",
      "1/1 [==============================] - 0s 30ms/sample - loss: 0.0987\n",
      "Epoch 48/100\n",
      "1/1 [==============================] - 0s 28ms/sample - loss: 0.0982\n",
      "Epoch 49/100\n",
      "1/1 [==============================] - 0s 33ms/sample - loss: 0.0976\n",
      "Epoch 50/100\n",
      "1/1 [==============================] - 0s 30ms/sample - loss: 0.0971\n",
      "Epoch 51/100\n",
      "1/1 [==============================] - 0s 33ms/sample - loss: 0.0967\n",
      "Epoch 52/100\n",
      "1/1 [==============================] - 0s 31ms/sample - loss: 0.0963\n",
      "Epoch 53/100\n",
      "1/1 [==============================] - 0s 29ms/sample - loss: 0.0959\n",
      "Epoch 54/100\n",
      "1/1 [==============================] - 0s 31ms/sample - loss: 0.0956\n",
      "Epoch 55/100\n",
      "1/1 [==============================] - 0s 30ms/sample - loss: 0.0952\n",
      "Epoch 56/100\n",
      "1/1 [==============================] - 0s 28ms/sample - loss: 0.0949\n",
      "Epoch 57/100\n",
      "1/1 [==============================] - 0s 28ms/sample - loss: 0.0947\n",
      "Epoch 58/100\n",
      "1/1 [==============================] - 0s 30ms/sample - loss: 0.0944\n",
      "Epoch 59/100\n",
      "1/1 [==============================] - 0s 28ms/sample - loss: 0.0942\n",
      "Epoch 60/100\n",
      "1/1 [==============================] - 0s 31ms/sample - loss: 0.0940\n",
      "Epoch 61/100\n",
      "1/1 [==============================] - 0s 31ms/sample - loss: 0.0938\n",
      "Epoch 62/100\n",
      "1/1 [==============================] - 0s 29ms/sample - loss: 0.0936\n",
      "Epoch 63/100\n",
      "1/1 [==============================] - 0s 41ms/sample - loss: 0.0934\n",
      "Epoch 64/100\n",
      "1/1 [==============================] - 0s 28ms/sample - loss: 0.0932\n",
      "Epoch 65/100\n",
      "1/1 [==============================] - 0s 32ms/sample - loss: 0.0931\n",
      "Epoch 66/100\n",
      "1/1 [==============================] - 0s 30ms/sample - loss: 0.0929\n",
      "Epoch 67/100\n",
      "1/1 [==============================] - 0s 31ms/sample - loss: 0.0928\n",
      "Epoch 68/100\n",
      "1/1 [==============================] - 0s 31ms/sample - loss: 0.0926\n",
      "Epoch 69/100\n",
      "1/1 [==============================] - 0s 32ms/sample - loss: 0.0925\n",
      "Epoch 70/100\n",
      "1/1 [==============================] - 0s 30ms/sample - loss: 0.0923\n",
      "Epoch 71/100\n",
      "1/1 [==============================] - 0s 30ms/sample - loss: 0.0922\n",
      "Epoch 72/100\n",
      "1/1 [==============================] - 0s 31ms/sample - loss: 0.0920\n",
      "Epoch 73/100\n",
      "1/1 [==============================] - 0s 30ms/sample - loss: 0.0919\n",
      "Epoch 74/100\n",
      "1/1 [==============================] - 0s 31ms/sample - loss: 0.0918\n",
      "Epoch 75/100\n",
      "1/1 [==============================] - 0s 30ms/sample - loss: 0.0917\n",
      "Epoch 76/100\n",
      "1/1 [==============================] - 0s 32ms/sample - loss: 0.0915\n",
      "Epoch 77/100\n",
      "1/1 [==============================] - 0s 30ms/sample - loss: 0.0914\n",
      "Epoch 78/100\n",
      "1/1 [==============================] - 0s 30ms/sample - loss: 0.0913\n",
      "Epoch 79/100\n",
      "1/1 [==============================] - 0s 33ms/sample - loss: 0.0912\n",
      "Epoch 80/100\n",
      "1/1 [==============================] - 0s 29ms/sample - loss: 0.0911\n",
      "Epoch 81/100\n",
      "1/1 [==============================] - 0s 31ms/sample - loss: 0.0909\n",
      "Epoch 82/100\n",
      "1/1 [==============================] - 0s 31ms/sample - loss: 0.0908\n",
      "Epoch 83/100\n",
      "1/1 [==============================] - 0s 32ms/sample - loss: 0.0907\n",
      "Epoch 84/100\n",
      "1/1 [==============================] - 0s 34ms/sample - loss: 0.0906\n",
      "Epoch 85/100\n",
      "1/1 [==============================] - 0s 30ms/sample - loss: 0.0905\n",
      "Epoch 86/100\n",
      "1/1 [==============================] - 0s 30ms/sample - loss: 0.0903\n",
      "Epoch 87/100\n",
      "1/1 [==============================] - 0s 29ms/sample - loss: 0.0902\n",
      "Epoch 88/100\n",
      "1/1 [==============================] - 0s 31ms/sample - loss: 0.0901\n"
     ]
    },
    {
     "name": "stdout",
     "output_type": "stream",
     "text": [
      "Epoch 89/100\n",
      "1/1 [==============================] - 0s 29ms/sample - loss: 0.0900\n",
      "Epoch 90/100\n",
      "1/1 [==============================] - 0s 32ms/sample - loss: 0.0898\n",
      "Epoch 91/100\n",
      "1/1 [==============================] - 0s 31ms/sample - loss: 0.0897\n",
      "Epoch 92/100\n",
      "1/1 [==============================] - 0s 32ms/sample - loss: 0.0896\n",
      "Epoch 93/100\n",
      "1/1 [==============================] - 0s 30ms/sample - loss: 0.0895\n",
      "Epoch 94/100\n",
      "1/1 [==============================] - 0s 31ms/sample - loss: 0.0893\n",
      "Epoch 95/100\n",
      "1/1 [==============================] - 0s 30ms/sample - loss: 0.0892\n",
      "Epoch 96/100\n",
      "1/1 [==============================] - 0s 31ms/sample - loss: 0.0891\n",
      "Epoch 97/100\n",
      "1/1 [==============================] - 0s 31ms/sample - loss: 0.0890\n",
      "Epoch 98/100\n",
      "1/1 [==============================] - 0s 30ms/sample - loss: 0.0888\n",
      "Epoch 99/100\n",
      "1/1 [==============================] - 0s 31ms/sample - loss: 0.0887\n",
      "Epoch 100/100\n",
      "1/1 [==============================] - 0s 36ms/sample - loss: 0.0886\n"
     ]
    }
   ],
   "source": [
    "center = cynetTop[0]\n",
    "tile = meta.loc[center, ['lat1', 'lat2','lon1', 'lon2']]\n",
    "    \n",
    "future = 10\n",
    "    \n",
    "X_train, Y_train, X_test, Y_test = getData(meta, X_raw, center, future)\n",
    "\n",
    "model = train_3(X_train, Y_train, epochs=100)\n",
    "prediction = model.predict(X_test)"
   ]
  },
  {
   "cell_type": "code",
   "execution_count": 63,
   "metadata": {},
   "outputs": [],
   "source": [
    "figTitle = '#'.join(map(str, tile.values)) + '_{}'.format(future)\n",
    "dfName = figTitle + '.rnnres'"
   ]
  },
  {
   "cell_type": "code",
   "execution_count": 64,
   "metadata": {},
   "outputs": [],
   "source": [
    "Y_test=np.squeeze(Y_test)\n",
    "prediction=np.squeeze(prediction)"
   ]
  },
  {
   "cell_type": "code",
   "execution_count": 65,
   "metadata": {},
   "outputs": [
    {
     "data": {
      "text/plain": [
       "array([[1.        , 0.12131079],\n",
       "       [0.12131079, 1.        ]])"
      ]
     },
     "execution_count": 65,
     "metadata": {},
     "output_type": "execute_result"
    }
   ],
   "source": [
    "from sklearn.metrics import roc_auc_score\n",
    "np.corrcoef(Y_test, prediction)"
   ]
  },
  {
   "cell_type": "code",
   "execution_count": 66,
   "metadata": {},
   "outputs": [
    {
     "data": {
      "text/plain": [
       "array([0., 0., 2., ..., 0., 0., 0.])"
      ]
     },
     "execution_count": 66,
     "metadata": {},
     "output_type": "execute_result"
    }
   ],
   "source": [
    "Y_test"
   ]
  },
  {
   "cell_type": "code",
   "execution_count": 67,
   "metadata": {},
   "outputs": [
    {
     "data": {
      "text/plain": [
       "array([0.46160716, 0.41556615, 0.33804274, ..., 0.10946661, 0.10946659,\n",
       "       0.10946657], dtype=float32)"
      ]
     },
     "execution_count": 67,
     "metadata": {},
     "output_type": "execute_result"
    }
   ],
   "source": [
    "prediction"
   ]
  },
  {
   "cell_type": "code",
   "execution_count": null,
   "metadata": {},
   "outputs": [],
   "source": []
  },
  {
   "cell_type": "code",
   "execution_count": null,
   "metadata": {},
   "outputs": [],
   "source": []
  },
  {
   "cell_type": "code",
   "execution_count": null,
   "metadata": {},
   "outputs": [],
   "source": []
  }
 ],
 "metadata": {
  "kernelspec": {
   "display_name": "Python 2",
   "language": "python",
   "name": "python2"
  },
  "language_info": {
   "codemirror_mode": {
    "name": "ipython",
    "version": 3
   },
   "file_extension": ".py",
   "mimetype": "text/x-python",
   "name": "python",
   "nbconvert_exporter": "python",
   "pygments_lexer": "ipython3",
   "version": "3.7.5"
  }
 },
 "nbformat": 4,
 "nbformat_minor": 2
}

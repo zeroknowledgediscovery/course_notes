{
 "cells": [
  {
   "cell_type": "code",
   "execution_count": 1,
   "metadata": {},
   "outputs": [],
   "source": [
    "from __future__ import absolute_import, division, print_function, unicode_literals\n",
    "\n",
    "import collections\n",
    "import matplotlib.pyplot as plt\n",
    "import seaborn as sns\n",
    "\n",
    "import numpy as np\n",
    "import pandas as pd\n",
    "\n",
    "import tensorflow as tf\n",
    "from tensorflow.keras.layers import Dense, LSTM, TimeDistributed\n",
    "\n",
    "from sklearn.metrics import roc_auc_score, roc_curve, auc\n",
    "\n",
    "import matplotlib\n",
    "# matplotlib.use('Agg')\n",
    "import matplotlib.pyplot as plt\n",
    "# import collections\n",
    "\n",
    "import os\n",
    "import subprocess\n",
    "import numpy as np\n",
    "import pandas as pd\n",
    "\n",
    "import tensorflow as tf\n",
    "from tensorflow.keras.layers import Dense, LSTM, TimeDistributed\n",
    "\n",
    "from sklearn.metrics import roc_auc_score, roc_curve, auc\n",
    "\n",
    "\n",
    "def getData(meta, X_raw, tgt, future):\n",
    "\t\"\"\"\n",
    "\tLet us say that target 'tgt' is the index of a tile, \n",
    "\tso we predict for all three variables, CASE\n",
    "\t\"\"\"\n",
    "\t\n",
    "\tAR = meta.loc[tgt, 'CASE']\n",
    "\t#PR = meta.loc[tgt, 'BURGLARY-THEFT-MOTOR_VEHICLE_THEFT']\n",
    "\t#AS = meta.loc[tgt, 'HOMICIDE-ASSAULT-BATTERY']\n",
    "\t\n",
    "\t#print('Arrest: {},\\nProperty: {},\\nAssault: {}.'.format(AR, PR, AS))\n",
    "\t\n",
    "\tX = X_raw.T\n",
    "\tY = X_raw[[AR]].T\n",
    "\n",
    "\t# get train and test\n",
    "\t# Train is the first two years (2014, 2015), so of length 365 * 2 = 730\n",
    "\t# test is the last year (2016, a leap year), so of length 366\n",
    "\tX_train = X[:30 - future]\n",
    "\tY_train = Y[future: 30]\n",
    "\n",
    "\tX_test = X[30 - future: -future]\n",
    "\tY_test = Y[30:]\n",
    "\t\n",
    "\t# Reshape to fit RNN\n",
    "\t# The dimension of RNN input/output is (num_samples, length_in_time, data_dimension)\n",
    "\tX_train = X_train.reshape(1, *X_train.shape)\n",
    "\tY_train = Y_train.reshape(1, *Y_train.shape)\n",
    "\n",
    "\tX_test = X_test.reshape(1, *X_test.shape)\n",
    "\tY_test = Y_test.reshape(1, *Y_test.shape)\n",
    "\t\n",
    "\tprint('Training data: input dim = {}, output dim = {}'.format(X_train.shape, Y_train.shape))\n",
    "\tprint('Out-sample data: input dim = {}, output dim = {}'.format(X_test.shape, Y_test.shape))\n",
    "\n",
    "\treturn X_train, Y_train, X_test, Y_test\n",
    "\n",
    "\n",
    "def train(X_train, Y_train, epochs=200):\n",
    "\n",
    "\tmodel = tf.keras.Sequential()\n",
    "\n",
    "\t# Don't use unless you are sure test length is the same\n",
    "\t# as the train length, which is not the case for us\n",
    "\t# model.add(tf.keras.Input(X_train.shape[1:]))  \n",
    "\n",
    "\t# Two LSTM layers\n",
    "\tmodel.add(LSTM(units=30, input_shape=(None, X_train.shape[-1]), return_sequences=True))\n",
    "\tmodel.add(LSTM(units=10, return_sequences=True))\n",
    "\t\n",
    "\t# One output layers\n",
    "\tmodel.add(TimeDistributed(Dense(units=1, activation='sigmoid')))\n",
    "\t\n",
    "\tmodel.compile(loss='mse', optimizer='adam')\n",
    "\n",
    "\tmodel.summary()\n",
    "\n",
    "\tmodel.fit(X_train, Y_train, epochs=epochs, batch_size=1, verbose=1)\n",
    "\t\n",
    "\treturn model\n",
    "\n",
    "\n",
    "def train_3(X_train, Y_train, epochs=200):\n",
    "\n",
    "\tmodel = tf.keras.Sequential()\n",
    "\n",
    "\t# Don't use unless you are sure test length is the same\n",
    "\t# as the train length, which is not the case for us\n",
    "\t# model.add(tf.keras.Input(X_train.shape[1:]))  \n",
    "\n",
    "\t# Two LSTM layers\n",
    "\tmodel.add(LSTM(units=50, input_shape=(None, X_train.shape[-1]), return_sequences=True))\n",
    "\tmodel.add(LSTM(units=10, return_sequences=True))\n",
    "\tmodel.add(LSTM(units=10, return_sequences=True))\n",
    "\t\n",
    "\t# One output layers\n",
    "\tmodel.add(TimeDistributed(Dense(units=1, activation='sigmoid')))\n",
    "\t\n",
    "\tmodel.compile(loss='mse', optimizer='adam')\n",
    "\n",
    "\tmodel.summary()\n",
    "\n",
    "\tmodel.fit(X_train, Y_train, epochs=epochs, batch_size=1, verbose=1)\n",
    "\t\n",
    "\treturn model\n",
    "\n"
   ]
  },
  {
   "cell_type": "code",
   "execution_count": 12,
   "metadata": {
    "scrolled": false
   },
   "outputs": [],
   "source": [
    "#meta = pd.read_csv('meta.csv', index_col=0)\n",
    "meta = pd.read_csv('meta2.csv', index_col=0)\n",
    "#X_raw = np.genfromtxt('CRIME-_2014-01-01_2016-12-31.csv')\n",
    "X_raw = np.genfromtxt('../time_series_covid/data.csv')\n",
    "meta\n",
    "meta.columns=['CASE','lat1','lat2','lon1','lon2']"
   ]
  },
  {
   "cell_type": "code",
   "execution_count": 13,
   "metadata": {
    "scrolled": false
   },
   "outputs": [
    {
     "data": {
      "text/html": [
       "<div>\n",
       "<style scoped>\n",
       "    .dataframe tbody tr th:only-of-type {\n",
       "        vertical-align: middle;\n",
       "    }\n",
       "\n",
       "    .dataframe tbody tr th {\n",
       "        vertical-align: top;\n",
       "    }\n",
       "\n",
       "    .dataframe thead th {\n",
       "        text-align: right;\n",
       "    }\n",
       "</style>\n",
       "<table border=\"1\" class=\"dataframe\">\n",
       "  <thead>\n",
       "    <tr style=\"text-align: right;\">\n",
       "      <th></th>\n",
       "      <th>CASE</th>\n",
       "      <th>lat1</th>\n",
       "      <th>lat2</th>\n",
       "      <th>lon1</th>\n",
       "      <th>lon2</th>\n",
       "    </tr>\n",
       "  </thead>\n",
       "  <tbody>\n",
       "    <tr>\n",
       "      <th>31.82571#117.2264#CASE</th>\n",
       "      <td>1</td>\n",
       "      <td>31.82571</td>\n",
       "      <td>31.82571</td>\n",
       "      <td>117.2264</td>\n",
       "      <td>117.2264</td>\n",
       "    </tr>\n",
       "    <tr>\n",
       "      <th>40.18238#116.4142#CASE</th>\n",
       "      <td>2</td>\n",
       "      <td>40.18238</td>\n",
       "      <td>40.18238</td>\n",
       "      <td>116.4142</td>\n",
       "      <td>116.4142</td>\n",
       "    </tr>\n",
       "    <tr>\n",
       "      <th>30.05718#107.874#CASE</th>\n",
       "      <td>3</td>\n",
       "      <td>30.05718</td>\n",
       "      <td>30.05718</td>\n",
       "      <td>107.8740</td>\n",
       "      <td>107.8740</td>\n",
       "    </tr>\n",
       "    <tr>\n",
       "      <th>26.07783#117.9895#CASE</th>\n",
       "      <td>4</td>\n",
       "      <td>26.07783</td>\n",
       "      <td>26.07783</td>\n",
       "      <td>117.9895</td>\n",
       "      <td>117.9895</td>\n",
       "    </tr>\n",
       "    <tr>\n",
       "      <th>36.0611#103.8343#CASE</th>\n",
       "      <td>5</td>\n",
       "      <td>36.06110</td>\n",
       "      <td>36.06110</td>\n",
       "      <td>103.8343</td>\n",
       "      <td>103.8343</td>\n",
       "    </tr>\n",
       "    <tr>\n",
       "      <th>...</th>\n",
       "      <td>...</td>\n",
       "      <td>...</td>\n",
       "      <td>...</td>\n",
       "      <td>...</td>\n",
       "      <td>...</td>\n",
       "    </tr>\n",
       "    <tr>\n",
       "      <th>50.5039#4.4699#CASE</th>\n",
       "      <td>70</td>\n",
       "      <td>50.50390</td>\n",
       "      <td>50.50390</td>\n",
       "      <td>4.4699</td>\n",
       "      <td>4.4699</td>\n",
       "    </tr>\n",
       "    <tr>\n",
       "      <th>43.0731#-89.4012#CASE</th>\n",
       "      <td>71</td>\n",
       "      <td>43.07310</td>\n",
       "      <td>43.07310</td>\n",
       "      <td>-89.4012</td>\n",
       "      <td>-89.4012</td>\n",
       "    </tr>\n",
       "    <tr>\n",
       "      <th>35.4437#129.638#CASE</th>\n",
       "      <td>72</td>\n",
       "      <td>35.44370</td>\n",
       "      <td>35.44370</td>\n",
       "      <td>129.6380</td>\n",
       "      <td>129.6380</td>\n",
       "    </tr>\n",
       "    <tr>\n",
       "      <th>32.7157#-117.1611#CASE</th>\n",
       "      <td>73</td>\n",
       "      <td>32.71570</td>\n",
       "      <td>32.71570</td>\n",
       "      <td>-117.1611</td>\n",
       "      <td>-117.1611</td>\n",
       "    </tr>\n",
       "    <tr>\n",
       "      <th>29.4241#-98.4936#CASE</th>\n",
       "      <td>74</td>\n",
       "      <td>29.42410</td>\n",
       "      <td>29.42410</td>\n",
       "      <td>-98.4936</td>\n",
       "      <td>-98.4936</td>\n",
       "    </tr>\n",
       "  </tbody>\n",
       "</table>\n",
       "<p>74 rows × 5 columns</p>\n",
       "</div>"
      ],
      "text/plain": [
       "                        CASE      lat1      lat2      lon1      lon2\n",
       "31.82571#117.2264#CASE     1  31.82571  31.82571  117.2264  117.2264\n",
       "40.18238#116.4142#CASE     2  40.18238  40.18238  116.4142  116.4142\n",
       "30.05718#107.874#CASE      3  30.05718  30.05718  107.8740  107.8740\n",
       "26.07783#117.9895#CASE     4  26.07783  26.07783  117.9895  117.9895\n",
       "36.0611#103.8343#CASE      5  36.06110  36.06110  103.8343  103.8343\n",
       "...                      ...       ...       ...       ...       ...\n",
       "50.5039#4.4699#CASE       70  50.50390  50.50390    4.4699    4.4699\n",
       "43.0731#-89.4012#CASE     71  43.07310  43.07310  -89.4012  -89.4012\n",
       "35.4437#129.638#CASE      72  35.44370  35.44370  129.6380  129.6380\n",
       "32.7157#-117.1611#CASE    73  32.71570  32.71570 -117.1611 -117.1611\n",
       "29.4241#-98.4936#CASE     74  29.42410  29.42410  -98.4936  -98.4936\n",
       "\n",
       "[74 rows x 5 columns]"
      ]
     },
     "execution_count": 13,
     "metadata": {},
     "output_type": "execute_result"
    }
   ],
   "source": [
    "meta"
   ]
  },
  {
   "cell_type": "code",
   "execution_count": 14,
   "metadata": {},
   "outputs": [],
   "source": [
    "cynetTop = meta.index.values"
   ]
  },
  {
   "cell_type": "code",
   "execution_count": 15,
   "metadata": {},
   "outputs": [
    {
     "data": {
      "text/plain": [
       "(74, 45)"
      ]
     },
     "execution_count": 15,
     "metadata": {},
     "output_type": "execute_result"
    }
   ],
   "source": [
    "X_raw.shape"
   ]
  },
  {
   "cell_type": "markdown",
   "metadata": {},
   "source": [
    "## An example"
   ]
  },
  {
   "cell_type": "code",
   "execution_count": 16,
   "metadata": {},
   "outputs": [
    {
     "name": "stdout",
     "output_type": "stream",
     "text": [
      "Training data: input dim = (1, 28, 74), output dim = (1, 28, 1)\n",
      "Out-sample data: input dim = (1, 15, 74), output dim = (1, 15, 1)\n",
      "WARNING:tensorflow:From /home/ishanu/.local/lib/python3.7/site-packages/tensorflow_core/python/ops/resource_variable_ops.py:1630: calling BaseResourceVariable.__init__ (from tensorflow.python.ops.resource_variable_ops) with constraint is deprecated and will be removed in a future version.\n",
      "Instructions for updating:\n",
      "If using Keras pass *_constraint arguments to layers.\n",
      "Model: \"sequential\"\n",
      "_________________________________________________________________\n",
      "Layer (type)                 Output Shape              Param #   \n",
      "=================================================================\n",
      "lstm (LSTM)                  (None, None, 30)          12600     \n",
      "_________________________________________________________________\n",
      "lstm_1 (LSTM)                (None, None, 10)          1640      \n",
      "_________________________________________________________________\n",
      "time_distributed (TimeDistri (None, None, 1)           11        \n",
      "=================================================================\n",
      "Total params: 14,251\n",
      "Trainable params: 14,251\n",
      "Non-trainable params: 0\n",
      "_________________________________________________________________\n",
      "WARNING:tensorflow:From /home/ishanu/.local/lib/python3.7/site-packages/tensorflow_core/python/ops/math_grad.py:1424: where (from tensorflow.python.ops.array_ops) is deprecated and will be removed in a future version.\n",
      "Instructions for updating:\n",
      "Use tf.where in 2.0, which has the same broadcast rule as np.where\n",
      "Train on 1 samples\n",
      "Epoch 1/20\n"
     ]
    },
    {
     "name": "stderr",
     "output_type": "stream",
     "text": [
      "2023-03-01 10:34:30.880924: I tensorflow/core/platform/profile_utils/cpu_utils.cc:94] CPU Frequency: 3402225000 Hz\n",
      "2023-03-01 10:34:30.881519: I tensorflow/compiler/xla/service/service.cc:168] XLA service 0x55fdce330660 initialized for platform Host (this does not guarantee that XLA will be used). Devices:\n",
      "2023-03-01 10:34:30.881541: I tensorflow/compiler/xla/service/service.cc:176]   StreamExecutor device (0): Host, Default Version\n"
     ]
    },
    {
     "name": "stdout",
     "output_type": "stream",
     "text": [
      "1/1 [==============================] - 1s 1s/sample - loss: 22159.0938\n",
      "Epoch 2/20\n",
      "1/1 [==============================] - 0s 32ms/sample - loss: 22156.9160\n",
      "Epoch 3/20\n",
      "1/1 [==============================] - 0s 31ms/sample - loss: 22154.8750\n",
      "Epoch 4/20\n",
      "1/1 [==============================] - 0s 33ms/sample - loss: 22152.9590\n",
      "Epoch 5/20\n",
      "1/1 [==============================] - 0s 30ms/sample - loss: 22151.1738\n",
      "Epoch 6/20\n",
      "1/1 [==============================] - 0s 30ms/sample - loss: 22149.4199\n",
      "Epoch 7/20\n",
      "1/1 [==============================] - 0s 31ms/sample - loss: 22147.6875\n",
      "Epoch 8/20\n",
      "1/1 [==============================] - 0s 30ms/sample - loss: 22145.9824\n",
      "Epoch 9/20\n",
      "1/1 [==============================] - 0s 30ms/sample - loss: 22144.3125\n",
      "Epoch 10/20\n",
      "1/1 [==============================] - 0s 29ms/sample - loss: 22142.6738\n",
      "Epoch 11/20\n",
      "1/1 [==============================] - 0s 30ms/sample - loss: 22141.0723\n",
      "Epoch 12/20\n",
      "1/1 [==============================] - 0s 31ms/sample - loss: 22139.5020\n",
      "Epoch 13/20\n",
      "1/1 [==============================] - 0s 30ms/sample - loss: 22137.9668\n",
      "Epoch 14/20\n",
      "1/1 [==============================] - 0s 30ms/sample - loss: 22136.4648\n",
      "Epoch 15/20\n",
      "1/1 [==============================] - 0s 31ms/sample - loss: 22134.9902\n",
      "Epoch 16/20\n",
      "1/1 [==============================] - 0s 30ms/sample - loss: 22133.5586\n",
      "Epoch 17/20\n",
      "1/1 [==============================] - 0s 31ms/sample - loss: 22132.1562\n",
      "Epoch 18/20\n",
      "1/1 [==============================] - 0s 31ms/sample - loss: 22130.7910\n",
      "Epoch 19/20\n",
      "1/1 [==============================] - 0s 30ms/sample - loss: 22129.4551\n",
      "Epoch 20/20\n",
      "1/1 [==============================] - 0s 30ms/sample - loss: 22128.1562\n"
     ]
    }
   ],
   "source": [
    "center = cynetTop[0]\n",
    "tile = meta.loc[center, ['lat1', 'lat2','lon1', 'lon2']]\n",
    "    \n",
    "future = 2\n",
    "    \n",
    "X_train, Y_train, X_test, Y_test = getData(meta, X_raw, center, future)\n",
    "\n",
    "model = train(X_train, Y_train, epochs=20)\n",
    "prediction = model.predict(X_test)"
   ]
  },
  {
   "cell_type": "code",
   "execution_count": 17,
   "metadata": {},
   "outputs": [],
   "source": [
    "figTitle = '#'.join(map(str, tile.values)) + '_{}'.format(future)\n",
    "dfName = figTitle + '.rnnres'"
   ]
  },
  {
   "cell_type": "code",
   "execution_count": 18,
   "metadata": {},
   "outputs": [],
   "source": [
    "Y_test=np.squeeze(Y_test)\n",
    "prediction=np.squeeze(prediction)"
   ]
  },
  {
   "cell_type": "code",
   "execution_count": 19,
   "metadata": {},
   "outputs": [
    {
     "data": {
      "text/plain": [
       "array([[1.        , 0.85873627],\n",
       "       [0.85873627, 1.        ]])"
      ]
     },
     "execution_count": 19,
     "metadata": {},
     "output_type": "execute_result"
    }
   ],
   "source": [
    "from sklearn.metrics import roc_auc_score\n",
    "np.corrcoef(Y_test, prediction)"
   ]
  },
  {
   "cell_type": "code",
   "execution_count": 20,
   "metadata": {},
   "outputs": [
    {
     "data": {
      "text/plain": [
       "array([297., 315., 315., 326., 326., 337., 337., 337., 342., 342., 352.,\n",
       "       366., 366., 366., 372.])"
      ]
     },
     "execution_count": 20,
     "metadata": {},
     "output_type": "execute_result"
    }
   ],
   "source": [
    "Y_test"
   ]
  },
  {
   "cell_type": "code",
   "execution_count": 21,
   "metadata": {},
   "outputs": [
    {
     "data": {
      "text/plain": [
       "array([0.5908483 , 0.661235  , 0.7102144 , 0.74272525, 0.7641506 ,\n",
       "       0.77836454, 0.78790796, 0.79440975, 0.7989105 , 0.8020781 ,\n",
       "       0.80434483, 0.80599326, 0.80721074, 0.8081228 , 0.8088152 ],\n",
       "      dtype=float32)"
      ]
     },
     "execution_count": 21,
     "metadata": {},
     "output_type": "execute_result"
    }
   ],
   "source": [
    "prediction"
   ]
  },
  {
   "cell_type": "code",
   "execution_count": null,
   "metadata": {},
   "outputs": [],
   "source": []
  },
  {
   "cell_type": "code",
   "execution_count": null,
   "metadata": {},
   "outputs": [],
   "source": []
  },
  {
   "cell_type": "code",
   "execution_count": null,
   "metadata": {},
   "outputs": [],
   "source": []
  }
 ],
 "metadata": {
  "kernelspec": {
   "display_name": "Python 2",
   "language": "python",
   "name": "python2"
  },
  "language_info": {
   "codemirror_mode": {
    "name": "ipython",
    "version": 3
   },
   "file_extension": ".py",
   "mimetype": "text/x-python",
   "name": "python",
   "nbconvert_exporter": "python",
   "pygments_lexer": "ipython3",
   "version": "3.7.5"
  }
 },
 "nbformat": 4,
 "nbformat_minor": 2
}

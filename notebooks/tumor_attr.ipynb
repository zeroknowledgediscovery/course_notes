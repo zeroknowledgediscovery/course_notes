{
 "cells": [
  {
   "cell_type": "code",
   "execution_count": 1,
   "metadata": {},
   "outputs": [],
   "source": [
    "import pandas as pd\n",
    "import numpy as np"
   ]
  },
  {
   "cell_type": "code",
   "execution_count": 2,
   "metadata": {},
   "outputs": [],
   "source": [
    "df=pd.read_csv('../datasets/tumor_attributes/primary-tumor.data',header=None, keep_default_na=False, na_values=['?'])\n",
    "#df=df.replace('?',np.nan)\n",
    "df=df.fillna(0)"
   ]
  },
  {
   "cell_type": "code",
   "execution_count": null,
   "metadata": {},
   "outputs": [],
   "source": [
    "df_=df[df.loc[:,0].isin([1,4])]\n",
    "\n",
    "X=df.loc[:,1:].values.astype(int)\n",
    "y=df.loc[:,0].values\n",
    "\n",
    "X_=df_.loc[:,1:].values.astype(int)\n",
    "y_=df_.loc[:,0].values\n",
    "\n"
   ]
  },
  {
   "cell_type": "code",
   "execution_count": null,
   "metadata": {},
   "outputs": [],
   "source": [
    "X"
   ]
  },
  {
   "cell_type": "code",
   "execution_count": null,
   "metadata": {},
   "outputs": [],
   "source": [
    "y"
   ]
  },
  {
   "cell_type": "code",
   "execution_count": null,
   "metadata": {},
   "outputs": [],
   "source": [
    "from sklearn.tree import DecisionTreeClassifier\n",
    "from sklearn.ensemble import RandomForestClassifier\n",
    "from sklearn.ensemble import ExtraTreesClassifier\n",
    "from sklearn.ensemble import AdaBoostClassifier\n",
    "from sklearn.ensemble import GradientBoostingClassifier\n",
    "from sklearn import metrics\n",
    "from sklearn.model_selection import train_test_split\n",
    "from sklearn.metrics import accuracy_score\n",
    "clfd=DecisionTreeClassifier(max_depth=None, min_samples_split=2,class_weight='balanced')\n",
    "X_train, X_test, y_train, y_test = train_test_split(X, y, test_size=.5)\n",
    "clfd.fit(X_train,y_train)\n",
    "y_pred=clfd.predict(X_test)\n",
    "print('DEC: ',accuracy_score(y_test, y_pred, normalize=True))\n",
    "\n",
    "clf=RandomForestClassifier(max_depth=None, min_samples_split=2,class_weight='balanced',n_estimators=500)\n",
    "X_train, X_test, y_train, y_test = train_test_split(X, y, test_size=.5)\n",
    "clf.fit(X_train,y_train)\n",
    "y_pred=clf.predict(X_test)\n",
    "print('RF : ',accuracy_score(y_test, y_pred, normalize=True))\n",
    "\n",
    "\n",
    "clf=ExtraTreesClassifier(max_depth=None, min_samples_split=2,class_weight='balanced',n_estimators=500)\n",
    "X_train, X_test, y_train, y_test = train_test_split(X, y, test_size=.5)\n",
    "clf.fit(X_train,y_train)\n",
    "y_pred=clf.predict(X_test)\n",
    "print('EXT: ',accuracy_score(y_test, y_pred, normalize=True))\n",
    "\n",
    "clf=AdaBoostClassifier(n_estimators=500)\n",
    "X_train, X_test, y_train, y_test = train_test_split(X, y, test_size=.5)\n",
    "clf.fit(X_train,y_train)\n",
    "y_pred=clf.predict(X_test)\n",
    "print('ADA: ',accuracy_score(y_test, y_pred, normalize=True))\n",
    "\n",
    "clf=GradientBoostingClassifier(max_depth=None, n_estimators=500)\n",
    "X_train, X_test, y_train, y_test = train_test_split(X, y, test_size=.5)\n",
    "clf.fit(X_train,y_train)\n",
    "y_pred=clf.predict(X_test)\n",
    "print('GBM: ',accuracy_score(y_test, y_pred, normalize=True))\n"
   ]
  },
  {
   "cell_type": "code",
   "execution_count": null,
   "metadata": {},
   "outputs": [],
   "source": [
    "from sklearn.tree import DecisionTreeClassifier\n",
    "from sklearn import metrics\n",
    "from sklearn.model_selection import train_test_split\n",
    "from sklearn.metrics import accuracy_score\n",
    "\n",
    "M=2\n",
    "\n",
    "clfd=DecisionTreeClassifier(max_depth=M, min_samples_split=2,class_weight='balanced')\n",
    "X_train, X_test, y_train, y_test = train_test_split(X, y, test_size=.5)\n",
    "\n",
    "\n",
    "clfd.fit(X_train,y_train)\n",
    "y_pred=clfd.predict(X_test)\n",
    "print('DEC: ',accuracy_score(y_test, y_pred, normalize=True))\n"
   ]
  },
  {
   "cell_type": "code",
   "execution_count": null,
   "metadata": {},
   "outputs": [],
   "source": [
    "from sklearn.tree import DecisionTreeClassifier\n",
    "from sklearn import metrics\n",
    "from sklearn.model_selection import train_test_split\n",
    "from sklearn.metrics import accuracy_score\n",
    "\n",
    "M=3\n",
    "\n",
    "clfd_=DecisionTreeClassifier(max_depth=M, min_samples_split=2,class_weight='balanced')\n",
    "X_train_, X_test_, y_train_, y_test_ = train_test_split(X_, y_, test_size=.5)\n",
    "\n",
    "\n",
    "clfd_.fit(X_train_,y_train_)\n",
    "y_pred_=clfd_.predict(X_test_)\n",
    "print('DEC: ',accuracy_score(y_test_, y_pred_, normalize=True))\n"
   ]
  },
  {
   "cell_type": "code",
   "execution_count": null,
   "metadata": {},
   "outputs": [],
   "source": [
    "X_.shape"
   ]
  },
  {
   "cell_type": "code",
   "execution_count": null,
   "metadata": {},
   "outputs": [],
   "source": [
    "X_test_.shape"
   ]
  },
  {
   "cell_type": "code",
   "execution_count": null,
   "metadata": {},
   "outputs": [],
   "source": [
    "'''\n",
    "    class: lung, head & neck, esophasus, thyroid, stomach, duoden & sm.int,\n",
    "              colon, rectum, anus, salivary glands, pancreas, gallblader,\n",
    "              liver, kidney, bladder, testis, prostate, ovary, corpus uteri, \n",
    "              cervix uteri, vagina, breast\n",
    "    2. age:   <30, 30-59, >=60\n",
    "    3. sex:   male, female\n",
    "    4. histologic-type: epidermoid, adeno, anaplastic\n",
    "    5. degree-of-diffe: well, fairly, poorly\n",
    "    6. bone: yes, no\n",
    "    7. bone-marrow: yes, no\n",
    "    8. lung: yes, no\n",
    "    9. pleura: yes, no\n",
    "   10. peritoneum: yes, no\n",
    "   11. liver: yes, no\n",
    "   12. brain: yes, no\n",
    "   13. skin: yes, no\n",
    "   14. neck: yes, no\n",
    "   15. supraclavicular: yes, no\n",
    "   16. axillar: yes, no\n",
    "   17. mediastinum: yes, no\n",
    "   18. abdominal: yes, no\n",
    "'''\n",
    "\n",
    "classnames=['lung, head & neck', 'esophasus', 'thyroid', 'stomach', 'duoden & sm.int',\n",
    "              'colon', 'rectum', 'anus', 'salivary glands', 'pancreas', 'gallblader',\n",
    "              'liver', 'kidney', 'bladder', 'testis', 'prostate', 'ovary', 'corpus uteri', \n",
    "              'cervix uteri', 'vagina', 'breast']\n",
    "featurenames=['age','sex','histology','differentiation','bone','bone marrow','lung','pleura',\n",
    "              'peritoeum','liver','brain','skin','neck','supraclavicular','axillar','mediastinum','abdominal']\n",
    "\n",
    "\n",
    "classnames_=classnames[:4]\n",
    "print(len(featurenames),len(classnames),len(classnames_))"
   ]
  },
  {
   "cell_type": "code",
   "execution_count": null,
   "metadata": {},
   "outputs": [],
   "source": [
    "from sklearn.tree import export_graphviz\n",
    "export_graphviz(clfd_, out_file='tree.dot', max_depth=M,\n",
    "                        feature_names = featurenames,\n",
    "                        class_names = classnames_,\n",
    "                        rounded = True, proportion = True, \n",
    "                        precision = 2, filled = True)\n",
    "from subprocess import call\n",
    "call(['dot', '-Tpng', 'tree.dot', '-o', 'tree'+str(M)+'.png', '-Gdpi=600'])"
   ]
  },
  {
   "cell_type": "code",
   "execution_count": null,
   "metadata": {},
   "outputs": [],
   "source": [
    "from IPython.display import Image\n",
    "Image(filename = 'tree'+str(M)+'.png', width=900, unconfined=True) "
   ]
  },
  {
   "cell_type": "code",
   "execution_count": 18,
   "metadata": {},
   "outputs": [],
   "source": [
    "from sklearn.tree import DecisionTreeClassifier\n",
    "from sklearn import metrics\n",
    "from sklearn.model_selection import train_test_split\n",
    "from sklearn.metrics import accuracy_score\n",
    "import numpy as np\n",
    "import pylab as plt"
   ]
  },
  {
   "cell_type": "code",
   "execution_count": 31,
   "metadata": {},
   "outputs": [
    {
     "data": {
      "text/plain": [
       "<matplotlib.axes._subplots.AxesSubplot at 0x7fea30cde5f8>"
      ]
     },
     "execution_count": 31,
     "metadata": {},
     "output_type": "execute_result"
    },
    {
     "data": {
      "image/png": "[encoded data removed]",
      "text/plain": [
       "<Figure size 432x288 with 1 Axes>"
      ]
     },
     "metadata": {
      "needs_background": "light"
     },
     "output_type": "display_data"
    }
   ],
   "source": [
    "Result=[]\n",
    "C=np.arange(1,23)\n",
    "df_=df[df.loc[:,0].isin(C)]\n",
    "\n",
    "X_=df_.loc[:,1:].values.astype(int)\n",
    "y_=df_.loc[:,0].values\n",
    "\n",
    "for M in np.arange(2,15):\n",
    "    X_train_, X_test_, y_train_, y_test_ = train_test_split(X_, y_, test_size=.5)\n",
    "    clfd_=DecisionTreeClassifier(max_depth=M)\n",
    "\n",
    "    clfd_.fit(X_train_,y_train_)\n",
    "    y_pred_in=clfd_.predict(X_train_)\n",
    "    y_pred=clfd_.predict(X_test_)\n",
    "    #print(y_pred)\n",
    "    [ins,oos]=[1-accuracy_score(y_test_, y_pred, normalize=True),1-accuracy_score(y_train_, y_pred_in, normalize=True)]\n",
    "    Result=Result+[M,ins,oos]\n",
    "Result=pd.DataFrame(np.array(Result).reshape(int(len(Result)/3),3))\n",
    "#plt.plot(Result[:,0],Result[:,1])\n",
    "#plt.plot(Result[:,0],Result[:,2])\n",
    "Result.columns=['depth','test error','training error']\n",
    "Result=Result.set_index('depth')\n",
    "Result.plot()"
   ]
  },
  {
   "cell_type": "code",
   "execution_count": 15,
   "metadata": {},
   "outputs": [
    {
     "data": {
      "text/plain": [
       "48"
      ]
     },
     "execution_count": 15,
     "metadata": {},
     "output_type": "execute_result"
    }
   ],
   "source": [
    "int(len(Result)/3)"
   ]
  },
  {
   "cell_type": "code",
   "execution_count": null,
   "metadata": {},
   "outputs": [],
   "source": [
    "\n",
    "\n",
    "from sklearn.tree import export_graphviz\n",
    "export_graphviz(clfd_, out_file='tree.dot', max_depth=M,\n",
    "                        feature_names = featurenames,\n",
    "                        class_names = classnames_,\n",
    "                        rounded = True, proportion = True, \n",
    "                        precision = 2, filled = True)\n",
    "from subprocess import call\n",
    "call(['dot', '-Tpng', 'tree.dot', '-o', 'tree'+str(M)+'.png', '-Gdpi=600'])"
   ]
  }
 ],
 "metadata": {
  "kernelspec": {
   "display_name": "Python 3",
   "language": "python",
   "name": "python3"
  },
  "language_info": {
   "codemirror_mode": {
    "name": "ipython",
    "version": 3
   },
   "file_extension": ".py",
   "mimetype": "text/x-python",
   "name": "python",
   "nbconvert_exporter": "python",
   "pygments_lexer": "ipython3",
   "version": "3.6.5"
  }
 },
 "nbformat": 4,
 "nbformat_minor": 2
}

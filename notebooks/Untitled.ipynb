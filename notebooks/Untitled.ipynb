{
 "cells": [
  {
   "cell_type": "code",
   "execution_count": 1,
   "metadata": {},
   "outputs": [],
   "source": [
    "import pandas as pd\n",
    "import pylab as plt\n",
    "import matplotlib.colors as colors\n",
    "import geopandas as gd\n",
    "\n",
    "\n",
    "%matplotlib inline"
   ]
  },
  {
   "cell_type": "code",
   "execution_count": 2,
   "metadata": {},
   "outputs": [],
   "source": [
    "df=pd.read_csv('../datasets/covid_epidemiology.csv')\n",
    "df.fips = [str(int(x)).zfill(5) for x in df.fips]"
   ]
  },
  {
   "cell_type": "code",
   "execution_count": 3,
   "metadata": {
    "scrolled": false
   },
   "outputs": [
    {
     "data": {
      "text/html": [
       "<div>\n",
       "<style scoped>\n",
       "    .dataframe tbody tr th:only-of-type {\n",
       "        vertical-align: middle;\n",
       "    }\n",
       "\n",
       "    .dataframe tbody tr th {\n",
       "        vertical-align: top;\n",
       "    }\n",
       "\n",
       "    .dataframe thead th {\n",
       "        text-align: right;\n",
       "    }\n",
       "</style>\n",
       "<table border=\"1\" class=\"dataframe\">\n",
       "  <thead>\n",
       "    <tr style=\"text-align: right;\">\n",
       "      <th></th>\n",
       "      <th>fips</th>\n",
       "      <th>65yrs</th>\n",
       "      <th>minority</th>\n",
       "      <th>black</th>\n",
       "      <th>hispanic</th>\n",
       "      <th>population</th>\n",
       "      <th>perc_65yrs</th>\n",
       "      <th>perc_minority</th>\n",
       "      <th>perc_black</th>\n",
       "      <th>perc_hispanic</th>\n",
       "      <th>...</th>\n",
       "      <th>11/27/20</th>\n",
       "      <th>11/28/20</th>\n",
       "      <th>11/29/20</th>\n",
       "      <th>11/30/20</th>\n",
       "      <th>12/1/20</th>\n",
       "      <th>12/2/20</th>\n",
       "      <th>12/3/20</th>\n",
       "      <th>12/4/20</th>\n",
       "      <th>12/5/20</th>\n",
       "      <th>12/6/20</th>\n",
       "    </tr>\n",
       "  </thead>\n",
       "  <tbody>\n",
       "    <tr>\n",
       "      <th>0</th>\n",
       "      <td>01001</td>\n",
       "      <td>8924</td>\n",
       "      <td>13262</td>\n",
       "      <td>11237</td>\n",
       "      <td>1671</td>\n",
       "      <td>55869</td>\n",
       "      <td>0.159731</td>\n",
       "      <td>0.237377</td>\n",
       "      <td>0.201131</td>\n",
       "      <td>0.029909</td>\n",
       "      <td>...</td>\n",
       "      <td>2716</td>\n",
       "      <td>2735</td>\n",
       "      <td>2751</td>\n",
       "      <td>2780</td>\n",
       "      <td>2818</td>\n",
       "      <td>2873</td>\n",
       "      <td>2893</td>\n",
       "      <td>2945</td>\n",
       "      <td>2979</td>\n",
       "      <td>3005</td>\n",
       "    </tr>\n",
       "    <tr>\n",
       "      <th>1</th>\n",
       "      <td>01003</td>\n",
       "      <td>46830</td>\n",
       "      <td>28036</td>\n",
       "      <td>19593</td>\n",
       "      <td>10534</td>\n",
       "      <td>223234</td>\n",
       "      <td>0.209780</td>\n",
       "      <td>0.125590</td>\n",
       "      <td>0.087769</td>\n",
       "      <td>0.047188</td>\n",
       "      <td>...</td>\n",
       "      <td>8603</td>\n",
       "      <td>8733</td>\n",
       "      <td>8820</td>\n",
       "      <td>8890</td>\n",
       "      <td>9051</td>\n",
       "      <td>9163</td>\n",
       "      <td>9341</td>\n",
       "      <td>9501</td>\n",
       "      <td>9626</td>\n",
       "      <td>9728</td>\n",
       "    </tr>\n",
       "    <tr>\n",
       "      <th>2</th>\n",
       "      <td>01005</td>\n",
       "      <td>4861</td>\n",
       "      <td>12552</td>\n",
       "      <td>11906</td>\n",
       "      <td>1117</td>\n",
       "      <td>24686</td>\n",
       "      <td>0.196913</td>\n",
       "      <td>0.508466</td>\n",
       "      <td>0.482298</td>\n",
       "      <td>0.045248</td>\n",
       "      <td>...</td>\n",
       "      <td>1171</td>\n",
       "      <td>1173</td>\n",
       "      <td>1175</td>\n",
       "      <td>1178</td>\n",
       "      <td>1189</td>\n",
       "      <td>1206</td>\n",
       "      <td>1214</td>\n",
       "      <td>1217</td>\n",
       "      <td>1219</td>\n",
       "      <td>1223</td>\n",
       "    </tr>\n",
       "    <tr>\n",
       "      <th>3</th>\n",
       "      <td>01007</td>\n",
       "      <td>3733</td>\n",
       "      <td>5203</td>\n",
       "      <td>4763</td>\n",
       "      <td>623</td>\n",
       "      <td>22394</td>\n",
       "      <td>0.166696</td>\n",
       "      <td>0.232339</td>\n",
       "      <td>0.212691</td>\n",
       "      <td>0.027820</td>\n",
       "      <td>...</td>\n",
       "      <td>1173</td>\n",
       "      <td>1179</td>\n",
       "      <td>1188</td>\n",
       "      <td>1196</td>\n",
       "      <td>1204</td>\n",
       "      <td>1239</td>\n",
       "      <td>1252</td>\n",
       "      <td>1270</td>\n",
       "      <td>1283</td>\n",
       "      <td>1293</td>\n",
       "    </tr>\n",
       "    <tr>\n",
       "      <th>4</th>\n",
       "      <td>01009</td>\n",
       "      <td>10814</td>\n",
       "      <td>2414</td>\n",
       "      <td>978</td>\n",
       "      <td>5582</td>\n",
       "      <td>57826</td>\n",
       "      <td>0.187009</td>\n",
       "      <td>0.041746</td>\n",
       "      <td>0.016913</td>\n",
       "      <td>0.096531</td>\n",
       "      <td>...</td>\n",
       "      <td>2888</td>\n",
       "      <td>2922</td>\n",
       "      <td>2946</td>\n",
       "      <td>2997</td>\n",
       "      <td>3061</td>\n",
       "      <td>3100</td>\n",
       "      <td>3158</td>\n",
       "      <td>3231</td>\n",
       "      <td>3281</td>\n",
       "      <td>3299</td>\n",
       "    </tr>\n",
       "  </tbody>\n",
       "</table>\n",
       "<p>5 rows × 337 columns</p>\n",
       "</div>"
      ],
      "text/plain": [
       "    fips  65yrs  minority  black  hispanic  population  perc_65yrs  \\\n",
       "0  01001   8924     13262  11237      1671       55869    0.159731   \n",
       "1  01003  46830     28036  19593     10534      223234    0.209780   \n",
       "2  01005   4861     12552  11906      1117       24686    0.196913   \n",
       "3  01007   3733      5203   4763       623       22394    0.166696   \n",
       "4  01009  10814      2414    978      5582       57826    0.187009   \n",
       "\n",
       "   perc_minority  perc_black  perc_hispanic  ...  11/27/20  11/28/20  \\\n",
       "0       0.237377    0.201131       0.029909  ...      2716      2735   \n",
       "1       0.125590    0.087769       0.047188  ...      8603      8733   \n",
       "2       0.508466    0.482298       0.045248  ...      1171      1173   \n",
       "3       0.232339    0.212691       0.027820  ...      1173      1179   \n",
       "4       0.041746    0.016913       0.096531  ...      2888      2922   \n",
       "\n",
       "   11/29/20  11/30/20  12/1/20  12/2/20 12/3/20  12/4/20  12/5/20  12/6/20  \n",
       "0      2751      2780     2818     2873    2893     2945     2979     3005  \n",
       "1      8820      8890     9051     9163    9341     9501     9626     9728  \n",
       "2      1175      1178     1189     1206    1214     1217     1219     1223  \n",
       "3      1188      1196     1204     1239    1252     1270     1283     1293  \n",
       "4      2946      2997     3061     3100    3158     3231     3281     3299  \n",
       "\n",
       "[5 rows x 337 columns]"
      ]
     },
     "execution_count": 3,
     "metadata": {},
     "output_type": "execute_result"
    }
   ],
   "source": [
    "df.head()\n"
   ]
  },
  {
   "cell_type": "code",
   "execution_count": 4,
   "metadata": {},
   "outputs": [],
   "source": [
    "df=df.set_index('fips')"
   ]
  },
  {
   "cell_type": "code",
   "execution_count": null,
   "metadata": {},
   "outputs": [],
   "source": [
    "df"
   ]
  },
  {
   "cell_type": "code",
   "execution_count": null,
   "metadata": {},
   "outputs": [],
   "source": [
    "df_=df.drop(['Combined_Key','risk_flu'],axis=1)\n",
    "df_=df_.sample(1000)\n",
    "X=df_.iloc[5:,0:320].values\n",
    "y=df_.iloc[0:,0].values\n",
    "y=(y>5000)+0"
   ]
  },
  {
   "cell_type": "code",
   "execution_count": null,
   "metadata": {},
   "outputs": [],
   "source": [
    "plt.plot(y)"
   ]
  },
  {
   "cell_type": "code",
   "execution_count": null,
   "metadata": {},
   "outputs": [],
   "source": [
    "import numpy as np\n",
    "import matplotlib.pyplot as plt\n",
    "from sklearn import svm\n",
    "import pandas as pd\n",
    "import seaborn as sns\n",
    "from sklearn.model_selection import train_test_split\n",
    "from sklearn import metrics\n",
    "from sklearn import neighbors, datasets\n",
    "from sklearn.tree import DecisionTreeClassifier\n",
    "from sklearn.ensemble import RandomForestClassifier\n",
    "from sklearn.ensemble import AdaBoostClassifier"
   ]
  },
  {
   "cell_type": "code",
   "execution_count": null,
   "metadata": {},
   "outputs": [],
   "source": [
    "X_train, X_test, y_train, y_test = train_test_split(X, y, test_size=0.2)"
   ]
  },
  {
   "cell_type": "code",
   "execution_count": null,
   "metadata": {},
   "outputs": [],
   "source": [
    "y.sum()"
   ]
  },
  {
   "cell_type": "code",
   "execution_count": null,
   "metadata": {},
   "outputs": [],
   "source": [
    "clf = AdaBoostClassifier(n_estimators=3)\n",
    "y_pred = clf.fit(X_train, y_train).predict(X_test)\n",
    "\n",
    "print(\"Number of mislabeled points out of a total %d points : %d\"% (y_test.shape[0],(y_test != y_pred).sum()))\n",
    "\n",
    "acc=clf.score(X_test,y_test)\n",
    "y_pred=clf.predict_proba(X_test)\n",
    "fpr, tpr, thresholds = metrics.roc_curve(y_test,y_pred[:,1], pos_label=1)\n",
    "auc=metrics.auc(fpr, tpr)\n",
    "\n",
    "print(acc,auc)"
   ]
  },
  {
   "cell_type": "code",
   "execution_count": null,
   "metadata": {},
   "outputs": [],
   "source": [
    "import pylab as plt\n",
    "plt.style.use('ggplot')"
   ]
  },
  {
   "cell_type": "code",
   "execution_count": null,
   "metadata": {},
   "outputs": [],
   "source": [
    "plt.plot(clf.feature_importances_,'-ko')"
   ]
  },
  {
   "cell_type": "code",
   "execution_count": null,
   "metadata": {},
   "outputs": [],
   "source": [
    "xf.columns"
   ]
  },
  {
   "cell_type": "code",
   "execution_count": null,
   "metadata": {},
   "outputs": [],
   "source": [
    "pd.DataFrame(clf.feature_importances_).plot(kind='bar')"
   ]
  },
  {
   "cell_type": "code",
   "execution_count": null,
   "metadata": {},
   "outputs": [],
   "source": [
    "import geopandas as gd"
   ]
  },
  {
   "cell_type": "code",
   "execution_count": null,
   "metadata": {},
   "outputs": [],
   "source": [
    "states = gd.read_file('/home/ishanu/Dropbox/ZED/Research/spatialplot_/usa/cb_2018_us_state_5m.shp')\n",
    "states.head()"
   ]
  },
  {
   "cell_type": "code",
   "execution_count": 5,
   "metadata": {},
   "outputs": [],
   "source": []
  },
  {
   "cell_type": "code",
   "execution_count": 6,
   "metadata": {},
   "outputs": [
    {
     "ename": "KeyError",
     "evalue": "\"None of ['fips'] are in the columns\"",
     "output_type": "error",
     "traceback": [
      "\u001b[0;31m---------------------------------------------------------------------------\u001b[0m",
      "\u001b[0;31mKeyError\u001b[0m                                  Traceback (most recent call last)",
      "\u001b[0;32m<ipython-input-6-fadfb332483d>\u001b[0m in \u001b[0;36m<module>\u001b[0;34m()\u001b[0m\n\u001b[1;32m      6\u001b[0m \u001b[0musa\u001b[0m\u001b[0;34m=\u001b[0m\u001b[0musa\u001b[0m\u001b[0;34m.\u001b[0m\u001b[0mset_index\u001b[0m\u001b[0;34m(\u001b[0m\u001b[0;34m'fips'\u001b[0m\u001b[0;34m)\u001b[0m\u001b[0;34m\u001b[0m\u001b[0;34m\u001b[0m\u001b[0m\n\u001b[1;32m      7\u001b[0m \u001b[0;34m\u001b[0m\u001b[0m\n\u001b[0;32m----> 8\u001b[0;31m \u001b[0mDF\u001b[0m\u001b[0;34m=\u001b[0m\u001b[0musa\u001b[0m\u001b[0;34m.\u001b[0m\u001b[0mjoin\u001b[0m\u001b[0;34m(\u001b[0m\u001b[0mdf\u001b[0m\u001b[0;34m.\u001b[0m\u001b[0mset_index\u001b[0m\u001b[0;34m(\u001b[0m\u001b[0;34m'fips'\u001b[0m\u001b[0;34m)\u001b[0m\u001b[0;34m)\u001b[0m\u001b[0;34m\u001b[0m\u001b[0;34m\u001b[0m\u001b[0m\n\u001b[0m\u001b[1;32m      9\u001b[0m \u001b[0mDF\u001b[0m \u001b[0;34m=\u001b[0m \u001b[0mDF\u001b[0m\u001b[0;34m[\u001b[0m\u001b[0;34m~\u001b[0m\u001b[0mDF\u001b[0m\u001b[0;34m.\u001b[0m\u001b[0mSTATEFP\u001b[0m\u001b[0;34m.\u001b[0m\u001b[0misin\u001b[0m\u001b[0;34m(\u001b[0m\u001b[0;34m[\u001b[0m\u001b[0;34m'02'\u001b[0m\u001b[0;34m,\u001b[0m \u001b[0;34m'15'\u001b[0m\u001b[0;34m]\u001b[0m\u001b[0;34m)\u001b[0m\u001b[0;34m]\u001b[0m\u001b[0;34m\u001b[0m\u001b[0;34m\u001b[0m\u001b[0m\n\u001b[1;32m     10\u001b[0m \u001b[0mDF\u001b[0m\u001b[0;34m=\u001b[0m\u001b[0mDF\u001b[0m\u001b[0;34m.\u001b[0m\u001b[0mto_crs\u001b[0m\u001b[0;34m(\u001b[0m\u001b[0;34m'epsg:4326'\u001b[0m\u001b[0;34m)\u001b[0m\u001b[0;34m\u001b[0m\u001b[0;34m\u001b[0m\u001b[0m\n",
      "\u001b[0;32m~/.local/lib/python3.7/site-packages/pandas/core/frame.py\u001b[0m in \u001b[0;36mset_index\u001b[0;34m(self, keys, drop, append, inplace, verify_integrity)\u001b[0m\n\u001b[1;32m   4409\u001b[0m \u001b[0;34m\u001b[0m\u001b[0m\n\u001b[1;32m   4410\u001b[0m         \u001b[0;32mif\u001b[0m \u001b[0mmissing\u001b[0m\u001b[0;34m:\u001b[0m\u001b[0;34m\u001b[0m\u001b[0;34m\u001b[0m\u001b[0m\n\u001b[0;32m-> 4411\u001b[0;31m             \u001b[0;32mraise\u001b[0m \u001b[0mKeyError\u001b[0m\u001b[0;34m(\u001b[0m\u001b[0;34m\"None of {} are in the columns\"\u001b[0m\u001b[0;34m.\u001b[0m\u001b[0mformat\u001b[0m\u001b[0;34m(\u001b[0m\u001b[0mmissing\u001b[0m\u001b[0;34m)\u001b[0m\u001b[0;34m)\u001b[0m\u001b[0;34m\u001b[0m\u001b[0;34m\u001b[0m\u001b[0m\n\u001b[0m\u001b[1;32m   4412\u001b[0m \u001b[0;34m\u001b[0m\u001b[0m\n\u001b[1;32m   4413\u001b[0m         \u001b[0;32mif\u001b[0m \u001b[0minplace\u001b[0m\u001b[0;34m:\u001b[0m\u001b[0;34m\u001b[0m\u001b[0;34m\u001b[0m\u001b[0m\n",
      "\u001b[0;31mKeyError\u001b[0m: \"None of ['fips'] are in the columns\""
     ]
    },
    {
     "data": {
      "text/plain": [
       "<Figure size 720x1080 with 0 Axes>"
      ]
     },
     "metadata": {},
     "output_type": "display_data"
    }
   ],
   "source": [
    "plt.figure(figsize=[10,15])\n",
    "usa = gd.read_file('../datasets/usmap/cb_2018_us_county_5m.shp')\n",
    "usa.head()\n",
    "usa['fips']=[x+y for (x,y) in zip(usa.STATEFP.values,usa.COUNTYFP.values)]\n",
    "\n",
    "usa=usa.set_index('fips')\n",
    "\n",
    "DF=usa.join(df.set_index('fips'))\n",
    "DF = DF[~DF.STATEFP.isin(['02', '15'])]\n",
    "DF=DF.to_crs('epsg:4326')\n",
    "DF=DF.to_crs(\"EPSG:2163\")\n",
    "DF.plot(column='12/2/20',ax=plt.gca(),cmap='jet',norm=colors.LogNorm(vmin=50, vmax=100000))\n",
    "#plt.gca().set_xlim(-125,-65)\n",
    "#plt.gca().set_ylim(23,50)\n",
    "\n",
    "plt.axis('off');\n"
   ]
  },
  {
   "cell_type": "code",
   "execution_count": null,
   "metadata": {},
   "outputs": [],
   "source": []
  }
 ],
 "metadata": {
  "kernelspec": {
   "display_name": "Python 3",
   "language": "python",
   "name": "python3"
  },
  "language_info": {
   "codemirror_mode": {
    "name": "ipython",
    "version": 3
   },
   "file_extension": ".py",
   "mimetype": "text/x-python",
   "name": "python",
   "nbconvert_exporter": "python",
   "pygments_lexer": "ipython3",
   "version": "3.7.1"
  }
 },
 "nbformat": 4,
 "nbformat_minor": 2
}

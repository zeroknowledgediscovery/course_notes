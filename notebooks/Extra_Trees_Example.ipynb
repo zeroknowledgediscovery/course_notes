{
 "cells": [
  {
   "cell_type": "markdown",
   "metadata": {},
   "source": [
    "\n",
    "# Extremely Randomized Trees Classifier\n",
    "\n",
    "\n",
    "+ basic sklearn calls\n",
    "+ variance comparison with random forest\n"
   ]
  },
  {
   "cell_type": "code",
   "execution_count": 1,
   "metadata": {},
   "outputs": [],
   "source": [
    "import numpy as np\n",
    "import pylab as plt\n",
    "from sklearn import svm\n",
    "import pandas as pd\n",
    "import seaborn as sns\n",
    "from sklearn.model_selection import train_test_split\n",
    "from sklearn import metrics\n",
    "from sklearn import neighbors, datasets\n",
    "from sklearn.tree import DecisionTreeClassifier\n",
    "from sklearn.ensemble import ExtraTreesClassifier\n",
    "from sklearn.ensemble import RandomForestClassifier\n",
    "\n",
    "\n",
    "from tqdm import tqdm\n",
    "%matplotlib inline\n",
    "import warnings\n",
    "warnings.filterwarnings('ignore')\n",
    "plt.style.use('fivethirtyeight')"
   ]
  },
  {
   "cell_type": "code",
   "execution_count": 2,
   "metadata": {},
   "outputs": [
    {
     "data": {
      "text/plain": [
       "(212,)"
      ]
     },
     "execution_count": 2,
     "metadata": {},
     "output_type": "execute_result"
    }
   ],
   "source": [
    "# getdata\n",
    "import pandas as pd\n",
    "df=pd.read_csv('../datasets/CAD-PTSDData.csv',index_col=0)\n",
    "y=df.iloc[:,0]\n",
    "X=df.iloc[:,1:]\n",
    "X_train, X_test, y_train, y_test = train_test_split(X, y, test_size=0.3)\n",
    "y_train.shape\n",
    "\n"
   ]
  },
  {
   "cell_type": "code",
   "execution_count": 3,
   "metadata": {},
   "outputs": [
    {
     "name": "stdout",
     "output_type": "stream",
     "text": [
      "Number of mislabeled points out of a total 152 points : 29\n",
      "Accuracy:  0.8092105263157895 AUC oos:  0.8778431372549019 AUC in sample:  1.0\n"
     ]
    }
   ],
   "source": [
    "X_train, X_test, y_train, y_test = train_test_split(X, y, test_size=0.5)\n",
    "clf = RandomForestClassifier(max_depth=10, class_weight='balanced',n_estimators=1000)\n",
    "\n",
    "\n",
    "clf.fit(X_train, y_train)\n",
    "\n",
    "y_pred = clf.predict(X_test)\n",
    "print(\"Number of mislabeled points out of a total %d points : %d\"% (y_test.shape[0],(y_test != y_pred).sum()))\n",
    "\n",
    "acc=clf.score(X_test,y_test)\n",
    "y_pred=clf.predict_proba(X_test)\n",
    "y_pred_insample=clf.predict_proba(X_train)\n",
    "fpr, tpr, thresholds = metrics.roc_curve(y_test,y_pred[:,1], pos_label=1)\n",
    "fpr_insample, tpr_insample, thresholds_insample = metrics.roc_curve(y_train,y_pred_insample[:,1], pos_label=1)\n",
    "auc=metrics.auc(fpr, tpr)\n",
    "auc_insample=metrics.auc(fpr_insample, tpr_insample)\n",
    "\n",
    "print('Accuracy: ',acc,'AUC oos: ',auc,'AUC in sample: ',auc_insample)"
   ]
  },
  {
   "cell_type": "code",
   "execution_count": 4,
   "metadata": {},
   "outputs": [
    {
     "name": "stdout",
     "output_type": "stream",
     "text": [
      "Number of mislabeled points out of a total 152 points : 30\n",
      "Accuracy:  0.8092105263157895 AUC oos:  0.8709803921568627 AUC in sample:  1.0\n"
     ]
    }
   ],
   "source": [
    "#X_train, X_test, y_train, y_test = train_test_split(X, y, test_size=0.5)\n",
    "clfx = ExtraTreesClassifier(max_depth=10, class_weight='balanced',n_estimators=1000)\n",
    "\n",
    "\n",
    "clfx.fit(X_train, y_train)\n",
    "\n",
    "y_pred = clfx.predict(X_test)\n",
    "print(\"Number of mislabeled points out of a total %d points : %d\"% (y_test.shape[0],(y_test != y_pred).sum()))\n",
    "\n",
    "acc=clf.score(X_test,y_test)\n",
    "y_pred=clfx.predict_proba(X_test)\n",
    "y_pred_insample=clfx.predict_proba(X_train)\n",
    "fpr, tpr, thresholds = metrics.roc_curve(y_test,y_pred[:,1], pos_label=1)\n",
    "fpr_insample, tpr_insample, thresholds_insample = metrics.roc_curve(y_train,y_pred_insample[:,1], pos_label=1)\n",
    "auc=metrics.auc(fpr, tpr)\n",
    "auc_insample=metrics.auc(fpr_insample, tpr_insample)\n",
    "\n",
    "print('Accuracy: ',acc,'AUC oos: ',auc,'AUC in sample: ',auc_insample)"
   ]
  },
  {
   "cell_type": "code",
   "execution_count": 5,
   "metadata": {
    "scrolled": false
   },
   "outputs": [
    {
     "data": {
      "text/plain": [
       "[DecisionTreeClassifier(max_depth=10, max_features='auto',\n",
       "                        random_state=1302313023),\n",
       " DecisionTreeClassifier(max_depth=10, max_features='auto',\n",
       "                        random_state=1942446286),\n",
       " DecisionTreeClassifier(max_depth=10, max_features='auto',\n",
       "                        random_state=675313663),\n",
       " DecisionTreeClassifier(max_depth=10, max_features='auto',\n",
       "                        random_state=1400398511),\n",
       " DecisionTreeClassifier(max_depth=10, max_features='auto',\n",
       "                        random_state=1534617093)]"
      ]
     },
     "execution_count": 5,
     "metadata": {},
     "output_type": "execute_result"
    }
   ],
   "source": [
    "clf.estimators_[:5]"
   ]
  },
  {
   "cell_type": "markdown",
   "metadata": {},
   "source": [
    "# Show that RF and EX has simialr bias but EX has smaller variance"
   ]
  },
  {
   "cell_type": "code",
   "execution_count": 6,
   "metadata": {},
   "outputs": [
    {
     "name": "stderr",
     "output_type": "stream",
     "text": [
      "100%|██████████| 1000/1000 [00:03<00:00, 302.60it/s]\n"
     ]
    }
   ],
   "source": [
    "MISS=[]\n",
    "for clf_ in tqdm(clf.estimators_):\n",
    "    y_pred = clf_.predict(X_test)\n",
    "    MISS=np.append(MISS,(y_test != y_pred).sum())"
   ]
  },
  {
   "cell_type": "code",
   "execution_count": 7,
   "metadata": {},
   "outputs": [
    {
     "name": "stderr",
     "output_type": "stream",
     "text": [
      "100%|██████████| 1000/1000 [00:03<00:00, 295.79it/s]\n"
     ]
    }
   ],
   "source": [
    "MISSx=[]\n",
    "for clf_ in tqdm(clfx.estimators_):\n",
    "    y_pred = clf_.predict(X_test)\n",
    "    MISSx=np.append(MISSx,(y_test != y_pred).sum())\n"
   ]
  },
  {
   "cell_type": "code",
   "execution_count": 8,
   "metadata": {},
   "outputs": [
    {
     "name": "stdout",
     "output_type": "stream",
     "text": [
      "5.015701745518767 4.612578888214271\n"
     ]
    },
    {
     "data": {
      "image/png": "[encoded data removed]",
      "text/plain": [
       "<Figure size 432x288 with 1 Axes>"
      ]
     },
     "metadata": {},
     "output_type": "display_data"
    }
   ],
   "source": [
    "sns.distplot(MISS)\n",
    "ax=sns.distplot(MISSx)\n",
    "ax.legend(['RF','EX'])\n",
    "print(MISS.std(),MISSx.std())"
   ]
  },
  {
   "cell_type": "code",
   "execution_count": null,
   "metadata": {},
   "outputs": [],
   "source": []
  }
 ],
 "metadata": {
  "kernelspec": {
   "display_name": "Python 2",
   "language": "python",
   "name": "python2"
  },
  "language_info": {
   "codemirror_mode": {
    "name": "ipython",
    "version": 3
   },
   "file_extension": ".py",
   "mimetype": "text/x-python",
   "name": "python",
   "nbconvert_exporter": "python",
   "pygments_lexer": "ipython3",
   "version": "3.6.5"
  }
 },
 "nbformat": 4,
 "nbformat_minor": 1
}

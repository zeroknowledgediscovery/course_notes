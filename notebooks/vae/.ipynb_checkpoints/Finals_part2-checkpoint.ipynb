{
 "cells": [
  {
   "cell_type": "code",
   "execution_count": 2,
   "metadata": {},
   "outputs": [],
   "source": [
    "import numpy as np\n",
    "import matplotlib.pyplot as plt\n",
    "from scipy.stats import norm\n",
    "\n",
    "from keras import backend as K\n",
    "\n",
    "from keras.layers import Input, Dense, Lambda, Layer, Add, Multiply\n",
    "from keras.models import Model, Sequential\n",
    "from keras.datasets import mnist\n",
    "\n",
    "from tqdm import tqdm\n",
    "\n",
    "import warnings\n",
    "warnings.filterwarnings('ignore')"
   ]
  },
  {
   "cell_type": "code",
   "execution_count": 27,
   "metadata": {},
   "outputs": [],
   "source": [
    "import pandas as pd\n",
    "import glob\n",
    "from sklearn.model_selection import train_test_split\n",
    "import tarfile\n",
    "\n",
    "def splitw(x):\n",
    "    return np.array([y for y in x])\n",
    "from string import ascii_lowercase\n",
    "LETTERS = {letter: str(index) for index, letter in enumerate(ascii_lowercase, start=1)} \n",
    "def alphabet_position(text):\n",
    "    text = text.lower()\n",
    "\n",
    "    numbers = [int(LETTERS[character]) for character in text if character in LETTERS]\n",
    "    return numbers\n",
    "\n",
    "def pos_to_char(pos):\n",
    "    return chr(pos + 97)"
   ]
  },
  {
   "cell_type": "code",
   "execution_count": 4,
   "metadata": {},
   "outputs": [
    {
     "data": {
      "text/plain": [
       "['../../datasets/SEQUENCE_/COVID/cov19_MAY2019JULY2019.fasta',\n",
       " '../../datasets/SEQUENCE_/COVID/cov19_APR302019.fasta',\n",
       " '../../datasets/SEQUENCE_/COVID/cov19_DEC302019.fasta']"
      ]
     },
     "execution_count": 4,
     "metadata": {},
     "output_type": "execute_result"
    }
   ],
   "source": [
    "TARFILE='../../datasets/SEQUENCE_/COVID/cov19seq_protein_spike.tgz'\n",
    "my_tar = tarfile.open(TARFILE)\n",
    "my_tar.extractall('../../datasets/SEQUENCE_/COVID/') # specify which folder to extract to\n",
    "FILES=glob.glob('../../datasets/SEQUENCE_/COVID/*fasta')\n",
    "FILES"
   ]
  },
  {
   "cell_type": "code",
   "execution_count": 5,
   "metadata": {
    "scrolled": false
   },
   "outputs": [
    {
     "name": "stderr",
     "output_type": "stream",
     "text": [
      "15897it [00:05, 2815.54it/s]\n"
     ]
    }
   ],
   "source": [
    "from Bio import SeqIO\n",
    "SEQ={}\n",
    "L=1200\n",
    "count=0\n",
    "fasta_sequences = SeqIO.parse(open(FILES[1]),'fasta')\n",
    "for fasta in tqdm(fasta_sequences):\n",
    "    name, sequence = fasta.id, str(fasta.seq)\n",
    "    SEQ[count]=alphabet_position(sequence[:L])\n",
    "    if len(SEQ[count])==L:\n",
    "        count=count+1\n",
    "data=pd.DataFrame(SEQ).transpose().drop_duplicates()"
   ]
  },
  {
   "cell_type": "code",
   "execution_count": 12,
   "metadata": {},
   "outputs": [
    {
     "name": "stdout",
     "output_type": "stream",
     "text": [
      "(2190, 1200) (524, 1200)\n"
     ]
    }
   ],
   "source": [
    "msk = np.random.rand(len(data)) < 0.8\n",
    "train = data[msk]/26\n",
    "test = data[~msk]/26\n",
    "print(train.shape,test.shape)"
   ]
  },
  {
   "cell_type": "code",
   "execution_count": 13,
   "metadata": {},
   "outputs": [],
   "source": [
    "\n",
    "def nll(y_true, y_pred):\n",
    "    \"\"\" Negative log likelihood (Bernoulli). \"\"\"\n",
    "    # keras.losses.binary_crossentropy gives the mean\n",
    "    # over the last axis. we require the sum\n",
    "    return K.sum(K.binary_crossentropy(y_true, y_pred), axis=-1)\n",
    "\n",
    "class KLDivergenceLayer(Layer):\n",
    "\n",
    "    \"\"\" Identity transform layer that adds KL divergence\n",
    "    to the final model loss.\n",
    "    \"\"\"\n",
    "    def __init__(self, *args, **kwargs):\n",
    "        self.is_placeholder = True\n",
    "        super(KLDivergenceLayer, self).__init__(*args, **kwargs)\n",
    "\n",
    "    def call(self, inputs):\n",
    "        mu, log_var = inputs\n",
    "        kl_batch = - .5 * K.sum(1 + log_var -\n",
    "                                K.square(mu) -\n",
    "                                K.exp(log_var), axis=-1)\n",
    "\n",
    "        self.add_loss(K.mean(kl_batch), inputs=inputs)\n",
    "        return inputs"
   ]
  },
  {
   "cell_type": "code",
   "execution_count": 14,
   "metadata": {},
   "outputs": [],
   "source": [
    "original_dim = 1200\n",
    "intermediate_dim = 512\n",
    "latent_dim = 2\n",
    "batch_size = 100\n",
    "epochs = 100\n",
    "epsilon_std = 1.0"
   ]
  },
  {
   "cell_type": "code",
   "execution_count": 15,
   "metadata": {},
   "outputs": [],
   "source": [
    "decoder = Sequential([\n",
    "    Dense(intermediate_dim, input_dim=latent_dim, activation='relu'),\n",
    "    Dense(original_dim, activation='sigmoid')\n",
    "])\n",
    "\n",
    "x = Input(shape=(original_dim,))\n",
    "h = Dense(intermediate_dim, activation='relu')(x)\n",
    "\n",
    "z_mu = Dense(latent_dim)(h)\n",
    "z_log_var = Dense(latent_dim)(h)\n",
    "\n",
    "z_mu, z_log_var = KLDivergenceLayer()([z_mu, z_log_var])\n",
    "z_sigma = Lambda(lambda t: K.exp(.5*t))(z_log_var)\n",
    "\n",
    "eps = Input(tensor=K.random_normal(stddev=epsilon_std,\n",
    "                                   shape=(K.shape(x)[0], latent_dim)))\n",
    "z_eps = Multiply()([z_sigma, eps])\n",
    "z = Add()([z_mu, z_eps])\n",
    "\n",
    "x_pred = decoder(z)\n",
    "\n",
    "vae = Model(inputs=[x, eps], outputs=x_pred)\n",
    "vae.compile(optimizer='rmsprop', loss=nll)"
   ]
  },
  {
   "cell_type": "code",
   "execution_count": 17,
   "metadata": {
    "scrolled": false
   },
   "outputs": [
    {
     "name": "stdout",
     "output_type": "stream",
     "text": [
      "Train on 2190 samples, validate on 524 samples\n",
      "Epoch 1/100\n",
      "2190/2190 [==============================] - 1s 252us/step - loss: 746.0338 - val_loss: 691.8039\n",
      "Epoch 2/100\n",
      "2190/2190 [==============================] - 0s 162us/step - loss: 695.2863 - val_loss: 686.1326\n",
      "Epoch 3/100\n",
      "2190/2190 [==============================] - 0s 160us/step - loss: 687.4810 - val_loss: 687.1423\n",
      "Epoch 4/100\n",
      "2190/2190 [==============================] - 0s 164us/step - loss: 685.0795 - val_loss: 676.6924\n",
      "Epoch 5/100\n",
      "2190/2190 [==============================] - 0s 169us/step - loss: 679.8375 - val_loss: 686.1110\n",
      "Epoch 6/100\n",
      "2190/2190 [==============================] - 0s 162us/step - loss: 678.5020 - val_loss: 670.7446\n",
      "Epoch 7/100\n",
      "2190/2190 [==============================] - 0s 160us/step - loss: 676.1329 - val_loss: 669.2885\n",
      "Epoch 8/100\n",
      "2190/2190 [==============================] - 0s 160us/step - loss: 673.1073 - val_loss: 669.0247\n",
      "Epoch 9/100\n",
      "2190/2190 [==============================] - 0s 162us/step - loss: 672.4507 - val_loss: 667.6213\n",
      "Epoch 10/100\n",
      "2190/2190 [==============================] - 0s 168us/step - loss: 671.1752 - val_loss: 672.9582\n",
      "Epoch 11/100\n",
      "2190/2190 [==============================] - 0s 162us/step - loss: 670.4052 - val_loss: 664.8984\n",
      "Epoch 12/100\n",
      "2190/2190 [==============================] - 0s 168us/step - loss: 669.8354 - val_loss: 666.8631\n",
      "Epoch 13/100\n",
      "2190/2190 [==============================] - 0s 161us/step - loss: 668.7522 - val_loss: 669.4324\n",
      "Epoch 14/100\n",
      "2190/2190 [==============================] - 0s 156us/step - loss: 668.2282 - val_loss: 664.3175\n",
      "Epoch 15/100\n",
      "2190/2190 [==============================] - 0s 158us/step - loss: 667.6668 - val_loss: 668.6959\n",
      "Epoch 16/100\n",
      "2190/2190 [==============================] - 0s 169us/step - loss: 666.7225 - val_loss: 664.1139\n",
      "Epoch 17/100\n",
      "2190/2190 [==============================] - 0s 159us/step - loss: 666.9352 - val_loss: 666.3807\n",
      "Epoch 18/100\n",
      "2190/2190 [==============================] - 0s 160us/step - loss: 666.1577 - val_loss: 662.6322\n",
      "Epoch 19/100\n",
      "2190/2190 [==============================] - 0s 159us/step - loss: 665.7239 - val_loss: 662.3252\n",
      "Epoch 20/100\n",
      "2190/2190 [==============================] - 0s 160us/step - loss: 665.3699 - val_loss: 661.9554\n",
      "Epoch 21/100\n",
      "2190/2190 [==============================] - 0s 162us/step - loss: 665.1468 - val_loss: 662.7091\n",
      "Epoch 22/100\n",
      "2190/2190 [==============================] - 0s 163us/step - loss: 664.9633 - val_loss: 663.2442\n",
      "Epoch 23/100\n",
      "2190/2190 [==============================] - 0s 159us/step - loss: 664.8180 - val_loss: 662.5761\n",
      "Epoch 24/100\n",
      "2190/2190 [==============================] - 0s 160us/step - loss: 664.3826 - val_loss: 661.9507\n",
      "Epoch 25/100\n",
      "2190/2190 [==============================] - 0s 160us/step - loss: 664.0867 - val_loss: 663.2474\n",
      "Epoch 26/100\n",
      "2190/2190 [==============================] - 0s 164us/step - loss: 664.3651 - val_loss: 661.6592\n",
      "Epoch 27/100\n",
      "2190/2190 [==============================] - 0s 157us/step - loss: 663.8656 - val_loss: 661.3862\n",
      "Epoch 28/100\n",
      "2190/2190 [==============================] - 0s 155us/step - loss: 663.8429 - val_loss: 662.1850\n",
      "Epoch 29/100\n",
      "2190/2190 [==============================] - 0s 159us/step - loss: 663.6668 - val_loss: 661.2545\n",
      "Epoch 30/100\n",
      "2190/2190 [==============================] - 0s 171us/step - loss: 663.2080 - val_loss: 661.2318\n",
      "Epoch 31/100\n",
      "2190/2190 [==============================] - 0s 162us/step - loss: 663.5608 - val_loss: 660.6747\n",
      "Epoch 32/100\n",
      "2190/2190 [==============================] - 0s 160us/step - loss: 663.0691 - val_loss: 662.2048\n",
      "Epoch 33/100\n",
      "2190/2190 [==============================] - 0s 156us/step - loss: 662.7961 - val_loss: 660.3339\n",
      "Epoch 34/100\n",
      "2190/2190 [==============================] - 0s 160us/step - loss: 662.6716 - val_loss: 663.1637\n",
      "Epoch 35/100\n",
      "2190/2190 [==============================] - 0s 158us/step - loss: 662.7855 - val_loss: 660.4921\n",
      "Epoch 36/100\n",
      "2190/2190 [==============================] - 0s 160us/step - loss: 662.4234 - val_loss: 660.7822\n",
      "Epoch 37/100\n",
      "2190/2190 [==============================] - 0s 157us/step - loss: 662.1959 - val_loss: 660.6054\n",
      "Epoch 38/100\n",
      "2190/2190 [==============================] - 0s 159us/step - loss: 662.2885 - val_loss: 660.2163\n",
      "Epoch 39/100\n",
      "2190/2190 [==============================] - 0s 163us/step - loss: 662.1169 - val_loss: 660.6044\n",
      "Epoch 40/100\n",
      "2190/2190 [==============================] - 0s 163us/step - loss: 662.0980 - val_loss: 659.6971\n",
      "Epoch 41/100\n",
      "2190/2190 [==============================] - 0s 164us/step - loss: 661.9197 - val_loss: 661.3922\n",
      "Epoch 42/100\n",
      "2190/2190 [==============================] - 0s 162us/step - loss: 661.8336 - val_loss: 659.8397\n",
      "Epoch 43/100\n",
      "2190/2190 [==============================] - 0s 157us/step - loss: 661.8829 - val_loss: 659.9306\n",
      "Epoch 44/100\n",
      "2190/2190 [==============================] - 0s 158us/step - loss: 661.4604 - val_loss: 662.1802\n",
      "Epoch 45/100\n",
      "2190/2190 [==============================] - 0s 156us/step - loss: 661.4479 - val_loss: 660.4514\n",
      "Epoch 46/100\n",
      "2190/2190 [==============================] - 0s 173us/step - loss: 661.4983 - val_loss: 659.9113\n",
      "Epoch 47/100\n",
      "2190/2190 [==============================] - 0s 156us/step - loss: 661.5162 - val_loss: 659.6154\n",
      "Epoch 48/100\n",
      "2190/2190 [==============================] - 0s 158us/step - loss: 661.1191 - val_loss: 659.0165\n",
      "Epoch 49/100\n",
      "2190/2190 [==============================] - 0s 158us/step - loss: 661.1707 - val_loss: 660.4092\n",
      "Epoch 50/100\n",
      "2190/2190 [==============================] - 0s 157us/step - loss: 661.1703 - val_loss: 660.3697\n",
      "Epoch 51/100\n",
      "2190/2190 [==============================] - 0s 155us/step - loss: 661.0390 - val_loss: 659.5022\n",
      "Epoch 52/100\n",
      "2190/2190 [==============================] - 0s 157us/step - loss: 660.9569 - val_loss: 659.3468\n",
      "Epoch 53/100\n",
      "2190/2190 [==============================] - 0s 157us/step - loss: 660.8947 - val_loss: 658.8212\n",
      "Epoch 54/100\n",
      "2190/2190 [==============================] - 0s 155us/step - loss: 660.9776 - val_loss: 658.6948\n",
      "Epoch 55/100\n",
      "2190/2190 [==============================] - 0s 161us/step - loss: 660.8126 - val_loss: 659.2505\n",
      "Epoch 56/100\n",
      "2190/2190 [==============================] - 0s 163us/step - loss: 660.7408 - val_loss: 659.9429\n",
      "Epoch 57/100\n",
      "2190/2190 [==============================] - 0s 166us/step - loss: 660.7294 - val_loss: 659.2817\n",
      "Epoch 58/100\n",
      "2190/2190 [==============================] - 0s 162us/step - loss: 660.6176 - val_loss: 658.9853\n",
      "Epoch 59/100\n",
      "2190/2190 [==============================] - 0s 167us/step - loss: 660.3737 - val_loss: 660.0520\n",
      "Epoch 60/100\n",
      "2190/2190 [==============================] - 0s 168us/step - loss: 660.4328 - val_loss: 659.0706\n",
      "Epoch 61/100\n",
      "2190/2190 [==============================] - 0s 161us/step - loss: 660.3786 - val_loss: 659.0752\n",
      "Epoch 62/100\n",
      "2190/2190 [==============================] - 0s 160us/step - loss: 660.4810 - val_loss: 658.6267\n",
      "Epoch 63/100\n",
      "2190/2190 [==============================] - 0s 161us/step - loss: 660.4172 - val_loss: 658.8957\n",
      "Epoch 64/100\n",
      "2190/2190 [==============================] - 0s 164us/step - loss: 660.2541 - val_loss: 660.0106\n",
      "Epoch 65/100\n",
      "2190/2190 [==============================] - 0s 170us/step - loss: 660.2040 - val_loss: 659.2522\n",
      "Epoch 66/100\n",
      "2190/2190 [==============================] - 0s 164us/step - loss: 660.0704 - val_loss: 658.9860\n",
      "Epoch 67/100\n",
      "2190/2190 [==============================] - 0s 162us/step - loss: 660.2328 - val_loss: 659.3776\n",
      "Epoch 68/100\n",
      "2190/2190 [==============================] - 0s 159us/step - loss: 660.0338 - val_loss: 658.4968\n",
      "Epoch 69/100\n",
      "2190/2190 [==============================] - 0s 159us/step - loss: 660.2056 - val_loss: 658.5249\n",
      "Epoch 70/100\n",
      "2190/2190 [==============================] - 0s 160us/step - loss: 659.7915 - val_loss: 658.2242\n",
      "Epoch 71/100\n",
      "2190/2190 [==============================] - 0s 161us/step - loss: 659.9367 - val_loss: 658.2880\n",
      "Epoch 72/100\n",
      "2190/2190 [==============================] - 0s 159us/step - loss: 659.8221 - val_loss: 658.8378\n",
      "Epoch 73/100\n",
      "2190/2190 [==============================] - 0s 153us/step - loss: 659.8563 - val_loss: 658.1189\n",
      "Epoch 74/100\n",
      "2190/2190 [==============================] - 0s 157us/step - loss: 659.5173 - val_loss: 659.1384\n",
      "Epoch 75/100\n"
     ]
    },
    {
     "name": "stdout",
     "output_type": "stream",
     "text": [
      "2190/2190 [==============================] - 0s 152us/step - loss: 659.7329 - val_loss: 658.1067\n",
      "Epoch 76/100\n",
      "2190/2190 [==============================] - 0s 151us/step - loss: 659.6427 - val_loss: 658.8634\n",
      "Epoch 77/100\n",
      "2190/2190 [==============================] - 0s 154us/step - loss: 659.4869 - val_loss: 658.4231\n",
      "Epoch 78/100\n",
      "2190/2190 [==============================] - 0s 165us/step - loss: 659.5907 - val_loss: 658.3800\n",
      "Epoch 79/100\n",
      "2190/2190 [==============================] - 0s 151us/step - loss: 659.5519 - val_loss: 658.4415\n",
      "Epoch 80/100\n",
      "2190/2190 [==============================] - 0s 154us/step - loss: 659.4250 - val_loss: 659.2199\n",
      "Epoch 81/100\n",
      "2190/2190 [==============================] - 0s 152us/step - loss: 659.2587 - val_loss: 658.5334\n",
      "Epoch 82/100\n",
      "2190/2190 [==============================] - 0s 155us/step - loss: 659.3512 - val_loss: 657.7893\n",
      "Epoch 83/100\n",
      "2190/2190 [==============================] - 0s 154us/step - loss: 659.2499 - val_loss: 658.0524\n",
      "Epoch 84/100\n",
      "2190/2190 [==============================] - 0s 165us/step - loss: 659.2922 - val_loss: 657.9309\n",
      "Epoch 85/100\n",
      "2190/2190 [==============================] - 0s 153us/step - loss: 659.3255 - val_loss: 658.1312\n",
      "Epoch 86/100\n",
      "2190/2190 [==============================] - 0s 160us/step - loss: 659.0666 - val_loss: 658.8474\n",
      "Epoch 87/100\n",
      "2190/2190 [==============================] - 0s 158us/step - loss: 659.2929 - val_loss: 658.0875\n",
      "Epoch 88/100\n",
      "2190/2190 [==============================] - 0s 157us/step - loss: 659.0198 - val_loss: 658.7396\n",
      "Epoch 89/100\n",
      "2190/2190 [==============================] - 0s 165us/step - loss: 658.9741 - val_loss: 658.5002\n",
      "Epoch 90/100\n",
      "2190/2190 [==============================] - 0s 163us/step - loss: 658.8626 - val_loss: 658.3180\n",
      "Epoch 91/100\n",
      "2190/2190 [==============================] - 0s 152us/step - loss: 659.0925 - val_loss: 657.8672\n",
      "Epoch 92/100\n",
      "2190/2190 [==============================] - 0s 157us/step - loss: 659.0061 - val_loss: 658.0389\n",
      "Epoch 93/100\n",
      "2190/2190 [==============================] - 0s 153us/step - loss: 658.8164 - val_loss: 657.6367\n",
      "Epoch 94/100\n",
      "2190/2190 [==============================] - 0s 156us/step - loss: 658.8132 - val_loss: 658.0535\n",
      "Epoch 95/100\n",
      "2190/2190 [==============================] - 0s 155us/step - loss: 658.8071 - val_loss: 657.7626\n",
      "Epoch 96/100\n",
      "2190/2190 [==============================] - 0s 158us/step - loss: 658.6853 - val_loss: 657.6090\n",
      "Epoch 97/100\n",
      "2190/2190 [==============================] - 0s 156us/step - loss: 658.8128 - val_loss: 657.4206\n",
      "Epoch 98/100\n",
      "2190/2190 [==============================] - 0s 167us/step - loss: 658.5700 - val_loss: 657.5536\n",
      "Epoch 99/100\n",
      "2190/2190 [==============================] - 0s 154us/step - loss: 658.5630 - val_loss: 657.7181\n",
      "Epoch 100/100\n",
      "2190/2190 [==============================] - 0s 157us/step - loss: 658.5538 - val_loss: 657.7237\n"
     ]
    }
   ],
   "source": [
    "vae.fit(train,\n",
    "        train,\n",
    "        shuffle=True,\n",
    "        epochs=epochs,\n",
    "        batch_size=batch_size,\n",
    "        validation_data=(test,test))\n",
    "\n",
    "encoder = Model(x, z_mu)"
   ]
  },
  {
   "cell_type": "code",
   "execution_count": 20,
   "metadata": {},
   "outputs": [
    {
     "data": {
      "text/plain": [
       "<matplotlib.collections.PathCollection at 0x7fee205b1e10>"
      ]
     },
     "execution_count": 20,
     "metadata": {},
     "output_type": "execute_result"
    },
    {
     "data": {
      "image/png": "[encoded data removed]",
      "text/plain": [
       "<Figure size 432x432 with 1 Axes>"
      ]
     },
     "metadata": {},
     "output_type": "display_data"
    }
   ],
   "source": [
    "# display a 2D plot of sequences in the latent space\n",
    "z_test = encoder.predict(test, batch_size=batch_size)\n",
    "plt.figure(figsize=(6, 6))\n",
    "plt.scatter(z_test[:, 0], z_test[:, 1],\n",
    "            alpha=.4, s=13**2, cmap='viridis')"
   ]
  },
  {
   "cell_type": "code",
   "execution_count": 34,
   "metadata": {},
   "outputs": [],
   "source": [
    "val=[.5,0]"
   ]
  },
  {
   "cell_type": "code",
   "execution_count": 35,
   "metadata": {},
   "outputs": [
    {
     "data": {
      "text/plain": [
       "'NGWGMWMMQMWTTRDWOMUUSURMQQCZUOTHUTIWZZQELWGSTTWMITUREMGMQGGTOWUXGICJIWTHUOHULSGEOQWMQGOEHWZGBTUFLTOKJSIXJGHUUMFTLURTMMKWPPCUPWWKMWEGHSHEPFRHNIWZZJMPPMUXOGUHITWZUUEPQGVIIZWUSRINPHOIJNSKQJNQOTIJXJNQMIKZJNMZUNLVRLPOWTGORSJIUENHRNWGNRLJLPLVTISUNNDMISTZMUQHFTTTHXUCHCCBZZWGZMRQSUGMMLZOFNHUIUEBWEDBLEQLTEUKDULKTFUWFLHIZRUTOGSWRQUGUKWSGQOJUOMDQGHFWGOBUSGBTWZBXOSLSJTODWCEZTWMZPTCTGTUGLEZHWTQULMPEMEGUOWZCFTGWKSIFGWTSKCQISVIMKCFZOZMNRFFGUIEWJCXOTPPNGUMXOOSZSZRZVRNUQVSRQTNMUMPVWMPZUJNVWTLSNXMONSLZNTRUVZONUTWSOXOZUTZVXXXRVNNRROKTJVXFJRMLTUOMWLOLDWOGOGOHMUHUHWMUFTOLLGMQGRRGHSEJBEUUEBWSEQRUMFJMEJUQDTGHHWTWJUQHUOUTORWBWMZRGWODUFWQWBJIBERMUQUXSWZTUHTOWGRUSBHDMJHCFIWOOTZFDEJQJHCHJDCTZRURUOTQSSBSTWBTRTJJBZUNTMHBFOTWBZTOOTJBJQUOGUJTWUUFJMQWTNULUTWEDUNZJDHETUFDTOMMMRZHTGEURMOSCMUHJCWGSFLOUSGWHCRWMSKZMURRKMFHIIHPHUSKNRFRTMQTLSTGJFFMMGOLWUNCFCHGJLRZHFDMHEJCBSEMJDCRLGOHMUWMQQMMUEFNJBRZUTBMMCHUJUTHXUGHBHBBMRJQGBNRNBZSGOHJHWUROWMZFORLMJBORGOTCJHLJRETMTTUCTCMHLMREWWOROBRBMOUMWLRMTTOGHBJTTWMOEJMTSMELWFBFWRJESMJUISMRTMRUZWURRMJSBBFJSBTBOMBBULNTFDWMHRTLSWEGDHLHZIMNTGQRTBQIHWWGMIWUZWQBRFLOGUUBQBJDIEHLBIGQSFHWGWTOHUIXGWURSOGZFQRJJUUEOUGWTIODEWWJHJWOOUWZEQMRQFMETGLFFMELZGLOIUTQEWEMHEJTHJOCTWWOJRLFJESMOFWBLOMOFTMJEM'"
      ]
     },
     "execution_count": 35,
     "metadata": {},
     "output_type": "execute_result"
    }
   ],
   "source": [
    "import string\n",
    "''.join([pos_to_char(x).upper() for x in np.round(decoder.predict(np.array(val).reshape(1,2))*26)[0].astype(int)])"
   ]
  },
  {
   "cell_type": "markdown",
   "metadata": {},
   "source": [
    "## Finals Part 2:\n",
    "---\n",
    "    1. Use NCBI Blast to find the sequence match of the outputs (show for 5 outputs)? Does it recognize this as a SARS-2-CoV sequence?\n",
    "    2. Tune the vae so that the distribution of the latent space is more compact (less gaps)\n",
    "    3. Redo the problem for '../../datasets/SEQUENCE_/COVID/cov19_DEC302019.fasta' to check if seuqwnces get more like SARS2 in blast. \n",
    "    4. Use the vae based anomaly detector discussed in class (example in vae folder) to investigate if the newer sequences are **anomalous** ie diverging"
   ]
  },
  {
   "cell_type": "code",
   "execution_count": null,
   "metadata": {},
   "outputs": [],
   "source": []
  }
 ],
 "metadata": {
  "kernelspec": {
   "display_name": "Python 3",
   "language": "python",
   "name": "python3"
  },
  "language_info": {
   "codemirror_mode": {
    "name": "ipython",
    "version": 3
   },
   "file_extension": ".py",
   "mimetype": "text/x-python",
   "name": "python",
   "nbconvert_exporter": "python",
   "pygments_lexer": "ipython3",
   "version": "3.7.1"
  }
 },
 "nbformat": 4,
 "nbformat_minor": 2
}

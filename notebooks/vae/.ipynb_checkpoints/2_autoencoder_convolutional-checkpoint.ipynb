{
 "cells": [
  {
   "cell_type": "code",
   "execution_count": 2,
   "metadata": {},
   "outputs": [],
   "source": [
    "from keras.layers import Input, Dense, Conv2D, MaxPooling2D, UpSampling2D\n",
    "from keras.models import Model\n",
    "from keras import backend as K\n",
    "\n",
    "input_img = Input(shape=(28, 28, 1))  # adapt this if using `channels_first` image data format\n",
    "\n",
    "x = Conv2D(16, (3, 3), activation='relu', padding='same')(input_img)\n",
    "x = MaxPooling2D((2, 2), padding='same')(x)\n",
    "x = Conv2D(8, (3, 3), activation='relu', padding='same')(x)\n",
    "x = MaxPooling2D((2, 2), padding='same')(x)\n",
    "x = Conv2D(8, (3, 3), activation='relu', padding='same')(x)\n",
    "encoded = MaxPooling2D((2, 2), padding='same')(x)\n",
    "\n",
    "# at this point the representation is (4, 4, 8) i.e. 128-dimensional\n",
    "\n",
    "x = Conv2D(8, (3, 3), activation='relu', padding='same')(encoded)\n",
    "x = UpSampling2D((2, 2))(x)\n",
    "x = Conv2D(8, (3, 3), activation='relu', padding='same')(x)\n",
    "x = UpSampling2D((2, 2))(x)\n",
    "x = Conv2D(16, (3, 3), activation='relu')(x)\n",
    "x = UpSampling2D((2, 2))(x)\n",
    "decoded = Conv2D(1, (3, 3), activation='sigmoid', padding='same')(x)\n",
    "\n",
    "autoencoder = Model(input_img, decoded)\n",
    "autoencoder.compile(optimizer='adadelta', loss='binary_crossentropy')\n"
   ]
  },
  {
   "cell_type": "code",
   "execution_count": 3,
   "metadata": {},
   "outputs": [],
   "source": [
    "from keras.datasets import mnist\n",
    "import numpy as np\n",
    "\n",
    "(x_train, _), (x_test, _) = mnist.load_data()\n",
    "\n",
    "x_train = x_train.astype('float32') / 255.\n",
    "x_test = x_test.astype('float32') / 255.\n",
    "x_train = np.reshape(x_train, (len(x_train), 28, 28, 1))  # adapt this if using `channels_first` image data format\n",
    "x_test = np.reshape(x_test, (len(x_test), 28, 28, 1))  # adapt this if using `channels_first` image data"
   ]
  },
  {
   "cell_type": "code",
   "execution_count": null,
   "metadata": {},
   "outputs": [
    {
     "name": "stdout",
     "output_type": "stream",
     "text": [
      "TensorBoard 1.14.0 at http://xcalibur:6006/ (Press CTRL+C to quit)\r\n"
     ]
    }
   ],
   "source": [
    "! ~/.local/bin/tensorboard --logdir=/tmp/autoencoder\n"
   ]
  },
  {
   "cell_type": "code",
   "execution_count": 7,
   "metadata": {},
   "outputs": [
    {
     "name": "stderr",
     "output_type": "stream",
     "text": [
      "W0308 14:17:49.038904 140477475776000 deprecation_wrapper.py:119] From /home/ishanu/.local/lib/python3.7/site-packages/keras/backend/tensorflow_backend.py:422: The name tf.global_variables is deprecated. Please use tf.compat.v1.global_variables instead.\n",
      "\n",
      "W0308 14:17:49.044661 140477475776000 deprecation_wrapper.py:119] From /home/ishanu/.local/lib/python3.7/site-packages/keras/callbacks/tensorboard_v1.py:200: The name tf.summary.merge_all is deprecated. Please use tf.compat.v1.summary.merge_all instead.\n",
      "\n",
      "W0308 14:17:49.045614 140477475776000 deprecation_wrapper.py:119] From /home/ishanu/.local/lib/python3.7/site-packages/keras/callbacks/tensorboard_v1.py:203: The name tf.summary.FileWriter is deprecated. Please use tf.compat.v1.summary.FileWriter instead.\n",
      "\n"
     ]
    },
    {
     "name": "stdout",
     "output_type": "stream",
     "text": [
      "Train on 60000 samples, validate on 10000 samples\n",
      "Epoch 1/50\n",
      "60000/60000 [==============================] - 21s 356us/step - loss: 0.2121 - val_loss: 0.1766\n"
     ]
    },
    {
     "name": "stderr",
     "output_type": "stream",
     "text": [
      "W0308 14:18:10.560488 140477475776000 deprecation_wrapper.py:119] From /home/ishanu/.local/lib/python3.7/site-packages/keras/callbacks/tensorboard_v1.py:343: The name tf.Summary is deprecated. Please use tf.compat.v1.Summary instead.\n",
      "\n"
     ]
    },
    {
     "name": "stdout",
     "output_type": "stream",
     "text": [
      "Epoch 2/50\n",
      "60000/60000 [==============================] - 22s 374us/step - loss: 0.1583 - val_loss: 0.1500\n",
      "Epoch 3/50\n",
      "60000/60000 [==============================] - 24s 397us/step - loss: 0.1449 - val_loss: 0.1418\n",
      "Epoch 4/50\n",
      "60000/60000 [==============================] - 24s 397us/step - loss: 0.1371 - val_loss: 0.1325\n",
      "Epoch 5/50\n",
      "60000/60000 [==============================] - 32s 529us/step - loss: 0.1317 - val_loss: 0.1280\n",
      "Epoch 6/50\n",
      "60000/60000 [==============================] - 39s 644us/step - loss: 0.1276 - val_loss: 0.1246\n",
      "Epoch 7/50\n",
      "60000/60000 [==============================] - 40s 664us/step - loss: 0.1251 - val_loss: 0.1217\n",
      "Epoch 8/50\n",
      "60000/60000 [==============================] - 36s 600us/step - loss: 0.1227 - val_loss: 0.1193\n",
      "Epoch 9/50\n",
      "60000/60000 [==============================] - 25s 422us/step - loss: 0.1208 - val_loss: 0.1209\n",
      "Epoch 10/50\n",
      "60000/60000 [==============================] - 26s 428us/step - loss: 0.1193 - val_loss: 0.1274\n",
      "Epoch 11/50\n",
      "60000/60000 [==============================] - 25s 424us/step - loss: 0.1179 - val_loss: 0.1154\n",
      "Epoch 12/50\n",
      "60000/60000 [==============================] - 25s 424us/step - loss: 0.1167 - val_loss: 0.1143\n",
      "Epoch 13/50\n",
      "60000/60000 [==============================] - 25s 420us/step - loss: 0.1156 - val_loss: 0.1158\n",
      "Epoch 14/50\n",
      "60000/60000 [==============================] - 25s 413us/step - loss: 0.1144 - val_loss: 0.1150\n",
      "Epoch 15/50\n",
      "60000/60000 [==============================] - 25s 416us/step - loss: 0.1132 - val_loss: 0.1107\n",
      "Epoch 16/50\n",
      "60000/60000 [==============================] - 26s 440us/step - loss: 0.1122 - val_loss: 0.1094\n",
      "Epoch 17/50\n",
      "60000/60000 [==============================] - 26s 428us/step - loss: 0.1117 - val_loss: 0.1098\n",
      "Epoch 18/50\n",
      "60000/60000 [==============================] - 26s 428us/step - loss: 0.1108 - val_loss: 0.1134\n",
      "Epoch 19/50\n",
      "60000/60000 [==============================] - 27s 457us/step - loss: 0.1101 - val_loss: 0.1119\n",
      "Epoch 20/50\n",
      "60000/60000 [==============================] - 26s 427us/step - loss: 0.1091 - val_loss: 0.1081\n",
      "Epoch 21/50\n",
      "60000/60000 [==============================] - 27s 444us/step - loss: 0.1086 - val_loss: 0.1067\n",
      "Epoch 22/50\n",
      "60000/60000 [==============================] - 26s 437us/step - loss: 0.1083 - val_loss: 0.1049\n",
      "Epoch 23/50\n",
      "60000/60000 [==============================] - 27s 446us/step - loss: 0.1075 - val_loss: 0.1088\n",
      "Epoch 24/50\n",
      "60000/60000 [==============================] - 26s 427us/step - loss: 0.1073 - val_loss: 0.1063\n",
      "Epoch 25/50\n",
      "60000/60000 [==============================] - 27s 448us/step - loss: 0.1069 - val_loss: 0.1051\n",
      "Epoch 26/50\n",
      "60000/60000 [==============================] - 27s 452us/step - loss: 0.1065 - val_loss: 0.1058\n",
      "Epoch 27/50\n",
      "60000/60000 [==============================] - 28s 471us/step - loss: 0.1061 - val_loss: 0.1066\n",
      "Epoch 28/50\n",
      "60000/60000 [==============================] - 28s 463us/step - loss: 0.1055 - val_loss: 0.1017\n",
      "Epoch 29/50\n",
      "60000/60000 [==============================] - 27s 451us/step - loss: 0.1052 - val_loss: 0.1031\n",
      "Epoch 30/50\n",
      "60000/60000 [==============================] - 32s 527us/step - loss: 0.1048 - val_loss: 0.1027\n",
      "Epoch 31/50\n",
      "60000/60000 [==============================] - 36s 603us/step - loss: 0.1047 - val_loss: 0.1028\n",
      "Epoch 32/50\n",
      "60000/60000 [==============================] - 36s 598us/step - loss: 0.1043 - val_loss: 0.1026\n",
      "Epoch 33/50\n",
      "60000/60000 [==============================] - 30s 497us/step - loss: 0.1041 - val_loss: 0.1051\n",
      "Epoch 34/50\n",
      "60000/60000 [==============================] - 27s 443us/step - loss: 0.1038 - val_loss: 0.1014\n",
      "Epoch 35/50\n",
      "60000/60000 [==============================] - 26s 440us/step - loss: 0.1035 - val_loss: 0.1043\n",
      "Epoch 36/50\n",
      "60000/60000 [==============================] - 27s 442us/step - loss: 0.1035 - val_loss: 0.1027\n",
      "Epoch 37/50\n",
      "60000/60000 [==============================] - 28s 472us/step - loss: 0.1035 - val_loss: 0.1023\n",
      "Epoch 38/50\n",
      "60000/60000 [==============================] - 28s 468us/step - loss: 0.1031 - val_loss: 0.1011\n",
      "Epoch 39/50\n",
      "60000/60000 [==============================] - 26s 439us/step - loss: 0.1028 - val_loss: 0.1024\n",
      "Epoch 40/50\n",
      "60000/60000 [==============================] - 26s 440us/step - loss: 0.1026 - val_loss: 0.0999\n",
      "Epoch 41/50\n",
      "60000/60000 [==============================] - 27s 446us/step - loss: 0.1025 - val_loss: 0.1017\n",
      "Epoch 42/50\n",
      "60000/60000 [==============================] - 26s 438us/step - loss: 0.1023 - val_loss: 0.1027\n",
      "Epoch 43/50\n",
      "60000/60000 [==============================] - 26s 438us/step - loss: 0.1021 - val_loss: 0.1007\n",
      "Epoch 44/50\n",
      "60000/60000 [==============================] - 27s 453us/step - loss: 0.1021 - val_loss: 0.0995\n",
      "Epoch 45/50\n",
      "60000/60000 [==============================] - 26s 440us/step - loss: 0.1020 - val_loss: 0.0989\n",
      "Epoch 46/50\n",
      "60000/60000 [==============================] - 27s 444us/step - loss: 0.1019 - val_loss: 0.1018\n",
      "Epoch 47/50\n",
      "60000/60000 [==============================] - 26s 439us/step - loss: 0.1017 - val_loss: 0.1011\n",
      "Epoch 48/50\n",
      "60000/60000 [==============================] - 26s 440us/step - loss: 0.1014 - val_loss: 0.0990\n",
      "Epoch 49/50\n",
      "60000/60000 [==============================] - 27s 446us/step - loss: 0.1014 - val_loss: 0.1021\n",
      "Epoch 50/50\n",
      "60000/60000 [==============================] - 26s 437us/step - loss: 0.1013 - val_loss: 0.0985\n"
     ]
    },
    {
     "data": {
      "text/plain": [
       "<keras.callbacks.callbacks.History at 0x7fc3643c13c8>"
      ]
     },
     "execution_count": 7,
     "metadata": {},
     "output_type": "execute_result"
    }
   ],
   "source": [
    "from keras.callbacks import TensorBoard\n",
    "\n",
    "autoencoder.fit(x_train, x_train,\n",
    "                epochs=50,\n",
    "                batch_size=128,\n",
    "                shuffle=True,\n",
    "                validation_data=(x_test, x_test),\n",
    "                callbacks=[TensorBoard(log_dir='/tmp/autoencoder')])"
   ]
  },
  {
   "cell_type": "code",
   "execution_count": 8,
   "metadata": {},
   "outputs": [
    {
     "name": "stdout",
     "output_type": "stream",
     "text": [
      "/home/ishanu/ZED/Research/CCTS40500_/notebooks\r\n"
     ]
    }
   ],
   "source": [
    "!pwd"
   ]
  },
  {
   "cell_type": "code",
   "execution_count": null,
   "metadata": {},
   "outputs": [],
   "source": []
  }
 ],
 "metadata": {
  "kernelspec": {
   "display_name": "Python 3",
   "language": "python",
   "name": "python3"
  },
  "language_info": {
   "codemirror_mode": {
    "name": "ipython",
    "version": 3
   },
   "file_extension": ".py",
   "mimetype": "text/x-python",
   "name": "python",
   "nbconvert_exporter": "python",
   "pygments_lexer": "ipython3",
   "version": "3.7.1"
  }
 },
 "nbformat": 4,
 "nbformat_minor": 2
}

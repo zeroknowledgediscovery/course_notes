{
 "cells": [
  {
   "cell_type": "code",
   "execution_count": 2,
   "metadata": {},
   "outputs": [
    {
     "name": "stdout",
     "output_type": "stream",
     "text": [
      "WARNING:tensorflow:From /home/ishanu/.local/lib/python3.7/site-packages/tensorflow_core/python/ops/resource_variable_ops.py:1630: calling BaseResourceVariable.__init__ (from tensorflow.python.ops.resource_variable_ops) with constraint is deprecated and will be removed in a future version.\n",
      "Instructions for updating:\n",
      "If using Keras pass *_constraint arguments to layers.\n",
      "WARNING:tensorflow:From /home/ishanu/.local/lib/python3.7/site-packages/tensorflow_core/python/ops/nn_impl.py:183: where (from tensorflow.python.ops.array_ops) is deprecated and will be removed in a future version.\n",
      "Instructions for updating:\n",
      "Use tf.where in 2.0, which has the same broadcast rule as np.where\n"
     ]
    }
   ],
   "source": [
    "from tensorflow.keras.layers import Input, Dense, Conv2D, MaxPooling2D, UpSampling2D\n",
    "from tensorflow.keras.models import Model\n",
    "from tensorflow.keras import backend as K\n",
    "\n",
    "input_img = Input(shape=(28, 28, 1))  # adapt this if using `channels_first` image data format\n",
    "\n",
    "x = Conv2D(16, (3, 3), activation='relu', padding='same')(input_img)\n",
    "x = MaxPooling2D((2, 2), padding='same')(x)\n",
    "x = Conv2D(8, (3, 3), activation='relu', padding='same')(x)\n",
    "x = MaxPooling2D((2, 2), padding='same')(x)\n",
    "x = Conv2D(8, (3, 3), activation='relu', padding='same')(x)\n",
    "encoded = MaxPooling2D((2, 2), padding='same')(x)\n",
    "\n",
    "# at this point the representation is (4, 4, 8) i.e. 128-dimensional\n",
    "\n",
    "x = Conv2D(8, (3, 3), activation='relu', padding='same')(encoded)\n",
    "x = UpSampling2D((2, 2))(x)\n",
    "x = Conv2D(8, (3, 3), activation='relu', padding='same')(x)\n",
    "x = UpSampling2D((2, 2))(x)\n",
    "x = Conv2D(16, (3, 3), activation='relu')(x)\n",
    "x = UpSampling2D((2, 2))(x)\n",
    "decoded = Conv2D(1, (3, 3), activation='sigmoid', padding='same')(x)\n",
    "\n",
    "autoencoder = Model(input_img, decoded)\n",
    "autoencoder.compile(optimizer='adadelta', loss='binary_crossentropy')\n"
   ]
  },
  {
   "cell_type": "code",
   "execution_count": 3,
   "metadata": {},
   "outputs": [],
   "source": [
    "from tensorflow.keras.datasets import mnist\n",
    "import numpy as np\n",
    "\n",
    "(x_train, _), (x_test, _) = mnist.load_data()\n",
    "\n",
    "x_train = x_train.astype('float32') / 255.\n",
    "x_test = x_test.astype('float32') / 255.\n",
    "x_train = np.reshape(x_train, (len(x_train), 28, 28, 1))  # adapt this if using `channels_first` image data format\n",
    "x_test = np.reshape(x_test, (len(x_test), 28, 28, 1))  # adapt this if using `channels_first` image data"
   ]
  },
  {
   "cell_type": "code",
   "execution_count": null,
   "metadata": {},
   "outputs": [],
   "source": [
    "#! ~/.local/bin/tensorboard --logdir=/tmp/autoencoder\n"
   ]
  },
  {
   "cell_type": "code",
   "execution_count": null,
   "metadata": {},
   "outputs": [
    {
     "name": "stdout",
     "output_type": "stream",
     "text": [
      "Train on 60000 samples, validate on 10000 samples\n",
      "Epoch 1/50\n"
     ]
    },
    {
     "name": "stderr",
     "output_type": "stream",
     "text": [
      "2023-03-01 11:26:05.628286: I tensorflow/core/platform/profile_utils/cpu_utils.cc:94] CPU Frequency: 3402225000 Hz\n",
      "2023-03-01 11:26:05.629158: I tensorflow/compiler/xla/service/service.cc:168] XLA service 0x55beffe84dd0 initialized for platform Host (this does not guarantee that XLA will be used). Devices:\n",
      "2023-03-01 11:26:05.629209: I tensorflow/compiler/xla/service/service.cc:176]   StreamExecutor device (0): Host, Default Version\n"
     ]
    },
    {
     "name": "stdout",
     "output_type": "stream",
     "text": [
      "  384/60000 [..............................] - ETA: 2:21 - loss: 0.6894"
     ]
    },
    {
     "name": "stderr",
     "output_type": "stream",
     "text": [
      "2023-03-01 11:26:06.320535: I tensorflow/core/profiler/lib/profiler_session.cc:205] Profiler session started.\n"
     ]
    },
    {
     "name": "stdout",
     "output_type": "stream",
     "text": [
      "60000/60000 [==============================] - 43s 711us/sample - loss: 0.6867 - val_loss: 0.6834\n",
      "Epoch 2/50\n",
      "60000/60000 [==============================] - 42s 692us/sample - loss: 0.6783 - val_loss: 0.6719\n",
      "Epoch 3/50\n",
      "60000/60000 [==============================] - 42s 705us/sample - loss: 0.6605 - val_loss: 0.6447\n",
      "Epoch 4/50\n",
      "60000/60000 [==============================] - 40s 672us/sample - loss: 0.6115 - val_loss: 0.5646\n",
      "Epoch 5/50\n",
      "60000/60000 [==============================] - 43s 710us/sample - loss: 0.5096 - val_loss: 0.4787\n",
      "Epoch 6/50\n",
      "60000/60000 [==============================] - 43s 714us/sample - loss: 0.4676 - val_loss: 0.4644\n",
      "Epoch 7/50\n",
      "60000/60000 [==============================] - 38s 630us/sample - loss: 0.4547 - val_loss: 0.4516\n",
      "Epoch 8/50\n",
      "60000/60000 [==============================] - 34s 559us/sample - loss: 0.4408 - val_loss: 0.4363\n",
      "Epoch 9/50\n",
      "60000/60000 [==============================] - 34s 573us/sample - loss: 0.4245 - val_loss: 0.4196\n",
      "Epoch 10/50\n",
      "60000/60000 [==============================] - 54s 892us/sample - loss: 0.4089 - val_loss: 0.4051\n",
      "Epoch 11/50\n",
      "60000/60000 [==============================] - 61s 1ms/sample - loss: 0.3954 - val_loss: 0.3922\n",
      "Epoch 12/50\n",
      "60000/60000 [==============================] - 77s 1ms/sample - loss: 0.3829 - val_loss: 0.3797\n",
      "Epoch 13/50\n",
      "60000/60000 [==============================] - 94s 2ms/sample - loss: 0.3704 - val_loss: 0.3666\n",
      "Epoch 14/50\n",
      "60000/60000 [==============================] - 93s 2ms/sample - loss: 0.3566 - val_loss: 0.3514\n",
      "Epoch 15/50\n",
      "60000/60000 [==============================] - 91s 2ms/sample - loss: 0.3404 - val_loss: 0.3338\n",
      "Epoch 16/50\n",
      "60000/60000 [==============================] - 102s 2ms/sample - loss: 0.3231 - val_loss: 0.3165\n",
      "Epoch 17/50\n",
      "60000/60000 [==============================] - 96s 2ms/sample - loss: 0.3069 - val_loss: 0.3011\n",
      "Epoch 18/50\n",
      "60000/60000 [==============================] - 98s 2ms/sample - loss: 0.2932 - val_loss: 0.2887\n",
      "Epoch 19/50\n",
      "60000/60000 [==============================] - 98s 2ms/sample - loss: 0.2827 - val_loss: 0.2795\n",
      "Epoch 20/50\n",
      "60000/60000 [==============================] - 98s 2ms/sample - loss: 0.2748 - val_loss: 0.2726\n",
      "Epoch 21/50\n",
      "60000/60000 [==============================] - 97s 2ms/sample - loss: 0.2689 - val_loss: 0.2673\n",
      "Epoch 22/50\n",
      "60000/60000 [==============================] - 94s 2ms/sample - loss: 0.2643 - val_loss: 0.2631\n",
      "Epoch 23/50\n",
      "60000/60000 [==============================] - 100s 2ms/sample - loss: 0.2607 - val_loss: 0.2597\n",
      "Epoch 24/50\n",
      "60000/60000 [==============================] - 84s 1ms/sample - loss: 0.2577 - val_loss: 0.2569\n",
      "Epoch 25/50\n",
      "60000/60000 [==============================] - 81s 1ms/sample - loss: 0.2550 - val_loss: 0.2543\n",
      "Epoch 26/50\n",
      "60000/60000 [==============================] - 80s 1ms/sample - loss: 0.2527 - val_loss: 0.2521\n",
      "Epoch 27/50\n",
      "60000/60000 [==============================] - 81s 1ms/sample - loss: 0.2506 - val_loss: 0.2500\n",
      "Epoch 28/50\n",
      "60000/60000 [==============================] - 82s 1ms/sample - loss: 0.2487 - val_loss: 0.2481\n",
      "Epoch 29/50\n",
      "49280/60000 [=======================>......] - ETA: 13s - loss: 0.2469"
     ]
    }
   ],
   "source": [
    "from tensorflow.keras.callbacks import TensorBoard\n",
    "\n",
    "autoencoder.fit(x_train, x_train,\n",
    "                epochs=50,\n",
    "                batch_size=128,\n",
    "                shuffle=True,\n",
    "                validation_data=(x_test, x_test),\n",
    "                callbacks=[TensorBoard(log_dir='/tmp/autoencoder')])"
   ]
  },
  {
   "cell_type": "code",
   "execution_count": null,
   "metadata": {},
   "outputs": [],
   "source": [
    "!pwd"
   ]
  },
  {
   "cell_type": "code",
   "execution_count": null,
   "metadata": {},
   "outputs": [],
   "source": []
  }
 ],
 "metadata": {
  "kernelspec": {
   "display_name": "Python 3 (ipykernel)",
   "language": "python",
   "name": "python3"
  },
  "language_info": {
   "codemirror_mode": {
    "name": "ipython",
    "version": 3
   },
   "file_extension": ".py",
   "mimetype": "text/x-python",
   "name": "python",
   "nbconvert_exporter": "python",
   "pygments_lexer": "ipython3",
   "version": "3.7.5"
  }
 },
 "nbformat": 4,
 "nbformat_minor": 2
}

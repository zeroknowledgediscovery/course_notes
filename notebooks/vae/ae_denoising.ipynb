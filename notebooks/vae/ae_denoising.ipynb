{
 "cells": [
  {
   "cell_type": "code",
   "execution_count": 2,
   "metadata": {},
   "outputs": [],
   "source": [
    "#import tensorflow.keras as keras\n",
    "from tensorflow.keras.datasets import mnist\n",
    "from tensorflow.keras.models import Sequential\n",
    "from tensorflow.keras.layers import Conv2D, Conv2DTranspose\n",
    "from tensorflow.keras.constraints import max_norm\n",
    "from tensorflow.keras import backend as K\n",
    "import matplotlib.pyplot as plt\n",
    "import numpy as np"
   ]
  },
  {
   "cell_type": "code",
   "execution_count": 3,
   "metadata": {},
   "outputs": [],
   "source": [
    "# Model configuration\n",
    "img_width, img_height = 28, 28\n",
    "batch_size = 150\n",
    "no_epochs = 50\n",
    "validation_split = 0.2\n",
    "verbosity = 1\n",
    "max_norm_value = 2.0\n",
    "noise_factor = 0.55\n",
    "number_of_visualizations = 6"
   ]
  },
  {
   "cell_type": "code",
   "execution_count": 4,
   "metadata": {},
   "outputs": [],
   "source": [
    "# Load MNIST dataset\n",
    "(input_train, target_train), (input_test, target_test) = mnist.load_data()\n",
    "\n",
    "# Reshape data based on channels first / channels last strategy.\n",
    "# This is dependent on whether you use TF, Theano or CNTK as backend.\n",
    "# Source: https://github.com/keras-team/keras/blob/master/examples/mnist_cnn.py\n",
    "if K.image_data_format() == 'channels_first':\n",
    "    input_train = input_train.reshape(input_train.shape[0], 1, img_width, img_height)\n",
    "    input_test = input_test.reshape(input_test.shape[0], 1, img_width, img_height)\n",
    "    input_shape = (1, img_width, img_height)\n",
    "else:\n",
    "    input_train = input_train.reshape(input_train.shape[0], img_width, img_height, 1)\n",
    "    input_test = input_test.reshape(input_test.shape[0], img_width, img_height, 1)\n",
    "    input_shape = (img_width, img_height, 1)\n",
    "\n",
    "# Parse numbers as floats\n",
    "input_train = input_train.astype('float32')\n",
    "input_test = input_test.astype('float32')\n",
    "\n",
    "# Normalize data\n",
    "input_train = input_train / 255\n",
    "input_test = input_test / 255"
   ]
  },
  {
   "cell_type": "code",
   "execution_count": 5,
   "metadata": {},
   "outputs": [],
   "source": [
    "# Add noise\n",
    "pure = input_train\n",
    "pure_test = input_test\n",
    "noise = np.random.normal(0, 1, pure.shape)\n",
    "noise_test = np.random.normal(0, 1, pure_test.shape)\n",
    "noisy_input = pure + noise_factor * noise\n",
    "noisy_input_test = pure_test + noise_factor * noise_test"
   ]
  },
  {
   "cell_type": "code",
   "execution_count": 6,
   "metadata": {},
   "outputs": [
    {
     "name": "stdout",
     "output_type": "stream",
     "text": [
      "WARNING:tensorflow:From /home/ishanu/.local/lib/python3.7/site-packages/tensorflow_core/python/ops/resource_variable_ops.py:1630: calling BaseResourceVariable.__init__ (from tensorflow.python.ops.resource_variable_ops) with constraint is deprecated and will be removed in a future version.\n",
      "Instructions for updating:\n",
      "If using Keras pass *_constraint arguments to layers.\n",
      "Model: \"sequential\"\n",
      "_________________________________________________________________\n",
      "Layer (type)                 Output Shape              Param #   \n",
      "=================================================================\n",
      "conv2d (Conv2D)              (None, 26, 26, 64)        640       \n",
      "_________________________________________________________________\n",
      "conv2d_1 (Conv2D)            (None, 24, 24, 32)        18464     \n",
      "_________________________________________________________________\n",
      "conv2d_transpose (Conv2DTran (None, 26, 26, 32)        9248      \n",
      "_________________________________________________________________\n",
      "conv2d_transpose_1 (Conv2DTr (None, 28, 28, 64)        18496     \n",
      "_________________________________________________________________\n",
      "conv2d_2 (Conv2D)            (None, 28, 28, 1)         577       \n",
      "=================================================================\n",
      "Total params: 47,425\n",
      "Trainable params: 47,425\n",
      "Non-trainable params: 0\n",
      "_________________________________________________________________\n"
     ]
    }
   ],
   "source": [
    "# Create the model\n",
    "model = Sequential()\n",
    "model.add(Conv2D(64, kernel_size=(3, 3), kernel_constraint=max_norm(max_norm_value), activation='relu', kernel_initializer='he_uniform', input_shape=input_shape))\n",
    "model.add(Conv2D(32, kernel_size=(3, 3), kernel_constraint=max_norm(max_norm_value), activation='relu', kernel_initializer='he_uniform'))\n",
    "model.add(Conv2DTranspose(32, kernel_size=(3,3), kernel_constraint=max_norm(max_norm_value), activation='relu', kernel_initializer='he_uniform'))\n",
    "model.add(Conv2DTranspose(64, kernel_size=(3,3), kernel_constraint=max_norm(max_norm_value), activation='relu', kernel_initializer='he_uniform'))\n",
    "model.add(Conv2D(1, kernel_size=(3, 3), kernel_constraint=max_norm(max_norm_value), activation='sigmoid', padding='same'))\n",
    "\n",
    "model.summary()"
   ]
  },
  {
   "cell_type": "code",
   "execution_count": null,
   "metadata": {},
   "outputs": [
    {
     "name": "stdout",
     "output_type": "stream",
     "text": [
      "WARNING:tensorflow:From /home/ishanu/.local/lib/python3.7/site-packages/tensorflow_core/python/ops/nn_impl.py:183: where (from tensorflow.python.ops.array_ops) is deprecated and will be removed in a future version.\n",
      "Instructions for updating:\n",
      "Use tf.where in 2.0, which has the same broadcast rule as np.where\n",
      "Train on 48000 samples, validate on 12000 samples\n",
      "Epoch 1/50\n"
     ]
    },
    {
     "name": "stderr",
     "output_type": "stream",
     "text": [
      "2023-03-01 11:34:26.832985: I tensorflow/core/platform/profile_utils/cpu_utils.cc:94] CPU Frequency: 3402225000 Hz\n",
      "2023-03-01 11:34:26.833969: I tensorflow/compiler/xla/service/service.cc:168] XLA service 0x559cac7f0de0 initialized for platform Host (this does not guarantee that XLA will be used). Devices:\n",
      "2023-03-01 11:34:26.834030: I tensorflow/compiler/xla/service/service.cc:176]   StreamExecutor device (0): Host, Default Version\n"
     ]
    },
    {
     "name": "stdout",
     "output_type": "stream",
     "text": [
      "48000/48000 [==============================] - 476s 10ms/sample - loss: 0.1254 - val_loss: 0.1076\n",
      "Epoch 2/50\n",
      "48000/48000 [==============================] - 481s 10ms/sample - loss: 0.1048 - val_loss: 0.1034\n",
      "Epoch 3/50\n",
      "48000/48000 [==============================] - 411s 9ms/sample - loss: 0.1021 - val_loss: 0.1017\n",
      "Epoch 4/50\n",
      "30450/48000 [==================>...........] - ETA: 2:05 - loss: 0.1009"
     ]
    }
   ],
   "source": [
    "# Compile and fit data\n",
    "model.compile(optimizer='adam', loss='binary_crossentropy')\n",
    "model.fit(noisy_input, pure,\n",
    "                epochs=no_epochs,\n",
    "                batch_size=batch_size,\n",
    "                validation_split=validation_split)"
   ]
  },
  {
   "cell_type": "code",
   "execution_count": null,
   "metadata": {},
   "outputs": [],
   "source": [
    "# Generate denoised images\n",
    "samples = noisy_input_test[:number_of_visualizations]\n",
    "targets = target_test[:number_of_visualizations]\n",
    "denoised_images = model.predict(samples)"
   ]
  },
  {
   "cell_type": "code",
   "execution_count": null,
   "metadata": {},
   "outputs": [],
   "source": [
    "# Plot denoised images\n",
    "for i in range(0, number_of_visualizations):\n",
    "  # Get the sample and the reconstruction\n",
    "  noisy_image = noisy_input_test[i][:, :, 0]\n",
    "  pure_image  = pure_test[i][:, :, 0]\n",
    "  denoised_image = denoised_images[i][:, :, 0]\n",
    "  input_class = targets[i]\n",
    "  # Matplotlib preparations\n",
    "  fig, axes = plt.subplots(1, 3)\n",
    "  fig.set_size_inches(8, 3.5)\n",
    "  # Plot sample and reconstruciton\n",
    "  axes[0].imshow(noisy_image)\n",
    "  axes[0].set_title('Noisy image')\n",
    "  axes[1].imshow(pure_image)\n",
    "  axes[1].set_title('Pure image')\n",
    "  axes[2].imshow(denoised_image)\n",
    "  axes[2].set_title('Denoised image')\n",
    "  fig.suptitle(f'MNIST target = {input_class}')\n",
    "  plt.show()"
   ]
  },
  {
   "cell_type": "code",
   "execution_count": null,
   "metadata": {},
   "outputs": [],
   "source": []
  }
 ],
 "metadata": {
  "kernelspec": {
   "display_name": "Python 3 (ipykernel)",
   "language": "python",
   "name": "python3"
  },
  "language_info": {
   "codemirror_mode": {
    "name": "ipython",
    "version": 3
   },
   "file_extension": ".py",
   "mimetype": "text/x-python",
   "name": "python",
   "nbconvert_exporter": "python",
   "pygments_lexer": "ipython3",
   "version": "3.7.5"
  }
 },
 "nbformat": 4,
 "nbformat_minor": 2
}

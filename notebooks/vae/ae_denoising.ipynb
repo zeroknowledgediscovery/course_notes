{
 "cells": [
  {
   "cell_type": "code",
   "execution_count": 8,
   "metadata": {},
   "outputs": [],
   "source": [
    "import keras\n",
    "from keras.datasets import mnist\n",
    "from keras.models import Sequential\n",
    "from keras.layers import Conv2D, Conv2DTranspose\n",
    "from keras.constraints import max_norm\n",
    "from keras import backend as K\n",
    "import matplotlib.pyplot as plt\n",
    "import numpy as np"
   ]
  },
  {
   "cell_type": "code",
   "execution_count": 3,
   "metadata": {},
   "outputs": [],
   "source": [
    "# Model configuration\n",
    "img_width, img_height = 28, 28\n",
    "batch_size = 150\n",
    "no_epochs = 50\n",
    "validation_split = 0.2\n",
    "verbosity = 1\n",
    "max_norm_value = 2.0\n",
    "noise_factor = 0.55\n",
    "number_of_visualizations = 6"
   ]
  },
  {
   "cell_type": "code",
   "execution_count": 4,
   "metadata": {},
   "outputs": [],
   "source": [
    "# Load MNIST dataset\n",
    "(input_train, target_train), (input_test, target_test) = mnist.load_data()\n",
    "\n",
    "# Reshape data based on channels first / channels last strategy.\n",
    "# This is dependent on whether you use TF, Theano or CNTK as backend.\n",
    "# Source: https://github.com/keras-team/keras/blob/master/examples/mnist_cnn.py\n",
    "if K.image_data_format() == 'channels_first':\n",
    "    input_train = input_train.reshape(input_train.shape[0], 1, img_width, img_height)\n",
    "    input_test = input_test.reshape(input_test.shape[0], 1, img_width, img_height)\n",
    "    input_shape = (1, img_width, img_height)\n",
    "else:\n",
    "    input_train = input_train.reshape(input_train.shape[0], img_width, img_height, 1)\n",
    "    input_test = input_test.reshape(input_test.shape[0], img_width, img_height, 1)\n",
    "    input_shape = (img_width, img_height, 1)\n",
    "\n",
    "# Parse numbers as floats\n",
    "input_train = input_train.astype('float32')\n",
    "input_test = input_test.astype('float32')\n",
    "\n",
    "# Normalize data\n",
    "input_train = input_train / 255\n",
    "input_test = input_test / 255"
   ]
  },
  {
   "cell_type": "code",
   "execution_count": 5,
   "metadata": {},
   "outputs": [],
   "source": [
    "# Add noise\n",
    "pure = input_train\n",
    "pure_test = input_test\n",
    "noise = np.random.normal(0, 1, pure.shape)\n",
    "noise_test = np.random.normal(0, 1, pure_test.shape)\n",
    "noisy_input = pure + noise_factor * noise\n",
    "noisy_input_test = pure_test + noise_factor * noise_test"
   ]
  },
  {
   "cell_type": "code",
   "execution_count": 6,
   "metadata": {},
   "outputs": [
    {
     "name": "stdout",
     "output_type": "stream",
     "text": [
      "Model: \"sequential_1\"\n",
      "_________________________________________________________________\n",
      "Layer (type)                 Output Shape              Param #   \n",
      "=================================================================\n",
      "conv2d_1 (Conv2D)            (None, 26, 26, 64)        640       \n",
      "_________________________________________________________________\n",
      "conv2d_2 (Conv2D)            (None, 24, 24, 32)        18464     \n",
      "_________________________________________________________________\n",
      "conv2d_transpose_1 (Conv2DTr (None, 26, 26, 32)        9248      \n",
      "_________________________________________________________________\n",
      "conv2d_transpose_2 (Conv2DTr (None, 28, 28, 64)        18496     \n",
      "_________________________________________________________________\n",
      "conv2d_3 (Conv2D)            (None, 28, 28, 1)         577       \n",
      "=================================================================\n",
      "Total params: 47,425\n",
      "Trainable params: 47,425\n",
      "Non-trainable params: 0\n",
      "_________________________________________________________________\n"
     ]
    }
   ],
   "source": [
    "# Create the model\n",
    "model = Sequential()\n",
    "model.add(Conv2D(64, kernel_size=(3, 3), kernel_constraint=max_norm(max_norm_value), activation='relu', kernel_initializer='he_uniform', input_shape=input_shape))\n",
    "model.add(Conv2D(32, kernel_size=(3, 3), kernel_constraint=max_norm(max_norm_value), activation='relu', kernel_initializer='he_uniform'))\n",
    "model.add(Conv2DTranspose(32, kernel_size=(3,3), kernel_constraint=max_norm(max_norm_value), activation='relu', kernel_initializer='he_uniform'))\n",
    "model.add(Conv2DTranspose(64, kernel_size=(3,3), kernel_constraint=max_norm(max_norm_value), activation='relu', kernel_initializer='he_uniform'))\n",
    "model.add(Conv2D(1, kernel_size=(3, 3), kernel_constraint=max_norm(max_norm_value), activation='sigmoid', padding='same'))\n",
    "\n",
    "model.summary()"
   ]
  },
  {
   "cell_type": "code",
   "execution_count": 7,
   "metadata": {},
   "outputs": [
    {
     "name": "stderr",
     "output_type": "stream",
     "text": [
      "WARNING: Logging before flag parsing goes to stderr.\n",
      "W0308 15:20:15.704763 140139652204032 deprecation.py:323] From /home/ishanu/.local/lib/python3.7/site-packages/tensorflow/python/ops/nn_impl.py:180: add_dispatch_support.<locals>.wrapper (from tensorflow.python.ops.array_ops) is deprecated and will be removed in a future version.\n",
      "Instructions for updating:\n",
      "Use tf.where in 2.0, which has the same broadcast rule as np.where\n",
      "W0308 15:20:16.480775 140139652204032 deprecation_wrapper.py:119] From /home/ishanu/.local/lib/python3.7/site-packages/keras/backend/tensorflow_backend.py:422: The name tf.global_variables is deprecated. Please use tf.compat.v1.global_variables instead.\n",
      "\n"
     ]
    },
    {
     "name": "stdout",
     "output_type": "stream",
     "text": [
      "Train on 48000 samples, validate on 12000 samples\n",
      "Epoch 1/50\n",
      "48000/48000 [==============================] - 168s 4ms/step - loss: 0.1208 - val_loss: 0.1060\n",
      "Epoch 2/50\n",
      "48000/48000 [==============================] - 182s 4ms/step - loss: 0.1036 - val_loss: 0.1026\n",
      "Epoch 3/50\n",
      "48000/48000 [==============================] - 181s 4ms/step - loss: 0.1011 - val_loss: 0.1016\n",
      "Epoch 4/50\n",
      "48000/48000 [==============================] - 189s 4ms/step - loss: 0.1000 - val_loss: 0.1009\n",
      "Epoch 5/50\n",
      "48000/48000 [==============================] - 186s 4ms/step - loss: 0.0992 - val_loss: 0.1001\n",
      "Epoch 6/50\n",
      "48000/48000 [==============================] - 186s 4ms/step - loss: 0.0988 - val_loss: 0.0998\n",
      "Epoch 7/50\n",
      "48000/48000 [==============================] - 192s 4ms/step - loss: 0.0983 - val_loss: 0.1006\n",
      "Epoch 8/50\n",
      "48000/48000 [==============================] - 188s 4ms/step - loss: 0.0981 - val_loss: 0.0986\n",
      "Epoch 9/50\n",
      "48000/48000 [==============================] - 191s 4ms/step - loss: 0.0978 - val_loss: 0.0993\n",
      "Epoch 10/50\n",
      "48000/48000 [==============================] - 185s 4ms/step - loss: 0.0976 - val_loss: 0.0984\n",
      "Epoch 11/50\n",
      "48000/48000 [==============================] - 190s 4ms/step - loss: 0.0974 - val_loss: 0.0981\n",
      "Epoch 12/50\n",
      "48000/48000 [==============================] - 187s 4ms/step - loss: 0.0972 - val_loss: 0.0980\n",
      "Epoch 13/50\n",
      "48000/48000 [==============================] - 185s 4ms/step - loss: 0.0971 - val_loss: 0.0979\n",
      "Epoch 14/50\n",
      "48000/48000 [==============================] - 185s 4ms/step - loss: 0.0970 - val_loss: 0.0978\n",
      "Epoch 15/50\n",
      "48000/48000 [==============================] - 186s 4ms/step - loss: 0.0968 - val_loss: 0.0977\n",
      "Epoch 16/50\n",
      "48000/48000 [==============================] - 181s 4ms/step - loss: 0.0967 - val_loss: 0.0977\n",
      "Epoch 17/50\n",
      "48000/48000 [==============================] - 186s 4ms/step - loss: 0.0966 - val_loss: 0.0975\n",
      "Epoch 18/50\n",
      "48000/48000 [==============================] - 190s 4ms/step - loss: 0.0965 - val_loss: 0.0976\n",
      "Epoch 19/50\n",
      "48000/48000 [==============================] - 186s 4ms/step - loss: 0.0964 - val_loss: 0.0978\n",
      "Epoch 20/50\n",
      "48000/48000 [==============================] - 189s 4ms/step - loss: 0.0964 - val_loss: 0.0971\n",
      "Epoch 21/50\n",
      "48000/48000 [==============================] - 188s 4ms/step - loss: 0.0963 - val_loss: 0.0972\n",
      "Epoch 22/50\n",
      "48000/48000 [==============================] - 185s 4ms/step - loss: 0.0962 - val_loss: 0.0975\n",
      "Epoch 23/50\n",
      "48000/48000 [==============================] - 188s 4ms/step - loss: 0.0961 - val_loss: 0.0974\n",
      "Epoch 24/50\n",
      "48000/48000 [==============================] - 186s 4ms/step - loss: 0.0961 - val_loss: 0.0971\n",
      "Epoch 25/50\n",
      "48000/48000 [==============================] - 187s 4ms/step - loss: 0.0960 - val_loss: 0.0970\n",
      "Epoch 26/50\n",
      "48000/48000 [==============================] - 185s 4ms/step - loss: 0.0960 - val_loss: 0.0970\n",
      "Epoch 27/50\n",
      "48000/48000 [==============================] - 187s 4ms/step - loss: 0.0959 - val_loss: 0.0969\n",
      "Epoch 28/50\n",
      "48000/48000 [==============================] - 185s 4ms/step - loss: 0.0959 - val_loss: 0.0969\n",
      "Epoch 29/50\n",
      "48000/48000 [==============================] - 181s 4ms/step - loss: 0.0958 - val_loss: 0.0969\n",
      "Epoch 30/50\n",
      "48000/48000 [==============================] - 182s 4ms/step - loss: 0.0958 - val_loss: 0.0973\n",
      "Epoch 31/50\n",
      "48000/48000 [==============================] - 181s 4ms/step - loss: 0.0957 - val_loss: 0.0969\n",
      "Epoch 32/50\n",
      "48000/48000 [==============================] - 177s 4ms/step - loss: 0.0957 - val_loss: 0.0969\n",
      "Epoch 33/50\n",
      "48000/48000 [==============================] - 186s 4ms/step - loss: 0.0956 - val_loss: 0.0968\n",
      "Epoch 34/50\n",
      "48000/48000 [==============================] - 188s 4ms/step - loss: 0.0956 - val_loss: 0.0967\n",
      "Epoch 35/50\n",
      "48000/48000 [==============================] - 187s 4ms/step - loss: 0.0956 - val_loss: 0.0968\n",
      "Epoch 36/50\n",
      "48000/48000 [==============================] - 188s 4ms/step - loss: 0.0956 - val_loss: 0.0967\n",
      "Epoch 37/50\n",
      "48000/48000 [==============================] - 185s 4ms/step - loss: 0.0955 - val_loss: 0.0967\n",
      "Epoch 38/50\n",
      "48000/48000 [==============================] - 189s 4ms/step - loss: 0.0954 - val_loss: 0.0967\n",
      "Epoch 39/50\n",
      "48000/48000 [==============================] - 194s 4ms/step - loss: 0.0955 - val_loss: 0.0967\n",
      "Epoch 40/50\n",
      "48000/48000 [==============================] - 207s 4ms/step - loss: 0.0954 - val_loss: 0.0969\n",
      "Epoch 41/50\n",
      "48000/48000 [==============================] - 216s 4ms/step - loss: 0.0954 - val_loss: 0.0968\n",
      "Epoch 42/50\n",
      "48000/48000 [==============================] - 216s 5ms/step - loss: 0.0954 - val_loss: 0.0968\n",
      "Epoch 43/50\n",
      "48000/48000 [==============================] - 207s 4ms/step - loss: 0.0953 - val_loss: 0.0966\n",
      "Epoch 44/50\n",
      "48000/48000 [==============================] - 212s 4ms/step - loss: 0.0953 - val_loss: 0.0967\n",
      "Epoch 45/50\n",
      "48000/48000 [==============================] - 207s 4ms/step - loss: 0.0953 - val_loss: 0.0966\n",
      "Epoch 46/50\n",
      "48000/48000 [==============================] - 207s 4ms/step - loss: 0.0953 - val_loss: 0.0969\n",
      "Epoch 47/50\n",
      "48000/48000 [==============================] - 205s 4ms/step - loss: 0.0953 - val_loss: 0.0966\n",
      "Epoch 48/50\n",
      "48000/48000 [==============================] - 206s 4ms/step - loss: 0.0952 - val_loss: 0.0968\n",
      "Epoch 49/50\n",
      "48000/48000 [==============================] - 205s 4ms/step - loss: 0.0952 - val_loss: 0.0968\n",
      "Epoch 50/50\n",
      "48000/48000 [==============================] - 203s 4ms/step - loss: 0.0952 - val_loss: 0.0966\n"
     ]
    },
    {
     "data": {
      "text/plain": [
       "<keras.callbacks.callbacks.History at 0x7f74469a7978>"
      ]
     },
     "execution_count": 7,
     "metadata": {},
     "output_type": "execute_result"
    }
   ],
   "source": [
    "# Compile and fit data\n",
    "model.compile(optimizer='adam', loss='binary_crossentropy')\n",
    "model.fit(noisy_input, pure,\n",
    "                epochs=no_epochs,\n",
    "                batch_size=batch_size,\n",
    "                validation_split=validation_split)"
   ]
  },
  {
   "cell_type": "code",
   "execution_count": null,
   "metadata": {},
   "outputs": [],
   "source": [
    "# Generate denoised images\n",
    "samples = noisy_input_test[:number_of_visualizations]\n",
    "targets = target_test[:number_of_visualizations]\n",
    "denoised_images = model.predict(samples)"
   ]
  },
  {
   "cell_type": "code",
   "execution_count": null,
   "metadata": {},
   "outputs": [],
   "source": [
    "# Plot denoised images\n",
    "for i in range(0, number_of_visualizations):\n",
    "  # Get the sample and the reconstruction\n",
    "  noisy_image = noisy_input_test[i][:, :, 0]\n",
    "  pure_image  = pure_test[i][:, :, 0]\n",
    "  denoised_image = denoised_images[i][:, :, 0]\n",
    "  input_class = targets[i]\n",
    "  # Matplotlib preparations\n",
    "  fig, axes = plt.subplots(1, 3)\n",
    "  fig.set_size_inches(8, 3.5)\n",
    "  # Plot sample and reconstruciton\n",
    "  axes[0].imshow(noisy_image)\n",
    "  axes[0].set_title('Noisy image')\n",
    "  axes[1].imshow(pure_image)\n",
    "  axes[1].set_title('Pure image')\n",
    "  axes[2].imshow(denoised_image)\n",
    "  axes[2].set_title('Denoised image')\n",
    "  fig.suptitle(f'MNIST target = {input_class}')\n",
    "  plt.show()"
   ]
  }
 ],
 "metadata": {
  "kernelspec": {
   "display_name": "Python 3",
   "language": "python",
   "name": "python3"
  },
  "language_info": {
   "codemirror_mode": {
    "name": "ipython",
    "version": 3
   },
   "file_extension": ".py",
   "mimetype": "text/x-python",
   "name": "python",
   "nbconvert_exporter": "python",
   "pygments_lexer": "ipython3",
   "version": "3.7.1"
  }
 },
 "nbformat": 4,
 "nbformat_minor": 2
}

{
 "cells": [
  {
   "cell_type": "code",
   "execution_count": 1,
   "metadata": {},
   "outputs": [
    {
     "name": "stdout",
     "output_type": "stream",
     "text": [
      "WARNING:tensorflow:From /home/ishanu/.local/lib/python3.7/site-packages/tensorflow_core/python/ops/resource_variable_ops.py:1630: calling BaseResourceVariable.__init__ (from tensorflow.python.ops.resource_variable_ops) with constraint is deprecated and will be removed in a future version.\n",
      "Instructions for updating:\n",
      "If using Keras pass *_constraint arguments to layers.\n",
      "Train on 60000 samples, validate on 10000 samples\n",
      "Epoch 1/50\n"
     ]
    },
    {
     "name": "stderr",
     "output_type": "stream",
     "text": [
      "2023-03-03 10:29:11.122094: I tensorflow/core/platform/profile_utils/cpu_utils.cc:94] CPU Frequency: 3402225000 Hz\n",
      "2023-03-03 10:29:11.122664: I tensorflow/compiler/xla/service/service.cc:168] XLA service 0x55e778d6a170 initialized for platform Host (this does not guarantee that XLA will be used). Devices:\n",
      "2023-03-03 10:29:11.122680: I tensorflow/compiler/xla/service/service.cc:176]   StreamExecutor device (0): Host, Default Version\n"
     ]
    },
    {
     "name": "stdout",
     "output_type": "stream",
     "text": [
      "60000/60000 [==============================] - 3s 48us/sample - loss: 0.0752 - val_loss: 0.0491\n",
      "Epoch 2/50\n",
      "60000/60000 [==============================] - 3s 44us/sample - loss: 0.0426 - val_loss: 0.0364\n",
      "Epoch 3/50\n",
      "60000/60000 [==============================] - 3s 45us/sample - loss: 0.0333 - val_loss: 0.0296\n",
      "Epoch 4/50\n",
      "60000/60000 [==============================] - 3s 45us/sample - loss: 0.0281 - val_loss: 0.0259\n",
      "Epoch 5/50\n",
      "60000/60000 [==============================] - 3s 44us/sample - loss: 0.0254 - val_loss: 0.0240\n",
      "Epoch 6/50\n",
      "60000/60000 [==============================] - 3s 44us/sample - loss: 0.0236 - val_loss: 0.0223\n",
      "Epoch 7/50\n",
      "60000/60000 [==============================] - 3s 44us/sample - loss: 0.0222 - val_loss: 0.0214\n",
      "Epoch 8/50\n",
      "60000/60000 [==============================] - 3s 46us/sample - loss: 0.0212 - val_loss: 0.0204\n",
      "Epoch 9/50\n",
      "60000/60000 [==============================] - 3s 44us/sample - loss: 0.0204 - val_loss: 0.0198\n",
      "Epoch 10/50\n",
      "60000/60000 [==============================] - 3s 44us/sample - loss: 0.0197 - val_loss: 0.0190\n",
      "Epoch 11/50\n",
      "60000/60000 [==============================] - 3s 45us/sample - loss: 0.0191 - val_loss: 0.0185\n",
      "Epoch 12/50\n",
      "60000/60000 [==============================] - 3s 46us/sample - loss: 0.0185 - val_loss: 0.0180\n",
      "Epoch 13/50\n",
      "60000/60000 [==============================] - 3s 46us/sample - loss: 0.0180 - val_loss: 0.0176\n",
      "Epoch 14/50\n",
      "60000/60000 [==============================] - 3s 47us/sample - loss: 0.0176 - val_loss: 0.0172\n",
      "Epoch 15/50\n",
      "60000/60000 [==============================] - 3s 47us/sample - loss: 0.0172 - val_loss: 0.0168\n",
      "Epoch 16/50\n",
      "60000/60000 [==============================] - 3s 48us/sample - loss: 0.0168 - val_loss: 0.0166\n",
      "Epoch 17/50\n",
      "60000/60000 [==============================] - 3s 48us/sample - loss: 0.0166 - val_loss: 0.0163\n",
      "Epoch 18/50\n",
      "60000/60000 [==============================] - 3s 49us/sample - loss: 0.0163 - val_loss: 0.0160\n",
      "Epoch 19/50\n",
      "60000/60000 [==============================] - 3s 49us/sample - loss: 0.0160 - val_loss: 0.0158\n",
      "Epoch 20/50\n",
      "60000/60000 [==============================] - 3s 49us/sample - loss: 0.0158 - val_loss: 0.0156\n",
      "Epoch 21/50\n",
      "60000/60000 [==============================] - 3s 49us/sample - loss: 0.0156 - val_loss: 0.0154\n",
      "Epoch 22/50\n",
      "60000/60000 [==============================] - 3s 50us/sample - loss: 0.0153 - val_loss: 0.0152\n",
      "Epoch 23/50\n",
      "60000/60000 [==============================] - 3s 49us/sample - loss: 0.0152 - val_loss: 0.0151\n",
      "Epoch 24/50\n",
      "60000/60000 [==============================] - 3s 50us/sample - loss: 0.0150 - val_loss: 0.0149\n",
      "Epoch 25/50\n",
      "60000/60000 [==============================] - 3s 49us/sample - loss: 0.0148 - val_loss: 0.0147\n",
      "Epoch 26/50\n",
      "60000/60000 [==============================] - 3s 50us/sample - loss: 0.0146 - val_loss: 0.0146\n",
      "Epoch 27/50\n",
      "60000/60000 [==============================] - 3s 51us/sample - loss: 0.0145 - val_loss: 0.0145\n",
      "Epoch 28/50\n",
      "60000/60000 [==============================] - 3s 50us/sample - loss: 0.0144 - val_loss: 0.0143\n",
      "Epoch 29/50\n",
      "60000/60000 [==============================] - 3s 50us/sample - loss: 0.0142 - val_loss: 0.0142\n",
      "Epoch 30/50\n",
      "60000/60000 [==============================] - 3s 51us/sample - loss: 0.0141 - val_loss: 0.0141\n",
      "Epoch 31/50\n",
      "60000/60000 [==============================] - 3s 51us/sample - loss: 0.0140 - val_loss: 0.0140\n",
      "Epoch 32/50\n",
      "60000/60000 [==============================] - 3s 50us/sample - loss: 0.0139 - val_loss: 0.0140\n",
      "Epoch 33/50\n",
      "60000/60000 [==============================] - 3s 51us/sample - loss: 0.0137 - val_loss: 0.0138\n",
      "Epoch 34/50\n",
      "60000/60000 [==============================] - 3s 51us/sample - loss: 0.0136 - val_loss: 0.0138\n",
      "Epoch 35/50\n",
      "60000/60000 [==============================] - 3s 51us/sample - loss: 0.0135 - val_loss: 0.0137\n",
      "Epoch 36/50\n",
      "60000/60000 [==============================] - 3s 51us/sample - loss: 0.0134 - val_loss: 0.0136\n",
      "Epoch 37/50\n",
      "60000/60000 [==============================] - 3s 52us/sample - loss: 0.0133 - val_loss: 0.0134\n",
      "Epoch 38/50\n",
      "60000/60000 [==============================] - 3s 51us/sample - loss: 0.0132 - val_loss: 0.0134\n",
      "Epoch 39/50\n",
      "60000/60000 [==============================] - 3s 51us/sample - loss: 0.0131 - val_loss: 0.0134\n",
      "Epoch 40/50\n",
      "60000/60000 [==============================] - 3s 51us/sample - loss: 0.0131 - val_loss: 0.0133\n",
      "Epoch 41/50\n",
      "60000/60000 [==============================] - 3s 52us/sample - loss: 0.0130 - val_loss: 0.0132\n",
      "Epoch 42/50\n",
      "60000/60000 [==============================] - 3s 51us/sample - loss: 0.0129 - val_loss: 0.0132\n",
      "Epoch 43/50\n",
      "60000/60000 [==============================] - 3s 52us/sample - loss: 0.0128 - val_loss: 0.0131\n",
      "Epoch 44/50\n",
      "60000/60000 [==============================] - 3s 52us/sample - loss: 0.0127 - val_loss: 0.0131\n",
      "Epoch 45/50\n",
      "60000/60000 [==============================] - 3s 52us/sample - loss: 0.0127 - val_loss: 0.0130\n",
      "Epoch 46/50\n",
      "60000/60000 [==============================] - 3s 52us/sample - loss: 0.0126 - val_loss: 0.0129\n",
      "Epoch 47/50\n",
      "60000/60000 [==============================] - 3s 53us/sample - loss: 0.0125 - val_loss: 0.0129\n",
      "Epoch 48/50\n",
      "60000/60000 [==============================] - 3s 52us/sample - loss: 0.0125 - val_loss: 0.0128\n",
      "Epoch 49/50\n",
      "60000/60000 [==============================] - 3s 53us/sample - loss: 0.0124 - val_loss: 0.0128\n",
      "Epoch 50/50\n",
      "60000/60000 [==============================] - 3s 53us/sample - loss: 0.0123 - val_loss: 0.0128\n"
     ]
    }
   ],
   "source": [
    "import numpy as np\n",
    "#import keras\n",
    "from tensorflow.keras.datasets import mnist\n",
    "from tensorflow.keras.models import Sequential, Model\n",
    "from tensorflow.keras.layers import Dense, Input\n",
    "from tensorflow.keras import optimizers\n",
    "from tensorflow.keras.optimizers import Adam\n",
    "\n",
    "(x_train, y_train), (x_test, y_test) = mnist.load_data()\n",
    "train_x = x_train.reshape(60000, 784) / 255\n",
    "val_x = x_test.reshape(10000, 784) / 255\n",
    "\n",
    "autoencoder = Sequential()\n",
    "autoencoder.add(Dense(512,  activation='elu', input_shape=(784,)))\n",
    "autoencoder.add(Dense(128,  activation='elu'))\n",
    "autoencoder.add(Dense(10,    activation='linear', name=\"bottleneck\"))\n",
    "autoencoder.add(Dense(128,  activation='elu'))\n",
    "autoencoder.add(Dense(512,  activation='elu'))\n",
    "autoencoder.add(Dense(784,  activation='sigmoid'))\n",
    "autoencoder.compile(loss='mean_squared_error', optimizer = Adam())\n",
    "trained_model = autoencoder.fit(train_x, train_x, batch_size=1024, epochs=50, verbose=1, validation_data=(val_x, val_x))\n",
    "encoder = Model(autoencoder.input, autoencoder.get_layer('bottleneck').output)\n",
    "encoded_data = encoder.predict(train_x)  # bottleneck representation\n",
    "decoded_output = autoencoder.predict(train_x)        # reconstruction\n",
    "encoding_dim = 10\n",
    "\n",
    "# return the decoder\n",
    "encoded_input = Input(shape=(encoding_dim,))\n",
    "decoder = autoencoder.layers[-3](encoded_input)\n",
    "decoder = autoencoder.layers[-2](decoder)\n",
    "decoder = autoencoder.layers[-1](decoder)\n",
    "decoder = Model(encoded_input, decoder)\n"
   ]
  },
  {
   "cell_type": "code",
   "execution_count": 38,
   "metadata": {},
   "outputs": [],
   "source": [
    "IMG=x_test[181]\n",
    "IMG.shape\n",
    "import numpy as np\n",
    "IMG=IMG+np.random.randint(0,50,size=(28,28))"
   ]
  },
  {
   "cell_type": "code",
   "execution_count": 41,
   "metadata": {},
   "outputs": [
    {
     "name": "stdout",
     "output_type": "stream",
     "text": [
      "[17.723295]\n"
     ]
    }
   ],
   "source": [
    "%matplotlib inline\n",
    "from tensorflow.keras.preprocessing import image\n",
    "# if the img.png is not one of the MNIST dataset that the model was trained on, the error will be very high.\n",
    "img = image.load_img(\"../../datasets/cat.jpg\", target_size=(28, 28), color_mode = \"grayscale\")\n",
    "#img = IMG\n",
    "input_img = image.img_to_array(img)/255\n",
    "#input_img=train_x[119]\n",
    "#input_img=val_x[181]\n",
    "inputs = input_img.reshape(1,784)\n",
    "target_data = autoencoder.predict(inputs)\n",
    "dist = np.linalg.norm(inputs - target_data, axis=-1)\n",
    "print(dist)"
   ]
  },
  {
   "cell_type": "code",
   "execution_count": 20,
   "metadata": {},
   "outputs": [
    {
     "name": "stdout",
     "output_type": "stream",
     "text": [
      "/home/ishanu/ZED/Research/course_notes/notebooks/vae\r\n"
     ]
    }
   ],
   "source": [
    "!pwd"
   ]
  },
  {
   "cell_type": "code",
   "execution_count": 14,
   "metadata": {},
   "outputs": [
    {
     "data": {
      "text/plain": [
       "(784,)"
      ]
     },
     "execution_count": 14,
     "metadata": {},
     "output_type": "execute_result"
    }
   ],
   "source": [
    "input_img.shape"
   ]
  },
  {
   "cell_type": "code",
   "execution_count": 23,
   "metadata": {},
   "outputs": [
    {
     "data": {
      "text/plain": [
       "<matplotlib.image.AxesImage at 0x7ff7d3bb8790>"
      ]
     },
     "execution_count": 23,
     "metadata": {},
     "output_type": "execute_result"
    },
    {
     "data": {
      "image/png": "[encoded data removed]",
      "text/plain": [
       "<Figure size 432x288 with 1 Axes>"
      ]
     },
     "metadata": {
      "needs_background": "light"
     },
     "output_type": "display_data"
    }
   ],
   "source": [
    "import pylab as plt\n",
    "plt.imshow(x_test[181])\n",
    "#import seaborn as sns\n",
    "#sns.heatmap(input_img)\n",
    "#plt.imshow(img)"
   ]
  },
  {
   "cell_type": "code",
   "execution_count": null,
   "metadata": {},
   "outputs": [],
   "source": []
  }
 ],
 "metadata": {
  "kernelspec": {
   "display_name": "Python 2",
   "language": "python",
   "name": "python2"
  },
  "language_info": {
   "codemirror_mode": {
    "name": "ipython",
    "version": 3
   },
   "file_extension": ".py",
   "mimetype": "text/x-python",
   "name": "python",
   "nbconvert_exporter": "python",
   "pygments_lexer": "ipython3",
   "version": "3.7.5"
  }
 },
 "nbformat": 4,
 "nbformat_minor": 2
}

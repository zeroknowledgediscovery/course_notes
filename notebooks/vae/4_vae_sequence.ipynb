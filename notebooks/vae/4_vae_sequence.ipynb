{
 "cells": [
  {
   "cell_type": "code",
   "execution_count": 27,
   "metadata": {},
   "outputs": [],
   "source": [
    "import numpy as np\n",
    "import matplotlib.pyplot as plt\n",
    "from scipy.stats import norm\n",
    "\n",
    "from keras import backend as K\n",
    "\n",
    "from keras.layers import Input, Dense, Lambda, Layer, Add, Multiply\n",
    "from keras.models import Model, Sequential\n",
    "from keras.datasets import mnist\n",
    "\n",
    "\n",
    "original_dim = 1000\n",
    "intermediate_dim = 512\n",
    "latent_dim = 2\n",
    "batch_size = 100\n",
    "epochs = 100\n",
    "epsilon_std = 1.0\n"
   ]
  },
  {
   "cell_type": "code",
   "execution_count": 28,
   "metadata": {},
   "outputs": [],
   "source": [
    "\n",
    "def nll(y_true, y_pred):\n",
    "    \"\"\" Negative log likelihood (Bernoulli). \"\"\"\n",
    "\n",
    "    # keras.losses.binary_crossentropy gives the mean\n",
    "    # over the last axis. we require the sum\n",
    "    return K.sum(K.binary_crossentropy(y_true, y_pred), axis=-1)\n",
    "\n",
    "\n",
    "class KLDivergenceLayer(Layer):\n",
    "\n",
    "    \"\"\" Identity transform layer that adds KL divergence\n",
    "    to the final model loss.\n",
    "    \"\"\"\n",
    "\n",
    "    def __init__(self, *args, **kwargs):\n",
    "        self.is_placeholder = True\n",
    "        super(KLDivergenceLayer, self).__init__(*args, **kwargs)\n",
    "\n",
    "    def call(self, inputs):\n",
    "\n",
    "        mu, log_var = inputs\n",
    "\n",
    "        kl_batch = - .5 * K.sum(1 + log_var -\n",
    "                                K.square(mu) -\n",
    "                                K.exp(log_var), axis=-1)\n",
    "\n",
    "        self.add_loss(K.mean(kl_batch), inputs=inputs)\n",
    "\n",
    "        return inputs\n",
    "\n"
   ]
  },
  {
   "cell_type": "code",
   "execution_count": 29,
   "metadata": {},
   "outputs": [],
   "source": [
    "decoder = Sequential([\n",
    "    Dense(intermediate_dim, input_dim=latent_dim, activation='relu'),\n",
    "    Dense(original_dim, activation='sigmoid')\n",
    "])\n",
    "\n",
    "x = Input(shape=(original_dim,))\n",
    "h = Dense(intermediate_dim, activation='relu')(x)\n",
    "\n",
    "z_mu = Dense(latent_dim)(h)\n",
    "z_log_var = Dense(latent_dim)(h)\n",
    "\n",
    "z_mu, z_log_var = KLDivergenceLayer()([z_mu, z_log_var])\n",
    "z_sigma = Lambda(lambda t: K.exp(.5*t))(z_log_var)\n",
    "\n",
    "eps = Input(tensor=K.random_normal(stddev=epsilon_std,\n",
    "                                   shape=(K.shape(x)[0], latent_dim)))\n",
    "z_eps = Multiply()([z_sigma, eps])\n",
    "z = Add()([z_mu, z_eps])\n",
    "\n",
    "x_pred = decoder(z)\n",
    "\n",
    "vae = Model(inputs=[x, eps], outputs=x_pred)\n",
    "vae.compile(optimizer='rmsprop', loss=nll)\n"
   ]
  },
  {
   "cell_type": "code",
   "execution_count": 30,
   "metadata": {},
   "outputs": [],
   "source": [
    "import pandas as pd\n",
    "import glob\n",
    "from sklearn.model_selection import train_test_split\n"
   ]
  },
  {
   "cell_type": "code",
   "execution_count": 31,
   "metadata": {},
   "outputs": [],
   "source": [
    "def splitw(x):\n",
    "    return np.array([y for y in x])\n",
    "#.replace('T','1'),replace('G','2').replace('C','3')"
   ]
  },
  {
   "cell_type": "code",
   "execution_count": 32,
   "metadata": {},
   "outputs": [],
   "source": [
    "FILES=glob.glob('../../datasets/SEQUENCE_/HIV/*seq')\n",
    "#! wc ../hwdata/hiv/*seq"
   ]
  },
  {
   "cell_type": "code",
   "execution_count": 33,
   "metadata": {},
   "outputs": [
    {
     "data": {
      "text/plain": [
       "(158,)"
      ]
     },
     "execution_count": 33,
     "metadata": {},
     "output_type": "execute_result"
    }
   ],
   "source": [
    "data=pd.concat([pd.read_csv(i,header=None) for i in FILES])\n",
    "\n",
    "data1=np.array([x for x in np.squeeze(data)])\n",
    "\n",
    "data2=np.array([splitw(x.replace('A','1').replace('T','2').replace('G','3').replace('C','4')).astype(int) for x in data1])\n",
    "\n",
    "data2.shape"
   ]
  },
  {
   "cell_type": "code",
   "execution_count": 34,
   "metadata": {},
   "outputs": [],
   "source": [
    "X=[]\n",
    "dim1=158\n",
    "for i in data2:\n",
    "    X=np.append(X,i[:original_dim])\n",
    "X=X.reshape(dim1,int(original_dim))\n",
    "X=X/4."
   ]
  },
  {
   "cell_type": "code",
   "execution_count": 35,
   "metadata": {},
   "outputs": [
    {
     "data": {
      "text/plain": [
       "array([0., 0., 0., 0., 0., 0., 0., 0., 0., 0., 0., 0., 0., 0., 0., 0., 0.,\n",
       "       0., 0., 0., 0., 0., 0., 0., 0., 0., 0., 0., 0., 0., 0., 0., 0., 0.,\n",
       "       0., 0., 0., 0., 0., 0., 0., 0., 0., 0., 0., 0., 0., 0., 0., 0., 0.,\n",
       "       0., 0., 0., 0., 0., 0., 0., 0., 0., 1., 1., 1., 1., 1., 1., 1., 1.,\n",
       "       1., 1., 1., 1., 1., 1., 1., 1., 1., 1., 1., 1., 1., 1., 1., 1., 1.,\n",
       "       1., 1., 1., 1., 1., 1., 1., 1., 1., 1., 1., 1., 2., 2., 2., 2., 2.,\n",
       "       2., 2., 2., 2., 2., 2., 2., 2., 2., 2., 2., 2., 2., 2., 2., 2., 2.,\n",
       "       2., 3., 3., 3., 3., 3., 3., 3., 3., 3., 3., 3., 3., 3., 3., 3., 3.,\n",
       "       3., 3., 3., 3., 3., 3., 3., 3., 3., 3., 3., 3., 3., 3., 3., 3., 3.,\n",
       "       3., 3., 3., 3., 3.])"
      ]
     },
     "execution_count": 35,
     "metadata": {},
     "output_type": "execute_result"
    }
   ],
   "source": [
    "y=np.array([0*np.ones(60),1*np.ones(37),2*np.ones(23),3*np.ones(38)])\n",
    "y=np.squeeze(y)\n",
    "YY=[]\n",
    "for i in y:\n",
    "    YY=np.append(YY,i)\n",
    "YY"
   ]
  },
  {
   "cell_type": "code",
   "execution_count": 36,
   "metadata": {},
   "outputs": [],
   "source": [
    "x_train, x_test, y_train,  y_test=train_test_split(X,YY,test_size=.2)"
   ]
  },
  {
   "cell_type": "code",
   "execution_count": 37,
   "metadata": {},
   "outputs": [
    {
     "data": {
      "text/plain": [
       "(32, 1000)"
      ]
     },
     "execution_count": 37,
     "metadata": {},
     "output_type": "execute_result"
    }
   ],
   "source": [
    "x_test.shape"
   ]
  },
  {
   "cell_type": "code",
   "execution_count": 38,
   "metadata": {},
   "outputs": [
    {
     "name": "stdout",
     "output_type": "stream",
     "text": [
      "Train on 126 samples, validate on 32 samples\n",
      "Epoch 1/100\n",
      "126/126 [==============================] - 0s 2ms/step - loss: 758.5029 - val_loss: 791.0321\n",
      "Epoch 2/100\n",
      "126/126 [==============================] - 0s 165us/step - loss: 774.0130 - val_loss: 703.2496\n",
      "Epoch 3/100\n",
      "126/126 [==============================] - 0s 229us/step - loss: 699.5479 - val_loss: 694.5011\n",
      "Epoch 4/100\n",
      "126/126 [==============================] - 0s 204us/step - loss: 692.1135 - val_loss: 692.3074\n",
      "Epoch 5/100\n",
      "126/126 [==============================] - 0s 184us/step - loss: 688.8715 - val_loss: 690.2464\n",
      "Epoch 6/100\n",
      "126/126 [==============================] - 0s 183us/step - loss: 686.0189 - val_loss: 688.6051\n",
      "Epoch 7/100\n",
      "126/126 [==============================] - 0s 215us/step - loss: 683.5497 - val_loss: 688.5975\n",
      "Epoch 8/100\n",
      "126/126 [==============================] - 0s 194us/step - loss: 682.4847 - val_loss: 701.0420\n",
      "Epoch 9/100\n",
      "126/126 [==============================] - 0s 192us/step - loss: 690.3171 - val_loss: 686.1187\n",
      "Epoch 10/100\n",
      "126/126 [==============================] - 0s 199us/step - loss: 681.5584 - val_loss: 684.6951\n",
      "Epoch 11/100\n",
      "126/126 [==============================] - 0s 221us/step - loss: 678.1438 - val_loss: 684.7369\n",
      "Epoch 12/100\n",
      "126/126 [==============================] - 0s 178us/step - loss: 677.5296 - val_loss: 683.5897\n",
      "Epoch 13/100\n",
      "126/126 [==============================] - 0s 178us/step - loss: 674.8370 - val_loss: 681.7614\n",
      "Epoch 14/100\n",
      "126/126 [==============================] - 0s 238us/step - loss: 672.3420 - val_loss: 687.3390\n",
      "Epoch 15/100\n",
      "126/126 [==============================] - 0s 203us/step - loss: 683.6970 - val_loss: 700.5582\n",
      "Epoch 16/100\n",
      "126/126 [==============================] - 0s 210us/step - loss: 691.1482 - val_loss: 679.4611\n",
      "Epoch 17/100\n",
      "126/126 [==============================] - 0s 236us/step - loss: 668.6226 - val_loss: 678.7733\n",
      "Epoch 18/100\n",
      "126/126 [==============================] - 0s 225us/step - loss: 665.4773 - val_loss: 677.7682\n",
      "Epoch 19/100\n",
      "126/126 [==============================] - 0s 205us/step - loss: 663.8821 - val_loss: 681.3538\n",
      "Epoch 20/100\n",
      "126/126 [==============================] - 0s 228us/step - loss: 667.7173 - val_loss: 678.6370\n",
      "Epoch 21/100\n",
      "126/126 [==============================] - 0s 229us/step - loss: 663.6323 - val_loss: 676.4109\n",
      "Epoch 22/100\n",
      "126/126 [==============================] - ETA: 0s - loss: 658.820 - 0s 183us/step - loss: 660.2761 - val_loss: 683.7224\n",
      "Epoch 23/100\n",
      "126/126 [==============================] - 0s 232us/step - loss: 670.9750 - val_loss: 716.7832\n",
      "Epoch 24/100\n",
      "126/126 [==============================] - 0s 221us/step - loss: 691.8305 - val_loss: 678.3201\n",
      "Epoch 25/100\n",
      "126/126 [==============================] - 0s 201us/step - loss: 664.6467 - val_loss: 676.9169\n",
      "Epoch 26/100\n",
      "126/126 [==============================] - 0s 190us/step - loss: 660.7243 - val_loss: 680.5612\n",
      "Epoch 27/100\n",
      "126/126 [==============================] - 0s 225us/step - loss: 662.8467 - val_loss: 676.4189\n",
      "Epoch 28/100\n",
      "126/126 [==============================] - 0s 231us/step - loss: 658.2431 - val_loss: 673.4141\n",
      "Epoch 29/100\n",
      "126/126 [==============================] - 0s 197us/step - loss: 655.2302 - val_loss: 677.7870\n",
      "Epoch 30/100\n",
      "126/126 [==============================] - 0s 207us/step - loss: 660.3646 - val_loss: 708.4099\n",
      "Epoch 31/100\n",
      "126/126 [==============================] - 0s 234us/step - loss: 688.9533 - val_loss: 675.0479\n",
      "Epoch 32/100\n",
      "126/126 [==============================] - 0s 196us/step - loss: 656.5519 - val_loss: 677.6057\n",
      "Epoch 33/100\n",
      "126/126 [==============================] - 0s 220us/step - loss: 657.0377 - val_loss: 670.9661\n",
      "Epoch 34/100\n",
      "126/126 [==============================] - 0s 231us/step - loss: 651.2369 - val_loss: 669.0347\n",
      "Epoch 35/100\n",
      "126/126 [==============================] - 0s 188us/step - loss: 649.0237 - val_loss: 669.2658\n",
      "Epoch 36/100\n",
      "126/126 [==============================] - 0s 242us/step - loss: 648.7999 - val_loss: 686.9548\n",
      "Epoch 37/100\n",
      "126/126 [==============================] - 0s 237us/step - loss: 666.6885 - val_loss: 700.1334\n",
      "Epoch 38/100\n",
      "126/126 [==============================] - 0s 210us/step - loss: 677.8733 - val_loss: 670.6201\n",
      "Epoch 39/100\n",
      "126/126 [==============================] - 0s 205us/step - loss: 649.7153 - val_loss: 667.6997\n",
      "Epoch 40/100\n",
      "126/126 [==============================] - 0s 205us/step - loss: 646.6101 - val_loss: 667.0142\n",
      "Epoch 41/100\n",
      "126/126 [==============================] - 0s 222us/step - loss: 645.5831 - val_loss: 666.9459\n",
      "Epoch 42/100\n",
      "126/126 [==============================] - 0s 210us/step - loss: 644.3900 - val_loss: 667.6037\n",
      "Epoch 43/100\n",
      "126/126 [==============================] - 0s 217us/step - loss: 644.0161 - val_loss: 674.1136\n",
      "Epoch 44/100\n",
      "126/126 [==============================] - 0s 205us/step - loss: 651.8463 - val_loss: 691.1735\n",
      "Epoch 45/100\n",
      "126/126 [==============================] - 0s 217us/step - loss: 660.6519 - val_loss: 680.0842\n",
      "Epoch 46/100\n",
      "126/126 [==============================] - 0s 206us/step - loss: 658.1191 - val_loss: 700.7303\n",
      "Epoch 47/100\n",
      "126/126 [==============================] - 0s 201us/step - loss: 674.4828 - val_loss: 666.0069\n",
      "Epoch 48/100\n",
      "126/126 [==============================] - 0s 197us/step - loss: 644.8190 - val_loss: 665.6310\n",
      "Epoch 49/100\n",
      "126/126 [==============================] - 0s 219us/step - loss: 643.2128 - val_loss: 665.0228\n",
      "Epoch 50/100\n",
      "126/126 [==============================] - 0s 222us/step - loss: 642.0567 - val_loss: 664.2543\n",
      "Epoch 51/100\n",
      "126/126 [==============================] - 0s 230us/step - loss: 641.6870 - val_loss: 664.1271\n",
      "Epoch 52/100\n",
      "126/126 [==============================] - 0s 210us/step - loss: 642.4383 - val_loss: 685.4694\n",
      "Epoch 53/100\n",
      "126/126 [==============================] - 0s 215us/step - loss: 659.5430 - val_loss: 682.5329\n",
      "Epoch 54/100\n",
      "126/126 [==============================] - 0s 207us/step - loss: 655.9272 - val_loss: 667.4868\n",
      "Epoch 55/100\n",
      "126/126 [==============================] - 0s 199us/step - loss: 642.5570 - val_loss: 663.9623\n",
      "Epoch 56/100\n",
      "126/126 [==============================] - 0s 189us/step - loss: 641.6277 - val_loss: 664.2559\n",
      "Epoch 57/100\n",
      "126/126 [==============================] - 0s 214us/step - loss: 641.3571 - val_loss: 670.0464\n",
      "Epoch 58/100\n",
      "126/126 [==============================] - 0s 190us/step - loss: 646.4769 - val_loss: 664.6240\n",
      "Epoch 59/100\n",
      "126/126 [==============================] - 0s 223us/step - loss: 642.5085 - val_loss: 673.9664\n",
      "Epoch 60/100\n",
      "126/126 [==============================] - 0s 221us/step - loss: 651.8560 - val_loss: 665.9907\n",
      "Epoch 61/100\n",
      "126/126 [==============================] - 0s 196us/step - loss: 640.5562 - val_loss: 662.1251\n",
      "Epoch 62/100\n",
      "126/126 [==============================] - 0s 221us/step - loss: 637.9832 - val_loss: 662.1741\n",
      "Epoch 63/100\n",
      "126/126 [==============================] - 0s 251us/step - loss: 638.1380 - val_loss: 668.7933\n",
      "Epoch 64/100\n",
      "126/126 [==============================] - 0s 234us/step - loss: 642.7209 - val_loss: 678.4297\n",
      "Epoch 65/100\n",
      "126/126 [==============================] - 0s 203us/step - loss: 654.0613 - val_loss: 669.7966\n",
      "Epoch 66/100\n",
      "126/126 [==============================] - 0s 217us/step - loss: 645.0758 - val_loss: 668.9885\n",
      "Epoch 67/100\n",
      "126/126 [==============================] - 0s 227us/step - loss: 641.9607 - val_loss: 660.6833\n",
      "Epoch 68/100\n",
      "126/126 [==============================] - 0s 213us/step - loss: 636.2743 - val_loss: 660.7921\n",
      "Epoch 69/100\n",
      "126/126 [==============================] - 0s 224us/step - loss: 634.5463 - val_loss: 665.8110\n",
      "Epoch 70/100\n",
      "126/126 [==============================] - 0s 207us/step - loss: 641.7167 - val_loss: 676.0178\n",
      "Epoch 71/100\n",
      "126/126 [==============================] - 0s 203us/step - loss: 650.0579 - val_loss: 676.3719\n",
      "Epoch 72/100\n",
      "126/126 [==============================] - 0s 178us/step - loss: 647.2971 - val_loss: 672.4057\n",
      "Epoch 73/100\n",
      "126/126 [==============================] - 0s 198us/step - loss: 644.5710 - val_loss: 672.2432\n",
      "Epoch 74/100\n",
      "126/126 [==============================] - 0s 230us/step - loss: 643.5509 - val_loss: 661.6860\n",
      "Epoch 75/100\n",
      "126/126 [==============================] - 0s 183us/step - loss: 635.2118 - val_loss: 658.3716\n",
      "Epoch 76/100\n"
     ]
    },
    {
     "name": "stdout",
     "output_type": "stream",
     "text": [
      "126/126 [==============================] - 0s 201us/step - loss: 632.4917 - val_loss: 658.2924\n",
      "Epoch 77/100\n",
      "126/126 [==============================] - 0s 238us/step - loss: 632.1589 - val_loss: 661.0045\n",
      "Epoch 78/100\n",
      "126/126 [==============================] - 0s 182us/step - loss: 634.3074 - val_loss: 665.8783\n",
      "Epoch 79/100\n",
      "126/126 [==============================] - 0s 234us/step - loss: 640.4705 - val_loss: 677.6432\n",
      "Epoch 80/100\n",
      "126/126 [==============================] - 0s 210us/step - loss: 647.4703 - val_loss: 657.8896\n",
      "Epoch 81/100\n",
      "126/126 [==============================] - 0s 235us/step - loss: 632.3887 - val_loss: 659.0140\n",
      "Epoch 82/100\n",
      "126/126 [==============================] - 0s 205us/step - loss: 635.3056 - val_loss: 685.4214\n",
      "Epoch 83/100\n",
      "126/126 [==============================] - 0s 197us/step - loss: 654.6280 - val_loss: 658.3518\n",
      "Epoch 84/100\n",
      "126/126 [==============================] - 0s 206us/step - loss: 633.1311 - val_loss: 656.4965\n",
      "Epoch 85/100\n",
      "126/126 [==============================] - 0s 206us/step - loss: 630.1806 - val_loss: 654.7980\n",
      "Epoch 86/100\n",
      "126/126 [==============================] - 0s 250us/step - loss: 629.0165 - val_loss: 658.6971\n",
      "Epoch 87/100\n",
      "126/126 [==============================] - 0s 205us/step - loss: 633.8848 - val_loss: 679.7987\n",
      "Epoch 88/100\n",
      "126/126 [==============================] - 0s 208us/step - loss: 657.8773 - val_loss: 657.1781\n",
      "Epoch 89/100\n",
      "126/126 [==============================] - 0s 236us/step - loss: 631.2166 - val_loss: 657.0619\n",
      "Epoch 90/100\n",
      "126/126 [==============================] - 0s 217us/step - loss: 630.3529 - val_loss: 660.9186\n",
      "Epoch 91/100\n",
      "126/126 [==============================] - 0s 217us/step - loss: 632.8502 - val_loss: 659.6602\n",
      "Epoch 92/100\n",
      "126/126 [==============================] - 0s 230us/step - loss: 633.7319 - val_loss: 658.0161\n",
      "Epoch 93/100\n",
      "126/126 [==============================] - 0s 201us/step - loss: 631.6080 - val_loss: 655.5350\n",
      "Epoch 94/100\n",
      "126/126 [==============================] - 0s 235us/step - loss: 629.3895 - val_loss: 657.5355\n",
      "Epoch 95/100\n",
      "126/126 [==============================] - 0s 235us/step - loss: 632.7779 - val_loss: 662.5148\n",
      "Epoch 96/100\n",
      "126/126 [==============================] - 0s 230us/step - loss: 634.7738 - val_loss: 659.5135\n",
      "Epoch 97/100\n",
      "126/126 [==============================] - 0s 217us/step - loss: 633.0332 - val_loss: 655.3617\n",
      "Epoch 98/100\n",
      "126/126 [==============================] - 0s 203us/step - loss: 628.6040 - val_loss: 656.6713\n",
      "Epoch 99/100\n",
      "126/126 [==============================] - 0s 231us/step - loss: 633.0904 - val_loss: 661.4127\n",
      "Epoch 100/100\n",
      "126/126 [==============================] - 0s 197us/step - loss: 636.0224 - val_loss: 659.1045\n"
     ]
    }
   ],
   "source": [
    "vae.fit(x_train,\n",
    "        x_train,\n",
    "        shuffle=True,\n",
    "        epochs=epochs,\n",
    "        batch_size=batch_size,\n",
    "        validation_data=(x_test, x_test))\n",
    "\n",
    "encoder = Model(x, z_mu)"
   ]
  },
  {
   "cell_type": "code",
   "execution_count": 39,
   "metadata": {},
   "outputs": [
    {
     "data": {
      "text/plain": [
       "<matplotlib.colorbar.Colorbar at 0x7f2086f76630>"
      ]
     },
     "execution_count": 39,
     "metadata": {},
     "output_type": "execute_result"
    },
    {
     "data": {
      "image/png": "[encoded data removed]",
      "text/plain": [
       "<Figure size 432x432 with 2 Axes>"
      ]
     },
     "metadata": {},
     "output_type": "display_data"
    }
   ],
   "source": [
    "# display a 2D plot of the digit classes in the latent space\n",
    "z_test = encoder.predict(x_test, batch_size=batch_size)\n",
    "plt.figure(figsize=(6, 6))\n",
    "plt.scatter(z_test[:, 0], z_test[:, 1], c=y_test,\n",
    "            alpha=.4, s=13**2, cmap='viridis')\n",
    "plt.colorbar()\n"
   ]
  },
  {
   "cell_type": "code",
   "execution_count": 40,
   "metadata": {},
   "outputs": [],
   "source": [
    "val=[4,.5]"
   ]
  },
  {
   "cell_type": "code",
   "execution_count": 41,
   "metadata": {},
   "outputs": [
    {
     "data": {
      "text/plain": [
       "'GTTTAGGGGTTGGGGTGGGTGTGTTTAGTTGGCGTTTTTTTGTGTGTAGCGGTGTGGAGATTGAGTGTGTGGGGGGGGTGTGCGTGAGTTTGTTGCGGGGTTGAGTTTGTTTTTTGGGTTTTATGTGGGTTATGTCCTGGTGGTTTGTTTGTTTTTAGTGTTTTTGTTTTTTTTTGGGCATGGTGGGTTTTAGTTGGTTTGGGTGTGTTGGGTGGGGGGTTTTTTTGTTGTTGTTGGTTTAGTGTTATTGTGTATGTGCGTGTTGGTTCGGGGGTGTGTGTTTCTGTTTTTGTTTGTTGTTTTTAGTATTGTTTTGGTTGGGTGTTTTGTGTGGTTCTTTTGTGTGTGGTTTTTGTGTGGTTGGTTGGTTTTGTGTTTTTTGTGGTTGTGGTTTTGTTTTGGTTGTTTTTTGGTGTGGTAGGTGGTTGTGTGTGTGTTTTGTGGTGGGTGTTGTGGGTTTTGTAGGGTTTTGTTGTGTTGGTTGTGGTGGTTTTGGTTGTTGTTGGGTTTGGTGGTTGTTGTTGTTTTTGATTGGTTTTTTTTTTTGTTGTTTTTGGTTTGTGGGGTTTTGTTTTTGGGTTGGTTTGTGGTTTTTGTGTTGTTGGGTGGGGTGTTGTTTTTTTGTGGTTGGTTTTGTGTGTGGGGTTTGTGGTTGGTGGGTGTGTTTTTTTTTTTGTGTGGTTGTTGGTGGTTGGTGGAGTTGTGGTTTGTTTGGTGGGTGTGGTTGGTGTGGGTTTGGGTGGTTGGGTTTGGTGTTTTGGTTTGGGTTGTGTGTTTGGTGTATGTTGTTGTTGGGTTGTGGTTGTTTTTGTTTTTTTGTGTTTTTTTGGTGGTTTGGGTTTTGGTGTTTTGTATTTTTTTTGTTTTTTGTTGTGTTTTTTTTTTTTTTTTTTATTGTTTTGGGGTTGGTGGTTTGTGTTTTTTTGTGTTTTTCGTTTGGTTGGGTTTTGTTTTTTTGTTGTGGTTTTGTTTTATTGTGTTTGTGGGGTGGTTGGTTGTG'"
      ]
     },
     "execution_count": 41,
     "metadata": {},
     "output_type": "execute_result"
    }
   ],
   "source": [
    "''.join(np.round(decoder.predict(np.array(val).reshape(1,2))*4)[0].astype(int).astype(str)).replace('1','A').replace('2','T').replace('3','G').replace('4','C')"
   ]
  },
  {
   "cell_type": "code",
   "execution_count": 42,
   "metadata": {},
   "outputs": [],
   "source": [
    "val=[-2,1]"
   ]
  },
  {
   "cell_type": "code",
   "execution_count": 43,
   "metadata": {},
   "outputs": [
    {
     "data": {
      "text/plain": [
       "'CTGGTATCTTGTGTTCCCTGAGATCGTTTTGTCTGTGTTGAATATGTCTTGCAGTGGCGCGCGTTGAGGGACTTTAAAGCGAAAGTTTGTCCTGTGTAGATCTCTCGTCTCTGGAGTCGTCTTGCTGATGTGGTCACGGCTTGTGGCGTGTGCGGCGGGTGGTGTGTTCGCCTAATTTTTTTTGTCTTGCGGTGGCTAGAAGGTGATAGATGGGTGCGAGAGCGTCTTTATTAAGAGGCGTAAATTTTGTCACCTGGGAAAGAATTATGTTAAATGGAGGGTCAAAGATTTGGTATATGATGAAAGTCCTAGTGTGGGGATGGTGGTTGGTGTAATTTTTTGGTGTTTTCCGTGGCGTTTTTTTTTGATGTGTTGGGTTTATTGTTTTTGTTGATGATGTTGATCGTGGTGTTGTGTGTGTATGAATGTTGTTTGTTGGTTTTTATATGTGTTTTGGATGTGTGTTTTGTGTTGTTTTAATTTTTTTGGTTGGGTTGTGGTTGTATGCGTTTTTGAAATTTATGTTGTTTGTAATGAAATGTGTGGAAAAATGTGTGGTTTGTTATGGGGGTTTGTATGTAATTGTGTTGGATTTTTTTCGTTTTTTGGTTATTGTTGTTGGGGAATTGGTTGTCGTGTGGTTTTGGCGTTTTTGTTTTTTTGGTTGGGGTTATGTTTTTTTGTTTATGGGTTTGTGCGTTTTGTTATTTCCGTTTTTTTGTGGTTTTGGTTATGTTGGGTCCGGTGATTTTTTAATTTCGTTTTTATTTTGTGTTGGGGGGTTTTATGGTGCGTTGTAATTTTTAAATTTTTGGTTTTTTTTGTTGGGTGGTTATTTGTTTTGTTGTTTGCTTTTGGTTGTTGGGCGTTTTGGTCGTGGCGTTTTTTTTTTTCGTTGGGTATTTTTTTTTGTTGTATGTTGTTTTTCCGTTTTGTATTAATTTGGTTGTTTTTTATTTTTCCTTCGTTTGCTTTTTGTTTATTTGTTTAATTTTTGTTT'"
      ]
     },
     "execution_count": 43,
     "metadata": {},
     "output_type": "execute_result"
    }
   ],
   "source": [
    "''.join(np.round(decoder.predict(np.array(val).reshape(1,2))*4)[0].astype(int).astype(str)).replace('1','A').replace('2','T').replace('3','G').replace('4','C')"
   ]
  },
  {
   "cell_type": "markdown",
   "metadata": {},
   "source": [
    "## HW:\n",
    "---\n",
    "    1. what are the hyper parameters you can tune?\n",
    "    2. Tune the models so that the distribution is more compact.\n",
    "    3. Investigate other segments (POL, ENV, INTEGRASE, Reverse-transcriptase, and complete genome)\n",
    "    4. Blast it against the origin sequence data to investigate if we are closer to the clinical subtypes that we shpuld be closer to\n",
    "    5. How well can we actually use this to generate new samples (sequences of hiv clinical subtypes not in the dataset?)"
   ]
  },
  {
   "cell_type": "code",
   "execution_count": null,
   "metadata": {},
   "outputs": [],
   "source": []
  }
 ],
 "metadata": {
  "kernelspec": {
   "display_name": "Python 3",
   "language": "python",
   "name": "python3"
  },
  "language_info": {
   "codemirror_mode": {
    "name": "ipython",
    "version": 3
   },
   "file_extension": ".py",
   "mimetype": "text/x-python",
   "name": "python",
   "nbconvert_exporter": "python",
   "pygments_lexer": "ipython3",
   "version": "3.7.1"
  }
 },
 "nbformat": 4,
 "nbformat_minor": 2
}

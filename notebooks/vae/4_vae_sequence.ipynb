{
 "cells": [
  {
   "cell_type": "code",
   "execution_count": 1,
   "metadata": {},
   "outputs": [],
   "source": [
    "import numpy as np\n",
    "import matplotlib.pyplot as plt\n",
    "from scipy.stats import norm\n",
    "\n",
    "from tensorflow.keras import backend as K\n",
    "\n",
    "from tensorflow.keras.layers import Input, Dense, Lambda, Layer, Add, Multiply\n",
    "from tensorflow.keras.models import Model, Sequential\n",
    "from tensorflow.keras.datasets import mnist\n",
    "\n",
    "\n",
    "original_dim = 1000\n",
    "intermediate_dim = 512\n",
    "latent_dim = 2\n",
    "batch_size = 100\n",
    "epochs = 100\n",
    "epsilon_std = 1.0\n"
   ]
  },
  {
   "cell_type": "code",
   "execution_count": 2,
   "metadata": {},
   "outputs": [],
   "source": [
    "\n",
    "def nll(y_true, y_pred):\n",
    "    \"\"\" Negative log likelihood (Bernoulli). \"\"\"\n",
    "\n",
    "    # keras.losses.binary_crossentropy gives the mean\n",
    "    # over the last axis. we require the sum\n",
    "    return K.sum(K.binary_crossentropy(y_true, y_pred), axis=-1)\n",
    "\n",
    "\n",
    "class KLDivergenceLayer(Layer):\n",
    "\n",
    "    \"\"\" Identity transform layer that adds KL divergence\n",
    "    to the final model loss.\n",
    "    \"\"\"\n",
    "\n",
    "    def __init__(self, *args, **kwargs):\n",
    "        self.is_placeholder = True\n",
    "        super(KLDivergenceLayer, self).__init__(*args, **kwargs)\n",
    "\n",
    "    def call(self, inputs):\n",
    "\n",
    "        mu, log_var = inputs\n",
    "\n",
    "        kl_batch = - .5 * K.sum(1 + log_var -\n",
    "                                K.square(mu) -\n",
    "                                K.exp(log_var), axis=-1)\n",
    "\n",
    "        self.add_loss(K.mean(kl_batch), inputs=inputs)\n",
    "\n",
    "        return inputs\n",
    "\n"
   ]
  },
  {
   "cell_type": "code",
   "execution_count": 3,
   "metadata": {},
   "outputs": [
    {
     "name": "stdout",
     "output_type": "stream",
     "text": [
      "WARNING:tensorflow:From /home/ishanu/.local/lib/python3.7/site-packages/tensorflow_core/python/ops/resource_variable_ops.py:1630: calling BaseResourceVariable.__init__ (from tensorflow.python.ops.resource_variable_ops) with constraint is deprecated and will be removed in a future version.\n",
      "Instructions for updating:\n",
      "If using Keras pass *_constraint arguments to layers.\n",
      "WARNING:tensorflow:From /home/ishanu/.local/lib/python3.7/site-packages/tensorflow_core/python/ops/nn_impl.py:183: where (from tensorflow.python.ops.array_ops) is deprecated and will be removed in a future version.\n",
      "Instructions for updating:\n",
      "Use tf.where in 2.0, which has the same broadcast rule as np.where\n"
     ]
    }
   ],
   "source": [
    "decoder = Sequential([\n",
    "    Dense(intermediate_dim, input_dim=latent_dim, activation='relu'),\n",
    "    Dense(original_dim, activation='sigmoid')\n",
    "])\n",
    "\n",
    "x = Input(shape=(original_dim,))\n",
    "h = Dense(intermediate_dim, activation='relu')(x)\n",
    "\n",
    "z_mu = Dense(latent_dim)(h)\n",
    "z_log_var = Dense(latent_dim)(h)\n",
    "\n",
    "z_mu, z_log_var = KLDivergenceLayer()([z_mu, z_log_var])\n",
    "z_sigma = Lambda(lambda t: K.exp(.5*t))(z_log_var)\n",
    "\n",
    "eps = Input(tensor=K.random_normal(stddev=epsilon_std,\n",
    "                                   shape=(K.shape(x)[0], latent_dim)))\n",
    "z_eps = Multiply()([z_sigma, eps])\n",
    "z = Add()([z_mu, z_eps])\n",
    "\n",
    "x_pred = decoder(z)\n",
    "\n",
    "vae = Model(inputs=[x, eps], outputs=x_pred)\n",
    "vae.compile(optimizer='rmsprop', loss=nll)\n"
   ]
  },
  {
   "cell_type": "code",
   "execution_count": 4,
   "metadata": {},
   "outputs": [],
   "source": [
    "import pandas as pd\n",
    "import glob\n",
    "from sklearn.model_selection import train_test_split\n"
   ]
  },
  {
   "cell_type": "code",
   "execution_count": 5,
   "metadata": {},
   "outputs": [],
   "source": [
    "def splitw(x):\n",
    "    return np.array([y for y in x])\n",
    "#.replace('T','1'),replace('G','2').replace('C','3')"
   ]
  },
  {
   "cell_type": "code",
   "execution_count": 6,
   "metadata": {},
   "outputs": [],
   "source": [
    "FILES=glob.glob('../../datasets/SEQUENCE_/HIV/*seq')\n",
    "#! wc ../hwdata/hiv/*seq"
   ]
  },
  {
   "cell_type": "code",
   "execution_count": 7,
   "metadata": {},
   "outputs": [
    {
     "data": {
      "text/plain": [
       "(158,)"
      ]
     },
     "execution_count": 7,
     "metadata": {},
     "output_type": "execute_result"
    }
   ],
   "source": [
    "data=pd.concat([pd.read_csv(i,header=None) for i in FILES])\n",
    "\n",
    "data1=np.array([x for x in np.squeeze(data)])\n",
    "\n",
    "data2=np.array([splitw(x.replace('A','1').replace('T','2').replace('G','3').replace('C','4')).astype(int) for x in data1])\n",
    "\n",
    "data2.shape"
   ]
  },
  {
   "cell_type": "code",
   "execution_count": 8,
   "metadata": {},
   "outputs": [],
   "source": [
    "X=[]\n",
    "dim1=158\n",
    "for i in data2:\n",
    "    X=np.append(X,i[:original_dim])\n",
    "X=X.reshape(dim1,int(original_dim))\n",
    "X=X/4."
   ]
  },
  {
   "cell_type": "code",
   "execution_count": 9,
   "metadata": {},
   "outputs": [
    {
     "data": {
      "text/plain": [
       "array([0., 0., 0., 0., 0., 0., 0., 0., 0., 0., 0., 0., 0., 0., 0., 0., 0.,\n",
       "       0., 0., 0., 0., 0., 0., 0., 0., 0., 0., 0., 0., 0., 0., 0., 0., 0.,\n",
       "       0., 0., 0., 0., 0., 0., 0., 0., 0., 0., 0., 0., 0., 0., 0., 0., 0.,\n",
       "       0., 0., 0., 0., 0., 0., 0., 0., 0., 1., 1., 1., 1., 1., 1., 1., 1.,\n",
       "       1., 1., 1., 1., 1., 1., 1., 1., 1., 1., 1., 1., 1., 1., 1., 1., 1.,\n",
       "       1., 1., 1., 1., 1., 1., 1., 1., 1., 1., 1., 1., 2., 2., 2., 2., 2.,\n",
       "       2., 2., 2., 2., 2., 2., 2., 2., 2., 2., 2., 2., 2., 2., 2., 2., 2.,\n",
       "       2., 3., 3., 3., 3., 3., 3., 3., 3., 3., 3., 3., 3., 3., 3., 3., 3.,\n",
       "       3., 3., 3., 3., 3., 3., 3., 3., 3., 3., 3., 3., 3., 3., 3., 3., 3.,\n",
       "       3., 3., 3., 3., 3.])"
      ]
     },
     "execution_count": 9,
     "metadata": {},
     "output_type": "execute_result"
    }
   ],
   "source": [
    "y=np.array([0*np.ones(60),1*np.ones(37),2*np.ones(23),3*np.ones(38)])\n",
    "y=np.squeeze(y)\n",
    "YY=[]\n",
    "for i in y:\n",
    "    YY=np.append(YY,i)\n",
    "YY"
   ]
  },
  {
   "cell_type": "code",
   "execution_count": 10,
   "metadata": {},
   "outputs": [],
   "source": [
    "x_train, x_test, y_train,  y_test=train_test_split(X,YY,test_size=.2)"
   ]
  },
  {
   "cell_type": "code",
   "execution_count": 11,
   "metadata": {},
   "outputs": [
    {
     "data": {
      "text/plain": [
       "(32, 1000)"
      ]
     },
     "execution_count": 11,
     "metadata": {},
     "output_type": "execute_result"
    }
   ],
   "source": [
    "x_test.shape"
   ]
  },
  {
   "cell_type": "code",
   "execution_count": 19,
   "metadata": {},
   "outputs": [
    {
     "name": "stdout",
     "output_type": "stream",
     "text": [
      "Train on 126 samples, validate on 32 samples\n",
      "Epoch 1/100\n",
      "126/126 [==============================] - 0s 446us/sample - loss: 627.1050 - val_loss: 641.6157\n",
      "Epoch 2/100\n",
      "126/126 [==============================] - 0s 523us/sample - loss: 628.6834 - val_loss: 652.9774\n",
      "Epoch 3/100\n",
      "126/126 [==============================] - 0s 457us/sample - loss: 640.7063 - val_loss: 649.9092\n",
      "Epoch 4/100\n",
      "126/126 [==============================] - 0s 468us/sample - loss: 633.5135 - val_loss: 645.4888\n",
      "Epoch 5/100\n",
      "126/126 [==============================] - 0s 604us/sample - loss: 629.9333 - val_loss: 645.4883\n",
      "Epoch 6/100\n",
      "126/126 [==============================] - 0s 513us/sample - loss: 629.3351 - val_loss: 641.7304\n",
      "Epoch 7/100\n",
      "126/126 [==============================] - 0s 513us/sample - loss: 626.9032 - val_loss: 644.7783\n",
      "Epoch 8/100\n",
      "126/126 [==============================] - 0s 561us/sample - loss: 629.3923 - val_loss: 645.8986\n",
      "Epoch 9/100\n",
      "126/126 [==============================] - 0s 445us/sample - loss: 628.6236 - val_loss: 644.9850\n",
      "Epoch 10/100\n",
      "126/126 [==============================] - 0s 476us/sample - loss: 632.5247 - val_loss: 662.9489\n",
      "Epoch 11/100\n",
      "126/126 [==============================] - 0s 550us/sample - loss: 652.5911 - val_loss: 640.8531\n",
      "Epoch 12/100\n",
      "126/126 [==============================] - 0s 527us/sample - loss: 626.2738 - val_loss: 637.4564\n",
      "Epoch 13/100\n",
      "126/126 [==============================] - 0s 622us/sample - loss: 623.4277 - val_loss: 638.7556\n",
      "Epoch 14/100\n",
      "126/126 [==============================] - 0s 589us/sample - loss: 625.5424 - val_loss: 641.7655\n",
      "Epoch 15/100\n",
      "126/126 [==============================] - 0s 601us/sample - loss: 627.9536 - val_loss: 640.0328\n",
      "Epoch 16/100\n",
      "126/126 [==============================] - 0s 598us/sample - loss: 625.0542 - val_loss: 638.2440\n",
      "Epoch 17/100\n",
      "126/126 [==============================] - 0s 698us/sample - loss: 622.7678 - val_loss: 637.2151\n",
      "Epoch 18/100\n",
      "126/126 [==============================] - 0s 494us/sample - loss: 622.2236 - val_loss: 640.6860\n",
      "Epoch 19/100\n",
      "126/126 [==============================] - 0s 529us/sample - loss: 626.0483 - val_loss: 661.9946\n",
      "Epoch 20/100\n",
      "126/126 [==============================] - 0s 492us/sample - loss: 645.6379 - val_loss: 644.6460\n",
      "Epoch 21/100\n",
      "126/126 [==============================] - 0s 546us/sample - loss: 630.1595 - val_loss: 644.0815\n",
      "Epoch 22/100\n",
      "126/126 [==============================] - 0s 544us/sample - loss: 629.6963 - val_loss: 658.8506\n",
      "Epoch 23/100\n",
      "126/126 [==============================] - 0s 573us/sample - loss: 637.8849 - val_loss: 639.6433\n",
      "Epoch 24/100\n",
      "126/126 [==============================] - 0s 558us/sample - loss: 622.5506 - val_loss: 636.9608\n",
      "Epoch 25/100\n",
      "126/126 [==============================] - 0s 513us/sample - loss: 620.6522 - val_loss: 638.6763\n",
      "Epoch 26/100\n",
      "126/126 [==============================] - 0s 651us/sample - loss: 623.2923 - val_loss: 644.5303\n",
      "Epoch 27/100\n",
      "126/126 [==============================] - 0s 723us/sample - loss: 628.8051 - val_loss: 643.2301\n",
      "Epoch 28/100\n",
      "126/126 [==============================] - 0s 592us/sample - loss: 628.1880 - val_loss: 640.4304\n",
      "Epoch 29/100\n",
      "126/126 [==============================] - 0s 606us/sample - loss: 624.2971 - val_loss: 649.2929\n",
      "Epoch 30/100\n",
      "126/126 [==============================] - 0s 632us/sample - loss: 636.0057 - val_loss: 640.0472\n",
      "Epoch 31/100\n",
      "126/126 [==============================] - 0s 530us/sample - loss: 623.3165 - val_loss: 637.0244\n",
      "Epoch 32/100\n",
      "126/126 [==============================] - 0s 543us/sample - loss: 621.0603 - val_loss: 637.7147\n",
      "Epoch 33/100\n",
      "126/126 [==============================] - 0s 493us/sample - loss: 621.6455 - val_loss: 643.7376\n",
      "Epoch 34/100\n",
      "126/126 [==============================] - 0s 527us/sample - loss: 629.6747 - val_loss: 650.9265\n",
      "Epoch 35/100\n",
      "126/126 [==============================] - 0s 483us/sample - loss: 634.0645 - val_loss: 640.6325\n",
      "Epoch 36/100\n",
      "126/126 [==============================] - 0s 533us/sample - loss: 623.8343 - val_loss: 642.5037\n",
      "Epoch 37/100\n",
      "126/126 [==============================] - 0s 542us/sample - loss: 626.0684 - val_loss: 642.0065\n",
      "Epoch 38/100\n",
      "126/126 [==============================] - ETA: 0s - loss: 631.052 - 0s 442us/sample - loss: 625.7870 - val_loss: 641.8437\n",
      "Epoch 39/100\n",
      "126/126 [==============================] - 0s 566us/sample - loss: 623.7847 - val_loss: 638.2864\n",
      "Epoch 40/100\n",
      "126/126 [==============================] - 0s 599us/sample - loss: 621.9578 - val_loss: 637.6381\n",
      "Epoch 41/100\n",
      "126/126 [==============================] - 0s 517us/sample - loss: 620.4963 - val_loss: 635.5283\n",
      "Epoch 42/100\n",
      "126/126 [==============================] - 0s 605us/sample - loss: 619.6494 - val_loss: 637.2468\n",
      "Epoch 43/100\n",
      "126/126 [==============================] - 0s 562us/sample - loss: 621.4780 - val_loss: 649.3715\n",
      "Epoch 44/100\n",
      "126/126 [==============================] - 0s 627us/sample - loss: 633.3573 - val_loss: 648.7825\n",
      "Epoch 45/100\n",
      "126/126 [==============================] - 0s 634us/sample - loss: 636.5981 - val_loss: 649.5070\n",
      "Epoch 46/100\n",
      "126/126 [==============================] - 0s 520us/sample - loss: 630.1889 - val_loss: 636.8448\n",
      "Epoch 47/100\n",
      "126/126 [==============================] - 0s 538us/sample - loss: 619.1239 - val_loss: 635.8376\n",
      "Epoch 48/100\n",
      "126/126 [==============================] - 0s 629us/sample - loss: 618.1915 - val_loss: 635.4772\n",
      "Epoch 49/100\n",
      "126/126 [==============================] - 0s 494us/sample - loss: 618.2941 - val_loss: 635.5795\n",
      "Epoch 50/100\n",
      "126/126 [==============================] - 0s 654us/sample - loss: 617.3972 - val_loss: 635.5538\n",
      "Epoch 51/100\n",
      "126/126 [==============================] - 0s 529us/sample - loss: 617.6920 - val_loss: 638.0341\n",
      "Epoch 52/100\n",
      "126/126 [==============================] - 0s 475us/sample - loss: 621.8549 - val_loss: 660.3865\n",
      "Epoch 53/100\n",
      "126/126 [==============================] - 0s 543us/sample - loss: 642.9753 - val_loss: 641.3093\n",
      "Epoch 54/100\n",
      "126/126 [==============================] - 0s 576us/sample - loss: 625.5667 - val_loss: 650.0643\n",
      "Epoch 55/100\n",
      "126/126 [==============================] - 0s 562us/sample - loss: 631.5605 - val_loss: 642.9014\n",
      "Epoch 56/100\n",
      "126/126 [==============================] - 0s 530us/sample - loss: 623.8190 - val_loss: 636.1821\n",
      "Epoch 57/100\n",
      "126/126 [==============================] - 0s 501us/sample - loss: 618.4158 - val_loss: 635.7407\n",
      "Epoch 58/100\n",
      "126/126 [==============================] - 0s 585us/sample - loss: 617.5232 - val_loss: 635.9813\n",
      "Epoch 59/100\n",
      "126/126 [==============================] - 0s 639us/sample - loss: 618.4701 - val_loss: 640.7280\n",
      "Epoch 60/100\n",
      "126/126 [==============================] - 0s 524us/sample - loss: 624.3725 - val_loss: 640.3318\n",
      "Epoch 61/100\n",
      "126/126 [==============================] - 0s 500us/sample - loss: 622.1930 - val_loss: 639.6231\n",
      "Epoch 62/100\n",
      "126/126 [==============================] - 0s 618us/sample - loss: 621.6414 - val_loss: 638.5575\n",
      "Epoch 63/100\n",
      "126/126 [==============================] - 0s 616us/sample - loss: 620.6717 - val_loss: 636.8863\n",
      "Epoch 64/100\n",
      "126/126 [==============================] - 0s 455us/sample - loss: 620.0810 - val_loss: 650.4304\n",
      "Epoch 65/100\n",
      "126/126 [==============================] - 0s 576us/sample - loss: 637.4921 - val_loss: 658.0527\n",
      "Epoch 66/100\n",
      "126/126 [==============================] - 0s 616us/sample - loss: 637.1894 - val_loss: 636.0842\n",
      "Epoch 67/100\n",
      "126/126 [==============================] - 0s 478us/sample - loss: 617.5483 - val_loss: 635.4933\n",
      "Epoch 68/100\n",
      "126/126 [==============================] - 0s 565us/sample - loss: 617.1101 - val_loss: 636.9297\n",
      "Epoch 69/100\n",
      "126/126 [==============================] - 0s 592us/sample - loss: 618.6585 - val_loss: 649.6362\n",
      "Epoch 70/100\n",
      "126/126 [==============================] - 0s 539us/sample - loss: 629.5976 - val_loss: 651.2413\n",
      "Epoch 71/100\n",
      "126/126 [==============================] - 0s 596us/sample - loss: 630.8043 - val_loss: 635.8228\n",
      "Epoch 72/100\n",
      "126/126 [==============================] - 0s 520us/sample - loss: 618.1590 - val_loss: 634.4537\n",
      "Epoch 73/100\n",
      "126/126 [==============================] - 0s 466us/sample - loss: 617.1455 - val_loss: 635.4294\n",
      "Epoch 74/100\n",
      "126/126 [==============================] - 0s 661us/sample - loss: 617.0611 - val_loss: 636.2070\n"
     ]
    },
    {
     "name": "stdout",
     "output_type": "stream",
     "text": [
      "Epoch 75/100\n",
      "126/126 [==============================] - 0s 535us/sample - loss: 617.7913 - val_loss: 642.7136\n",
      "Epoch 76/100\n",
      "126/126 [==============================] - 0s 607us/sample - loss: 628.8775 - val_loss: 646.2814\n",
      "Epoch 77/100\n",
      "126/126 [==============================] - 0s 572us/sample - loss: 626.8408 - val_loss: 635.7015\n",
      "Epoch 78/100\n",
      "126/126 [==============================] - 0s 589us/sample - loss: 617.7429 - val_loss: 636.6260\n",
      "Epoch 79/100\n",
      "126/126 [==============================] - 0s 541us/sample - loss: 618.2000 - val_loss: 641.8511\n",
      "Epoch 80/100\n",
      "126/126 [==============================] - 0s 571us/sample - loss: 625.4937 - val_loss: 642.9114\n",
      "Epoch 81/100\n",
      "126/126 [==============================] - 0s 539us/sample - loss: 624.3775 - val_loss: 635.4091\n",
      "Epoch 82/100\n",
      "126/126 [==============================] - 0s 569us/sample - loss: 618.6534 - val_loss: 636.1721\n",
      "Epoch 83/100\n",
      "126/126 [==============================] - 0s 546us/sample - loss: 617.8226 - val_loss: 636.7997\n",
      "Epoch 84/100\n",
      "126/126 [==============================] - 0s 457us/sample - loss: 619.7119 - val_loss: 644.4980\n",
      "Epoch 85/100\n",
      "126/126 [==============================] - 0s 480us/sample - loss: 626.7812 - val_loss: 642.6193\n",
      "Epoch 86/100\n",
      "126/126 [==============================] - 0s 557us/sample - loss: 623.7724 - val_loss: 635.2441\n",
      "Epoch 87/100\n",
      "126/126 [==============================] - 0s 530us/sample - loss: 617.4188 - val_loss: 634.9655\n",
      "Epoch 88/100\n",
      "126/126 [==============================] - 0s 462us/sample - loss: 616.7066 - val_loss: 637.8745\n",
      "Epoch 89/100\n",
      "126/126 [==============================] - 0s 557us/sample - loss: 619.9891 - val_loss: 643.1634\n",
      "Epoch 90/100\n",
      "126/126 [==============================] - 0s 702us/sample - loss: 627.2540 - val_loss: 638.4854\n",
      "Epoch 91/100\n",
      "126/126 [==============================] - 0s 493us/sample - loss: 620.8611 - val_loss: 638.1862\n",
      "Epoch 92/100\n",
      "126/126 [==============================] - 0s 553us/sample - loss: 619.9439 - val_loss: 636.8135\n",
      "Epoch 93/100\n",
      "126/126 [==============================] - 0s 585us/sample - loss: 620.0240 - val_loss: 641.1685\n",
      "Epoch 94/100\n",
      "126/126 [==============================] - 0s 515us/sample - loss: 625.3276 - val_loss: 646.9277\n",
      "Epoch 95/100\n",
      "126/126 [==============================] - 0s 581us/sample - loss: 628.3495 - val_loss: 634.7552\n",
      "Epoch 96/100\n",
      "126/126 [==============================] - 0s 650us/sample - loss: 616.7567 - val_loss: 633.8703\n",
      "Epoch 97/100\n",
      "126/126 [==============================] - 0s 501us/sample - loss: 615.3382 - val_loss: 634.9271\n",
      "Epoch 98/100\n",
      "126/126 [==============================] - 0s 528us/sample - loss: 615.6026 - val_loss: 635.8533\n",
      "Epoch 99/100\n",
      "126/126 [==============================] - 0s 550us/sample - loss: 618.1345 - val_loss: 647.5996\n",
      "Epoch 100/100\n",
      "126/126 [==============================] - 0s 441us/sample - loss: 626.7904 - val_loss: 641.4000\n"
     ]
    }
   ],
   "source": [
    "vae.fit(x_train,\n",
    "        x_train,\n",
    "        shuffle=True,\n",
    "        epochs=epochs,\n",
    "        batch_size=batch_size,\n",
    "        validation_data=(x_test, x_test))\n",
    "\n",
    "encoder = Model(x, z_mu)"
   ]
  },
  {
   "cell_type": "code",
   "execution_count": 20,
   "metadata": {},
   "outputs": [
    {
     "data": {
      "text/plain": [
       "<matplotlib.colorbar.Colorbar at 0x7faaac0f68d0>"
      ]
     },
     "execution_count": 20,
     "metadata": {},
     "output_type": "execute_result"
    },
    {
     "data": {
      "image/png": "[encoded data removed]",
      "text/plain": [
       "<Figure size 432x432 with 2 Axes>"
      ]
     },
     "metadata": {
      "needs_background": "light"
     },
     "output_type": "display_data"
    }
   ],
   "source": [
    "# display a 2D plot of the digit classes in the latent space\n",
    "z_test = encoder.predict(x_test, batch_size=batch_size)\n",
    "plt.figure(figsize=(6, 6))\n",
    "plt.scatter(z_test[:, 0], z_test[:, 1], c=y_test,\n",
    "            alpha=.4, s=13**2, cmap='viridis')\n",
    "plt.colorbar()\n"
   ]
  },
  {
   "cell_type": "code",
   "execution_count": 31,
   "metadata": {},
   "outputs": [],
   "source": [
    "val=[4,.5]"
   ]
  },
  {
   "cell_type": "code",
   "execution_count": 32,
   "metadata": {},
   "outputs": [
    {
     "data": {
      "text/plain": [
       "'GTTTAGTCGTGGGGCGGCGTGGGGTGAGTACGCCAAAAATTTTGAGTTGCGGAGGCGAGAAGGAGAGAGATGGGTGGGTGTGCGTCAGTTTTTTGCGGGGGAGAGTTTTAAAGTTTGTAAATATTTGGGTTATGGCCTGGGGGTATGTTAGTTTTTTTATTATATCTGTTTGTATGGGCTTGCAGGGTTGTTGTGCGATTGGCTGTTAATGGTGGCCTGTTTGTTACTGCAGTAGGGTTTAGACTTTTTGTTGATCAGCTACAACCATCCCTTCAGAGAGTATCAGAAGTTGTTATATCTTTATATTTGTGAGTTGGATGGGTCTATTGTGTTCATGATAATATTGAGGTTTAAGTGTCCATGGAATGTTTAGTGTAGATAGTGGATGTCCAAAACAAATTTTAGAAATTTGGAGAGGAAGGAGCTGGGTGGTGTGTGTTGTGCAGCGTGGTGTGGCATATTTAGGGTATTGTTGATATGGTTGAGGTGCAATGGGGATTTGAGGGCTTTTGTGGATGATCTTTAATTGCAGGTTTAAATGTATTTGTATTTTAGGGTATGAGCGGATTAGTATTTGGGATTTTGTGTTGGTTTGGAGATGGTGGGTGGGGTGTTGTTGTTAAGAGGATCGTTAAGTGTTTGTGGGGTGTTGTTGGTGGGTTGGTTATGGTTAATGTGTGTTTGTTGGTTTATGGTGGATTATGGGATTTTTTGGTTGGTGTGGTTGCTGTTGCTTTTGGTGGAGGGCTTTTGTTTTATGGATTTGGATGTGTGTTTGGTTGTTGTAGTTGTAGGGTTGTGGTTCATTTTGGTTGGTTGTGTATTATTGGAGGTTTGGGTTTTGGAGATATGTTTATTTTTTTTATATGCTTGTTATTTATTTATATTTTTTTATGGTTTTTCGGGTGCTGGTTTGTGGTTATTTTTGAATTTCGATTGGTTGGGTTTTGTGATTATGTTGAGGGTTTCTATAATTGTGTAAGAGGGGTTGTTGGTTGAG'"
      ]
     },
     "execution_count": 32,
     "metadata": {},
     "output_type": "execute_result"
    }
   ],
   "source": [
    "''.join(np.round(decoder.predict(np.array(val).reshape(1,2))*4)[0].astype(int).astype(str)).replace('1','A').replace('2','T').replace('3','G').replace('4','C')"
   ]
  },
  {
   "cell_type": "code",
   "execution_count": 33,
   "metadata": {},
   "outputs": [],
   "source": [
    "val=[.5,.5]"
   ]
  },
  {
   "cell_type": "code",
   "execution_count": 26,
   "metadata": {},
   "outputs": [
    {
     "data": {
      "text/plain": [
       "'TGGTTTGTGTTTGGGGGTGGTTTTTTTGTGTTGTGTTGGTTTTTGTGTGGTGGGTTGTGTGTGTTGGGGTGTTGGGTGTTGTTGTTTTGTTGTGTGTTTGTGGTGGGTTGTGTTTTGGTGTGTGTTTTGTTTGGTGGTGGTTGGTTGGGGGTGTGGTGGGTGTGGTGTGTGTTTTGTGGTTTTTTGGTTTGTTGTTGTTTTTTGGTTTGTGTTTTTTGGTTGTTTTTTGGTTTTTTTGTTTGTTTTTTTGTTTTGTTTGTTTTTTTTTGTGTTTTTTTTGTTTTTGTTTGTTTTGGGTTTTTGTTGTTGGTTTTTTTTTGTTTTTGTTGTGTTTTTTTTTGTTGGTTTTTGGTGTGTGTTTGTTTTTTGGGGTTGGTTTTTTTGGTTTGGTGTTTTTTTGTTGTTTTGGGTTGGGTGTTTTTGTTGTTTTTTTTTGTGGTTTTGTTGTTTTTTGTTTTGTGTGTTTTTTTTGTTGTTTTTTTGGTTTTTTGTTGTTGTTTTTTTTTGTTTTGTTGTTTTTTTGTTTGTTTTTTTTTTTTGTTTTTTTGTTTTTTTTTTTTGTTGTTTTGTTTTGTTTTTTTTTTTTTTTTTTTTTTTTTTGTTGTTTTTTTTTTTTGTGTTTTTTTTTTGTTTGTTTTGTTGTGTTTTTTTGTGTTTTTTGTGTTTTTTTTTGTGTTTTTTTTTGTTGTTTGGTTTTTTTTTGTTGGTTTGTTGTTTTTTGTTTTTTTGGTTTTTGTGGTTTTTTTTTTTGGTGTTTTTTTTTTTTTTGTTTTTTTTTTTTTTTTTTTTTGGTTGTTTTTTGTTGTTTTTTTTTTTTTTTTTTTTTTTTTTTTTTTTTTTTTTTTTTTTTTTTTTTTGGTTTTTTTTTTTTTTTTTTTTTTTTTTTTGTTGGTTTTTGTGTTTTTGGTTTTTTTTTTTTTGTTGGTTTTTTTTGTTTGTTTTTTTTTTGTTTTTTTTGTTTTTTTTTTTTTTTTTTTTTTTTTTTTTTTTTGTTTTTTTT'"
      ]
     },
     "execution_count": 26,
     "metadata": {},
     "output_type": "execute_result"
    }
   ],
   "source": [
    "''.join(np.round(decoder.predict(np.array(val).reshape(1,2))*4)[0].astype(int).astype(str)).replace('1','A').replace('2','T').replace('3','G').replace('4','C')"
   ]
  },
  {
   "cell_type": "markdown",
   "metadata": {},
   "source": [
    "## HW:\n",
    "---\n",
    "    1. what are the hyper parameters you can tune?\n",
    "    2. Tune the models so that the distribution is more compact.\n",
    "    3. Investigate other segments (POL, ENV, INTEGRASE, Reverse-transcriptase, and complete genome)\n",
    "    4. Blast it against the origin sequence data to investigate if we are closer to the clinical subtypes that we shpuld be closer to\n",
    "    5. How well can we actually use this to generate new samples (sequences of hiv clinical subtypes not in the dataset?)"
   ]
  },
  {
   "cell_type": "code",
   "execution_count": null,
   "metadata": {},
   "outputs": [],
   "source": []
  }
 ],
 "metadata": {
  "kernelspec": {
   "display_name": "Python 3 (ipykernel)",
   "language": "python",
   "name": "python3"
  },
  "language_info": {
   "codemirror_mode": {
    "name": "ipython",
    "version": 3
   },
   "file_extension": ".py",
   "mimetype": "text/x-python",
   "name": "python",
   "nbconvert_exporter": "python",
   "pygments_lexer": "ipython3",
   "version": "3.7.5"
  }
 },
 "nbformat": 4,
 "nbformat_minor": 2
}

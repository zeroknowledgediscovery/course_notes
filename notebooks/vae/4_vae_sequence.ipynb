{
 "cells": [
  {
   "cell_type": "code",
   "execution_count": 1,
   "metadata": {},
   "outputs": [
    {
     "name": "stderr",
     "output_type": "stream",
     "text": [
      "Using TensorFlow backend.\n",
      "/home/ishanu/.local/lib/python3.7/site-packages/tensorflow/python/framework/dtypes.py:516: FutureWarning: Passing (type, 1) or '1type' as a synonym of type is deprecated; in a future version of numpy, it will be understood as (type, (1,)) / '(1,)type'.\n",
      "  _np_qint8 = np.dtype([(\"qint8\", np.int8, 1)])\n",
      "/home/ishanu/.local/lib/python3.7/site-packages/tensorflow/python/framework/dtypes.py:517: FutureWarning: Passing (type, 1) or '1type' as a synonym of type is deprecated; in a future version of numpy, it will be understood as (type, (1,)) / '(1,)type'.\n",
      "  _np_quint8 = np.dtype([(\"quint8\", np.uint8, 1)])\n",
      "/home/ishanu/.local/lib/python3.7/site-packages/tensorflow/python/framework/dtypes.py:518: FutureWarning: Passing (type, 1) or '1type' as a synonym of type is deprecated; in a future version of numpy, it will be understood as (type, (1,)) / '(1,)type'.\n",
      "  _np_qint16 = np.dtype([(\"qint16\", np.int16, 1)])\n",
      "/home/ishanu/.local/lib/python3.7/site-packages/tensorflow/python/framework/dtypes.py:519: FutureWarning: Passing (type, 1) or '1type' as a synonym of type is deprecated; in a future version of numpy, it will be understood as (type, (1,)) / '(1,)type'.\n",
      "  _np_quint16 = np.dtype([(\"quint16\", np.uint16, 1)])\n",
      "/home/ishanu/.local/lib/python3.7/site-packages/tensorflow/python/framework/dtypes.py:520: FutureWarning: Passing (type, 1) or '1type' as a synonym of type is deprecated; in a future version of numpy, it will be understood as (type, (1,)) / '(1,)type'.\n",
      "  _np_qint32 = np.dtype([(\"qint32\", np.int32, 1)])\n",
      "/home/ishanu/.local/lib/python3.7/site-packages/tensorflow/python/framework/dtypes.py:525: FutureWarning: Passing (type, 1) or '1type' as a synonym of type is deprecated; in a future version of numpy, it will be understood as (type, (1,)) / '(1,)type'.\n",
      "  np_resource = np.dtype([(\"resource\", np.ubyte, 1)])\n",
      "/home/ishanu/.local/lib/python3.7/site-packages/tensorboard/compat/tensorflow_stub/dtypes.py:541: FutureWarning: Passing (type, 1) or '1type' as a synonym of type is deprecated; in a future version of numpy, it will be understood as (type, (1,)) / '(1,)type'.\n",
      "  _np_qint8 = np.dtype([(\"qint8\", np.int8, 1)])\n",
      "/home/ishanu/.local/lib/python3.7/site-packages/tensorboard/compat/tensorflow_stub/dtypes.py:542: FutureWarning: Passing (type, 1) or '1type' as a synonym of type is deprecated; in a future version of numpy, it will be understood as (type, (1,)) / '(1,)type'.\n",
      "  _np_quint8 = np.dtype([(\"quint8\", np.uint8, 1)])\n",
      "/home/ishanu/.local/lib/python3.7/site-packages/tensorboard/compat/tensorflow_stub/dtypes.py:543: FutureWarning: Passing (type, 1) or '1type' as a synonym of type is deprecated; in a future version of numpy, it will be understood as (type, (1,)) / '(1,)type'.\n",
      "  _np_qint16 = np.dtype([(\"qint16\", np.int16, 1)])\n",
      "/home/ishanu/.local/lib/python3.7/site-packages/tensorboard/compat/tensorflow_stub/dtypes.py:544: FutureWarning: Passing (type, 1) or '1type' as a synonym of type is deprecated; in a future version of numpy, it will be understood as (type, (1,)) / '(1,)type'.\n",
      "  _np_quint16 = np.dtype([(\"quint16\", np.uint16, 1)])\n",
      "/home/ishanu/.local/lib/python3.7/site-packages/tensorboard/compat/tensorflow_stub/dtypes.py:545: FutureWarning: Passing (type, 1) or '1type' as a synonym of type is deprecated; in a future version of numpy, it will be understood as (type, (1,)) / '(1,)type'.\n",
      "  _np_qint32 = np.dtype([(\"qint32\", np.int32, 1)])\n",
      "/home/ishanu/.local/lib/python3.7/site-packages/tensorboard/compat/tensorflow_stub/dtypes.py:550: FutureWarning: Passing (type, 1) or '1type' as a synonym of type is deprecated; in a future version of numpy, it will be understood as (type, (1,)) / '(1,)type'.\n",
      "  np_resource = np.dtype([(\"resource\", np.ubyte, 1)])\n"
     ]
    }
   ],
   "source": [
    "import numpy as np\n",
    "import matplotlib.pyplot as plt\n",
    "from scipy.stats import norm\n",
    "\n",
    "from keras import backend as K\n",
    "\n",
    "from keras.layers import Input, Dense, Lambda, Layer, Add, Multiply\n",
    "from keras.models import Model, Sequential\n",
    "from keras.datasets import mnist\n",
    "\n",
    "\n",
    "original_dim = 1000\n",
    "intermediate_dim = 512\n",
    "latent_dim = 2\n",
    "batch_size = 100\n",
    "epochs = 100\n",
    "epsilon_std = 1.0\n"
   ]
  },
  {
   "cell_type": "code",
   "execution_count": 2,
   "metadata": {},
   "outputs": [],
   "source": [
    "\n",
    "def nll(y_true, y_pred):\n",
    "    \"\"\" Negative log likelihood (Bernoulli). \"\"\"\n",
    "\n",
    "    # keras.losses.binary_crossentropy gives the mean\n",
    "    # over the last axis. we require the sum\n",
    "    return K.sum(K.binary_crossentropy(y_true, y_pred), axis=-1)\n",
    "\n",
    "\n",
    "class KLDivergenceLayer(Layer):\n",
    "\n",
    "    \"\"\" Identity transform layer that adds KL divergence\n",
    "    to the final model loss.\n",
    "    \"\"\"\n",
    "\n",
    "    def __init__(self, *args, **kwargs):\n",
    "        self.is_placeholder = True\n",
    "        super(KLDivergenceLayer, self).__init__(*args, **kwargs)\n",
    "\n",
    "    def call(self, inputs):\n",
    "\n",
    "        mu, log_var = inputs\n",
    "\n",
    "        kl_batch = - .5 * K.sum(1 + log_var -\n",
    "                                K.square(mu) -\n",
    "                                K.exp(log_var), axis=-1)\n",
    "\n",
    "        self.add_loss(K.mean(kl_batch), inputs=inputs)\n",
    "\n",
    "        return inputs\n",
    "\n"
   ]
  },
  {
   "cell_type": "code",
   "execution_count": 3,
   "metadata": {},
   "outputs": [
    {
     "name": "stderr",
     "output_type": "stream",
     "text": [
      "WARNING: Logging before flag parsing goes to stderr.\n",
      "W0308 15:13:24.038999 139780068177408 deprecation.py:323] From /home/ishanu/.local/lib/python3.7/site-packages/tensorflow/python/ops/nn_impl.py:180: add_dispatch_support.<locals>.wrapper (from tensorflow.python.ops.array_ops) is deprecated and will be removed in a future version.\n",
      "Instructions for updating:\n",
      "Use tf.where in 2.0, which has the same broadcast rule as np.where\n"
     ]
    }
   ],
   "source": [
    "decoder = Sequential([\n",
    "    Dense(intermediate_dim, input_dim=latent_dim, activation='relu'),\n",
    "    Dense(original_dim, activation='sigmoid')\n",
    "])\n",
    "\n",
    "x = Input(shape=(original_dim,))\n",
    "h = Dense(intermediate_dim, activation='relu')(x)\n",
    "\n",
    "z_mu = Dense(latent_dim)(h)\n",
    "z_log_var = Dense(latent_dim)(h)\n",
    "\n",
    "z_mu, z_log_var = KLDivergenceLayer()([z_mu, z_log_var])\n",
    "z_sigma = Lambda(lambda t: K.exp(.5*t))(z_log_var)\n",
    "\n",
    "eps = Input(tensor=K.random_normal(stddev=epsilon_std,\n",
    "                                   shape=(K.shape(x)[0], latent_dim)))\n",
    "z_eps = Multiply()([z_sigma, eps])\n",
    "z = Add()([z_mu, z_eps])\n",
    "\n",
    "x_pred = decoder(z)\n",
    "\n",
    "vae = Model(inputs=[x, eps], outputs=x_pred)\n",
    "vae.compile(optimizer='rmsprop', loss=nll)\n"
   ]
  },
  {
   "cell_type": "code",
   "execution_count": 4,
   "metadata": {},
   "outputs": [],
   "source": [
    "import pandas as pd\n",
    "import glob\n",
    "from sklearn.model_selection import train_test_split\n"
   ]
  },
  {
   "cell_type": "code",
   "execution_count": 5,
   "metadata": {},
   "outputs": [],
   "source": [
    "def splitw(x):\n",
    "    return np.array([y for y in x])\n",
    "#.replace('T','1'),replace('G','2').replace('C','3')"
   ]
  },
  {
   "cell_type": "code",
   "execution_count": 15,
   "metadata": {},
   "outputs": [],
   "source": [
    "FILES=glob.glob('../../datasets/SEQUENCE_/HIV/*seq')\n",
    "#! wc ../hwdata/hiv/*seq"
   ]
  },
  {
   "cell_type": "code",
   "execution_count": 16,
   "metadata": {},
   "outputs": [
    {
     "data": {
      "text/plain": [
       "(158,)"
      ]
     },
     "execution_count": 16,
     "metadata": {},
     "output_type": "execute_result"
    }
   ],
   "source": [
    "data=pd.concat([pd.read_csv(i,header=None) for i in FILES])\n",
    "\n",
    "data1=np.array([x for x in np.squeeze(data)])\n",
    "\n",
    "data2=np.array([splitw(x.replace('A','1').replace('T','2').replace('G','3').replace('C','4')).astype(int) for x in data1])\n",
    "\n",
    "data2.shape"
   ]
  },
  {
   "cell_type": "code",
   "execution_count": 17,
   "metadata": {},
   "outputs": [],
   "source": [
    "X=[]\n",
    "dim1=158\n",
    "for i in data2:\n",
    "    X=np.append(X,i[:original_dim])\n",
    "X=X.reshape(dim1,int(original_dim))\n",
    "X=X/4."
   ]
  },
  {
   "cell_type": "code",
   "execution_count": 18,
   "metadata": {},
   "outputs": [
    {
     "data": {
      "text/plain": [
       "array([0., 0., 0., 0., 0., 0., 0., 0., 0., 0., 0., 0., 0., 0., 0., 0., 0.,\n",
       "       0., 0., 0., 0., 0., 0., 0., 0., 0., 0., 0., 0., 0., 0., 0., 0., 0.,\n",
       "       0., 0., 0., 0., 0., 0., 0., 0., 0., 0., 0., 0., 0., 0., 0., 0., 0.,\n",
       "       0., 0., 0., 0., 0., 0., 0., 0., 0., 1., 1., 1., 1., 1., 1., 1., 1.,\n",
       "       1., 1., 1., 1., 1., 1., 1., 1., 1., 1., 1., 1., 1., 1., 1., 1., 1.,\n",
       "       1., 1., 1., 1., 1., 1., 1., 1., 1., 1., 1., 1., 2., 2., 2., 2., 2.,\n",
       "       2., 2., 2., 2., 2., 2., 2., 2., 2., 2., 2., 2., 2., 2., 2., 2., 2.,\n",
       "       2., 3., 3., 3., 3., 3., 3., 3., 3., 3., 3., 3., 3., 3., 3., 3., 3.,\n",
       "       3., 3., 3., 3., 3., 3., 3., 3., 3., 3., 3., 3., 3., 3., 3., 3., 3.,\n",
       "       3., 3., 3., 3., 3.])"
      ]
     },
     "execution_count": 18,
     "metadata": {},
     "output_type": "execute_result"
    }
   ],
   "source": [
    "y=np.array([0*np.ones(60),1*np.ones(37),2*np.ones(23),3*np.ones(38)])\n",
    "y=np.squeeze(y)\n",
    "YY=[]\n",
    "for i in y:\n",
    "    YY=np.append(YY,i)\n",
    "YY"
   ]
  },
  {
   "cell_type": "code",
   "execution_count": 19,
   "metadata": {},
   "outputs": [],
   "source": [
    "x_train, x_test, y_train,  y_test=train_test_split(X,YY,test_size=.2)"
   ]
  },
  {
   "cell_type": "code",
   "execution_count": 20,
   "metadata": {},
   "outputs": [
    {
     "data": {
      "text/plain": [
       "(32, 1000)"
      ]
     },
     "execution_count": 20,
     "metadata": {},
     "output_type": "execute_result"
    }
   ],
   "source": [
    "x_test.shape"
   ]
  },
  {
   "cell_type": "code",
   "execution_count": 21,
   "metadata": {},
   "outputs": [
    {
     "name": "stderr",
     "output_type": "stream",
     "text": [
      "W0308 15:16:48.905306 139780068177408 deprecation_wrapper.py:119] From /home/ishanu/.local/lib/python3.7/site-packages/keras/backend/tensorflow_backend.py:422: The name tf.global_variables is deprecated. Please use tf.compat.v1.global_variables instead.\n",
      "\n"
     ]
    },
    {
     "name": "stdout",
     "output_type": "stream",
     "text": [
      "Train on 126 samples, validate on 32 samples\n",
      "Epoch 1/100\n",
      "126/126 [==============================] - 0s 2ms/step - loss: 730.6079 - val_loss: 710.0266\n",
      "Epoch 2/100\n",
      "126/126 [==============================] - 0s 215us/step - loss: 706.6128 - val_loss: 692.2271\n",
      "Epoch 3/100\n",
      "126/126 [==============================] - 0s 218us/step - loss: 691.0756 - val_loss: 684.9304\n",
      "Epoch 4/100\n",
      "126/126 [==============================] - 0s 189us/step - loss: 684.4137 - val_loss: 682.8571\n",
      "Epoch 5/100\n",
      "126/126 [==============================] - 0s 165us/step - loss: 682.6888 - val_loss: 687.4388\n",
      "Epoch 6/100\n",
      "126/126 [==============================] - 0s 170us/step - loss: 686.6930 - val_loss: 681.1843\n",
      "Epoch 7/100\n",
      "126/126 [==============================] - 0s 190us/step - loss: 680.2318 - val_loss: 682.9039\n",
      "Epoch 8/100\n",
      "126/126 [==============================] - 0s 182us/step - loss: 681.0257 - val_loss: 679.8006\n",
      "Epoch 9/100\n",
      "126/126 [==============================] - 0s 191us/step - loss: 677.9539 - val_loss: 677.9684\n",
      "Epoch 10/100\n",
      "126/126 [==============================] - 0s 178us/step - loss: 676.7286 - val_loss: 677.3850\n",
      "Epoch 11/100\n",
      "126/126 [==============================] - 0s 187us/step - loss: 677.1967 - val_loss: 683.1977\n",
      "Epoch 12/100\n",
      "126/126 [==============================] - 0s 175us/step - loss: 682.1195 - val_loss: 675.8843\n",
      "Epoch 13/100\n",
      "126/126 [==============================] - 0s 168us/step - loss: 676.1102 - val_loss: 676.5705\n",
      "Epoch 14/100\n",
      "126/126 [==============================] - 0s 186us/step - loss: 675.2555 - val_loss: 677.0125\n",
      "Epoch 15/100\n",
      "126/126 [==============================] - 0s 178us/step - loss: 676.7576 - val_loss: 682.1281\n",
      "Epoch 16/100\n",
      "126/126 [==============================] - 0s 176us/step - loss: 681.5236 - val_loss: 677.8349\n",
      "Epoch 17/100\n",
      "126/126 [==============================] - 0s 165us/step - loss: 677.9808 - val_loss: 674.3398\n",
      "Epoch 18/100\n",
      "126/126 [==============================] - 0s 163us/step - loss: 673.5619 - val_loss: 672.5981\n",
      "Epoch 19/100\n",
      "126/126 [==============================] - 0s 153us/step - loss: 673.7734 - val_loss: 683.6237\n",
      "Epoch 20/100\n",
      "126/126 [==============================] - 0s 174us/step - loss: 682.2845 - val_loss: 672.8710\n",
      "Epoch 21/100\n",
      "126/126 [==============================] - 0s 167us/step - loss: 672.2596 - val_loss: 673.9025\n",
      "Epoch 22/100\n",
      "126/126 [==============================] - 0s 178us/step - loss: 671.1831 - val_loss: 671.2222\n",
      "Epoch 23/100\n",
      "126/126 [==============================] - 0s 170us/step - loss: 670.3105 - val_loss: 676.0646\n",
      "Epoch 24/100\n",
      "126/126 [==============================] - 0s 175us/step - loss: 674.6375 - val_loss: 671.8393\n",
      "Epoch 25/100\n",
      "126/126 [==============================] - 0s 160us/step - loss: 670.4634 - val_loss: 668.6426\n",
      "Epoch 26/100\n",
      "126/126 [==============================] - 0s 176us/step - loss: 667.1601 - val_loss: 674.0090\n",
      "Epoch 27/100\n",
      "126/126 [==============================] - 0s 165us/step - loss: 671.0840 - val_loss: 666.5862\n",
      "Epoch 28/100\n",
      "126/126 [==============================] - 0s 163us/step - loss: 663.8981 - val_loss: 662.8788\n",
      "Epoch 29/100\n",
      "126/126 [==============================] - 0s 175us/step - loss: 660.8568 - val_loss: 670.2142\n",
      "Epoch 30/100\n",
      "126/126 [==============================] - 0s 189us/step - loss: 666.4004 - val_loss: 670.2799\n",
      "Epoch 31/100\n",
      "126/126 [==============================] - 0s 173us/step - loss: 673.4622 - val_loss: 672.5932\n",
      "Epoch 32/100\n",
      "126/126 [==============================] - 0s 222us/step - loss: 667.2372 - val_loss: 662.2812\n",
      "Epoch 33/100\n",
      "126/126 [==============================] - 0s 217us/step - loss: 658.1788 - val_loss: 658.9664\n",
      "Epoch 34/100\n",
      "126/126 [==============================] - 0s 173us/step - loss: 655.4437 - val_loss: 658.8671\n",
      "Epoch 35/100\n",
      "126/126 [==============================] - 0s 175us/step - loss: 654.4753 - val_loss: 658.6938\n",
      "Epoch 36/100\n",
      "126/126 [==============================] - 0s 166us/step - loss: 655.5175 - val_loss: 677.8483\n",
      "Epoch 37/100\n",
      "126/126 [==============================] - 0s 173us/step - loss: 676.3715 - val_loss: 673.5591\n",
      "Epoch 38/100\n",
      "126/126 [==============================] - 0s 177us/step - loss: 665.3837 - val_loss: 659.1269\n",
      "Epoch 39/100\n",
      "126/126 [==============================] - 0s 168us/step - loss: 653.5408 - val_loss: 656.7010\n",
      "Epoch 40/100\n",
      "126/126 [==============================] - 0s 171us/step - loss: 651.4529 - val_loss: 656.2677\n",
      "Epoch 41/100\n",
      "126/126 [==============================] - 0s 181us/step - loss: 650.4832 - val_loss: 657.7667\n",
      "Epoch 42/100\n",
      "126/126 [==============================] - 0s 182us/step - loss: 652.4501 - val_loss: 657.6904\n",
      "Epoch 43/100\n",
      "126/126 [==============================] - 0s 163us/step - loss: 650.6245 - val_loss: 654.2352\n",
      "Epoch 44/100\n",
      "126/126 [==============================] - 0s 171us/step - loss: 649.3449 - val_loss: 658.6186\n",
      "Epoch 45/100\n",
      "126/126 [==============================] - 0s 176us/step - loss: 657.2428 - val_loss: 660.3342\n",
      "Epoch 46/100\n",
      "126/126 [==============================] - 0s 179us/step - loss: 656.5017 - val_loss: 655.1627\n",
      "Epoch 47/100\n",
      "126/126 [==============================] - 0s 162us/step - loss: 652.2064 - val_loss: 654.7889\n",
      "Epoch 48/100\n",
      "126/126 [==============================] - 0s 162us/step - loss: 648.8791 - val_loss: 649.7585\n",
      "Epoch 49/100\n",
      "126/126 [==============================] - 0s 182us/step - loss: 646.5815 - val_loss: 650.2357\n",
      "Epoch 50/100\n",
      "126/126 [==============================] - 0s 176us/step - loss: 645.8842 - val_loss: 651.0769\n",
      "Epoch 51/100\n",
      "126/126 [==============================] - 0s 165us/step - loss: 647.6648 - val_loss: 656.6161\n",
      "Epoch 52/100\n",
      "126/126 [==============================] - 0s 159us/step - loss: 650.5377 - val_loss: 675.0815\n",
      "Epoch 53/100\n",
      "126/126 [==============================] - 0s 167us/step - loss: 668.9689 - val_loss: 651.0802\n",
      "Epoch 54/100\n",
      "126/126 [==============================] - 0s 161us/step - loss: 645.8451 - val_loss: 648.5403\n",
      "Epoch 55/100\n",
      "126/126 [==============================] - 0s 164us/step - loss: 644.4541 - val_loss: 648.9748\n",
      "Epoch 56/100\n",
      "126/126 [==============================] - 0s 186us/step - loss: 644.9948 - val_loss: 650.8762\n",
      "Epoch 57/100\n",
      "126/126 [==============================] - 0s 163us/step - loss: 646.6295 - val_loss: 652.3315\n",
      "Epoch 58/100\n",
      "126/126 [==============================] - 0s 162us/step - loss: 645.9161 - val_loss: 656.4981\n",
      "Epoch 59/100\n",
      "126/126 [==============================] - 0s 174us/step - loss: 651.8492 - val_loss: 659.5449\n",
      "Epoch 60/100\n",
      "126/126 [==============================] - 0s 171us/step - loss: 653.6395 - val_loss: 647.7234\n",
      "Epoch 61/100\n",
      "126/126 [==============================] - 0s 165us/step - loss: 643.1917 - val_loss: 644.6859\n",
      "Epoch 62/100\n",
      "126/126 [==============================] - 0s 169us/step - loss: 641.1406 - val_loss: 644.9235\n",
      "Epoch 63/100\n",
      "126/126 [==============================] - 0s 166us/step - loss: 642.3721 - val_loss: 656.1977\n",
      "Epoch 64/100\n",
      "126/126 [==============================] - 0s 163us/step - loss: 655.6645 - val_loss: 645.8702\n",
      "Epoch 65/100\n",
      "126/126 [==============================] - 0s 165us/step - loss: 643.6305 - val_loss: 644.2587\n",
      "Epoch 66/100\n",
      "126/126 [==============================] - 0s 167us/step - loss: 640.8098 - val_loss: 643.6769\n",
      "Epoch 67/100\n",
      "126/126 [==============================] - 0s 170us/step - loss: 639.7977 - val_loss: 644.2772\n",
      "Epoch 68/100\n",
      "126/126 [==============================] - 0s 168us/step - loss: 640.8130 - val_loss: 657.6975\n",
      "Epoch 69/100\n",
      "126/126 [==============================] - 0s 165us/step - loss: 656.0571 - val_loss: 657.8978\n",
      "Epoch 70/100\n",
      "126/126 [==============================] - 0s 162us/step - loss: 653.2358 - val_loss: 644.5913\n",
      "Epoch 71/100\n",
      "126/126 [==============================] - 0s 175us/step - loss: 641.2775 - val_loss: 645.5745\n",
      "Epoch 72/100\n",
      "126/126 [==============================] - 0s 173us/step - loss: 641.5066 - val_loss: 641.7953\n",
      "Epoch 73/100\n",
      "126/126 [==============================] - 0s 161us/step - loss: 639.4313 - val_loss: 645.9578\n",
      "Epoch 74/100\n",
      "126/126 [==============================] - 0s 168us/step - loss: 642.8193 - val_loss: 646.0752\n",
      "Epoch 75/100\n",
      "126/126 [==============================] - 0s 172us/step - loss: 642.4319 - val_loss: 641.1423\n",
      "Epoch 76/100\n"
     ]
    },
    {
     "name": "stdout",
     "output_type": "stream",
     "text": [
      "126/126 [==============================] - 0s 170us/step - loss: 638.2154 - val_loss: 641.5199\n",
      "Epoch 77/100\n",
      "126/126 [==============================] - 0s 170us/step - loss: 637.3901 - val_loss: 641.5148\n",
      "Epoch 78/100\n",
      "126/126 [==============================] - 0s 164us/step - loss: 638.0829 - val_loss: 651.2274\n",
      "Epoch 79/100\n",
      "126/126 [==============================] - 0s 159us/step - loss: 650.3891 - val_loss: 655.4589\n",
      "Epoch 80/100\n",
      "126/126 [==============================] - 0s 160us/step - loss: 651.4442 - val_loss: 641.4790\n",
      "Epoch 81/100\n",
      "126/126 [==============================] - 0s 167us/step - loss: 638.8911 - val_loss: 638.2758\n",
      "Epoch 82/100\n",
      "126/126 [==============================] - 0s 164us/step - loss: 636.3103 - val_loss: 639.1813\n",
      "Epoch 83/100\n",
      "126/126 [==============================] - 0s 162us/step - loss: 636.0796 - val_loss: 638.9778\n",
      "Epoch 84/100\n",
      "126/126 [==============================] - 0s 161us/step - loss: 635.8224 - val_loss: 637.8282\n",
      "Epoch 85/100\n",
      "126/126 [==============================] - 0s 168us/step - loss: 635.8881 - val_loss: 644.1619\n",
      "Epoch 86/100\n",
      "126/126 [==============================] - 0s 162us/step - loss: 643.2223 - val_loss: 639.6110\n",
      "Epoch 87/100\n",
      "126/126 [==============================] - 0s 164us/step - loss: 637.3426 - val_loss: 637.7401\n",
      "Epoch 88/100\n",
      "126/126 [==============================] - 0s 167us/step - loss: 639.1771 - val_loss: 659.1344\n",
      "Epoch 89/100\n",
      "126/126 [==============================] - 0s 176us/step - loss: 653.4461 - val_loss: 637.8596\n",
      "Epoch 90/100\n",
      "126/126 [==============================] - 0s 163us/step - loss: 634.7209 - val_loss: 635.6593\n",
      "Epoch 91/100\n",
      "126/126 [==============================] - 0s 181us/step - loss: 634.9572 - val_loss: 639.0505\n",
      "Epoch 92/100\n",
      "126/126 [==============================] - 0s 168us/step - loss: 640.4097 - val_loss: 639.0349\n",
      "Epoch 93/100\n",
      "126/126 [==============================] - 0s 172us/step - loss: 638.4985 - val_loss: 638.8107\n",
      "Epoch 94/100\n",
      "126/126 [==============================] - 0s 171us/step - loss: 637.1560 - val_loss: 637.9429\n",
      "Epoch 95/100\n",
      "126/126 [==============================] - 0s 176us/step - loss: 636.2163 - val_loss: 642.3114\n",
      "Epoch 96/100\n",
      "126/126 [==============================] - 0s 162us/step - loss: 640.2719 - val_loss: 639.9584\n",
      "Epoch 97/100\n",
      "126/126 [==============================] - 0s 170us/step - loss: 636.8153 - val_loss: 635.0971\n",
      "Epoch 98/100\n",
      "126/126 [==============================] - 0s 165us/step - loss: 634.0824 - val_loss: 632.6789\n",
      "Epoch 99/100\n",
      "126/126 [==============================] - 0s 182us/step - loss: 634.2054 - val_loss: 644.0201\n",
      "Epoch 100/100\n",
      "126/126 [==============================] - 0s 209us/step - loss: 643.1834 - val_loss: 634.7484\n"
     ]
    }
   ],
   "source": [
    "vae.fit(x_train,\n",
    "        x_train,\n",
    "        shuffle=True,\n",
    "        epochs=epochs,\n",
    "        batch_size=batch_size,\n",
    "        validation_data=(x_test, x_test))\n",
    "\n",
    "encoder = Model(x, z_mu)"
   ]
  },
  {
   "cell_type": "code",
   "execution_count": 22,
   "metadata": {},
   "outputs": [
    {
     "data": {
      "text/plain": [
       "<matplotlib.colorbar.Colorbar at 0x7f20841dd4a8>"
      ]
     },
     "execution_count": 22,
     "metadata": {},
     "output_type": "execute_result"
    },
    {
     "data": {
      "image/png": "[encoded data removed]",
      "text/plain": [
       "<Figure size 432x432 with 2 Axes>"
      ]
     },
     "metadata": {},
     "output_type": "display_data"
    }
   ],
   "source": [
    "# display a 2D plot of the digit classes in the latent space\n",
    "z_test = encoder.predict(x_test, batch_size=batch_size)\n",
    "plt.figure(figsize=(6, 6))\n",
    "plt.scatter(z_test[:, 0], z_test[:, 1], c=y_test,\n",
    "            alpha=.4, s=13**2, cmap='viridis')\n",
    "plt.colorbar()\n"
   ]
  },
  {
   "cell_type": "code",
   "execution_count": 23,
   "metadata": {},
   "outputs": [],
   "source": [
    "val=[4,.5]"
   ]
  },
  {
   "cell_type": "code",
   "execution_count": 24,
   "metadata": {},
   "outputs": [
    {
     "data": {
      "text/plain": [
       "'GCGGTGTGGGGGGTGGCGTGTGGGGTGGGTCGGGGGGGGCTTGGGTTGGGGCGTTGCGTGGGGGGTGTCGGGTATTTTGGGTGGGGGGTGGGCGGGATGTTGTGGGGGGGGGGGTTGTGTGTGGGGGGGTGTTGTGGTGTGGGGGGTGTGGCGTGGTGTGTGGGGGGTTGTGGTGTTGGGGGGGCGGGGGTTGTGGGTGTGGTTTGGGTATGTGTTTGGGGTGTTTGGCGGGGTGGGGTGGTGTGGGGTGGGGGGTGGGGGGTGGGTGTGTGTGTTTGGGGGGGGGGTGGGGTTTTGGGGTTATATGTTGTGGTGGGGTGGGGTGTTTGTTTGTTTGGGTGGGGGGTTGGTGTTTTGGTTTGGGGGGTGTTTGTGTTTGTTGGGTTTTTGGTGTTGTTTGTGGTGTTGGTTTTTTTTTATTTTTTGTTTTTGTTTGAGGTTGGGGTGTGTGTGGTGTAGATGTTGTGGGTGGTTTTGGGTGGGGTGTAGTAAGTTGTTTTGGGGGTTGTGTTTTTTTGGGTGTGGTTGTTGGTTGGGTTCTGTTTGTTTTTTTTGTTGTTTTATGATTTGTTTTTTGTTTTGGTTGGGTGGATGGTTTTGGTGGTTGGGTTGTTGTTTTAGTGTGGTTTGTTGGTGTTGTGTAGTTTGTGGTTGTTGGTTTGTTTTGTTTGTTTTGTGGTGTTGTTGGTGGTGGTGTGAGATGATTGTGGGTGTAGGTGTGGGTTATTGGGGGTATTGGTGTGTTGTTGGGGTGTGTTTTTGTAGTTGTGGGGTTTGGTGGTTGTTGTTGTGTTGGTTTGGGATTTGTTGGTGTTGTTTTTGGGTTGTGGGGTGTTGTTGTTGGGTTGTTTTGTGGTTTTGGTGTTGGTGGGTGGGGTGTTGTTGTAGTGTGGTTGGGTTTGGGAGGGGGGGGTGTTGTTGGAGGGTTTGTATGTTTTTTTGTTTGGAGGTTTTTTGTAGGTGGAGTTGTGTTTTGTGTGGTGGGAGTGGTGGGTGGGGG'"
      ]
     },
     "execution_count": 24,
     "metadata": {},
     "output_type": "execute_result"
    }
   ],
   "source": [
    "''.join(np.round(decoder.predict(np.array(val).reshape(1,2))*4)[0].astype(int).astype(str)).replace('1','A').replace('2','T').replace('3','G').replace('4','C')"
   ]
  },
  {
   "cell_type": "code",
   "execution_count": 25,
   "metadata": {},
   "outputs": [],
   "source": [
    "val=[-2,1]"
   ]
  },
  {
   "cell_type": "code",
   "execution_count": 26,
   "metadata": {},
   "outputs": [
    {
     "data": {
      "text/plain": [
       "'CGGGTATCTTGTGTGCCCTCAGATCGTTTTGTCAGTGATGAATATCTCGTGCAGTGGCTCCCTTTCAGGGACTTTAAAGCGAAAGTTAGACCTGTTTAGATCTCTCGACTCAGGACTCGTCTTGCTGAAGTGCACACGGCATGTGGCGTTTGCGGCGGCTGGTGTGTTCGCCTAATTTTTTTTGACTTGCTGAGGCTAGAAGGTGATAGATTGGTGCGAGAGCGTCATTATTAAGAGTCTTAAATTTTGACACCGGGGAAAGAATTAAGTTAAATCCAGTGTCAAAGATATTCTATATTATGAAACTCCAAGTCTTTGGAAGGAGGTTGGTGTAATTTTGTGGTGTTTTCCGTGCCGTTTTGTTTTGAGGTGTTGGCTTAATGGTTTTGGTTGATTATCTTGATCGTGGTGTTGAGTGTGTAGGAAAGTTGTTGTATGGTGTTTATATGGGTTTTGTTTGGGTCTATTTTGATGATTTAAGTTATTAGGATCTGTGGTCGAAGTAGGCGTAATTGAAAATAATGTAGTTTGTAATGAAAGGTGAGGTAAAATGTGTGTAGTGTTAAGCTGGTTTGAAGTTAAATGTGAGGTTATATAAGCGTGTTTGGTTTATGTTTGAGTGGTAAATGGTTTTCTTGTCTATTGGGCGTTTTTGTTTTAAGGGGTGGGGTATTGATTTTTTTGTTATGGGTGTTTGCCTTTTGTAATATCCTATTTTTGTTGTATTTGTTTATGTTGCGGCCCGTTAAGATGAAAATGCGATGTAATTAGGGGAGTTGGGGTATTTTCGTGCTTGGTAATTGTTATTTTATTCGATTTTTGGGTTGGTTGTTTAATTGTTAGGTTTTTTGCTTTGGGTGCTTTGGCGTATTGTTCTGTGCGATTTGTTTGAGCTTGGGGTAGTGTTTTTGGTTGTATTTTTTGTAGCCGTTGTGTATTATTATGTTGGTGTTGTATTTATCCTGCTTATCCTTGATGTTTAATTGTTAATTGTGGGTTA'"
      ]
     },
     "execution_count": 26,
     "metadata": {},
     "output_type": "execute_result"
    }
   ],
   "source": [
    "''.join(np.round(decoder.predict(np.array(val).reshape(1,2))*4)[0].astype(int).astype(str)).replace('1','A').replace('2','T').replace('3','G').replace('4','C')"
   ]
  },
  {
   "cell_type": "markdown",
   "metadata": {},
   "source": [
    "## HW:\n",
    "---\n",
    "    1. what are the hyper parameters you can tune?\n",
    "    2. Tune the models so that the distribution is more compact.\n",
    "    3. Investigate other segments (POL, ENV, INTEGRASE, Reverse-transcriptase, and complete genome)\n",
    "    4. Blast it against the origin sequence data to investigate if we are closer to the clinical subtypes that we shpuld be closer to\n",
    "    5. How well can we actually use this to generate new samples (sequences of hiv clinical subtypes not in the dataset?)"
   ]
  },
  {
   "cell_type": "code",
   "execution_count": null,
   "metadata": {},
   "outputs": [],
   "source": []
  }
 ],
 "metadata": {
  "kernelspec": {
   "display_name": "Python 3",
   "language": "python",
   "name": "python3"
  },
  "language_info": {
   "codemirror_mode": {
    "name": "ipython",
    "version": 3
   },
   "file_extension": ".py",
   "mimetype": "text/x-python",
   "name": "python",
   "nbconvert_exporter": "python",
   "pygments_lexer": "ipython3",
   "version": "3.7.1"
  }
 },
 "nbformat": 4,
 "nbformat_minor": 2
}

{
 "cells": [
  {
   "cell_type": "code",
   "execution_count": 1,
   "metadata": {},
   "outputs": [],
   "source": [
    "import numpy as np\n",
    "import matplotlib.pyplot as plt\n",
    "from scipy.stats import norm\n",
    "\n",
    "from tensorflow.keras import backend as K\n",
    "\n",
    "from tensorflow.keras.layers import Input, Dense, Lambda, Layer, Add, Multiply\n",
    "from tensorflow.keras.models import Model, Sequential\n",
    "from tensorflow.keras.datasets import mnist\n",
    "\n",
    "\n",
    "original_dim = 1000\n",
    "intermediate_dim = 512\n",
    "latent_dim = 2\n",
    "batch_size = 100\n",
    "epochs = 100\n",
    "epsilon_std = 1.0\n"
   ]
  },
  {
   "cell_type": "code",
   "execution_count": 2,
   "metadata": {},
   "outputs": [],
   "source": [
    "\n",
    "def nll(y_true, y_pred):\n",
    "    \"\"\" Negative log likelihood (Bernoulli). \"\"\"\n",
    "\n",
    "    # keras.losses.binary_crossentropy gives the mean\n",
    "    # over the last axis. we require the sum\n",
    "    return K.sum(K.binary_crossentropy(y_true, y_pred), axis=-1)\n",
    "\n",
    "\n",
    "class KLDivergenceLayer(Layer):\n",
    "\n",
    "    \"\"\" Identity transform layer that adds KL divergence\n",
    "    to the final model loss.\n",
    "    \"\"\"\n",
    "\n",
    "    def __init__(self, *args, **kwargs):\n",
    "        self.is_placeholder = True\n",
    "        super(KLDivergenceLayer, self).__init__(*args, **kwargs)\n",
    "\n",
    "    def call(self, inputs):\n",
    "\n",
    "        mu, log_var = inputs\n",
    "\n",
    "        kl_batch = - .5 * K.sum(1 + log_var -\n",
    "                                K.square(mu) -\n",
    "                                K.exp(log_var), axis=-1)\n",
    "\n",
    "        self.add_loss(K.mean(kl_batch), inputs=inputs)\n",
    "\n",
    "        return inputs\n",
    "\n"
   ]
  },
  {
   "cell_type": "code",
   "execution_count": 3,
   "metadata": {},
   "outputs": [
    {
     "name": "stdout",
     "output_type": "stream",
     "text": [
      "WARNING:tensorflow:From /home/ishanu/.local/lib/python3.7/site-packages/tensorflow_core/python/ops/resource_variable_ops.py:1630: calling BaseResourceVariable.__init__ (from tensorflow.python.ops.resource_variable_ops) with constraint is deprecated and will be removed in a future version.\n",
      "Instructions for updating:\n",
      "If using Keras pass *_constraint arguments to layers.\n",
      "WARNING:tensorflow:From /home/ishanu/.local/lib/python3.7/site-packages/tensorflow_core/python/ops/nn_impl.py:183: where (from tensorflow.python.ops.array_ops) is deprecated and will be removed in a future version.\n",
      "Instructions for updating:\n",
      "Use tf.where in 2.0, which has the same broadcast rule as np.where\n"
     ]
    }
   ],
   "source": [
    "decoder = Sequential([\n",
    "    Dense(intermediate_dim, input_dim=latent_dim, activation='relu'),\n",
    "    Dense(original_dim, activation='sigmoid')\n",
    "])\n",
    "\n",
    "x = Input(shape=(original_dim,))\n",
    "h = Dense(intermediate_dim, activation='relu')(x)\n",
    "\n",
    "z_mu = Dense(latent_dim)(h)\n",
    "z_log_var = Dense(latent_dim)(h)\n",
    "\n",
    "z_mu, z_log_var = KLDivergenceLayer()([z_mu, z_log_var])\n",
    "z_sigma = Lambda(lambda t: K.exp(.5*t))(z_log_var)\n",
    "\n",
    "eps = Input(tensor=K.random_normal(stddev=epsilon_std,\n",
    "                                   shape=(K.shape(x)[0], latent_dim)))\n",
    "z_eps = Multiply()([z_sigma, eps])\n",
    "z = Add()([z_mu, z_eps])\n",
    "\n",
    "x_pred = decoder(z)\n",
    "\n",
    "vae = Model(inputs=[x, eps], outputs=x_pred)\n",
    "vae.compile(optimizer='rmsprop', loss=nll)\n"
   ]
  },
  {
   "cell_type": "code",
   "execution_count": 4,
   "metadata": {},
   "outputs": [],
   "source": [
    "import pandas as pd\n",
    "import glob\n",
    "from sklearn.model_selection import train_test_split\n"
   ]
  },
  {
   "cell_type": "code",
   "execution_count": 5,
   "metadata": {},
   "outputs": [],
   "source": [
    "def splitw(x):\n",
    "    return np.array([y for y in x])\n",
    "#.replace('T','1'),replace('G','2').replace('C','3')"
   ]
  },
  {
   "cell_type": "code",
   "execution_count": 6,
   "metadata": {},
   "outputs": [],
   "source": [
    "FILES=glob.glob('../../datasets/SEQUENCE_/HIV/*seq')\n",
    "#! wc ../hwdata/hiv/*seq"
   ]
  },
  {
   "cell_type": "code",
   "execution_count": 7,
   "metadata": {},
   "outputs": [
    {
     "data": {
      "text/plain": [
       "(158,)"
      ]
     },
     "execution_count": 7,
     "metadata": {},
     "output_type": "execute_result"
    }
   ],
   "source": [
    "data=pd.concat([pd.read_csv(i,header=None) for i in FILES])\n",
    "\n",
    "data1=np.array([x for x in np.squeeze(data)])\n",
    "\n",
    "data2=np.array([splitw(x.replace('A','1').replace('T','2').replace('G','3').replace('C','4')).astype(int) for x in data1])\n",
    "\n",
    "data2.shape"
   ]
  },
  {
   "cell_type": "code",
   "execution_count": 8,
   "metadata": {},
   "outputs": [],
   "source": [
    "X=[]\n",
    "dim1=158\n",
    "for i in data2:\n",
    "    X=np.append(X,i[:original_dim])\n",
    "X=X.reshape(dim1,int(original_dim))\n",
    "X=X/4."
   ]
  },
  {
   "cell_type": "code",
   "execution_count": 9,
   "metadata": {},
   "outputs": [
    {
     "data": {
      "text/plain": [
       "array([0., 0., 0., 0., 0., 0., 0., 0., 0., 0., 0., 0., 0., 0., 0., 0., 0.,\n",
       "       0., 0., 0., 0., 0., 0., 0., 0., 0., 0., 0., 0., 0., 0., 0., 0., 0.,\n",
       "       0., 0., 0., 0., 0., 0., 0., 0., 0., 0., 0., 0., 0., 0., 0., 0., 0.,\n",
       "       0., 0., 0., 0., 0., 0., 0., 0., 0., 1., 1., 1., 1., 1., 1., 1., 1.,\n",
       "       1., 1., 1., 1., 1., 1., 1., 1., 1., 1., 1., 1., 1., 1., 1., 1., 1.,\n",
       "       1., 1., 1., 1., 1., 1., 1., 1., 1., 1., 1., 1., 2., 2., 2., 2., 2.,\n",
       "       2., 2., 2., 2., 2., 2., 2., 2., 2., 2., 2., 2., 2., 2., 2., 2., 2.,\n",
       "       2., 3., 3., 3., 3., 3., 3., 3., 3., 3., 3., 3., 3., 3., 3., 3., 3.,\n",
       "       3., 3., 3., 3., 3., 3., 3., 3., 3., 3., 3., 3., 3., 3., 3., 3., 3.,\n",
       "       3., 3., 3., 3., 3.])"
      ]
     },
     "execution_count": 9,
     "metadata": {},
     "output_type": "execute_result"
    }
   ],
   "source": [
    "y=np.array([0*np.ones(60),1*np.ones(37),2*np.ones(23),3*np.ones(38)])\n",
    "y=np.squeeze(y)\n",
    "YY=[]\n",
    "for i in y:\n",
    "    YY=np.append(YY,i)\n",
    "YY"
   ]
  },
  {
   "cell_type": "code",
   "execution_count": 10,
   "metadata": {},
   "outputs": [],
   "source": [
    "x_train, x_test, y_train,  y_test=train_test_split(X,YY,test_size=.2)"
   ]
  },
  {
   "cell_type": "code",
   "execution_count": 11,
   "metadata": {},
   "outputs": [
    {
     "data": {
      "text/plain": [
       "(32, 1000)"
      ]
     },
     "execution_count": 11,
     "metadata": {},
     "output_type": "execute_result"
    }
   ],
   "source": [
    "x_test.shape"
   ]
  },
  {
   "cell_type": "code",
   "execution_count": 12,
   "metadata": {},
   "outputs": [
    {
     "name": "stdout",
     "output_type": "stream",
     "text": [
      "Train on 126 samples, validate on 32 samples\n",
      "Epoch 1/100\n"
     ]
    },
    {
     "name": "stderr",
     "output_type": "stream",
     "text": [
      "2023-03-03 10:58:06.767337: I tensorflow/core/platform/profile_utils/cpu_utils.cc:94] CPU Frequency: 3402225000 Hz\n",
      "2023-03-03 10:58:06.768163: I tensorflow/compiler/xla/service/service.cc:168] XLA service 0x55d20a812640 initialized for platform Host (this does not guarantee that XLA will be used). Devices:\n",
      "2023-03-03 10:58:06.768193: I tensorflow/compiler/xla/service/service.cc:176]   StreamExecutor device (0): Host, Default Version\n"
     ]
    },
    {
     "name": "stdout",
     "output_type": "stream",
     "text": [
      "126/126 [==============================] - 1s 4ms/sample - loss: 722.2419 - val_loss: 713.1998\n",
      "Epoch 2/100\n",
      "126/126 [==============================] - 0s 233us/sample - loss: 706.5469 - val_loss: 691.5184\n",
      "Epoch 3/100\n",
      "126/126 [==============================] - 0s 215us/sample - loss: 689.4028 - val_loss: 688.0713\n",
      "Epoch 4/100\n",
      "126/126 [==============================] - 0s 237us/sample - loss: 686.4168 - val_loss: 686.4261\n",
      "Epoch 5/100\n",
      "126/126 [==============================] - 0s 229us/sample - loss: 686.2020 - val_loss: 687.1094\n",
      "Epoch 6/100\n",
      "126/126 [==============================] - 0s 235us/sample - loss: 683.9590 - val_loss: 684.3063\n",
      "Epoch 7/100\n",
      "126/126 [==============================] - 0s 248us/sample - loss: 683.7367 - val_loss: 683.7220\n",
      "Epoch 8/100\n",
      "126/126 [==============================] - 0s 266us/sample - loss: 678.9391 - val_loss: 682.6334\n",
      "Epoch 9/100\n",
      "126/126 [==============================] - 0s 234us/sample - loss: 680.0975 - val_loss: 682.7379\n",
      "Epoch 10/100\n",
      "126/126 [==============================] - 0s 240us/sample - loss: 677.3903 - val_loss: 682.1213\n",
      "Epoch 11/100\n",
      "126/126 [==============================] - 0s 245us/sample - loss: 678.6274 - val_loss: 680.1349\n",
      "Epoch 12/100\n",
      "126/126 [==============================] - 0s 247us/sample - loss: 672.6081 - val_loss: 686.4642\n",
      "Epoch 13/100\n",
      "126/126 [==============================] - 0s 266us/sample - loss: 674.8694 - val_loss: 689.3235\n",
      "Epoch 14/100\n",
      "126/126 [==============================] - 0s 254us/sample - loss: 677.6429 - val_loss: 680.7341\n",
      "Epoch 15/100\n",
      "126/126 [==============================] - 0s 241us/sample - loss: 668.6238 - val_loss: 678.7556\n",
      "Epoch 16/100\n",
      "126/126 [==============================] - 0s 245us/sample - loss: 668.4995 - val_loss: 685.5701\n",
      "Epoch 17/100\n",
      "126/126 [==============================] - 0s 245us/sample - loss: 671.3418 - val_loss: 678.9715\n",
      "Epoch 18/100\n",
      "126/126 [==============================] - 0s 248us/sample - loss: 661.8888 - val_loss: 677.2349\n",
      "Epoch 19/100\n",
      "126/126 [==============================] - 0s 240us/sample - loss: 659.7574 - val_loss: 682.8091\n",
      "Epoch 20/100\n",
      "126/126 [==============================] - 0s 250us/sample - loss: 671.6566 - val_loss: 725.2952\n",
      "Epoch 21/100\n",
      "126/126 [==============================] - 0s 234us/sample - loss: 709.8414 - val_loss: 677.2961\n",
      "Epoch 22/100\n",
      "126/126 [==============================] - 0s 235us/sample - loss: 661.7677 - val_loss: 676.2842\n",
      "Epoch 23/100\n",
      "126/126 [==============================] - 0s 259us/sample - loss: 659.1726 - val_loss: 675.4434\n",
      "Epoch 24/100\n",
      "126/126 [==============================] - 0s 245us/sample - loss: 658.1453 - val_loss: 677.4860\n",
      "Epoch 25/100\n",
      "126/126 [==============================] - 0s 263us/sample - loss: 659.6209 - val_loss: 680.8821\n",
      "Epoch 26/100\n",
      "126/126 [==============================] - 0s 243us/sample - loss: 662.2761 - val_loss: 674.9257\n",
      "Epoch 27/100\n",
      "126/126 [==============================] - 0s 241us/sample - loss: 656.7850 - val_loss: 675.0762\n",
      "Epoch 28/100\n",
      "126/126 [==============================] - 0s 237us/sample - loss: 656.5200 - val_loss: 678.1915\n",
      "Epoch 29/100\n",
      "126/126 [==============================] - 0s 229us/sample - loss: 661.2692 - val_loss: 691.8431\n",
      "Epoch 30/100\n",
      "126/126 [==============================] - 0s 234us/sample - loss: 679.3124 - val_loss: 676.4396\n",
      "Epoch 31/100\n",
      "126/126 [==============================] - 0s 245us/sample - loss: 657.6253 - val_loss: 674.2417\n",
      "Epoch 32/100\n",
      "126/126 [==============================] - 0s 235us/sample - loss: 656.3186 - val_loss: 676.3885\n",
      "Epoch 33/100\n",
      "126/126 [==============================] - 0s 241us/sample - loss: 656.2802 - val_loss: 674.3403\n",
      "Epoch 34/100\n",
      "126/126 [==============================] - 0s 250us/sample - loss: 654.0121 - val_loss: 675.9469\n",
      "Epoch 35/100\n",
      "126/126 [==============================] - 0s 229us/sample - loss: 654.5331 - val_loss: 674.3375\n",
      "Epoch 36/100\n",
      "126/126 [==============================] - 0s 259us/sample - loss: 653.7519 - val_loss: 674.8245\n",
      "Epoch 37/100\n",
      "126/126 [==============================] - 0s 245us/sample - loss: 656.5507 - val_loss: 681.4533\n",
      "Epoch 38/100\n",
      "126/126 [==============================] - 0s 265us/sample - loss: 662.5730 - val_loss: 673.9217\n",
      "Epoch 39/100\n",
      "126/126 [==============================] - 0s 254us/sample - loss: 652.6304 - val_loss: 672.5861\n",
      "Epoch 40/100\n",
      "126/126 [==============================] - 0s 254us/sample - loss: 652.9711 - val_loss: 675.2069\n",
      "Epoch 41/100\n",
      "126/126 [==============================] - 0s 248us/sample - loss: 654.2964 - val_loss: 671.3181\n",
      "Epoch 42/100\n",
      "126/126 [==============================] - 0s 247us/sample - loss: 652.0549 - val_loss: 673.5861\n",
      "Epoch 43/100\n",
      "126/126 [==============================] - 0s 236us/sample - loss: 654.0607 - val_loss: 679.2922\n",
      "Epoch 44/100\n",
      "126/126 [==============================] - 0s 249us/sample - loss: 660.7217 - val_loss: 668.9434\n",
      "Epoch 45/100\n",
      "126/126 [==============================] - 0s 255us/sample - loss: 649.9186 - val_loss: 671.4775\n",
      "Epoch 46/100\n",
      "126/126 [==============================] - 0s 251us/sample - loss: 652.8861 - val_loss: 677.1652\n",
      "Epoch 47/100\n",
      "126/126 [==============================] - 0s 262us/sample - loss: 654.2318 - val_loss: 667.4920\n",
      "Epoch 48/100\n",
      "126/126 [==============================] - 0s 235us/sample - loss: 646.7907 - val_loss: 665.6283\n",
      "Epoch 49/100\n",
      "126/126 [==============================] - 0s 285us/sample - loss: 643.5730 - val_loss: 666.4757\n",
      "Epoch 50/100\n",
      "126/126 [==============================] - 0s 256us/sample - loss: 645.8525 - val_loss: 687.0226\n",
      "Epoch 51/100\n",
      "126/126 [==============================] - 0s 240us/sample - loss: 664.3873 - val_loss: 670.1791\n",
      "Epoch 52/100\n",
      "126/126 [==============================] - 0s 222us/sample - loss: 651.3708 - val_loss: 665.1407\n",
      "Epoch 53/100\n",
      "126/126 [==============================] - 0s 266us/sample - loss: 643.0383 - val_loss: 662.2759\n",
      "Epoch 54/100\n",
      "126/126 [==============================] - 0s 281us/sample - loss: 641.4709 - val_loss: 662.8645\n",
      "Epoch 55/100\n",
      "126/126 [==============================] - 0s 259us/sample - loss: 641.6683 - val_loss: 666.5956\n",
      "Epoch 56/100\n",
      "126/126 [==============================] - 0s 268us/sample - loss: 645.2434 - val_loss: 673.5591\n",
      "Epoch 57/100\n",
      "126/126 [==============================] - 0s 283us/sample - loss: 651.3500 - val_loss: 661.6678\n",
      "Epoch 58/100\n",
      "126/126 [==============================] - 0s 248us/sample - loss: 640.2229 - val_loss: 660.0499\n",
      "Epoch 59/100\n",
      "126/126 [==============================] - 0s 243us/sample - loss: 637.2073 - val_loss: 663.1555\n",
      "Epoch 60/100\n",
      "126/126 [==============================] - 0s 255us/sample - loss: 644.5888 - val_loss: 693.2353\n",
      "Epoch 61/100\n",
      "126/126 [==============================] - 0s 248us/sample - loss: 667.4400 - val_loss: 658.3055\n",
      "Epoch 62/100\n",
      "126/126 [==============================] - 0s 241us/sample - loss: 636.2171 - val_loss: 658.2194\n",
      "Epoch 63/100\n",
      "126/126 [==============================] - 0s 235us/sample - loss: 635.3267 - val_loss: 660.1329\n",
      "Epoch 64/100\n",
      "126/126 [==============================] - 0s 256us/sample - loss: 640.7236 - val_loss: 665.7694\n",
      "Epoch 65/100\n",
      "126/126 [==============================] - 0s 241us/sample - loss: 646.9000 - val_loss: 658.4709\n",
      "Epoch 66/100\n",
      "126/126 [==============================] - 0s 245us/sample - loss: 635.8310 - val_loss: 656.3106\n",
      "Epoch 67/100\n",
      "126/126 [==============================] - 0s 259us/sample - loss: 634.5110 - val_loss: 657.2380\n",
      "Epoch 68/100\n",
      "126/126 [==============================] - 0s 241us/sample - loss: 633.6780 - val_loss: 658.2173\n",
      "Epoch 69/100\n",
      "126/126 [==============================] - 0s 252us/sample - loss: 634.7955 - val_loss: 665.3803\n",
      "Epoch 70/100\n",
      "126/126 [==============================] - 0s 239us/sample - loss: 642.2528 - val_loss: 671.9934\n",
      "Epoch 71/100\n",
      "126/126 [==============================] - 0s 233us/sample - loss: 646.2428 - val_loss: 658.2517\n",
      "Epoch 72/100\n",
      "126/126 [==============================] - 0s 254us/sample - loss: 633.2013 - val_loss: 661.4534\n",
      "Epoch 73/100\n",
      "126/126 [==============================] - 0s 243us/sample - loss: 636.8525 - val_loss: 672.9573\n",
      "Epoch 74/100\n",
      "126/126 [==============================] - 0s 254us/sample - loss: 648.6835 - val_loss: 661.7244\n",
      "Epoch 75/100\n"
     ]
    },
    {
     "name": "stdout",
     "output_type": "stream",
     "text": [
      "126/126 [==============================] - 0s 247us/sample - loss: 638.2996 - val_loss: 659.4233\n",
      "Epoch 76/100\n",
      "126/126 [==============================] - 0s 240us/sample - loss: 633.9354 - val_loss: 659.6462\n",
      "Epoch 77/100\n",
      "126/126 [==============================] - 0s 265us/sample - loss: 635.2678 - val_loss: 658.7949\n",
      "Epoch 78/100\n",
      "126/126 [==============================] - 0s 269us/sample - loss: 633.4096 - val_loss: 656.3989\n",
      "Epoch 79/100\n",
      "126/126 [==============================] - 0s 237us/sample - loss: 632.3336 - val_loss: 657.6591\n",
      "Epoch 80/100\n",
      "126/126 [==============================] - 0s 250us/sample - loss: 633.6127 - val_loss: 662.9280\n",
      "Epoch 81/100\n",
      "126/126 [==============================] - 0s 253us/sample - loss: 640.9598 - val_loss: 660.1750\n",
      "Epoch 82/100\n",
      "126/126 [==============================] - 0s 240us/sample - loss: 633.9639 - val_loss: 661.9905\n",
      "Epoch 83/100\n",
      "126/126 [==============================] - 0s 252us/sample - loss: 637.9894 - val_loss: 676.0020\n",
      "Epoch 84/100\n",
      "126/126 [==============================] - 0s 243us/sample - loss: 651.2248 - val_loss: 659.5743\n",
      "Epoch 85/100\n",
      "126/126 [==============================] - 0s 249us/sample - loss: 633.9152 - val_loss: 655.8927\n",
      "Epoch 86/100\n",
      "126/126 [==============================] - 0s 238us/sample - loss: 631.2977 - val_loss: 655.1667\n",
      "Epoch 87/100\n",
      "126/126 [==============================] - 0s 260us/sample - loss: 630.4587 - val_loss: 653.6428\n",
      "Epoch 88/100\n",
      "126/126 [==============================] - 0s 257us/sample - loss: 629.4509 - val_loss: 654.3513\n",
      "Epoch 89/100\n",
      "126/126 [==============================] - 0s 262us/sample - loss: 629.4648 - val_loss: 654.9551\n",
      "Epoch 90/100\n",
      "126/126 [==============================] - 0s 243us/sample - loss: 632.3280 - val_loss: 665.7312\n",
      "Epoch 91/100\n",
      "126/126 [==============================] - 0s 254us/sample - loss: 642.0074 - val_loss: 668.3620\n",
      "Epoch 92/100\n",
      "126/126 [==============================] - 0s 249us/sample - loss: 642.2048 - val_loss: 662.4583\n",
      "Epoch 93/100\n",
      "126/126 [==============================] - 0s 251us/sample - loss: 636.8796 - val_loss: 653.5856\n",
      "Epoch 94/100\n",
      "126/126 [==============================] - 0s 248us/sample - loss: 629.0430 - val_loss: 652.5272\n",
      "Epoch 95/100\n",
      "126/126 [==============================] - 0s 234us/sample - loss: 628.3366 - val_loss: 652.1519\n",
      "Epoch 96/100\n",
      "126/126 [==============================] - 0s 236us/sample - loss: 628.3828 - val_loss: 658.5590\n",
      "Epoch 97/100\n",
      "126/126 [==============================] - 0s 254us/sample - loss: 634.7507 - val_loss: 663.2463\n",
      "Epoch 98/100\n",
      "126/126 [==============================] - 0s 259us/sample - loss: 638.9102 - val_loss: 652.2005\n",
      "Epoch 99/100\n",
      "126/126 [==============================] - 0s 240us/sample - loss: 628.8676 - val_loss: 653.4845\n",
      "Epoch 100/100\n",
      "126/126 [==============================] - 0s 249us/sample - loss: 633.8001 - val_loss: 671.7192\n"
     ]
    }
   ],
   "source": [
    "vae.fit(x_train,\n",
    "        x_train,\n",
    "        shuffle=True,\n",
    "        epochs=epochs,\n",
    "        batch_size=batch_size,\n",
    "        validation_data=(x_test, x_test))\n",
    "\n",
    "encoder = Model(x, z_mu)"
   ]
  },
  {
   "cell_type": "code",
   "execution_count": 13,
   "metadata": {},
   "outputs": [
    {
     "data": {
      "text/plain": [
       "<matplotlib.colorbar.Colorbar at 0x7f6908559a50>"
      ]
     },
     "execution_count": 13,
     "metadata": {},
     "output_type": "execute_result"
    },
    {
     "data": {
      "image/png": "[encoded data removed]",
      "text/plain": [
       "<Figure size 432x432 with 2 Axes>"
      ]
     },
     "metadata": {
      "needs_background": "light"
     },
     "output_type": "display_data"
    }
   ],
   "source": [
    "# display a 2D plot of the digit classes in the latent space\n",
    "z_test = encoder.predict(x_test, batch_size=batch_size)\n",
    "plt.figure(figsize=(6, 6))\n",
    "plt.scatter(z_test[:, 0], z_test[:, 1], c=y_test,\n",
    "            alpha=.4, s=13**2, cmap='viridis')\n",
    "plt.colorbar()\n"
   ]
  },
  {
   "cell_type": "code",
   "execution_count": 16,
   "metadata": {},
   "outputs": [],
   "source": [
    "val=[4,.5]"
   ]
  },
  {
   "cell_type": "code",
   "execution_count": 17,
   "metadata": {},
   "outputs": [
    {
     "data": {
      "text/plain": [
       "'CGTCTGGCTTGAGATGCCAGAGGTCGGCCTGGCAGGGGGCATTGTGTCTAGCTTACCCTCCCCAAGAGCCTCAAGAAAGCTATGCTATTTGCGTACTAGTACTCTCGTCCCTTCTCTGGGCTGTCTCTTGTTGGGACTGGTGCGGCGGACGGGTGGTGCGTGTGAGGAGTGGGAGTAGGATTGGGCCGCCTTGTGCTACTTGTATTCTTAAGGGATGCGTTTCGTCGACTGTGTTGGCGGTAGAGGGGTACGGCATGCTGTCAGGTGATTATTGGGCTGGCGCGTTCATTTGGGTTGGCGATAAAGAGGGACTGGCGGTTGCTAGTTTGTGTGATATTGTTGCGTGTTCCGCTGTGGTATTGGTGGGAGTAGTAGGTTGATTGGATAAATTTCTGCTTTGGCGTCGTGGTTAGTAATTAGTTTTATTATAACTTTTAGGATGTGGAAGCAGTGTGCTAGTTCGTTTCGCTGTTTATGGTTTCGTTTTTGATTCTTCTGGTTTCTTTTCTGAAATTGTTTTAGAGCTTCATCGATGCGTTGAGTGTGTATGAGTAGATCTTTGATGAGGTCTTATTAGAGTATGTTGCCTCTAAAGTTTGCTTGAATTGTTATAGGATAAAGTCTGGATGGATGCGTTTGGGAATTTTCTTGAAGTGGAAAACTAATGTAAGAATATATGAGTGGTATCTGCATCTGTCGCAGGTTAGAGCGGCATGGTGAGCCAAAAAGTCCGTTTAGGTCGCGACTACCAGTGTGAAAGGGTACAAGAGGCCATAGCTCCGAGTAGTGTTGGTTCGTTTTTAAAATAATTAGGAGAAAAGTCGTTGGGCCCTGAAGGTATACCGTTGTTGGCAGCGTTTGCAGTGCGAGCCTGCCCACGGTAATGATACAGCGTTCGTTAGTCATGGTTGCGTCAACTAGCAGCGTGCCTTATGTATAAATAGTCGAGGATTGATTAATCGCGTCTATGCCTTAGTTTGGATGCTTTTGATGGAGGGGG'"
      ]
     },
     "execution_count": 17,
     "metadata": {},
     "output_type": "execute_result"
    }
   ],
   "source": [
    "''.join(np.round(decoder.predict(np.array(val).reshape(1,2))*4)[0].astype(int).astype(str)).replace('1','A').replace('2','T').replace('3','G').replace('4','C')"
   ]
  },
  {
   "cell_type": "code",
   "execution_count": 20,
   "metadata": {},
   "outputs": [],
   "source": [
    "val=[0,-1]"
   ]
  },
  {
   "cell_type": "code",
   "execution_count": 21,
   "metadata": {},
   "outputs": [
    {
     "data": {
      "text/plain": [
       "'TCGTTGTGTGTTTTGGCGTGTTGTTTGGGTGTGTGGTTTCTTGTGATCGGTGTTTGCGTTTTGTTTTGGGTGTTTTTTGGGTTGGTTTTGGTCGGGTTGTTTTTGGTGTTTGGGTTTTTTTTTGGTGTGTTTTGTTGTGTTGGGTGTTGGGGTGTTTGTGTTTTGGTGTGTTGTTTTGGGGTTTGGGGGTTGGTTTGTGTTGTGTTTTTTTTTTTTTGGTGGTTTTGGGTGTTGTTTTTTGTTTGGTGGGTGTTGTTGTTTGTGTTGTTTTGTTTATTTTGTTTTTTTGGTTATTTGTTGTTTTTTTGGTTGTTGTTTTTTTTTTTTTTTGTTTTTTGTGTTTGTTTGGTGTTGGTTGTTGGTGGTTTTTTTTTGTGTTTTGGGTTTGGTTTGTTTTTGTTGGTTTTGTTTTTTTGTTTTTTTTTTTGTTGGTGTTGGTTGTGTGGTTTGTTTTTGTTTTTTTTTTTTTTGTTTTTTGTTGTGTGTTTGTTGGGTGTTTTGTGTTGTTTTTTTTTGTGTGTGTGGTTTGTGCTTGGTTTCGTTTTTGTTGTTTTTTTTTTTTGTTTTGTTTTTTGTGGTTTTTTGTGTTGTTTGTTTTTGTTGTTTGTTTTTTTTGTTTTTTTTTGTTGGTTTTTTTGTTTTTGTTGTTGTTGTTTGTTTTGTTGTTGTGTTTTGTGGGTGTTGTTTGTTGTGTTGTGTTTTTTTTGTTGTTGTTTTTGTTGTTTTGGGTGTGTTTTTTGGTTTTGTTTGTGGTTGTTGTTTTTGTTGGTGGGGTGTTTTTTTTTTGTTGTTTTTGTTTTGTTTTTGTTTTGTTGTTTGTTGGTTTGTTTTGTTTTTTTTTTGGTTTTTTTTTTTGTGTTGTTTTTTTTTGTTGTTTTTTGGTTTTGTTGGGGTTGGTTTTGGTTGTTGGGTTTTTTGTTTTGGTTTTTGTTTTTTTTTTTGTTTTTTTTGTTTTTGGGTGTTGTTTGTTTTTTGTTTTTGTTGTTTTTTTGGGGGTTGG'"
      ]
     },
     "execution_count": 21,
     "metadata": {},
     "output_type": "execute_result"
    }
   ],
   "source": [
    "''.join(np.round(decoder.predict(np.array(val).reshape(1,2))*4)[0].astype(int).astype(str)).replace('1','A').replace('2','T').replace('3','G').replace('4','C')"
   ]
  },
  {
   "cell_type": "markdown",
   "metadata": {},
   "source": [
    "## HW:\n",
    "---\n",
    "    1. what are the hyper parameters you can tune?\n",
    "    2. Tune the models so that the distribution is more compact.\n",
    "    3. Investigate other segments (POL, ENV, INTEGRASE, Reverse-transcriptase, and complete genome)\n",
    "    4. Blast it against the origin sequence data to investigate if we are closer to the clinical subtypes that we shpuld be closer to\n",
    "    5. How well can we actually use this to generate new samples (sequences of hiv clinical subtypes not in the dataset?)"
   ]
  },
  {
   "cell_type": "code",
   "execution_count": null,
   "metadata": {},
   "outputs": [],
   "source": []
  }
 ],
 "metadata": {
  "kernelspec": {
   "display_name": "Python 3 (ipykernel)",
   "language": "python",
   "name": "python3"
  },
  "language_info": {
   "codemirror_mode": {
    "name": "ipython",
    "version": 3
   },
   "file_extension": ".py",
   "mimetype": "text/x-python",
   "name": "python",
   "nbconvert_exporter": "python",
   "pygments_lexer": "ipython3",
   "version": "3.7.5"
  }
 },
 "nbformat": 4,
 "nbformat_minor": 2
}

{
 "cells": [
  {
   "cell_type": "code",
   "execution_count": 1,
   "metadata": {},
   "outputs": [],
   "source": [
    "import numpy as np\n",
    "import matplotlib.pyplot as plt\n",
    "from sklearn import svm\n",
    "import pandas as pd\n",
    "import seaborn as sns\n",
    "from sklearn.model_selection import train_test_split\n",
    "from sklearn import metrics\n",
    "from sklearn import neighbors, datasets\n",
    "from sklearn.tree import DecisionTreeClassifier\n",
    "from sklearn.ensemble import RandomForestClassifier\n",
    "from sklearn.ensemble import AdaBoostClassifier\n",
    "\n",
    "\n",
    "%matplotlib inline"
   ]
  },
  {
   "cell_type": "markdown",
   "metadata": {},
   "source": [
    "\n",
    "# Ensemble Classification\n",
    "\n",
    "\n"
   ]
  },
  {
   "cell_type": "code",
   "execution_count": 3,
   "metadata": {},
   "outputs": [],
   "source": [
    "\n",
    "Dp0=pd.read_csv('../datasets/S_MPOS_27_100',delimiter=\" \",header=None)\n",
    "Dn0=pd.read_csv('../datasets/S_MNEG_27_100',delimiter=\" \",header=None)\n",
    "\n",
    "Dp0s=Dp0\n",
    "Dn0s=Dn0.sample(Dp0s.index.size)\n",
    "Dn0s=Dn0.sample(2000)\n",
    "\n",
    "\n",
    "D=pd.concat([Dp0s,Dn0s])\n",
    "X=D.values\n",
    "y=np.append(np.zeros([Dp0s.index.size,1]),np.ones([Dn0s.index.size,1]))\n",
    "X_train, X_test, y_train, y_test = train_test_split(X, y, test_size=0.5)"
   ]
  },
  {
   "cell_type": "code",
   "execution_count": 7,
   "metadata": {},
   "outputs": [
    {
     "name": "stdout",
     "output_type": "stream",
     "text": [
      "Number of mislabeled points out of a total 1102 points : 164\n",
      "0.8511796733212341 0.6058605623100304\n"
     ]
    }
   ],
   "source": [
    "clf = RandomForestClassifier(max_depth=2, class_weight='balanced',n_estimators=100)\n",
    "y_pred = clf.fit(X_train, y_train).predict(X_test)\n",
    "\n",
    "print(\"Number of mislabeled points out of a total %d points : %d\"% (y_test.shape[0],(y_test != y_pred).sum()))\n",
    "\n",
    "acc=clf.score(X_test,y_test)\n",
    "y_pred=clf.predict_proba(X_test)\n",
    "fpr, tpr, thresholds = metrics.roc_curve(y_test,y_pred[:,1], pos_label=1)\n",
    "auc=metrics.auc(fpr, tpr)\n",
    "\n",
    "print(acc,auc)"
   ]
  },
  {
   "cell_type": "code",
   "execution_count": 8,
   "metadata": {},
   "outputs": [
    {
     "name": "stdout",
     "output_type": "stream",
     "text": [
      "Number of mislabeled points out of a total 1102 points : 97\n",
      "0.911978221415608 0.6157600894967916\n"
     ]
    }
   ],
   "source": [
    "clf = RandomForestClassifier(max_depth=8, class_weight='balanced',n_estimators=100)\n",
    "y_pred = clf.fit(X_train, y_train).predict(X_test)\n",
    "\n",
    "print(\"Number of mislabeled points out of a total %d points : %d\"% (y_test.shape[0],(y_test != y_pred).sum()))\n",
    "\n",
    "acc=clf.score(X_test,y_test)\n",
    "y_pred=clf.predict_proba(X_test)\n",
    "fpr, tpr, thresholds = metrics.roc_curve(y_test,y_pred[:,1], pos_label=1)\n",
    "auc=metrics.auc(fpr, tpr)\n",
    "\n",
    "print(acc,auc)"
   ]
  },
  {
   "cell_type": "code",
   "execution_count": 14,
   "metadata": {},
   "outputs": [
    {
     "name": "stdout",
     "output_type": "stream",
     "text": [
      "Number of mislabeled points out of a total 1102 points : 87\n",
      "0.9210526315789473 0.588045634920635\n"
     ]
    }
   ],
   "source": [
    "clf = RandomForestClassifier(max_depth=None, class_weight='balanced',n_estimators=100)\n",
    "y_pred = clf.fit(X_train, y_train).predict(X_test)\n",
    "\n",
    "print(\"Number of mislabeled points out of a total %d points : %d\"% (y_test.shape[0],(y_test != y_pred).sum()))\n",
    "\n",
    "acc=clf.score(X_test,y_test)\n",
    "y_pred=clf.predict_proba(X_test)\n",
    "fpr, tpr, thresholds = metrics.roc_curve(y_test,y_pred[:,1], pos_label=1)\n",
    "auc=metrics.auc(fpr, tpr)\n",
    "\n",
    "print(acc,auc)"
   ]
  },
  {
   "cell_type": "code",
   "execution_count": 15,
   "metadata": {},
   "outputs": [],
   "source": [
    "# compare over training with decision trees"
   ]
  },
  {
   "cell_type": "code",
   "execution_count": 19,
   "metadata": {},
   "outputs": [
    {
     "name": "stdout",
     "output_type": "stream",
     "text": [
      "Number of mislabeled points out of a total 1102 points : 127\n",
      "0.8847549909255898 0.5680458155705681\n"
     ]
    }
   ],
   "source": [
    "clf = AdaBoostClassifier(n_estimators=1000)\n",
    "y_pred = clf.fit(X_train, y_train).predict(X_test)\n",
    "\n",
    "print(\"Number of mislabeled points out of a total %d points : %d\"% (y_test.shape[0],(y_test != y_pred).sum()))\n",
    "\n",
    "acc=clf.score(X_test,y_test)\n",
    "y_pred=clf.predict_proba(X_test)\n",
    "fpr, tpr, thresholds = metrics.roc_curve(y_test,y_pred[:,1], pos_label=1)\n",
    "auc=metrics.auc(fpr, tpr)\n",
    "\n",
    "print acc,auc"
   ]
  },
  {
   "cell_type": "code",
   "execution_count": null,
   "metadata": {},
   "outputs": [],
   "source": []
  }
 ],
 "metadata": {
  "kernelspec": {
   "display_name": "Python 2",
   "language": "python",
   "name": "python2"
  },
  "language_info": {
   "codemirror_mode": {
    "name": "ipython",
    "version": 3
   },
   "file_extension": ".py",
   "mimetype": "text/x-python",
   "name": "python",
   "nbconvert_exporter": "python",
   "pygments_lexer": "ipython3",
   "version": "3.7.1"
  }
 },
 "nbformat": 4,
 "nbformat_minor": 1
}

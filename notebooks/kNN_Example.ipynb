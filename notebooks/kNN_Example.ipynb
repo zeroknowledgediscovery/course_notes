{
 "cells": [
  {
   "cell_type": "markdown",
   "metadata": {},
   "source": [
    "\n",
    "# k-NN Classifier\n",
    "\n",
    "\n",
    "+ basic sklearn calls\n",
    "+ Search over neighborhood size to boost performance\n"
   ]
  },
  {
   "cell_type": "code",
   "execution_count": 53,
   "metadata": {},
   "outputs": [],
   "source": [
    "import numpy as np\n",
    "import pylab as plt\n",
    "from sklearn import svm\n",
    "import pandas as pd\n",
    "import seaborn as sns\n",
    "from sklearn.model_selection import train_test_split\n",
    "from sklearn import metrics\n",
    "from sklearn.neighbors import NearestNeighbors\n",
    "from sklearn.neighbors import KNeighborsClassifier\n",
    "from sklearn.ensemble import RandomForestClassifier\n",
    "\n",
    "from tqdm import tqdm\n",
    "%matplotlib inline\n",
    "import warnings\n",
    "warnings.filterwarnings('ignore')\n",
    "plt.style.use('fivethirtyeight')"
   ]
  },
  {
   "cell_type": "code",
   "execution_count": 54,
   "metadata": {},
   "outputs": [
    {
     "data": {
      "text/plain": [
       "(212,)"
      ]
     },
     "execution_count": 54,
     "metadata": {},
     "output_type": "execute_result"
    }
   ],
   "source": [
    "# getdata\n",
    "import pandas as pd\n",
    "df=pd.read_csv('../datasets/CAD-PTSDData.csv',index_col=0)\n",
    "y=df.iloc[:,0]\n",
    "X=df.iloc[:,1:]\n",
    "X_train, X_test, y_train, y_test = train_test_split(X, y, test_size=0.3)\n",
    "y_train.shape\n",
    "\n"
   ]
  },
  {
   "cell_type": "code",
   "execution_count": 55,
   "metadata": {},
   "outputs": [
    {
     "name": "stdout",
     "output_type": "stream",
     "text": [
      "Number of mislabeled points out of a total 122 points : 18\n",
      "Accuracy:  0.8524590163934426 AUC oos:  0.8770032051282052 AUC in sample:  0.9999999999999999\n"
     ]
    }
   ],
   "source": [
    "X_train, X_test, y_train, y_test = train_test_split(X, y, test_size=0.4)\n",
    "clf = RandomForestClassifier(max_depth=10, class_weight='balanced',n_estimators=1000)\n",
    "\n",
    "\n",
    "clf.fit(X_train, y_train)\n",
    "\n",
    "y_pred = clf.predict(X_test)\n",
    "print(\"Number of mislabeled points out of a total %d points : %d\"% (y_test.shape[0],(y_test != y_pred).sum()))\n",
    "\n",
    "acc=clf.score(X_test,y_test)\n",
    "y_pred=clf.predict_proba(X_test)\n",
    "y_pred_insample=clf.predict_proba(X_train)\n",
    "fpr, tpr, thresholds = metrics.roc_curve(y_test,y_pred[:,1], pos_label=1)\n",
    "fpr_insample, tpr_insample, thresholds_insample = metrics.roc_curve(y_train,y_pred_insample[:,1], pos_label=1)\n",
    "auc=metrics.auc(fpr, tpr)\n",
    "auc_insample=metrics.auc(fpr_insample, tpr_insample)\n",
    "\n",
    "print('Accuracy: ',acc,'AUC oos: ',auc,'AUC in sample: ',auc_insample)"
   ]
  },
  {
   "cell_type": "code",
   "execution_count": 56,
   "metadata": {},
   "outputs": [
    {
     "name": "stdout",
     "output_type": "stream",
     "text": [
      "Number of mislabeled points out of a total 122 points : 18\n",
      "Accuracy:  0.8524590163934426 AUC oos:  0.8481570512820513 AUC in sample:  0.9409153005464481\n"
     ]
    }
   ],
   "source": [
    "clfn = KNeighborsClassifier(n_neighbors=4)\n",
    "clfn.fit(X_train,y_train)\n",
    "\n",
    "y_pred = clfn.predict(X_test)\n",
    "print(\"Number of mislabeled points out of a total %d points : %d\"% (y_test.shape[0],(y_test != y_pred).sum()))\n",
    "\n",
    "acc=clfn.score(X_test,y_test)\n",
    "y_pred=clfn.predict_proba(X_test)\n",
    "y_pred_insample=clfn.predict_proba(X_train)\n",
    "fpr, tpr, thresholds = metrics.roc_curve(y_test,y_pred[:,1], pos_label=1)\n",
    "fpr_insample, tpr_insample, thresholds_insample = metrics.roc_curve(y_train,y_pred_insample[:,1], pos_label=1)\n",
    "auc=metrics.auc(fpr, tpr)\n",
    "auc_insample=metrics.auc(fpr_insample, tpr_insample)\n",
    "\n",
    "print('Accuracy: ',acc,'AUC oos: ',auc,'AUC in sample: ',auc_insample)"
   ]
  },
  {
   "cell_type": "markdown",
   "metadata": {},
   "source": [
    "# search for n to beat random forest"
   ]
  },
  {
   "cell_type": "code",
   "execution_count": 57,
   "metadata": {},
   "outputs": [
    {
     "name": "stderr",
     "output_type": "stream",
     "text": [
      "100%|██████████| 20/20 [00:01<00:00, 17.68it/s]\n"
     ]
    },
    {
     "data": {
      "text/plain": [
       "21"
      ]
     },
     "execution_count": 57,
     "metadata": {},
     "output_type": "execute_result"
    }
   ],
   "source": [
    "Perf={}\n",
    "for n in tqdm(np.arange(20,40)):\n",
    "    clfn = KNeighborsClassifier(n_neighbors=n)\n",
    "    clfn.fit(X_train,y_train)\n",
    "\n",
    "    y_pred = clfn.predict(X_test)\n",
    "    miss=(y_test != y_pred).sum()\n",
    "\n",
    "    acc=clfn.score(X_test,y_test)\n",
    "    y_pred=clfn.predict_proba(X_test)\n",
    "    y_pred_insample=clfn.predict_proba(X_train)\n",
    "    fpr, tpr, thresholds = metrics.roc_curve(y_test,y_pred[:,1], pos_label=1)\n",
    "    fpr_insample, tpr_insample, thresholds_insample = metrics.roc_curve(y_train,y_pred_insample[:,1], pos_label=1)\n",
    "    auc=metrics.auc(fpr, tpr)\n",
    "    auc_insample=metrics.auc(fpr_insample, tpr_insample)\n",
    "\n",
    "    Perf[auc]=(miss,n)\n",
    "\n",
    "Perf=pd.DataFrame(Perf).transpose()\n",
    "Perf.columns=['miss','n']\n",
    "Perf.index.name='auc'\n",
    "n=Perf.reset_index().sort_values('auc',ascending=False).head(1).n.values[0]\n",
    "n"
   ]
  },
  {
   "cell_type": "code",
   "execution_count": 58,
   "metadata": {},
   "outputs": [
    {
     "name": "stdout",
     "output_type": "stream",
     "text": [
      "Number of mislabeled points out of a total 122 points : 18\n",
      "Accuracy:  0.8524590163934426 AUC oos:  0.889022435897436 AUC in sample:  1.0\n"
     ]
    }
   ],
   "source": [
    "clfn = KNeighborsClassifier(n_neighbors=n,weights='distance')\n",
    "clfn.fit(X_train,y_train)\n",
    "\n",
    "y_pred = clfn.predict(X_test)\n",
    "print(\"Number of mislabeled points out of a total %d points : %d\"% (y_test.shape[0],(y_test != y_pred).sum()))\n",
    "\n",
    "acc=clfn.score(X_test,y_test)\n",
    "y_pred=clfn.predict_proba(X_test)\n",
    "y_pred_insample=clfn.predict_proba(X_train)\n",
    "fpr, tpr, thresholds = metrics.roc_curve(y_test,y_pred[:,1], pos_label=1)\n",
    "fpr_insample, tpr_insample, thresholds_insample = metrics.roc_curve(y_train,y_pred_insample[:,1], pos_label=1)\n",
    "auc=metrics.auc(fpr, tpr)\n",
    "auc_insample=metrics.auc(fpr_insample, tpr_insample)\n",
    "\n",
    "print('Accuracy: ',acc,'AUC oos: ',auc,'AUC in sample: ',auc_insample)"
   ]
  },
  {
   "cell_type": "code",
   "execution_count": null,
   "metadata": {},
   "outputs": [],
   "source": []
  },
  {
   "cell_type": "code",
   "execution_count": null,
   "metadata": {},
   "outputs": [],
   "source": []
  }
 ],
 "metadata": {
  "kernelspec": {
   "display_name": "Python 2",
   "language": "python",
   "name": "python2"
  },
  "language_info": {
   "codemirror_mode": {
    "name": "ipython",
    "version": 3
   },
   "file_extension": ".py",
   "mimetype": "text/x-python",
   "name": "python",
   "nbconvert_exporter": "python",
   "pygments_lexer": "ipython3",
   "version": "3.6.5"
  }
 },
 "nbformat": 4,
 "nbformat_minor": 1
}

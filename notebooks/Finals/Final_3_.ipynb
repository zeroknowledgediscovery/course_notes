{
 "cells": [
  {
   "cell_type": "markdown",
   "metadata": {},
   "source": [
    "## Questions:\n",
    "---\n",
    "    1. what are the hyper parameters you can tune?\n",
    "    2. Tune the models so that the latent distribution is more compact (add layers to the encoder and the decoder)\n",
    "    3. How well can we actually use this to generate new samples (sequences of hiv clinical subtypes not in the dataset?). State your conclusions, and reason why this is or is not a viable approach"
   ]
  },
  {
   "cell_type": "code",
   "execution_count": 45,
   "metadata": {},
   "outputs": [],
   "source": [
    "import numpy as np\n",
    "import matplotlib.pyplot as plt\n",
    "from scipy.stats import norm\n",
    "\n",
    "from tensorflow.keras import backend as K\n",
    "\n",
    "from tensorflow.keras.layers import Input, Dense, Lambda, Layer, Add, Multiply\n",
    "from tensorflow.keras.models import Model, Sequential\n",
    "from tensorflow.keras.datasets import mnist\n",
    "\n",
    "\n",
    "original_dim = 8000\n",
    "intermediate_dim = 512\n",
    "latent_dim = 2\n",
    "batch_size = 100\n",
    "epochs = 100\n",
    "epsilon_std = 1.0\n"
   ]
  },
  {
   "cell_type": "code",
   "execution_count": 46,
   "metadata": {},
   "outputs": [],
   "source": [
    "\n",
    "def nll(y_true, y_pred):\n",
    "    \"\"\" Negative log likelihood (Bernoulli). \"\"\"\n",
    "\n",
    "    # keras.losses.binary_crossentropy gives the mean\n",
    "    # over the last axis. we require the sum\n",
    "    return K.sum(K.binary_crossentropy(y_true, y_pred), axis=-1)\n",
    "\n",
    "\n",
    "class KLDivergenceLayer(Layer):\n",
    "\n",
    "    \"\"\" Identity transform layer that adds KL divergence\n",
    "    to the final model loss.\n",
    "    \"\"\"\n",
    "\n",
    "    def __init__(self, *args, **kwargs):\n",
    "        self.is_placeholder = True\n",
    "        super(KLDivergenceLayer, self).__init__(*args, **kwargs)\n",
    "\n",
    "    def call(self, inputs):\n",
    "\n",
    "        mu, log_var = inputs\n",
    "\n",
    "        kl_batch = - .5 * K.sum(1 + log_var -\n",
    "                                K.square(mu) -\n",
    "                                K.exp(log_var), axis=-1)\n",
    "\n",
    "        self.add_loss(K.mean(kl_batch), inputs=inputs)\n",
    "\n",
    "        return inputs\n",
    "\n"
   ]
  },
  {
   "cell_type": "code",
   "execution_count": 47,
   "metadata": {},
   "outputs": [],
   "source": [
    "decoder = Sequential([\n",
    "    Dense(intermediate_dim, input_dim=latent_dim, activation='relu'),\n",
    "    Dense(original_dim, activation='sigmoid')\n",
    "])\n",
    "\n",
    "x = Input(shape=(original_dim,))\n",
    "h = Dense(intermediate_dim, activation='relu')(x)\n",
    "\n",
    "z_mu = Dense(latent_dim)(h)\n",
    "z_log_var = Dense(latent_dim)(h)\n",
    "\n",
    "z_mu, z_log_var = KLDivergenceLayer()([z_mu, z_log_var])\n",
    "z_sigma = Lambda(lambda t: K.exp(.5*t))(z_log_var)\n",
    "\n",
    "eps = Input(tensor=K.random_normal(stddev=epsilon_std,\n",
    "                                   shape=(K.shape(x)[0], latent_dim)))\n",
    "z_eps = Multiply()([z_sigma, eps])\n",
    "z = Add()([z_mu, z_eps])\n",
    "\n",
    "x_pred = decoder(z)\n",
    "\n",
    "vae = Model(inputs=[x, eps], outputs=x_pred)\n",
    "vae.compile(optimizer='rmsprop', loss=nll)\n"
   ]
  },
  {
   "cell_type": "code",
   "execution_count": 48,
   "metadata": {},
   "outputs": [],
   "source": [
    "import pandas as pd\n",
    "import glob\n",
    "from sklearn.model_selection import train_test_split\n"
   ]
  },
  {
   "cell_type": "code",
   "execution_count": 49,
   "metadata": {},
   "outputs": [],
   "source": [
    "def splitw(x):\n",
    "    return np.array([y for y in x])\n",
    "#.replace('T','1'),replace('G','2').replace('C','3')"
   ]
  },
  {
   "cell_type": "code",
   "execution_count": 50,
   "metadata": {},
   "outputs": [],
   "source": [
    "FILES=glob.glob('../../datasets/SEQUENCE_/HIV/*seq')\n",
    "#! wc ../hwdata/hiv/*seq"
   ]
  },
  {
   "cell_type": "code",
   "execution_count": 51,
   "metadata": {},
   "outputs": [
    {
     "data": {
      "text/plain": [
       "(158,)"
      ]
     },
     "execution_count": 51,
     "metadata": {},
     "output_type": "execute_result"
    }
   ],
   "source": [
    "data=pd.concat([pd.read_csv(i,header=None) for i in FILES])\n",
    "\n",
    "data1=np.array([x for x in np.squeeze(data)])\n",
    "\n",
    "data2=np.array([splitw(x.replace('A','1').replace('T','2').replace('G','3').replace('C','4')).astype(int) for x in data1])\n",
    "\n",
    "data2.shape"
   ]
  },
  {
   "cell_type": "code",
   "execution_count": 52,
   "metadata": {},
   "outputs": [
    {
     "data": {
      "text/plain": [
       "(9646,)"
      ]
     },
     "execution_count": 52,
     "metadata": {},
     "output_type": "execute_result"
    }
   ],
   "source": [
    "data2[0].shape"
   ]
  },
  {
   "cell_type": "code",
   "execution_count": 53,
   "metadata": {},
   "outputs": [],
   "source": [
    "X=[]\n",
    "dim1=158\n",
    "for i in data2:\n",
    "    X=np.append(X,i[:original_dim])\n",
    "X=X.reshape(dim1,int(original_dim))\n",
    "X=X/4."
   ]
  },
  {
   "cell_type": "code",
   "execution_count": 54,
   "metadata": {},
   "outputs": [
    {
     "data": {
      "text/plain": [
       "array([0., 0., 0., 0., 0., 0., 0., 0., 0., 0., 0., 0., 0., 0., 0., 0., 0.,\n",
       "       0., 0., 0., 0., 0., 0., 0., 0., 0., 0., 0., 0., 0., 0., 0., 0., 0.,\n",
       "       0., 0., 0., 0., 0., 0., 0., 0., 0., 0., 0., 0., 0., 0., 0., 0., 0.,\n",
       "       0., 0., 0., 0., 0., 0., 0., 0., 0., 1., 1., 1., 1., 1., 1., 1., 1.,\n",
       "       1., 1., 1., 1., 1., 1., 1., 1., 1., 1., 1., 1., 1., 1., 1., 1., 1.,\n",
       "       1., 1., 1., 1., 1., 1., 1., 1., 1., 1., 1., 1., 2., 2., 2., 2., 2.,\n",
       "       2., 2., 2., 2., 2., 2., 2., 2., 2., 2., 2., 2., 2., 2., 2., 2., 2.,\n",
       "       2., 3., 3., 3., 3., 3., 3., 3., 3., 3., 3., 3., 3., 3., 3., 3., 3.,\n",
       "       3., 3., 3., 3., 3., 3., 3., 3., 3., 3., 3., 3., 3., 3., 3., 3., 3.,\n",
       "       3., 3., 3., 3., 3.])"
      ]
     },
     "execution_count": 54,
     "metadata": {},
     "output_type": "execute_result"
    }
   ],
   "source": [
    "y=np.array([0*np.ones(60),1*np.ones(37),2*np.ones(23),3*np.ones(38)])\n",
    "y=np.squeeze(y)\n",
    "YY=[]\n",
    "for i in y:\n",
    "    YY=np.append(YY,i)\n",
    "YY"
   ]
  },
  {
   "cell_type": "code",
   "execution_count": 55,
   "metadata": {},
   "outputs": [],
   "source": [
    "x_train, x_test, y_train,  y_test=train_test_split(X,YY,test_size=.2)"
   ]
  },
  {
   "cell_type": "code",
   "execution_count": 56,
   "metadata": {},
   "outputs": [
    {
     "data": {
      "text/plain": [
       "(32, 8000)"
      ]
     },
     "execution_count": 56,
     "metadata": {},
     "output_type": "execute_result"
    }
   ],
   "source": [
    "x_test.shape"
   ]
  },
  {
   "cell_type": "code",
   "execution_count": 57,
   "metadata": {},
   "outputs": [
    {
     "name": "stdout",
     "output_type": "stream",
     "text": [
      "Model: \"model_5\"\n",
      "__________________________________________________________________________________________________\n",
      "Layer (type)                    Output Shape         Param #     Connected to                     \n",
      "==================================================================================================\n",
      "input_9 (InputLayer)            [(None, 8000)]       0                                            \n",
      "__________________________________________________________________________________________________\n",
      "dense_22 (Dense)                (None, 512)          4096512     input_9[0][0]                    \n",
      "__________________________________________________________________________________________________\n",
      "dense_23 (Dense)                (None, 2)            1026        dense_22[0][0]                   \n",
      "__________________________________________________________________________________________________\n",
      "dense_24 (Dense)                (None, 2)            1026        dense_22[0][0]                   \n",
      "__________________________________________________________________________________________________\n",
      "kl_divergence_layer_4 (KLDiverg [(None, 2), (None, 2 0           dense_23[0][0]                   \n",
      "                                                                 dense_24[0][0]                   \n",
      "__________________________________________________________________________________________________\n",
      "lambda_4 (Lambda)               (None, 2)            0           kl_divergence_layer_4[0][1]      \n",
      "__________________________________________________________________________________________________\n",
      "input_10 (InputLayer)           [(None, 2)]          0                                            \n",
      "__________________________________________________________________________________________________\n",
      "multiply_4 (Multiply)           (None, 2)            0           lambda_4[0][0]                   \n",
      "                                                                 input_10[0][0]                   \n",
      "__________________________________________________________________________________________________\n",
      "add_4 (Add)                     (None, 2)            0           kl_divergence_layer_4[0][0]      \n",
      "                                                                 multiply_4[0][0]                 \n",
      "__________________________________________________________________________________________________\n",
      "sequential_4 (Sequential)       (None, 8000)         4105536     add_4[0][0]                      \n",
      "==================================================================================================\n",
      "Total params: 8,204,100\n",
      "Trainable params: 8,204,100\n",
      "Non-trainable params: 0\n",
      "__________________________________________________________________________________________________\n"
     ]
    }
   ],
   "source": [
    "vae.summary()"
   ]
  },
  {
   "cell_type": "code",
   "execution_count": 58,
   "metadata": {},
   "outputs": [
    {
     "name": "stdout",
     "output_type": "stream",
     "text": [
      "Train on 126 samples, validate on 32 samples\n",
      "Epoch 1/100\n",
      "126/126 [==============================] - 1s 6ms/sample - loss: 8871.9310 - val_loss: 7925.0264\n",
      "Epoch 2/100\n",
      "126/126 [==============================] - 0s 996us/sample - loss: 7591.1393 - val_loss: 5995.0430\n",
      "Epoch 3/100\n",
      "126/126 [==============================] - 0s 967us/sample - loss: 5914.5871 - val_loss: 5574.0669\n",
      "Epoch 4/100\n",
      "126/126 [==============================] - 0s 950us/sample - loss: 5569.4338 - val_loss: 5562.7607\n",
      "Epoch 5/100\n",
      "126/126 [==============================] - 0s 949us/sample - loss: 5554.1320 - val_loss: 5549.0454\n",
      "Epoch 6/100\n",
      "126/126 [==============================] - 0s 991us/sample - loss: 5540.0595 - val_loss: 5543.0146\n",
      "Epoch 7/100\n",
      "126/126 [==============================] - 0s 975us/sample - loss: 5532.7815 - val_loss: 5567.4614\n",
      "Epoch 8/100\n",
      "126/126 [==============================] - 0s 952us/sample - loss: 5555.8810 - val_loss: 5554.1265\n",
      "Epoch 9/100\n",
      "126/126 [==============================] - 0s 963us/sample - loss: 5547.5687 - val_loss: 5517.1533\n",
      "Epoch 10/100\n",
      "126/126 [==============================] - 0s 941us/sample - loss: 5508.9357 - val_loss: 5544.1240\n",
      "Epoch 11/100\n",
      "126/126 [==============================] - 0s 945us/sample - loss: 5539.8121 - val_loss: 5509.6509\n",
      "Epoch 12/100\n",
      "126/126 [==============================] - 0s 961us/sample - loss: 5504.8139 - val_loss: 5535.7993\n",
      "Epoch 13/100\n",
      "126/126 [==============================] - 0s 929us/sample - loss: 5530.8921 - val_loss: 5508.7666\n",
      "Epoch 14/100\n",
      "126/126 [==============================] - 0s 950us/sample - loss: 5499.9874 - val_loss: 5504.8193\n",
      "Epoch 15/100\n",
      "126/126 [==============================] - 0s 955us/sample - loss: 5505.8936 - val_loss: 5524.5688\n",
      "Epoch 16/100\n",
      "126/126 [==============================] - 0s 1ms/sample - loss: 5538.6846 - val_loss: 5717.8667\n",
      "Epoch 17/100\n",
      "126/126 [==============================] - 0s 944us/sample - loss: 5719.6286 - val_loss: 5582.0605\n",
      "Epoch 18/100\n",
      "126/126 [==============================] - 0s 947us/sample - loss: 5585.9336 - val_loss: 5762.1084\n",
      "Epoch 19/100\n",
      "126/126 [==============================] - 0s 963us/sample - loss: 5738.4082 - val_loss: 5540.7505\n",
      "Epoch 20/100\n",
      "126/126 [==============================] - 0s 1ms/sample - loss: 5529.3901 - val_loss: 5512.0425\n",
      "Epoch 21/100\n",
      "126/126 [==============================] - 0s 968us/sample - loss: 5530.7535 - val_loss: 5647.8423\n",
      "Epoch 22/100\n",
      "126/126 [==============================] - 0s 983us/sample - loss: 5616.0160 - val_loss: 5517.4551\n",
      "Epoch 23/100\n",
      "126/126 [==============================] - 0s 962us/sample - loss: 5519.3030 - val_loss: 5553.0820\n",
      "Epoch 24/100\n",
      "126/126 [==============================] - 0s 951us/sample - loss: 5538.0971 - val_loss: 5491.2534\n",
      "Epoch 25/100\n",
      "126/126 [==============================] - 0s 936us/sample - loss: 5487.1817 - val_loss: 5499.2568\n",
      "Epoch 26/100\n",
      "126/126 [==============================] - 0s 965us/sample - loss: 5499.4453 - val_loss: 5508.2998\n",
      "Epoch 27/100\n",
      "126/126 [==============================] - 0s 942us/sample - loss: 5500.5617 - val_loss: 5515.2271\n",
      "Epoch 28/100\n",
      "126/126 [==============================] - 0s 960us/sample - loss: 5542.4155 - val_loss: 6466.9473\n",
      "Epoch 29/100\n",
      "126/126 [==============================] - 0s 951us/sample - loss: 6401.2245 - val_loss: 5840.3652\n",
      "Epoch 30/100\n",
      "126/126 [==============================] - 0s 991us/sample - loss: 5792.8352 - val_loss: 5572.2749\n",
      "Epoch 31/100\n",
      "126/126 [==============================] - 0s 963us/sample - loss: 5561.1784 - val_loss: 5534.5566\n",
      "Epoch 32/100\n",
      "126/126 [==============================] - 0s 949us/sample - loss: 5530.8658 - val_loss: 5527.9521\n",
      "Epoch 33/100\n",
      "126/126 [==============================] - 0s 947us/sample - loss: 5522.6966 - val_loss: 5525.0659\n",
      "Epoch 34/100\n",
      "126/126 [==============================] - 0s 967us/sample - loss: 5517.3393 - val_loss: 5519.0107\n",
      "Epoch 35/100\n",
      "126/126 [==============================] - 0s 948us/sample - loss: 5511.8318 - val_loss: 5514.1646\n",
      "Epoch 36/100\n",
      "126/126 [==============================] - 0s 984us/sample - loss: 5508.5660 - val_loss: 5510.2607\n",
      "Epoch 37/100\n",
      "126/126 [==============================] - 0s 941us/sample - loss: 5510.7501 - val_loss: 5545.9985\n",
      "Epoch 38/100\n",
      "126/126 [==============================] - 0s 991us/sample - loss: 5549.3248 - val_loss: 5543.5610\n",
      "Epoch 39/100\n",
      "126/126 [==============================] - 0s 1ms/sample - loss: 5538.1182 - val_loss: 5549.0796\n",
      "Epoch 40/100\n",
      "126/126 [==============================] - 0s 1ms/sample - loss: 5541.5332 - val_loss: 5505.8218\n",
      "Epoch 41/100\n",
      "126/126 [==============================] - 0s 927us/sample - loss: 5501.9793 - val_loss: 5501.8247\n",
      "Epoch 42/100\n",
      "126/126 [==============================] - 0s 960us/sample - loss: 5506.6895 - val_loss: 5569.3677\n",
      "Epoch 43/100\n",
      "126/126 [==============================] - 0s 940us/sample - loss: 5554.9230 - val_loss: 5515.9189\n",
      "Epoch 44/100\n",
      "126/126 [==============================] - 0s 954us/sample - loss: 5537.0907 - val_loss: 5669.5312\n",
      "Epoch 45/100\n",
      "126/126 [==============================] - 0s 937us/sample - loss: 5631.0474 - val_loss: 5501.3989\n",
      "Epoch 46/100\n",
      "126/126 [==============================] - 0s 938us/sample - loss: 5501.2876 - val_loss: 5516.6445\n",
      "Epoch 47/100\n",
      "126/126 [==============================] - 0s 955us/sample - loss: 5550.0407 - val_loss: 5590.8052\n",
      "Epoch 48/100\n",
      "126/126 [==============================] - 0s 938us/sample - loss: 5566.2656 - val_loss: 5512.3721\n",
      "Epoch 49/100\n",
      "126/126 [==============================] - 0s 941us/sample - loss: 5497.6752 - val_loss: 5505.3096\n",
      "Epoch 50/100\n",
      "126/126 [==============================] - 0s 952us/sample - loss: 5501.0733 - val_loss: 5649.1475\n",
      "Epoch 51/100\n",
      "126/126 [==============================] - 0s 947us/sample - loss: 5589.8683 - val_loss: 5495.2334\n",
      "Epoch 52/100\n",
      "126/126 [==============================] - 0s 982us/sample - loss: 5492.8506 - val_loss: 5541.3452\n",
      "Epoch 53/100\n",
      "126/126 [==============================] - 0s 925us/sample - loss: 5520.9560 - val_loss: 5506.5542\n",
      "Epoch 54/100\n",
      "126/126 [==============================] - 0s 949us/sample - loss: 5488.1630 - val_loss: 5498.0059\n",
      "Epoch 55/100\n",
      "126/126 [==============================] - 0s 979us/sample - loss: 5480.2900 - val_loss: 5479.9399\n",
      "Epoch 56/100\n",
      "126/126 [==============================] - 0s 1ms/sample - loss: 5467.6785 - val_loss: 5472.8481\n",
      "Epoch 57/100\n",
      "126/126 [==============================] - 0s 983us/sample - loss: 5454.1400 - val_loss: 5560.1221\n",
      "Epoch 58/100\n",
      "126/126 [==============================] - 0s 972us/sample - loss: 5697.0537 - val_loss: 5550.6758\n",
      "Epoch 59/100\n",
      "126/126 [==============================] - 0s 977us/sample - loss: 5548.1311 - val_loss: 5486.2300\n",
      "Epoch 60/100\n",
      "126/126 [==============================] - 0s 933us/sample - loss: 5471.8575 - val_loss: 5477.7363\n",
      "Epoch 61/100\n",
      "126/126 [==============================] - 0s 973us/sample - loss: 5465.6651 - val_loss: 5474.7437\n",
      "Epoch 62/100\n",
      "126/126 [==============================] - 0s 999us/sample - loss: 5460.6498 - val_loss: 5477.6006\n",
      "Epoch 63/100\n",
      "126/126 [==============================] - 0s 965us/sample - loss: 5452.1752 - val_loss: 5464.3726\n",
      "Epoch 64/100\n",
      "126/126 [==============================] - 0s 960us/sample - loss: 5439.7641 - val_loss: 5454.6528\n",
      "Epoch 65/100\n",
      "126/126 [==============================] - 0s 940us/sample - loss: 5435.9782 - val_loss: 5470.1719\n",
      "Epoch 66/100\n",
      "126/126 [==============================] - 0s 953us/sample - loss: 5458.9453 - val_loss: 5482.6465\n",
      "Epoch 67/100\n",
      "126/126 [==============================] - 0s 929us/sample - loss: 5469.0226 - val_loss: 5457.9912\n",
      "Epoch 68/100\n",
      "126/126 [==============================] - 0s 964us/sample - loss: 5444.2709 - val_loss: 5621.7959\n",
      "Epoch 69/100\n",
      "126/126 [==============================] - 0s 937us/sample - loss: 5567.1788 - val_loss: 5452.1260\n",
      "Epoch 70/100\n",
      "126/126 [==============================] - 0s 962us/sample - loss: 5429.0052 - val_loss: 5433.4448\n",
      "Epoch 71/100\n",
      "126/126 [==============================] - 0s 951us/sample - loss: 5428.2770 - val_loss: 5592.8223\n",
      "Epoch 72/100\n",
      "126/126 [==============================] - 0s 966us/sample - loss: 5575.9269 - val_loss: 5508.8872\n",
      "Epoch 73/100\n",
      "126/126 [==============================] - 0s 954us/sample - loss: 5470.7661 - val_loss: 5445.1899\n"
     ]
    },
    {
     "name": "stdout",
     "output_type": "stream",
     "text": [
      "Epoch 74/100\n",
      "126/126 [==============================] - 0s 949us/sample - loss: 5434.8159 - val_loss: 5421.6274\n",
      "Epoch 75/100\n",
      "126/126 [==============================] - 0s 948us/sample - loss: 5407.1718 - val_loss: 5408.3257\n",
      "Epoch 76/100\n",
      "126/126 [==============================] - 0s 996us/sample - loss: 5404.5880 - val_loss: 5407.0688\n",
      "Epoch 77/100\n",
      "126/126 [==============================] - 0s 988us/sample - loss: 5397.7860 - val_loss: 5486.3262\n",
      "Epoch 78/100\n",
      "126/126 [==============================] - 0s 939us/sample - loss: 5533.9653 - val_loss: 5468.6362\n",
      "Epoch 79/100\n",
      "126/126 [==============================] - 0s 951us/sample - loss: 5464.1481 - val_loss: 5642.6992\n",
      "Epoch 80/100\n",
      "126/126 [==============================] - 0s 939us/sample - loss: 5599.7261 - val_loss: 5422.8457\n",
      "Epoch 81/100\n",
      "126/126 [==============================] - 0s 966us/sample - loss: 5409.4685 - val_loss: 5408.3115\n",
      "Epoch 82/100\n",
      "126/126 [==============================] - 0s 933us/sample - loss: 5396.4542 - val_loss: 5401.4741\n",
      "Epoch 83/100\n",
      "126/126 [==============================] - 0s 939us/sample - loss: 5393.1420 - val_loss: 5398.9370\n",
      "Epoch 84/100\n",
      "126/126 [==============================] - 0s 945us/sample - loss: 5384.7288 - val_loss: 5378.7861\n",
      "Epoch 85/100\n",
      "126/126 [==============================] - 0s 934us/sample - loss: 5370.2307 - val_loss: 5377.5688\n",
      "Epoch 86/100\n",
      "126/126 [==============================] - 0s 959us/sample - loss: 5371.9788 - val_loss: 5618.7075\n",
      "Epoch 87/100\n",
      "126/126 [==============================] - 0s 942us/sample - loss: 5634.8972 - val_loss: 5556.5708\n",
      "Epoch 88/100\n",
      "126/126 [==============================] - 0s 984us/sample - loss: 5500.9263 - val_loss: 5455.7021\n",
      "Epoch 89/100\n",
      "126/126 [==============================] - 0s 954us/sample - loss: 5424.5539 - val_loss: 5398.4453\n",
      "Epoch 90/100\n",
      "126/126 [==============================] - 0s 946us/sample - loss: 5383.1449 - val_loss: 5390.7046\n",
      "Epoch 91/100\n",
      "126/126 [==============================] - 0s 955us/sample - loss: 5374.9843 - val_loss: 5418.7983\n",
      "Epoch 92/100\n",
      "126/126 [==============================] - 0s 960us/sample - loss: 5396.2801 - val_loss: 5635.0137\n",
      "Epoch 93/100\n",
      "126/126 [==============================] - 0s 942us/sample - loss: 5573.8191 - val_loss: 5372.2520\n",
      "Epoch 94/100\n",
      "126/126 [==============================] - 0s 981us/sample - loss: 5375.3835 - val_loss: 5361.7720\n",
      "Epoch 95/100\n",
      "126/126 [==============================] - 0s 993us/sample - loss: 5357.8678 - val_loss: 5350.7007\n",
      "Epoch 96/100\n",
      "126/126 [==============================] - 0s 1ms/sample - loss: 5359.4011 - val_loss: 5400.0371\n",
      "Epoch 97/100\n",
      "126/126 [==============================] - 0s 952us/sample - loss: 5456.8329 - val_loss: 5531.2012\n",
      "Epoch 98/100\n",
      "126/126 [==============================] - 0s 974us/sample - loss: 5557.7348 - val_loss: 5473.3096\n",
      "Epoch 99/100\n",
      "126/126 [==============================] - 0s 937us/sample - loss: 5457.0770 - val_loss: 5368.0479\n",
      "Epoch 100/100\n",
      "126/126 [==============================] - 0s 955us/sample - loss: 5370.2110 - val_loss: 5361.9282\n"
     ]
    }
   ],
   "source": [
    "vae.fit(x_train,\n",
    "        x_train,\n",
    "        shuffle=True,\n",
    "        epochs=epochs,\n",
    "        batch_size=batch_size,\n",
    "        validation_data=(x_test, x_test))\n",
    "\n",
    "encoder = Model(x, z_mu)"
   ]
  },
  {
   "cell_type": "code",
   "execution_count": 59,
   "metadata": {},
   "outputs": [
    {
     "data": {
      "text/plain": [
       "<matplotlib.colorbar.Colorbar at 0x7fc184083cd0>"
      ]
     },
     "execution_count": 59,
     "metadata": {},
     "output_type": "execute_result"
    },
    {
     "data": {
      "image/png": "[encoded data removed]",
      "text/plain": [
       "<Figure size 432x432 with 2 Axes>"
      ]
     },
     "metadata": {
      "needs_background": "light"
     },
     "output_type": "display_data"
    }
   ],
   "source": [
    "# display a 2D plot of the digit classes in the latent space\n",
    "z_test = encoder.predict(x_test, batch_size=batch_size)\n",
    "plt.figure(figsize=(6, 6))\n",
    "plt.scatter(z_test[:, 0], z_test[:, 1], c=y_test,\n",
    "            alpha=.4, s=13**2, cmap='viridis')\n",
    "plt.colorbar()\n"
   ]
  },
  {
   "cell_type": "code",
   "execution_count": null,
   "metadata": {},
   "outputs": [],
   "source": [
    "val=[4,.5]"
   ]
  },
  {
   "cell_type": "code",
   "execution_count": null,
   "metadata": {},
   "outputs": [],
   "source": [
    "''.join(np.round(decoder.predict(np.array(val).reshape(1,2))*4)[0].astype(int).astype(str)).replace('1','A').replace('2','T').replace('3','G').replace('4','C')"
   ]
  },
  {
   "cell_type": "code",
   "execution_count": null,
   "metadata": {},
   "outputs": [],
   "source": [
    "val=[.5,.5]"
   ]
  },
  {
   "cell_type": "code",
   "execution_count": null,
   "metadata": {},
   "outputs": [],
   "source": [
    "''.join(np.round(decoder.predict(np.array(val).reshape(1,2))*4)[0].astype(int).astype(str)).replace('1','A').replace('2','T').replace('3','G').replace('4','C')"
   ]
  },
  {
   "cell_type": "code",
   "execution_count": null,
   "metadata": {},
   "outputs": [],
   "source": []
  },
  {
   "cell_type": "code",
   "execution_count": null,
   "metadata": {},
   "outputs": [],
   "source": []
  }
 ],
 "metadata": {
  "kernelspec": {
   "display_name": "Python 3 (ipykernel)",
   "language": "python",
   "name": "python3"
  },
  "language_info": {
   "codemirror_mode": {
    "name": "ipython",
    "version": 3
   },
   "file_extension": ".py",
   "mimetype": "text/x-python",
   "name": "python",
   "nbconvert_exporter": "python",
   "pygments_lexer": "ipython3",
   "version": "3.7.5"
  }
 },
 "nbformat": 4,
 "nbformat_minor": 2
}

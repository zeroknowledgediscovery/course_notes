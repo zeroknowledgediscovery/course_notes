{
 "cells": [
  {
   "cell_type": "code",
   "execution_count": 1,
   "metadata": {},
   "outputs": [],
   "source": [
    "import pandas as pd\n",
    "import numpy as np\n",
    "import pylab as plt\n",
    "plt.style.use('fivethirtyeight')\n",
    "%matplotlib inline"
   ]
  },
  {
   "cell_type": "raw",
   "metadata": {},
   "source": [
    "DF='/run/media/ishanu/D3/pub_manic_/data/id_predictions_M_FIRST_BASIC.csv'\n",
    "df=pd.read_csv(DF).drop(['fips'],axis=1)\n",
    "df['sex']='M'\n",
    "df=df[['patient_id','target','sex','predicted_risk']]\n",
    "\n",
    "DF='/run/media/ishanu/D3/pub_manic_/data/id_predictions_F_FIRST_BASIC.csv'\n",
    "df1=pd.read_csv(DF).drop(['fips'],axis=1)\n",
    "df1['sex']='F'\n",
    "df1=df1[['patient_id','target','sex','predicted_risk']]\n",
    "\n",
    "pd.concat([df,df1]).to_csv('manic_FIRST.csv')"
   ]
  },
  {
   "cell_type": "code",
   "execution_count": 7,
   "metadata": {},
   "outputs": [],
   "source": [
    "df=pd.read_csv('manic_FIRST.csv',index_col=0)\n",
    "#df=pd.read_csv('IPF.csv',index_col=0)"
   ]
  },
  {
   "cell_type": "code",
   "execution_count": 8,
   "metadata": {},
   "outputs": [],
   "source": [
    "#df_=df.sample(10000)\n",
    "df_=df"
   ]
  },
  {
   "cell_type": "code",
   "execution_count": 9,
   "metadata": {},
   "outputs": [
    {
     "data": {
      "text/plain": [
       "<matplotlib.axes._subplots.AxesSubplot at 0x7f0909cc8320>"
      ]
     },
     "execution_count": 9,
     "metadata": {},
     "output_type": "execute_result"
    },
    {
     "data": {
      "image/png": "[encoded data removed]",
      "text/plain": [
       "<Figure size 432x288 with 1 Axes>"
      ]
     },
     "metadata": {},
     "output_type": "display_data"
    }
   ],
   "source": [
    "df_[(df_.sex=='M') & (df_.target==1)].predicted_risk.hist()"
   ]
  },
  {
   "cell_type": "code",
   "execution_count": 10,
   "metadata": {},
   "outputs": [
    {
     "data": {
      "text/plain": [
       "<matplotlib.axes._subplots.AxesSubplot at 0x7f094c725080>"
      ]
     },
     "execution_count": 10,
     "metadata": {},
     "output_type": "execute_result"
    },
    {
     "data": {
      "image/png": "[encoded data removed]",
      "text/plain": [
       "<Figure size 432x288 with 1 Axes>"
      ]
     },
     "metadata": {},
     "output_type": "display_data"
    }
   ],
   "source": [
    "df_[(df_.sex=='M') & (df_.target==0)].predicted_risk.hist()"
   ]
  },
  {
   "cell_type": "code",
   "execution_count": 11,
   "metadata": {},
   "outputs": [],
   "source": [
    "Threshold=0.1"
   ]
  },
  {
   "cell_type": "code",
   "execution_count": 12,
   "metadata": {},
   "outputs": [
    {
     "name": "stdout",
     "output_type": "stream",
     "text": [
      "tp: 4281, tn: 93156, fp: 14208, fn: 5713\n"
     ]
    },
    {
     "data": {
      "text/plain": [
       "<BarContainer object of 4 artists>"
      ]
     },
     "execution_count": 12,
     "metadata": {},
     "output_type": "execute_result"
    },
    {
     "data": {
      "image/png": "[encoded data removed]",
      "text/plain": [
       "<Figure size 432x288 with 1 Axes>"
      ]
     },
     "metadata": {},
     "output_type": "display_data"
    }
   ],
   "source": [
    "tp=np.array(df_[(df_.sex=='M') & (df_.target==1)].predicted_risk.values >= Threshold).sum()\n",
    "fn=np.array(df_[(df_.sex=='M') & (df_.target==1)].predicted_risk.values < Threshold).sum()\n",
    "fp=np.array(df_[(df_.sex=='M') & (df_.target==0)].predicted_risk.values >= Threshold).sum()\n",
    "tn=np.array(df_[(df_.sex=='M') & (df_.target==0)].predicted_risk.values < Threshold).sum()\n",
    "print (\"tp: {}, tn: {}, fp: {}, fn: {}\".format(tp,tn,fp,fn))\n",
    "plt.bar(['tp','tn','fp','fn'],[tp,tn,fp,fn])"
   ]
  },
  {
   "cell_type": "code",
   "execution_count": 13,
   "metadata": {},
   "outputs": [],
   "source": [
    "sensitivity=tp/(tp+fn)\n",
    "specificity=tn/(tn+fp)"
   ]
  },
  {
   "cell_type": "code",
   "execution_count": 14,
   "metadata": {},
   "outputs": [
    {
     "name": "stdout",
     "output_type": "stream",
     "text": [
      "sensitivity:0.4283570142085251, specificity:0.8676651391527886\n"
     ]
    }
   ],
   "source": [
    "print('sensitivity:{}, specificity:{}'.format(sensitivity,specificity))\n"
   ]
  },
  {
   "cell_type": "code",
   "execution_count": 15,
   "metadata": {},
   "outputs": [],
   "source": [
    "prevalence=(tp+fn)/(tp+fn+tn+fp)"
   ]
  },
  {
   "cell_type": "code",
   "execution_count": 16,
   "metadata": {},
   "outputs": [
    {
     "data": {
      "text/plain": [
       "0.08515823378039844"
      ]
     },
     "execution_count": 16,
     "metadata": {},
     "output_type": "execute_result"
    }
   ],
   "source": [
    "prevalence"
   ]
  },
  {
   "cell_type": "code",
   "execution_count": null,
   "metadata": {},
   "outputs": [],
   "source": []
  }
 ],
 "metadata": {
  "kernelspec": {
   "display_name": "Python 3",
   "language": "python",
   "name": "python3"
  },
  "language_info": {
   "codemirror_mode": {
    "name": "ipython",
    "version": 3
   },
   "file_extension": ".py",
   "mimetype": "text/x-python",
   "name": "python",
   "nbconvert_exporter": "python",
   "pygments_lexer": "ipython3",
   "version": "3.7.1"
  }
 },
 "nbformat": 4,
 "nbformat_minor": 2
}

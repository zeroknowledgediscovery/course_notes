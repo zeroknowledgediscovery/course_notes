{
 "cells": [
  {
   "cell_type": "code",
   "execution_count": 2,
   "metadata": {},
   "outputs": [],
   "source": [
    "import pandas as pd\n",
    "import numpy as np\n",
    "%matplotlib inline"
   ]
  },
  {
   "cell_type": "code",
   "execution_count": 4,
   "metadata": {},
   "outputs": [],
   "source": [
    "fname='../data/Infectious'\n",
    "with open(fname) as f:\n",
    "    content = f.readlines()\n",
    "content = [x.strip() for x in content] \n",
    "# you may also want to remove whitespace characters like `\\n` at the end of each line\n"
   ]
  },
  {
   "cell_type": "code",
   "execution_count": 23,
   "metadata": {},
   "outputs": [],
   "source": [
    "D=np.array([np.array(x.split()[2:]).astype(int) for x in content])"
   ]
  },
  {
   "cell_type": "code",
   "execution_count": 24,
   "metadata": {
    "scrolled": false
   },
   "outputs": [],
   "source": [
    "D=np.squeeze(D)"
   ]
  },
  {
   "cell_type": "code",
   "execution_count": 111,
   "metadata": {},
   "outputs": [],
   "source": [
    "D=pd.read_csv('../data/Immune',engine='python',header=None,sep=\" \",names=np.arange(1000))"
   ]
  },
  {
   "cell_type": "code",
   "execution_count": 112,
   "metadata": {},
   "outputs": [],
   "source": [
    "E=D.dropna(how='all',axis=1)"
   ]
  },
  {
   "cell_type": "code",
   "execution_count": 113,
   "metadata": {},
   "outputs": [],
   "source": [
    "E=E.fillna(0)"
   ]
  },
  {
   "cell_type": "code",
   "execution_count": 114,
   "metadata": {},
   "outputs": [],
   "source": [
    "E=E.loc[:,:500]"
   ]
  },
  {
   "cell_type": "code",
   "execution_count": 115,
   "metadata": {},
   "outputs": [
    {
     "data": {
      "text/plain": [
       "MNEG26081    685\n",
       "MNEG26125    681\n",
       "FNEG26125    646\n",
       "FNEG26081    617\n",
       "MNEG47157    595\n",
       "            ... \n",
       "FPOS13211      1\n",
       "MPOS48121      1\n",
       "MNEG28135      1\n",
       "MNEG33003      1\n",
       "FNEG13221      1\n",
       "Name: 0, Length: 2680, dtype: int64"
      ]
     },
     "execution_count": 115,
     "metadata": {},
     "output_type": "execute_result"
    }
   ],
   "source": [
    "E[0].value_counts()"
   ]
  },
  {
   "cell_type": "code",
   "execution_count": 116,
   "metadata": {},
   "outputs": [],
   "source": [
    "E['gender'] = [x[0] for x in E[0].values]"
   ]
  },
  {
   "cell_type": "code",
   "execution_count": 117,
   "metadata": {},
   "outputs": [],
   "source": [
    "E['label'] = [x[1:4] for x in E[0].values]"
   ]
  },
  {
   "cell_type": "code",
   "execution_count": 118,
   "metadata": {},
   "outputs": [],
   "source": [
    "D=E.iloc[:,2:]\n",
    "D=D.sample(10000)"
   ]
  },
  {
   "cell_type": "code",
   "execution_count": 119,
   "metadata": {},
   "outputs": [],
   "source": [
    "y_=D.label.values"
   ]
  },
  {
   "cell_type": "code",
   "execution_count": 120,
   "metadata": {},
   "outputs": [],
   "source": [
    "y=np.array([i=='POS' for i in y_]).astype(int)"
   ]
  },
  {
   "cell_type": "code",
   "execution_count": 121,
   "metadata": {},
   "outputs": [
    {
     "data": {
      "text/plain": [
       "0"
      ]
     },
     "execution_count": 121,
     "metadata": {},
     "output_type": "execute_result"
    }
   ],
   "source": [
    "y.min()"
   ]
  },
  {
   "cell_type": "code",
   "execution_count": 122,
   "metadata": {},
   "outputs": [],
   "source": [
    "X=D.drop(['gender','label'],axis=1).values"
   ]
  },
  {
   "cell_type": "code",
   "execution_count": 123,
   "metadata": {},
   "outputs": [],
   "source": [
    "import numpy as np\n",
    "import matplotlib.pyplot as plt\n",
    "from sklearn import svm\n",
    "import pandas as pd\n",
    "import seaborn as sns\n",
    "from sklearn.model_selection import train_test_split\n",
    "from sklearn import metrics\n",
    "from sklearn import neighbors, datasets\n",
    "from sklearn.model_selection import cross_val_score\n",
    "from sklearn.datasets import make_blobs\n",
    "from sklearn.ensemble import RandomForestClassifier\n",
    "from sklearn.ensemble import ExtraTreesClassifier\n",
    "from sklearn.tree import DecisionTreeClassifier\n",
    "from sklearn.ensemble import AdaBoostClassifier\n",
    "from sklearn.ensemble import GradientBoostingClassifier\n",
    "from scipy.spatial import ConvexHull\n",
    "%matplotlib inline"
   ]
  },
  {
   "cell_type": "code",
   "execution_count": 124,
   "metadata": {},
   "outputs": [],
   "source": [
    "X_train, X_test, y_train, y_test = train_test_split(X, y, test_size=0.5)"
   ]
  },
  {
   "cell_type": "code",
   "execution_count": 125,
   "metadata": {},
   "outputs": [],
   "source": [
    "def getAuc(X,y,test_size=0.5,max_depth=None,n_estimators=100,minsplit=4,FPR=[],TPR=[]):\n",
    "    X_train, X_test, y_train, y_test = train_test_split(X, y, test_size=test_size)\n",
    "    CLASSIFIERS=[DecisionTreeClassifier(max_depth=max_depth, min_samples_split=minsplit),\n",
    "                RandomForestClassifier(n_estimators=n_estimators, max_depth=max_depth,min_samples_split=minsplit),\n",
    "                ExtraTreesClassifier(n_estimators=n_estimators, max_depth=max_depth,min_samples_split=minsplit),\n",
    "                #AdaBoostClassifier(n_estimators=500),\n",
    "                #GradientBoostingClassifier(n_estimators=100,max_depth=max_depth)\n",
    "                ]\n",
    "\n",
    "    for clf in CLASSIFIERS:\n",
    "        clf.fit(X_train,y_train)\n",
    "        y_pred=clf.predict_proba(X_test)\n",
    "        fpr, tpr, thresholds = metrics.roc_curve(y_test,y_pred[:,1], pos_label=1)\n",
    "        auc=metrics.auc(fpr, tpr)\n",
    "        print('#',auc)\n",
    "\n",
    "        #plt.plot(fpr,tpr)\n",
    "\n",
    "        FPR=np.append(FPR,fpr)\n",
    "        TPR=np.append(TPR,tpr)\n",
    "    points=np.array([[a[0],a[1]] for a in zip(FPR,TPR)])\n",
    "    hull = ConvexHull(points)\n",
    "    x=np.argsort(points[hull.vertices,:][:,0])\n",
    "    auc=metrics.auc(points[hull.vertices,:][x,0],points[hull.vertices,:][x,1])\n",
    "    return auc"
   ]
  },
  {
   "cell_type": "code",
   "execution_count": 126,
   "metadata": {
    "scrolled": true
   },
   "outputs": [
    {
     "name": "stdout",
     "output_type": "stream",
     "text": [
      "# 0.5599156986823856\n",
      "# 0.6020157911465557\n",
      "# 0.6623071255201107\n",
      "# 0.5824426316678963\n",
      "# 0.6436217791499553\n",
      "# 0.5946211649677039\n",
      "# 0.5594767496980614\n",
      "# 0.6231538464709253\n",
      "# 0.6145099526378921\n",
      "# 0.5699941054991983\n",
      "# 0.5909711087020145\n",
      "# 0.6348047601185495\n",
      "# 0.559178530560043\n",
      "# 0.6112113792407108\n",
      "# 0.5903464929994615\n",
      "# 0.5550725614413443\n",
      "# 0.5974955444728998\n",
      "# 0.6091098680564915\n",
      "# 0.5467137679531533\n",
      "# 0.6208140510101691\n",
      "# 0.6043810187057256\n",
      "# 0.5470808080808082\n",
      "# 0.6304646464646464\n",
      "# 0.6059555555555556\n",
      "# 0.560510063274098\n",
      "# 0.6120149266289714\n",
      "# 0.5921134558427572\n",
      "# 0.5423690673886044\n",
      "# 0.6155420114709945\n",
      "# 0.637667634212032\n",
      "# 0.5254998844197873\n",
      "# 0.5913264274156264\n",
      "# 0.5980553629218678\n",
      "# 0.5335727125981363\n",
      "# 0.6476768288208966\n",
      "# 0.5783990021278157\n",
      "# 0.5660815173527038\n",
      "# 0.6503778707168538\n",
      "# 0.7006498092303177\n",
      "# 0.5370583877115203\n",
      "# 0.59518658948728\n",
      "# 0.5825221177579943\n",
      "# 0.5731660064550967\n",
      "# 0.621263896388691\n",
      "# 0.6000127782884513\n",
      "# 0.5473245311626342\n",
      "# 0.598609353078187\n",
      "# 0.5835331487827552\n",
      "# 0.5710319063004847\n",
      "# 0.5800244850565428\n",
      "# 0.5855399333602586\n",
      "# 0.5812466343564889\n",
      "# 0.6304228931071623\n",
      "# 0.6528044224555736\n",
      "# 0.5581975364403187\n",
      "# 0.5821972353297754\n",
      "# 0.6122211260741921\n",
      "# 0.5276615955848358\n",
      "# 0.5635185506241333\n",
      "# 0.5797449289181693\n"
     ]
    }
   ],
   "source": [
    "A=[getAuc(X,y,minsplit=3,n_estimators=20) for i in range(20)]"
   ]
  },
  {
   "cell_type": "code",
   "execution_count": 109,
   "metadata": {},
   "outputs": [],
   "source": [
    "import seaborn as sns"
   ]
  },
  {
   "cell_type": "code",
   "execution_count": 110,
   "metadata": {},
   "outputs": [
    {
     "data": {
      "text/plain": [
       "<matplotlib.axes._subplots.AxesSubplot at 0x7fe918d80358>"
      ]
     },
     "execution_count": 110,
     "metadata": {},
     "output_type": "execute_result"
    },
    {
     "data": {
      "image/png": "[encoded data removed]",
      "text/plain": [
       "<Figure size 432x288 with 1 Axes>"
      ]
     },
     "metadata": {},
     "output_type": "display_data"
    }
   ],
   "source": [
    "sns.distplot(A)"
   ]
  },
  {
   "cell_type": "code",
   "execution_count": 127,
   "metadata": {},
   "outputs": [
    {
     "data": {
      "text/plain": [
       "<matplotlib.axes._subplots.AxesSubplot at 0x7fe918650668>"
      ]
     },
     "execution_count": 127,
     "metadata": {},
     "output_type": "execute_result"
    },
    {
     "data": {
      "image/png": "[encoded data removed]",
      "text/plain": [
       "<Figure size 432x288 with 1 Axes>"
      ]
     },
     "metadata": {},
     "output_type": "display_data"
    }
   ],
   "source": [
    "sns.distplot(A)"
   ]
  },
  {
   "cell_type": "code",
   "execution_count": null,
   "metadata": {},
   "outputs": [],
   "source": [
    "# Quiz: Compute the sensitivity at 95% specificity. \n",
    "# compute the PPV at 95% specificity"
   ]
  }
 ],
 "metadata": {
  "kernelspec": {
   "display_name": "Python 2",
   "language": "python",
   "name": "python2"
  },
  "language_info": {
   "codemirror_mode": {
    "name": "ipython",
    "version": 3
   },
   "file_extension": ".py",
   "mimetype": "text/x-python",
   "name": "python",
   "nbconvert_exporter": "python",
   "pygments_lexer": "ipython3",
   "version": "3.7.1"
  }
 },
 "nbformat": 4,
 "nbformat_minor": 2
}
